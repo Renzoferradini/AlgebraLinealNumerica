{
 "cells": [
  {
   "cell_type": "markdown",
   "metadata": {},
   "source": [
    "# Nocion de espacio vectorial"
   ]
  },
  {
   "cell_type": "markdown",
   "metadata": {},
   "source": [
    "**Def. (espacio vectorial)** La tupla $(X, \\mathbb{K}, +, \\cdot)$ siendo $\\mathbb{K}$ un cuerpo, se dice espacio vectorial si verifica:\n",
    "\n",
    "- conmutatividad de la adicion vectorial: $x + y = y + x$\n",
    "- asociatividad de la adicion vectorial: $(x + y) + z = x + (y + z)$\n",
    "- existe un elemento unico $0 \\in X$ que se llama el elemento cero del espacio $X$ tal que $x + 0 = x$ para todos $x \\in X$\n",
    "- para cada elemento $x \\in X$ existe un unico elemento $x' \\in X$ que se llama la inversa aditiva de $x$ tal que $x + x' = 0$\n",
    "- distributividad de la multiplicacion escalar respecto de la adicion vectorial, $\\alpha(x + y) = \\alpha x + \\alpha y$\n",
    "- distributividad de la multiplicacion escalar respecto de la adicion escalar: $(\\alpha + \\beta ) x = \\alpha x + \\beta x$\n",
    "- asociatividad de la multiplicacion escalar: $(\\alpha \\beta)x = \\alpha (\\beta x)$\n",
    "- el numero $1 \\in \\mathbb{K}$ es el elemento identidad de la multiplicacion: $1x = x$ para todo $x \\in X$."
   ]
  },
  {
   "cell_type": "markdown",
   "metadata": {},
   "source": [
    "## Ejemplos"
   ]
  },
  {
   "cell_type": "markdown",
   "metadata": {},
   "source": [
    "- el conjunto $V_3$ de todos los vectores \"geometricos\" en el espacio Euclideo $\\mathbb{R}^3$ con las operaciones usuales de multiplicacion de un vector por un real escalar y adicion vectorial.\n",
    "- el conjunto de todas las funciones reales de una variable. la suma  de 2 funciones y el producto se definen de manera usual.\n",
    "- el conjunto de todas las funciones continuas en el intervalo cerrado $[a, b] $ de la recta real, se llama $\\mathcal{C}[a, b]$ (demostrar)\n",
    "- el conjunto de todas las funciones $\\mathcal{C}[a, b]$ que son cero en un punto dado $c \\in [a, b]$\n",
    "- el conjunto de todos los polinomios a coeficientes complejos con las definiciones dadas anteriormente en el curso\n",
    "- el conjunto $Q_n$ de todos los polinomios de orden no mayor que $n \\geq 0$ junto con el polinomio nulo."
   ]
  },
  {
   "cell_type": "markdown",
   "metadata": {},
   "source": [
    "# Independencia lineal"
   ]
  },
  {
   "cell_type": "markdown",
   "metadata": {},
   "source": [
    "Referencias:\n",
    "\n",
    "- Golan, Chapter 5."
   ]
  },
  {
   "cell_type": "markdown",
   "metadata": {},
   "source": [
    "### Motivacion"
   ]
  },
  {
   "cell_type": "markdown",
   "metadata": {},
   "source": [
    "- Una coleccion \"pequeña\" de vectores en un espacio vectorial puede determinar la estructura de *todo* el espacio.\n",
    "\n",
    "- Ese hecho ya permite extraer conclusiones interesantes. Por otro lado, conocer tal conjunto me permite trabajar, describir, objetos nuevos a partir de otros conocidos."
   ]
  },
  {
   "cell_type": "markdown",
   "metadata": {},
   "source": [
    "Dar:\n",
    "\n",
    "- Base de $\\mathbb{R}^n$\n",
    "- Base de $\\mathbb{C}^n$\n",
    "- Tambien para los espacios de funciones mencionados."
   ]
  },
  {
   "cell_type": "markdown",
   "metadata": {},
   "source": [
    "### Nocion de independencia lineal"
   ]
  },
  {
   "cell_type": "markdown",
   "metadata": {},
   "source": [
    "*Nota.* La nocion de independencia lineal de vectores de vectores fue introducida por el matematico del S.XIX [Hermann Grassmann](https://es.wikipedia.org/wiki/Hermann_Grassmann). Posteriormente esta nocion fue generalizada a muchas otros contextos y el matematico [Hassler Whitney](https://es.wikipedia.org/wiki/Hassler_Whitney) tuvo un rol muy importante en ese trabajo."
   ]
  },
  {
   "cell_type": "markdown",
   "metadata": {},
   "source": [
    "**Def. (independencia lineal)** Sea $V$ un espacio vectorial sobre un cuerpo $F$. Un conjunto no vacio $D$ en $V$ se dice *linealmente dependiente* si y solo si existen vectores distintos $v_1, v_2, \\ldots, v_n$ en $D$ y escalares $a_1, \\ldots, a_n$ en $F$, no todos nulos, tales que $\\sum_i a_i v_i = 0_V$."
   ]
  },
  {
   "cell_type": "markdown",
   "metadata": {},
   "source": [
    "Decimos que un conjunto de elementos de $V$ es *linealmente dependiente* si tiene dos elementos iguales o si el conjunto de vectores es linealmente dependiente."
   ]
  },
  {
   "cell_type": "markdown",
   "metadata": {},
   "source": [
    "Por otro lado, $D$ se dice *linealmente independiente* si y solo si:\n",
    "\n",
    "- $D = \\emptyset$, o\n",
    "- $D \\neq \\emptyset$ y no es linealmente dependiente, es decir, $\\sum_i a_i v_i = 0_V$ con $a_i \\in F$ y $v_i \\in D \\subseteq V$ implica $a_i = 0$ para todo $i = 1,\\ldots, n$."
   ]
  },
  {
   "cell_type": "markdown",
   "metadata": {},
   "source": [
    "### Observaciones"
   ]
  },
  {
   "cell_type": "markdown",
   "metadata": {},
   "source": [
    "Se demosrara que:"
   ]
  },
  {
   "cell_type": "markdown",
   "metadata": {},
   "source": [
    "- A veces abreviamos linealmente dependiente como LD y linealmente independiente como LI."
   ]
  },
  {
   "cell_type": "markdown",
   "metadata": {},
   "source": [
    "- Cualquier conjunto de vectores que contenga al origen, $0_V$ es linealmente dependiente."
   ]
  },
  {
   "cell_type": "markdown",
   "metadata": {},
   "source": [
    "- Un conjunto infinito de vectores es LD si y solo si tiene un subconjunto finito LD."
   ]
  },
  {
   "cell_type": "markdown",
   "metadata": {},
   "source": [
    "- Un conjunto infinito de vectores es LI si y solo si cada subconjunto finito es LI."
   ]
  },
  {
   "cell_type": "markdown",
   "metadata": {},
   "source": [
    "- Cualquier conjunto de vectores que contiene un subconjunto LD es LD."
   ]
  },
  {
   "cell_type": "markdown",
   "metadata": {},
   "source": [
    "- Cualquier subconjunto de una familia de vectores LI es LI."
   ]
  },
  {
   "cell_type": "markdown",
   "metadata": {},
   "source": [
    "---"
   ]
  },
  {
   "cell_type": "markdown",
   "metadata": {},
   "source": [
    "# Espacios con producto interno"
   ]
  },
  {
   "cell_type": "markdown",
   "metadata": {},
   "source": [
    "**Def. (producto interno)** Sea $V$ un espacio vectorial real. Una funcion\n",
    "\n",
    "$$\n",
    "\\langle \\cdot, \\cdot \\rangle : V \\times V \\to \\mathbb{R}\n",
    "$$\n",
    "se dice un *producto interno* si verifica:\n",
    "\n",
    "- (simetrica) $\\langle x, y \\rangle = \\langle y, x \\rangle$ para todos $x, y \\in V$"
   ]
  },
  {
   "cell_type": "markdown",
   "metadata": {},
   "source": [
    "- (lineal) $\\langle \\alpha x + \\beta y, z\\rangle = \\alpha \\langle x, z \\rangle + \\beta \\langle y, z \\rangle$ para todos $x, y, z \\in V$, $\\alpha, \\beta \\in \\mathbb{R}$."
   ]
  },
  {
   "cell_type": "markdown",
   "metadata": {},
   "source": [
    "- (definida positiva) $\\langle x, x \\rangle > 0$ para todo $x \\in V \\setminus \\{0\\}$."
   ]
  },
  {
   "cell_type": "markdown",
   "metadata": {},
   "source": [
    "---"
   ]
  },
  {
   "cell_type": "markdown",
   "metadata": {},
   "source": [
    "Un espacio $V$ con producto interno se llama espacio **pre-Hilbertiano**."
   ]
  },
  {
   "cell_type": "markdown",
   "metadata": {},
   "source": [
    "Se llama espacio de Hilbert o espacio Hilbertiano cuando es *completo*, un concepto de analisis en el que no entraremos (a menos que haga falta), pero quiere decir, basicamente, que el espacio contiene todos sus puntos limite."
   ]
  },
  {
   "cell_type": "markdown",
   "metadata": {},
   "source": [
    "Observaciones:\n",
    "\n",
    "- "
   ]
  }
 ],
 "metadata": {
  "kernelspec": {
   "display_name": "Julia 1.3.1",
   "language": "julia",
   "name": "julia-1.3"
  },
  "language_info": {
   "file_extension": ".jl",
   "mimetype": "application/julia",
   "name": "julia",
   "version": "1.3.1"
  }
 },
 "nbformat": 4,
 "nbformat_minor": 2
}
