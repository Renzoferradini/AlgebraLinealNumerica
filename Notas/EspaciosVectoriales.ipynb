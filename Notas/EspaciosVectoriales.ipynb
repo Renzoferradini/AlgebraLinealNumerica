{
 "cells": [
  {
   "cell_type": "markdown",
   "metadata": {},
   "source": [
    "# Nocion de espacio vectorial"
   ]
  },
  {
   "cell_type": "markdown",
   "metadata": {},
   "source": [
    "**Def. (espacio vectorial)** La tupla $(X, \\mathbb{K}, +, \\cdot)$ siendo $\\mathbb{K}$ un cuerpo, se dice espacio vectorial si verifica:\n",
    "\n",
    "- conmutatividad de la adicion vectorial: $x + y = y + x$\n",
    "- asociatividad de la adicion vectorial: $(x + y) + z = x + (y + z)$\n",
    "- existe un elemento unico $0 \\in X$ que se llama el elemento cero del espacio $X$ tal que $x + 0 = x$ para todos $x \\in X$\n",
    "- para cada elemento $x \\in X$ existe un unico elemento $x' \\in X$ que se llama la inversa aditiva de $x$ tal que $x + x' = 0$\n",
    "- distributividad de la multiplicacion escalar respecto de la adicion vectorial, $\\alpha(x + y) = \\alpha x + \\alpha y$\n",
    "- distributividad de la multiplicacion escalar respecto de la adicion escalar: $(\\alpha + \\beta ) x = \\alpha x + \\beta x$\n",
    "- asociatividad de la multiplicacion escalar: $(\\alpha \\beta)x = \\alpha (\\beta x)$\n",
    "- el numero $1 \\in \\mathbb{K}$ es el elemento identidad de la multiplicacion: $1x = x$ para todo $x \\in X$."
   ]
  },
  {
   "cell_type": "markdown",
   "metadata": {},
   "source": [
    "## Ejemplos"
   ]
  },
  {
   "cell_type": "markdown",
   "metadata": {},
   "source": [
    "- el conjunto $V_3$ de todos los vectores \"geometricos\" en el espacio Euclideo $\\mathbb{R}^3$ con las operaciones usuales de multiplicacion de un vector por un real escalar y adicion vectorial.\n",
    "- el conjunto de todas las funciones reales de una variable. la suma  de 2 funciones y el producto se definen de manera usual.\n",
    "- el conjunto de todas las funciones continuas en el intervalo cerrado $[a, b] $ de la recta real, se llama $\\mathcal{C}[a, b]$ (demostrar)\n",
    "- el conjunto de todas las funciones $\\mathcal{C}[a, b]$ que son cero en un punto dado $c \\in [a, b]$\n",
    "- el conjunto de todos los polinomios a coeficientes complejos con las definiciones dadas anteriormente en el curso\n",
    "- el conjunto $Q_n$ de todos los polinomios de orden no mayor que $n \\geq 0$ junto con el polinomio nulo."
   ]
  },
  {
   "cell_type": "markdown",
   "metadata": {},
   "source": [
    "# Independencia lineal"
   ]
  },
  {
   "cell_type": "markdown",
   "metadata": {},
   "source": [
    "Referencias:\n",
    "\n",
    "- Golan, Chapter 5."
   ]
  },
  {
   "cell_type": "markdown",
   "metadata": {},
   "source": [
    "### Motivacion"
   ]
  },
  {
   "cell_type": "markdown",
   "metadata": {},
   "source": [
    "- Una coleccion \"pequeña\" de vectores en un espacio vectorial puede determinar la estructura de *todo* el espacio.\n",
    "\n",
    "- Ese hecho ya permite extraer conclusiones interesantes. Por otro lado, conocer tal conjunto me permite trabajar, describir, objetos nuevos a partir de otros conocidos."
   ]
  },
  {
   "cell_type": "markdown",
   "metadata": {},
   "source": [
    "Dar:\n",
    "\n",
    "- Base de $\\mathbb{R}^n$\n",
    "- Base de $\\mathbb{C}^n$\n",
    "- Tambien para los espacios de funciones mencionados."
   ]
  },
  {
   "cell_type": "markdown",
   "metadata": {},
   "source": [
    "### Nocion de independencia lineal"
   ]
  },
  {
   "cell_type": "markdown",
   "metadata": {},
   "source": [
    "*Nota.* La nocion de independencia lineal de vectores de vectores fue introducida por el matematico del S.XIX [Hermann Grassmann](https://es.wikipedia.org/wiki/Hermann_Grassmann). Posteriormente esta nocion fue generalizada a muchas otros contextos y el matematico [Hassler Whitney](https://es.wikipedia.org/wiki/Hassler_Whitney) tuvo un rol muy importante en ese trabajo."
   ]
  },
  {
   "cell_type": "markdown",
   "metadata": {},
   "source": [
    "**Def. (independencia lineal)** Sea $V$ un espacio vectorial sobre un cuerpo $F$. Un conjunto no vacio $D$ en $V$ se dice *linealmente dependiente* si y solo si existen vectores distintos $v_1, v_2, \\ldots, v_n$ en $D$ y escalares $a_1, \\ldots, a_n$ en $F$, no todos nulos, tales que $\\sum_i a_i v_i = 0_V$."
   ]
  },
  {
   "cell_type": "markdown",
   "metadata": {},
   "source": [
    "Decimos que un conjunto de elementos de $V$ es *linealmente dependiente* si tiene dos elementos iguales o si el conjunto de vectores es linealmente dependiente."
   ]
  },
  {
   "cell_type": "markdown",
   "metadata": {},
   "source": [
    "Por otro lado, $D$ se dice *linealmente independiente* si y solo si:\n",
    "\n",
    "- $D = \\emptyset$, o\n",
    "- $D \\neq \\emptyset$ y no es linealmente dependiente, es decir, $\\sum_i a_i v_i = 0_V$ con $a_i \\in F$ y $v_i \\in D \\subseteq V$ implica $a_i = 0$ para todo $i = 1,\\ldots, n$."
   ]
  },
  {
   "cell_type": "markdown",
   "metadata": {},
   "source": [
    "### Observaciones"
   ]
  },
  {
   "cell_type": "markdown",
   "metadata": {},
   "source": [
    "Se demosrara que:"
   ]
  },
  {
   "cell_type": "markdown",
   "metadata": {},
   "source": [
    "- A veces abreviamos linealmente dependiente como LD y linealmente independiente como LI."
   ]
  },
  {
   "cell_type": "markdown",
   "metadata": {},
   "source": [
    "- Cualquier conjunto de vectores que contenga al origen, $0_V$ es linealmente dependiente."
   ]
  },
  {
   "cell_type": "markdown",
   "metadata": {},
   "source": [
    "- Un conjunto infinito de vectores es LD si y solo si tiene un subconjunto finito LD."
   ]
  },
  {
   "cell_type": "markdown",
   "metadata": {},
   "source": [
    "- Un conjunto infinito de vectores es LI si y solo si cada subconjunto finito es LI."
   ]
  },
  {
   "cell_type": "markdown",
   "metadata": {},
   "source": [
    "- Cualquier conjunto de vectores que contiene un subconjunto LD es LD."
   ]
  },
  {
   "cell_type": "markdown",
   "metadata": {},
   "source": [
    "- Cualquier subconjunto de una familia de vectores LI es LI."
   ]
  },
  {
   "cell_type": "markdown",
   "metadata": {},
   "source": [
    "---"
   ]
  },
  {
   "cell_type": "markdown",
   "metadata": {},
   "source": [
    "# Espacios con producto interno"
   ]
  },
  {
   "cell_type": "markdown",
   "metadata": {},
   "source": [
    "**Def. (producto interno)** Sea $V$ un espacio vectorial real. Una funcion\n",
    "\n",
    "$$\n",
    "\\langle \\cdot, \\cdot \\rangle : V \\times V \\to \\mathbb{R}\n",
    "$$\n",
    "se dice un *producto interno* si verifica:"
   ]
  },
  {
   "cell_type": "markdown",
   "metadata": {},
   "source": [
    "- (simetrica) $\\langle x, y \\rangle = \\langle y, x \\rangle$ para todos $x, y \\in V$"
   ]
  },
  {
   "cell_type": "markdown",
   "metadata": {},
   "source": [
    "- (lineal) $\\langle \\alpha x + \\beta y, z\\rangle = \\alpha \\langle x, z \\rangle + \\beta \\langle y, z \\rangle$ para todos $x, y, z \\in V$, $\\alpha, \\beta \\in \\mathbb{R}$."
   ]
  },
  {
   "cell_type": "markdown",
   "metadata": {},
   "source": [
    "- (definida positiva) $\\langle x, x \\rangle > 0$ para todo $x \\in V \\setminus \\{0\\}$, y $\\langle x, x \\rangle = 0$ si y solo si $x = 0$"
   ]
  },
  {
   "cell_type": "markdown",
   "metadata": {},
   "source": [
    "Def. (**producto interno sobre el cuerpo de los complejos**):\n",
    "\n",
    "Si $V$ es un espacio vectorial sobre $\\mathbb{K} = \\mathbb{C}$, definimos: $\\langle \\cdot, \\cdot \\rangle : V \\times V \\to \\mathbb{C}$ tal que\n",
    "\n",
    "- (simetria *hermitica*) $\\langle x, y \\rangle = (\\langle y, x \\rangle)^*$ para todos $x, y \\in V$\n",
    "\n",
    "- (lineal) $\\langle \\alpha x + \\beta y, z \\rangle = \\alpha \\langle x, z \\rangle + \\beta \\langle y, z \\rangle$ para todos $x, y, z \\in V$, $\\alpha, \\beta \\in \\mathbb{C}$\n",
    "\n",
    "- (definida positiva) $\\langle x, x \\rangle > 0 $ para todo $x \\in V$, $x \\neq 0$."
   ]
  },
  {
   "cell_type": "markdown",
   "metadata": {},
   "source": [
    "Observaciones:\n",
    "\n",
    "- Para todo $x \\in V$, $\\langle x,x \\rangle$ es un numero real (por tanto la definicion de definida positiva tiene sentido).\n",
    "\n",
    "- Se verifica que $\\langle x, \\alpha y_1 + \\beta y_2\\rangle = \\alpha^* \\langle x, y_1\\rangle~\\beta^* \\langle x, y_2 \\rangle$: por eso se dice que el producto interno definido es *lineal-conjugado* en su segunda componente, y *lineal* en su primer componente."
   ]
  },
  {
   "cell_type": "markdown",
   "metadata": {},
   "source": [
    "---"
   ]
  },
  {
   "cell_type": "markdown",
   "metadata": {},
   "source": [
    "Un espacio $V$ con producto interno se llama espacio **pre-Hilbertiano**."
   ]
  },
  {
   "cell_type": "markdown",
   "metadata": {},
   "source": [
    "Se llama espacio de Hilbert o espacio Hilbertiano cuando es *completo* -- en otras palabras, que el espacio contiene todos sus puntos limite. Damos la definicion formal a continuacion pero por el momento no profundizaremos mucho."
   ]
  },
  {
   "cell_type": "markdown",
   "metadata": {},
   "source": [
    "---"
   ]
  },
  {
   "cell_type": "markdown",
   "metadata": {},
   "source": [
    "# Continuacion sobre Algebra Lineal (16/4/2020)"
   ]
  },
  {
   "cell_type": "markdown",
   "metadata": {},
   "source": [
    "Temas:\n",
    "\n",
    "- Independencia lineal y bases\n",
    "- Norma y Producto interno\n",
    "- Matrices definidas positivas\n",
    "- Proyecciones\n",
    "- Descomposcion en valores singulares\n",
    "- Pseudoinversa"
   ]
  },
  {
   "cell_type": "markdown",
   "metadata": {},
   "source": [
    "## Normas de vectores y matrices"
   ]
  },
  {
   "cell_type": "markdown",
   "metadata": {},
   "source": [
    "Referencias:\n",
    "\n",
    "- Wendland, Capitulo 1.\n",
    "- Wendland, Capitulo 2."
   ]
  },
  {
   "cell_type": "markdown",
   "metadata": {},
   "source": [
    "La nocion de \"distancia\" que aprendemos en los cursos iniciales de calculo se refiere a la norma Euclidea; por ejemplo,\n",
    "\n",
    "- la distancia al origen del punto $p$ con coordenadas $p = (p_1, p_2)$ es $\\sqrt{p_2^2 + p_2^2}$,\n",
    "- la distancia entre los puntos $p = (p_1, p_2)$ y $q = (q_1, q_2)$ es $\\sqrt{(p_1-q_1)^2 + (p_2 - q_2)^2}$."
   ]
  },
  {
   "cell_type": "markdown",
   "metadata": {},
   "source": [
    "En $\\mathbb{R}^n$, dicha nocion esta asociada al producto interno \"canonico\" o Euclideo, es decir\n",
    "\n",
    "$$\n",
    "\\langle x, y \\rangle_2 := x^T y = \\sum_{i = 1}^n x_i y_i \\qquad \\forall x, y \\in \\mathbb{R}^n.\n",
    "$$\n",
    "En particular, se satisface $\\langle x, x \\rangle_2 = x_1^2 + \\cdots + x_n^2 > 0$ para todo $x \\neq 0$.\n",
    "\n",
    "**Ejercicio.** Verificar que con esta definicion, $\\langle x, y \\rangle_2$ es un producto interno."
   ]
  },
  {
   "cell_type": "markdown",
   "metadata": {},
   "source": [
    "**Definicion (norma)** Sea $V$ un e.v. con cuerpo $\\mathbb{K}$ real o complejo. Una funcion $\\Vert \\cdot \\Vert : V \\to [0, \\infty)$ se llama una *norma* en $V$ si satisface las siguientes tres propiedades:\n",
    "\n",
    "- homogenea: $\\Vert \\lambda x \\Vert = \\vert \\lambda \\vert ~ \\Vert x \\Vert$ para todos $x \\in V$ y $\\lambda \\in \\mathbb{K}$,\n",
    "- definida positiva: $\\Vert x \\Vert = 0$ si y solo si $x = 0$,\n",
    "- [subaditiva](https://en.wikipedia.org/wiki/Subadditivity): $\\Vert x + y \\Vert \\leq \\Vert x \\Vert + \\Vert y \\Vert$ para todos $x, y \\in V$."
   ]
  },
  {
   "cell_type": "markdown",
   "metadata": {},
   "source": [
    "En particular, la 3er propiedad es mas conocida como la *desigualdad triangular*, y tiene una interpretacion geometrica bien conocida (dibujar)."
   ]
  },
  {
   "cell_type": "markdown",
   "metadata": {},
   "source": [
    "El producto interno definido anteriormente, me permite definir la norma $\\Vert x \\Vert_2 = \\sqrt{\\langle x, x \\rangle_2}$ (decimos que *induce* dicha norma),\n",
    "\n",
    "$$\n",
    "\\Vert x - y \\Vert_2 := \\sqrt{\\langle x - y, x - y\\rangle_2} = \\sum_{i=1}^n (x_i - y_i)^2.\n",
    "$$"
   ]
  },
  {
   "cell_type": "markdown",
   "metadata": {},
   "source": [
    "**Ejercicio** Verificar que la definicion $\\Vert \\cdot \\Vert_2$ dada anteriormente es una norma."
   ]
  },
  {
   "cell_type": "markdown",
   "metadata": {},
   "source": [
    "La siguiente desigualdad es util para demostrar la afirmacion anterior (para cualquier espacio vectorial)."
   ]
  },
  {
   "cell_type": "markdown",
   "metadata": {},
   "source": [
    "Una propiedad importante es la desigualdad de Cauchy-Schwartz (queda como ejercicio),\n",
    "\n",
    "$$\n",
    "\\vert \\langle x, y \\rangle \\vert \\leq \\Vert x \\Vert \\Vert y \\Vert\n",
    "$$\n",
    "para todos $x, y \\in V$."
   ]
  },
  {
   "cell_type": "markdown",
   "metadata": {},
   "source": [
    "**Observaciones:**"
   ]
  },
  {
   "cell_type": "markdown",
   "metadata": {},
   "source": [
    "- El producto interno de vectores en $\\mathbb{R}^2$ y $\\mathbb{R}^3$ admite una interpretacion geometrica (proyeccion).\n",
    "\n",
    "- Decimos que dos vectores $x, y$ son **ortogonales** si satisfacen $\\langle x, y \\rangle = 0$ y notamos $x \\perp y$. \n",
    "\n",
    "- Se verifica el teorema de Pitagoras (queda como ejercicio): si $x \\perp y$, entonces\n",
    "\n",
    "$$\n",
    "\\Vert x +  y \\Vert^2 = \\Vert x \\Vert^2 + \\Vert y \\Vert^2.\n",
    "$$"
   ]
  },
  {
   "cell_type": "markdown",
   "metadata": {},
   "source": [
    "- Entender y utilizar distintos tipos de normas (para distintos objetos, eg. no solo para \"vectores\" sino tambien para \"matrices\") es necesario para analizar la estabilidad de los algoritmos numericos. A continuacion veremos como se definen otros tipos de normas comunes, asi como tambien como se definen normas para operadores (= matrices, en dimension finita)."
   ]
  },
  {
   "cell_type": "markdown",
   "metadata": {},
   "source": [
    "- Cualquier producto interno induce una norma mediante la definicion $\\Vert x \\Vert := \\sqrt{\\langle x, x \\rangle}$. (verificar, ejercicio)\n",
    "\n",
    "- No es cierto que cualquier norma induzca un producto interno. (Ver ejercicio sobre identidades de polarizacion).  "
   ]
  },
  {
   "cell_type": "markdown",
   "metadata": {},
   "source": [
    "- El producto interno es una funcion *continua* respecto a cada una de las variables. (Ejercicio)."
   ]
  },
  {
   "cell_type": "markdown",
   "metadata": {},
   "source": [
    "### Conexion con otras nociones importantes en Analisis"
   ]
  },
  {
   "cell_type": "markdown",
   "metadata": {},
   "source": [
    "- Un **espacio de Banch** es un espacio vectorial normado que es completo respecto a esa norma.\n",
    "\n",
    "- Un **espacio de Hilbert** es un e.v. con producto interno $V$ que es un espacio de Banach (= completo) respecto de la noma inducida.\n",
    "\n",
    "Ejemplos de espacios de Hilbert:\n",
    "\n",
    "- El espacio $\\mathbb{C}^n$ con el producto interno estandard, $\\langle x, y \\rangle = \\sum_{i=1}^n x_i y_i^*$ es un espacio de Hilbert. (Notar que es [isomorfo](https://en.wikipedia.org/wiki/Isomorphism) a $\\mathbb{R}^{2n}$.)\n",
    "\n",
    "- El espacio de funciones de cuadrado intergable, $L^2(\\mathbb{R})$ con el producto interno\n",
    "\n",
    "$$\n",
    "\\langle f, g \\rangle = \\int_\\mathbb{R} f(x) g(x)^* dx,\n",
    "$$\n",
    "que induce la norma $\\Vert \\cdot \\Vert_2$.\n",
    "\n",
    "- El espacio $\\ell^2$ de sucesiones $(x_n)$ de cuadrado sumable, i.e, sucesiones tales que $\\sum_{n=1}^\\infty |x_n|^2 < \\infty$ es un espacio de Hilbert con el producto interno \n",
    "\n",
    "$$\n",
    "\\langle (x_n), (y_n) \\rangle = \\sum_{n=1}^\\infty x_n y_n^*.\n",
    "$$\n",
    "Nota: esta definicion es convergente como consecuencia de la desigualdad de Cauchy-Schwartz (queda como ejercicio)."
   ]
  },
  {
   "cell_type": "markdown",
   "metadata": {},
   "source": [
    "### $p$-normas"
   ]
  },
  {
   "cell_type": "markdown",
   "metadata": {},
   "source": [
    "Referencia:\n",
    "\n",
    "- Wendland, Capitulo 2."
   ]
  },
  {
   "cell_type": "markdown",
   "metadata": {},
   "source": [
    "- La \"norma\" de un vector da entonces una nocion del largo. En particular, un *vector unitario* respecto a una norma $\\Vert \\cdot \\Vert$ es un vector $x \\in V$ tal que \n",
    "\n",
    "$$\n",
    "\\Vert x \\Vert = 1.\n",
    "$$"
   ]
  },
  {
   "cell_type": "markdown",
   "metadata": {},
   "source": [
    "Sin embargo resulta conveniente conocer distintos tipos de normas, por diferentes motivos (la aplicacion en particular puede requerirlo, o para demostrar resultados teoricos, etc). Veremos que \"la circunferencia unidad\" a la que asociamos los vectores unitarios es solo una entre tantas (infinitas) posibilidades."
   ]
  },
  {
   "cell_type": "markdown",
   "metadata": {},
   "source": [
    "---"
   ]
  },
  {
   "cell_type": "markdown",
   "metadata": {},
   "source": [
    "**Def. (p-norma de vectores)** Sea $1 \\leq p \\leq \\infty$. La $\\ell_p$ norma en $\\mathbb{R}^n$ se define\n",
    "\n",
    "$$\n",
    "\\Vert x \\Vert_p := \\left( \\sum_{i=1} |x_i|^p \\right)^{1/p},\\qquad 1 \\leq p < \\infty\n",
    "$$\n",
    "\n",
    "$$\n",
    "\\Vert x \\Vert_\\infty := \\max_{1 \\leq i \\leq n} \\vert x_i \\vert.\n",
    "$$"
   ]
  },
  {
   "cell_type": "markdown",
   "metadata": {},
   "source": [
    "Casos particulares (\"mas\" utilizados) son la norma $\\ell_1$, $\\ell_2$ y $\\ell_\\infty$. Notar que\n",
    "\n",
    "$$\n",
    "\\Vert x \\Vert_1 := \\sum_{i=1}^n \\vert x_i \\vert,\n",
    "$$\n",
    "\n",
    "$$\n",
    "\\Vert x \\Vert_2 := \\left( \\sum_{i=1}^n \\vert x_i \\vert^2 \\right)^{1/2}\n",
    "$$\n"
   ]
  },
  {
   "cell_type": "markdown",
   "metadata": {},
   "source": [
    "Ejercicio:\n",
    "\n",
    "- Verificar que tanto $\\Vert \\cdot \\Vert_1$ como $\\Vert \\cdot \\Vert_\\infty$ son normas (es decir satisfacen todas las propiedades de norma dadas anteriormente)."
   ]
  },
  {
   "cell_type": "markdown",
   "metadata": {},
   "source": [
    "- Se graficaran las bolas unidad $B_p$, en $\\mathbb{R}^2$, respecto de $\\ell_p$ para distintos valores de $p$, siendo\n",
    "\n",
    "$$\n",
    "B_p = \\{x \\in \\mathbb{R}^n : \\Vert x \\Vert_p \\leq 1\\}.\n",
    "$$"
   ]
  },
  {
   "cell_type": "markdown",
   "metadata": {},
   "source": [
    "- Observar que la \"longitud\" de un vector depende de la norma elegida.\n",
    "\n",
    "- Como deciamos la eleccion puede depender de la aplicacion:\n",
    "\n",
    "    - Si el vector mide la temperatura en cierta posicion del espacio, para $n$ tiempos distintos, puedo utilizar la norma $\\ell_\\infty$ para medir la temperatura *maxima*.\n",
    "    \n",
    "    - Si me interesa en una temperatura promedio, puede ser mas apropiado elegir las normas $\\ell_1$ o $\\ell_2$."
   ]
  },
  {
   "cell_type": "markdown",
   "metadata": {},
   "source": [
    "- Verificar las propiedades de homogeneidad y definida positiva para $\\Vert \\cdot \\Vert_2$ y en general para cualquier $\\Vert \\cdot \\Vert_p$, $1 \\leq p \\leq \\infty$."
   ]
  },
  {
   "cell_type": "markdown",
   "metadata": {},
   "source": [
    "- La propiedad que requiere un poco mas de trabajo demostrar es la propiedad de subaditividad (= desigualdad triangular). Para probarlo conviene utilizar la desigualdad de Holder (ejercicio, se demostrara paracualquier espacio pre-Hilbertiano $V$ sobre $\\mathbb{K} = \\mathbb{R}$ o $\\mathbb{C}$). "
   ]
  },
  {
   "cell_type": "markdown",
   "metadata": {},
   "source": [
    "**Teorema (desigualdad de Holder)**. Sean $x,  y \\in \\mathbb{R}^n$ y sean $p, q \\leq 1$ numeros *conjugados* es decir $\\frac{1}{p} + \\frac{1}{q} = 1$. Entonces\n",
    "\n",
    "$$\n",
    "\\sum_{j=1}^n \\vert x_j y_j \\vert \\leq \\Vert x \\Vert_p \\Vert y \\Vert_q\n",
    "$$"
   ]
  },
  {
   "cell_type": "markdown",
   "metadata": {},
   "source": [
    "Nota: si $p = \\infty$, interpretamos $1/p$ como $0$."
   ]
  },
  {
   "cell_type": "markdown",
   "metadata": {},
   "source": [
    "Notas:\n",
    "\n",
    "- Como caso particular de la desigualdad de Holder, se tiene la desigualdad de Cauchy-Schartz, haciendo $p = q = 2$:\n",
    "\n",
    "$$\n",
    "\\vert \\langle x, y \\rangle\\vert \\leq \\sum_{j=1}^n \\vert x_j y_j \\vert \\leq \\Vert x \\Vert_2 \\Vert y \\Vert_2 = \\langle x, x \\rangle \\langle y, y \\rangle\n",
    "$$"
   ]
  },
  {
   "cell_type": "markdown",
   "metadata": {},
   "source": [
    "- Utilizando la desigualdad de Minkowski (a continuacin) se deducira que $\\Vert \\cdot \\Vert_p$ para todo $1 \\leq p \\leq \\infty$ es de hecho una norma."
   ]
  },
  {
   "cell_type": "markdown",
   "metadata": {},
   "source": [
    "**Teorema (desigualdad de Minkowski)** Para todo $p \\geq 1$ y cualquier par de sucesiones $(x_n)$, $(y_n)$ en $\\ell^p$, la sucesion $(x_n + y_n)$ es $p$ sumable es decir $(x_n + y_n) \\in \\ell^p$ y se satisface\n",
    "\n",
    "$$\n",
    "\\Vert (x_n + y_n) \\Vert_p \\leq \\Vert (x_n)\\Vert_p + \\Vert(y_n)\\Vert_p\n",
    "$$"
   ]
  },
  {
   "cell_type": "markdown",
   "metadata": {},
   "source": [
    "---"
   ]
  },
  {
   "cell_type": "markdown",
   "metadata": {},
   "source": [
    "- En espacios de dimension finita (lo probamos en particular en $\\mathbb{R}^n$, pero vale en general) se verifica que las distintas normas no \"difieren mucho\", desde un punto de vista topologico."
   ]
  },
  {
   "cell_type": "markdown",
   "metadata": {},
   "source": [
    "- El resultado siguiente de equivalencia es interesante en demostraciones, porque da existencia de constantes (con frecuencia no interesa conocer el valor numerico de dichas constantes, sino su existencia)."
   ]
  },
  {
   "cell_type": "markdown",
   "metadata": {},
   "source": [
    "**Teorema (equivalencia de normas)** En $\\mathbb{R}^n$, todas las normas son equivalentes, es decir dadas dos normas $\\Vert \\cdot \\Vert$ y $\\Vert \\cdot \\Vert_*$ existen constantes $c_1, c_2 > 0$ tales que\n",
    "\n",
    "$$\n",
    "c_1 \\Vert x \\Vert \\leq \\Vert x \\Vert_* \\leq c_2 \\Vert x \\Vert,\\qquad \\forall x \\in \\mathbb{R}^n.\n",
    "$$"
   ]
  },
  {
   "cell_type": "code",
   "execution_count": null,
   "metadata": {},
   "outputs": [],
   "source": []
  },
  {
   "cell_type": "markdown",
   "metadata": {},
   "source": [
    "## Normas inducidas"
   ]
  },
  {
   "cell_type": "code",
   "execution_count": null,
   "metadata": {},
   "outputs": [],
   "source": []
  },
  {
   "cell_type": "code",
   "execution_count": null,
   "metadata": {},
   "outputs": [],
   "source": []
  },
  {
   "cell_type": "code",
   "execution_count": null,
   "metadata": {},
   "outputs": [],
   "source": []
  },
  {
   "cell_type": "markdown",
   "metadata": {},
   "source": [
    "## Descomposicion de Gram-Schmidt"
   ]
  },
  {
   "cell_type": "code",
   "execution_count": null,
   "metadata": {},
   "outputs": [],
   "source": []
  },
  {
   "cell_type": "code",
   "execution_count": null,
   "metadata": {},
   "outputs": [],
   "source": []
  },
  {
   "cell_type": "code",
   "execution_count": null,
   "metadata": {},
   "outputs": [],
   "source": []
  },
  {
   "cell_type": "markdown",
   "metadata": {},
   "source": [
    "## Descomposicion en valores singulares\n"
   ]
  },
  {
   "cell_type": "markdown",
   "metadata": {},
   "source": [
    "Pregunta: sea $B_n = \\{x \\in \\mathbb{R}^n: \\Vert x \\Vert_2 \\leq 1\\}$ la bola unidad en norma 2. Como transforma una matriz cuadrada $A \\in \\mathbb{R}^{n\\times n}$ a ese conjunto? Es decir, como podemos describir geometricamente la transformacion $Y = AB_n$, i.e. $Y := \\{y \\in \\mathbb{R}^n: y = Ax,~x \\in B_n\\}$."
   ]
  },
  {
   "cell_type": "markdown",
   "metadata": {},
   "source": [
    "El resultado que vimos anteriormente nos da una pista en esa direccion."
   ]
  },
  {
   "cell_type": "markdown",
   "metadata": {},
   "source": [
    "Recodemos la siguiente proposicion que demostramos anteriormente: si $A \\in \\mathbb{R}^{n\\times n}$ es una matriz simetrica, entonces podemos escribir $Q^T A Q = D$ con $Q \\in \\mathbb{R}^{n\\times n}$ ortogonal y $D$ diagonal cuyas entradas son los valores propios de $A$."
   ]
  },
  {
   "cell_type": "markdown",
   "metadata": {},
   "source": [
    "## Matriz pseudo-inversa"
   ]
  },
  {
   "cell_type": "markdown",
   "metadata": {},
   "source": [
    "**Def (matriz pseudo-inversa)** Sea $A \\in \\mathbb{R}^{m \\times n}$ con rango $r = rango(A)$. Sea $A = U \\Sigma V^T$ la descomposicion en valores singulares de $A$ con matrices ortogonales $U \\in \\mathbb{R}^{m \\times m}$, $V \\in \\mathbb{R}^{n\\times n}$ y $\\Sigma \\in \\mathbb{R}^{m\\times n}$ una matriz diagonal con las componentes no nulas, $\\sigma_1 \\geq \\sigma_2 \\geq \\cdots \\geq \\sigma_r > 0$. Sea $\\Sigma^+ \\in \\mathbb{R}^{n \\times m}$ la matriz\n",
    "\n",
    "$$\n",
    "\\Sigma^+ = \\begin{pmatrix}\n",
    "\\sigma^{-1}_1 & & & 0 & \\cdots & 0 \\\\\n",
    " & \\ddots & & \\vdots &  & \\vdots \\\\\n",
    " & & \\sigma^{-1}_r & 0 & \\cdots & 0 \\\\\n",
    "0 & &0  & 0 & \\cdots & 0 \\\\\n",
    "\\vdots & & \\vdots & 0 & \\cdots & 0 \\\\\n",
    "0 & \\cdots &0 & 0 & \\cdots & 0\n",
    "\\end{pmatrix}\n",
    "$$"
   ]
  },
  {
   "cell_type": "markdown",
   "metadata": {},
   "source": [
    "La matriz *pseudo-inversa* de $A$ se define como\n",
    "\n",
    "$$\n",
    "A^+ := V \\Sigma^+ U^T \\in \\mathbb{R}^{n\\times m}.\n",
    "$$"
   ]
  },
  {
   "cell_type": "markdown",
   "metadata": {},
   "source": [
    "### Unicidad de la matriz pseudo-inversa"
   ]
  },
  {
   "cell_type": "code",
   "execution_count": null,
   "metadata": {},
   "outputs": [],
   "source": []
  },
  {
   "cell_type": "markdown",
   "metadata": {},
   "source": [
    "### Relacion de la matriz pseudo-inversa con proyecciones ortogonales"
   ]
  },
  {
   "cell_type": "code",
   "execution_count": null,
   "metadata": {},
   "outputs": [],
   "source": []
  }
 ],
 "metadata": {
  "kernelspec": {
   "display_name": "Julia 1.3.1",
   "language": "julia",
   "name": "julia-1.3"
  },
  "language_info": {
   "file_extension": ".jl",
   "mimetype": "application/julia",
   "name": "julia",
   "version": "1.3.1"
  }
 },
 "nbformat": 4,
 "nbformat_minor": 2
}
