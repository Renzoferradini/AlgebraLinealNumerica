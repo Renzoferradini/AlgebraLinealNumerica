{
 "cells": [
  {
   "cell_type": "markdown",
   "metadata": {},
   "source": [
    "# Nocion de espacio vectorial"
   ]
  },
  {
   "cell_type": "markdown",
   "metadata": {},
   "source": [
    "**Def. (espacio vectorial)** La tupla $(X, \\mathbb{K}, +, \\cdot)$ siendo $\\mathbb{K}$ un cuerpo, se dice espacio vectorial si verifica:\n",
    "\n",
    "- conmutatividad de la adicion vectorial: $x + y = y + x$\n",
    "- asociatividad de la adicion vectorial: $(x + y) + z = x + (y + z)$\n",
    "- existe un elemento unico $0 \\in X$ que se llama el elemento cero del espacio $X$ tal que $x + 0 = x$ para todos $x \\in X$\n",
    "- para cada elemento $x \\in X$ existe un unico elemento $x' \\in X$ que se llama la inversa aditiva de $x$ tal que $x + x' = 0$\n",
    "- distributividad de la multiplicacion escalar respecto de la adicion vectorial, $\\alpha(x + y) = \\alpha x + \\alpha y$\n",
    "- distributividad de la multiplicacion escalar respecto de la adicion escalar: $(\\alpha + \\beta ) x = \\alpha x + \\beta x$\n",
    "- asociatividad de la multiplicacion escalar: $(\\alpha \\beta)x = \\alpha (\\beta x)$\n",
    "- el numero $1 \\in \\mathbb{K}$ es el elemento identidad de la multiplicacion: $1x = x$ para todo $x \\in X$."
   ]
  },
  {
   "cell_type": "markdown",
   "metadata": {},
   "source": [
    "## Ejemplos"
   ]
  },
  {
   "cell_type": "markdown",
   "metadata": {},
   "source": [
    "- el conjunto $V_3$ de todos los vectores \"geometricos\" en el espacio Euclideo $\\mathbb{R}^3$ con las operaciones usuales de multiplicacion de un vector por un real escalar y adicion vectorial.\n",
    "- el conjunto de todas las funciones reales de una variable. la suma  de 2 funciones y el producto se definen de manera usual.\n",
    "- el conjunto de todas las funciones continuas en el intervalo cerrado $[a, b] $ de la recta real, se llama $\\mathcal{C}[a, b]$ (demostrar)\n",
    "- el conjunto de todas las funciones $\\mathcal{C}[a, b]$ que son cero en un punto dado $c \\in [a, b]$\n",
    "- el conjunto de todos los polinomios a coeficientes complejos con las definiciones dadas anteriormente en el curso\n",
    "- el conjunto $Q_n$ de todos los polinomios de orden no mayor que $n \\geq 0$ junto con el polinomio nulo."
   ]
  },
  {
   "cell_type": "markdown",
   "metadata": {},
   "source": [
    "# Independencia lineal"
   ]
  },
  {
   "cell_type": "markdown",
   "metadata": {},
   "source": [
    "Referencias:\n",
    "\n",
    "- Golan, Chapter 5."
   ]
  },
  {
   "cell_type": "markdown",
   "metadata": {},
   "source": [
    "### Motivacion"
   ]
  },
  {
   "cell_type": "markdown",
   "metadata": {},
   "source": [
    "- Una coleccion \"pequeña\" de vectores en un espacio vectorial puede determinar la estructura de *todo* el espacio.\n",
    "\n",
    "- Ese hecho ya permite extraer conclusiones interesantes. Por otro lado, conocer tal conjunto me permite trabajar, describir, objetos nuevos a partir de otros conocidos."
   ]
  },
  {
   "cell_type": "markdown",
   "metadata": {},
   "source": [
    "Dar:\n",
    "\n",
    "- Base de $\\mathbb{R}^n$\n",
    "- Base de $\\mathbb{C}^n$\n",
    "- Tambien para los espacios de funciones mencionados."
   ]
  },
  {
   "cell_type": "markdown",
   "metadata": {},
   "source": [
    "### Nocion de independencia lineal"
   ]
  },
  {
   "cell_type": "markdown",
   "metadata": {},
   "source": [
    "*Nota.* La nocion de independencia lineal de vectores de vectores fue introducida por el matematico del S.XIX [Hermann Grassmann](https://es.wikipedia.org/wiki/Hermann_Grassmann). Posteriormente esta nocion fue generalizada a muchas otros contextos y el matematico [Hassler Whitney](https://es.wikipedia.org/wiki/Hassler_Whitney) tuvo un rol muy importante en ese trabajo."
   ]
  },
  {
   "cell_type": "markdown",
   "metadata": {},
   "source": [
    "**Def. (independencia lineal)** Sea $V$ un espacio vectorial sobre un cuerpo $F$. Un conjunto no vacio $D$ en $V$ se dice *linealmente dependiente* si y solo si existen vectores distintos $v_1, v_2, \\ldots, v_n$ en $D$ y escalares $a_1, \\ldots, a_n$ en $F$, no todos nulos, tales que $\\sum_i a_i v_i = 0_V$."
   ]
  },
  {
   "cell_type": "markdown",
   "metadata": {},
   "source": [
    "Decimos que un conjunto de elementos de $V$ es *linealmente dependiente* si tiene dos elementos iguales o si el conjunto de vectores es linealmente dependiente."
   ]
  },
  {
   "cell_type": "markdown",
   "metadata": {},
   "source": [
    "Por otro lado, $D$ se dice *linealmente independiente* si y solo si:\n",
    "\n",
    "- $D = \\emptyset$, o\n",
    "- $D \\neq \\emptyset$ y no es linealmente dependiente, es decir, $\\sum_i a_i v_i = 0_V$ con $a_i \\in F$ y $v_i \\in D \\subseteq V$ implica $a_i = 0$ para todo $i = 1,\\ldots, n$."
   ]
  },
  {
   "cell_type": "markdown",
   "metadata": {},
   "source": [
    "### Observaciones"
   ]
  },
  {
   "cell_type": "markdown",
   "metadata": {},
   "source": [
    "Se demosrara que:"
   ]
  },
  {
   "cell_type": "markdown",
   "metadata": {},
   "source": [
    "- A veces abreviamos linealmente dependiente como LD y linealmente independiente como LI."
   ]
  },
  {
   "cell_type": "markdown",
   "metadata": {},
   "source": [
    "- Cualquier conjunto de vectores que contenga al origen, $0_V$ es linealmente dependiente."
   ]
  },
  {
   "cell_type": "markdown",
   "metadata": {},
   "source": [
    "- Un conjunto infinito de vectores es LD si y solo si tiene un subconjunto finito LD."
   ]
  },
  {
   "cell_type": "markdown",
   "metadata": {},
   "source": [
    "- Un conjunto infinito de vectores es LI si y solo si cada subconjunto finito es LI."
   ]
  },
  {
   "cell_type": "markdown",
   "metadata": {},
   "source": [
    "- Cualquier conjunto de vectores que contiene un subconjunto LD es LD."
   ]
  },
  {
   "cell_type": "markdown",
   "metadata": {},
   "source": [
    "- Cualquier subconjunto de una familia de vectores LI es LI."
   ]
  },
  {
   "cell_type": "markdown",
   "metadata": {},
   "source": [
    "---"
   ]
  },
  {
   "cell_type": "markdown",
   "metadata": {},
   "source": [
    "# Espacios con producto interno"
   ]
  },
  {
   "cell_type": "markdown",
   "metadata": {},
   "source": [
    "**Def. (producto interno)** Sea $V$ un espacio vectorial real. Una funcion\n",
    "\n",
    "$$\n",
    "\\langle \\cdot, \\cdot \\rangle : V \\times V \\to \\mathbb{R}\n",
    "$$\n",
    "se dice un *producto interno* si verifica:"
   ]
  },
  {
   "cell_type": "markdown",
   "metadata": {},
   "source": [
    "- (simetrica) $\\langle x, y \\rangle = \\langle y, x \\rangle$ para todos $x, y \\in V$"
   ]
  },
  {
   "cell_type": "markdown",
   "metadata": {},
   "source": [
    "- (lineal) $\\langle \\alpha x + \\beta y, z\\rangle = \\alpha \\langle x, z \\rangle + \\beta \\langle y, z \\rangle$ para todos $x, y, z \\in V$, $\\alpha, \\beta \\in \\mathbb{R}$."
   ]
  },
  {
   "cell_type": "markdown",
   "metadata": {},
   "source": [
    "- (definida positiva) $\\langle x, x \\rangle > 0$ para todo $x \\in V \\setminus \\{0\\}$, y $\\langle x, x \\rangle = 0$ si y solo si $x = 0$"
   ]
  },
  {
   "cell_type": "markdown",
   "metadata": {},
   "source": [
    "Def. (**producto interno sobre el cuerpo de los complejos**):\n",
    "\n",
    "Si $V$ es un espacio vectorial sobre $\\mathbb{K} = \\mathbb{C}$, definimos: $\\langle \\cdot, \\cdot \\rangle : V \\times V \\to \\mathbb{C}$ tal que\n",
    "\n",
    "- (simetria *hermitica*) $\\langle x, y \\rangle = (\\langle y, x \\rangle)^*$ para todos $x, y \\in V$\n",
    "\n",
    "- (lineal) $\\langle \\alpha x + \\beta y, z \\rangle = \\alpha \\langle x, z \\rangle + \\beta \\langle y, z \\rangle$ para todos $x, y, z \\in V$, $\\alpha, \\beta \\in \\mathbb{C}$\n",
    "\n",
    "- (definida positiva) $\\langle x, x \\rangle > 0 $ para todo $x \\in V$, $x \\neq 0$."
   ]
  },
  {
   "cell_type": "markdown",
   "metadata": {},
   "source": [
    "Observaciones:\n",
    "\n",
    "- Para todo $x \\in V$, $\\langle x,x \\rangle$ es un numero real (por tanto la definicion de definida positiva tiene sentido).\n",
    "\n",
    "- Se verifica que $\\langle x, \\alpha y_1 + \\beta y_2\\rangle = \\alpha^* \\langle x, y_1\\rangle~\\beta^* \\langle x, y_2 \\rangle$: por eso se dice que el producto interno definido es *lineal-conjugado* en su segunda componente, y *lineal* en su primer componente."
   ]
  },
  {
   "cell_type": "markdown",
   "metadata": {},
   "source": [
    "---"
   ]
  },
  {
   "cell_type": "markdown",
   "metadata": {},
   "source": [
    "Un espacio $V$ con producto interno se llama espacio **pre-Hilbertiano**."
   ]
  },
  {
   "cell_type": "markdown",
   "metadata": {},
   "source": [
    "Se llama espacio de Hilbert o espacio Hilbertiano cuando es *completo* -- en otras palabras, que el espacio contiene todos sus puntos limite. Damos la definicion formal a continuacion pero por el momento no profundizaremos mucho."
   ]
  },
  {
   "cell_type": "markdown",
   "metadata": {},
   "source": [
    "---"
   ]
  },
  {
   "cell_type": "markdown",
   "metadata": {},
   "source": [
    "# Continuacion sobre Algebra Lineal (16/4/2020)"
   ]
  },
  {
   "cell_type": "markdown",
   "metadata": {},
   "source": [
    "Temas:\n",
    "\n",
    "- Independencia lineal y bases\n",
    "- Norma y Producto interno\n",
    "- Matrices definidas positivas\n",
    "- Proyecciones\n",
    "- Descomposcion en valores singulares\n",
    "- Pseudoinversa"
   ]
  },
  {
   "cell_type": "markdown",
   "metadata": {},
   "source": [
    "## Normas de vectores y matrices"
   ]
  },
  {
   "cell_type": "markdown",
   "metadata": {},
   "source": [
    "Referencias:\n",
    "\n",
    "- Wendland, Capitulo 1 y Capitulo 2.\n",
    "- Horn & Johnson, Capitulo 5.\n",
    "- Varios de los resultados vistos en esta parte se generalizan de manera natural a espacios de Hilbert. Por detalles ver el libro de V. L. Hansen, Functional Analysis Entering Hilbert Space."
   ]
  },
  {
   "cell_type": "markdown",
   "metadata": {},
   "source": [
    "La nocion de \"distancia\" que aprendemos en los cursos iniciales de calculo se refiere a la norma Euclidea; por ejemplo,\n",
    "\n",
    "- la distancia al origen del punto $p$ con coordenadas $p = (p_1, p_2)$ es $\\sqrt{p_2^2 + p_2^2}$,\n",
    "- la distancia entre los puntos $p = (p_1, p_2)$ y $q = (q_1, q_2)$ es $\\sqrt{(p_1-q_1)^2 + (p_2 - q_2)^2}$."
   ]
  },
  {
   "cell_type": "markdown",
   "metadata": {},
   "source": [
    "En $\\mathbb{R}^n$, dicha nocion esta asociada al producto interno \"canonico\" o Euclideo, es decir\n",
    "\n",
    "$$\n",
    "\\langle x, y \\rangle_2 := x^T y = \\sum_{i = 1}^n x_i y_i \\qquad \\forall x, y \\in \\mathbb{R}^n.\n",
    "$$\n",
    "En particular, se satisface $\\langle x, x \\rangle_2 = x_1^2 + \\cdots + x_n^2 > 0$ para todo $x \\neq 0$.\n",
    "\n",
    "**Ejercicio.** Verificar que con esta definicion, $\\langle x, y \\rangle_2$ es un producto interno."
   ]
  },
  {
   "cell_type": "markdown",
   "metadata": {},
   "source": [
    "**Definicion (norma)** Sea $V$ un e.v. con cuerpo $\\mathbb{K}$ real o complejo. Una funcion $\\Vert \\cdot \\Vert : V \\to [0, \\infty)$ se llama una *norma* en $V$ si satisface las siguientes tres propiedades:\n",
    "\n",
    "- homogenea: $\\Vert \\lambda x \\Vert = \\vert \\lambda \\vert ~ \\Vert x \\Vert$ para todos $x \\in V$ y $\\lambda \\in \\mathbb{K}$,\n",
    "- definida positiva: $\\Vert x \\Vert = 0$ si y solo si $x = 0$,\n",
    "- [subaditiva](https://en.wikipedia.org/wiki/Subadditivity): $\\Vert x + y \\Vert \\leq \\Vert x \\Vert + \\Vert y \\Vert$ para todos $x, y \\in V$."
   ]
  },
  {
   "cell_type": "markdown",
   "metadata": {},
   "source": [
    "En particular, la 3er propiedad es mas conocida como la *desigualdad triangular*, y tiene una interpretacion geometrica bien conocida (dibujar)."
   ]
  },
  {
   "cell_type": "markdown",
   "metadata": {},
   "source": [
    "El producto interno definido anteriormente, me permite definir la norma $\\Vert x \\Vert_2 = \\sqrt{\\langle x, x \\rangle_2}$ (decimos que *induce* dicha norma),\n",
    "\n",
    "$$\n",
    "\\Vert x - y \\Vert_2 := \\sqrt{\\langle x - y, x - y\\rangle_2} = \\sqrt{\\sum_{i=1}^n (x_i - y_i)^2}.\n",
    "$$"
   ]
  },
  {
   "cell_type": "markdown",
   "metadata": {},
   "source": [
    "**Ejercicio** Verificar que la definicion $\\Vert \\cdot \\Vert_2$ dada anteriormente es una norma."
   ]
  },
  {
   "cell_type": "markdown",
   "metadata": {},
   "source": [
    "La siguiente desigualdad es util para demostrar la afirmacion anterior (para cualquier espacio vectorial)."
   ]
  },
  {
   "cell_type": "markdown",
   "metadata": {},
   "source": [
    "Una propiedad importante es la desigualdad de Cauchy-Schwartz (queda como ejercicio),\n",
    "\n",
    "$$\n",
    "\\vert \\langle x, y \\rangle \\vert \\leq \\Vert x \\Vert \\Vert y \\Vert\n",
    "$$\n",
    "para todos $x, y \\in V$."
   ]
  },
  {
   "cell_type": "markdown",
   "metadata": {},
   "source": [
    "**Observaciones:**"
   ]
  },
  {
   "cell_type": "markdown",
   "metadata": {},
   "source": [
    "- El producto interno de vectores en $\\mathbb{R}^2$ y $\\mathbb{R}^3$ admite una interpretacion geometrica (proyeccion).\n",
    "\n",
    "- Decimos que dos vectores $x, y$ son **ortogonales** si satisfacen $\\langle x, y \\rangle = 0$ y notamos $x \\perp y$. \n",
    "\n",
    "- Se verifica el teorema de Pitagoras (queda como ejercicio): si $x \\perp y$, entonces\n",
    "\n",
    "$$\n",
    "\\Vert x +  y \\Vert^2 = \\Vert x \\Vert^2 + \\Vert y \\Vert^2.\n",
    "$$"
   ]
  },
  {
   "cell_type": "markdown",
   "metadata": {},
   "source": [
    "- Entender y utilizar distintos tipos de normas (para distintos objetos, eg. no solo para \"vectores\" sino tambien para \"matrices\") es necesario para analizar la estabilidad de los algoritmos numericos. A continuacion veremos como se definen otros tipos de normas comunes, asi como tambien como se definen normas para operadores (= matrices, en dimension finita)."
   ]
  },
  {
   "cell_type": "markdown",
   "metadata": {},
   "source": [
    "- Cualquier producto interno induce una norma mediante la definicion $\\Vert x \\Vert := \\sqrt{\\langle x, x \\rangle}$. (verificar, ejercicio)\n",
    "\n",
    "- No es cierto que cualquier norma induzca un producto interno. (Ver ejercicio sobre identidades de polarizacion).  "
   ]
  },
  {
   "cell_type": "markdown",
   "metadata": {},
   "source": [
    "- El producto interno es una funcion *continua* respecto a cada una de las variables. (Ejercicio)."
   ]
  },
  {
   "cell_type": "markdown",
   "metadata": {},
   "source": [
    "### Conexion con otras nociones importantes en Analisis"
   ]
  },
  {
   "cell_type": "markdown",
   "metadata": {},
   "source": [
    "- Un **espacio de Banch** es un espacio vectorial normado que es completo respecto a esa norma.\n",
    "\n",
    "- Un **espacio de Hilbert** es un e.v. con producto interno $V$ que es un espacio de Banach (= completo) respecto de la noma inducida.\n",
    "\n",
    "Ejemplos de espacios de Hilbert:\n",
    "\n",
    "- El espacio $\\mathbb{C}^n$ con el producto interno estandard, $\\langle x, y \\rangle = \\sum_{i=1}^n x_i y_i^*$ es un espacio de Hilbert. (Notar que es [isomorfo](https://en.wikipedia.org/wiki/Isomorphism) a $\\mathbb{R}^{2n}$.)\n",
    "\n",
    "- El espacio de funciones de cuadrado intergable, $L^2(\\mathbb{R})$ con el producto interno\n",
    "\n",
    "$$\n",
    "\\langle f, g \\rangle = \\int_\\mathbb{R} f(x) g(x)^* dx,\n",
    "$$\n",
    "que induce la norma $\\Vert \\cdot \\Vert_2$.\n",
    "\n",
    "- El espacio $\\ell^2$ de sucesiones $(x_n)$ de cuadrado sumable, i.e, sucesiones tales que $\\sum_{n=1}^\\infty |x_n|^2 < \\infty$ es un espacio de Hilbert con el producto interno \n",
    "\n",
    "$$\n",
    "\\langle (x_n), (y_n) \\rangle = \\sum_{n=1}^\\infty x_n y_n^*.\n",
    "$$\n",
    "Nota: esta definicion es convergente como consecuencia de la desigualdad de Cauchy-Schwartz (queda como ejercicio)."
   ]
  },
  {
   "cell_type": "markdown",
   "metadata": {},
   "source": [
    "### $p$-normas"
   ]
  },
  {
   "cell_type": "markdown",
   "metadata": {},
   "source": [
    "Referencia:\n",
    "\n",
    "- Wendland, Capitulo 2."
   ]
  },
  {
   "cell_type": "markdown",
   "metadata": {},
   "source": [
    "- La \"norma\" de un vector da entonces una nocion del largo. En particular, un *vector unitario* respecto a una norma $\\Vert \\cdot \\Vert$ es un vector $x \\in V$ tal que \n",
    "\n",
    "$$\n",
    "\\Vert x \\Vert = 1.\n",
    "$$"
   ]
  },
  {
   "cell_type": "markdown",
   "metadata": {},
   "source": [
    "Sin embargo resulta conveniente conocer distintos tipos de normas, por diferentes motivos (la aplicacion en particular puede requerirlo, o para demostrar resultados teoricos, etc). Veremos que \"la circunferencia unidad\" a la que asociamos los vectores unitarios es solo una entre tantas (infinitas) posibilidades."
   ]
  },
  {
   "cell_type": "markdown",
   "metadata": {},
   "source": [
    "---"
   ]
  },
  {
   "cell_type": "markdown",
   "metadata": {},
   "source": [
    "**Def. (p-norma de vectores)** Sea $1 \\leq p \\leq \\infty$. La $\\ell_p$ norma en $\\mathbb{R}^n$ se define\n",
    "\n",
    "$$\n",
    "\\Vert x \\Vert_p := \\left( \\sum_{i=1}^n |x_i|^p \\right)^{1/p},\\qquad 1 \\leq p < \\infty\n",
    "$$\n",
    "\n",
    "$$\n",
    "\\Vert x \\Vert_\\infty := \\max_{1 \\leq i \\leq n} \\vert x_i \\vert.\n",
    "$$"
   ]
  },
  {
   "cell_type": "markdown",
   "metadata": {},
   "source": [
    "Casos particulares (\"mas\" utilizados) son la norma $\\ell_1$, $\\ell_2$ y $\\ell_\\infty$. Notar que\n",
    "\n",
    "$$\n",
    "\\Vert x \\Vert_1 := \\sum_{i=1}^n \\vert x_i \\vert,\n",
    "$$\n",
    "\n",
    "$$\n",
    "\\Vert x \\Vert_2 := \\left( \\sum_{i=1}^n \\vert x_i \\vert^2 \\right)^{1/2}\n",
    "$$\n"
   ]
  },
  {
   "cell_type": "code",
   "execution_count": 1,
   "metadata": {},
   "outputs": [],
   "source": [
    "using LazySets, Plots"
   ]
  },
  {
   "cell_type": "code",
   "execution_count": 6,
   "metadata": {},
   "outputs": [
    {
     "data": {
      "text/plain": [
       "Ballp{Float64}(1.5, [0.0, 0.0], 1.0)"
      ]
     },
     "execution_count": 6,
     "metadata": {},
     "output_type": "execute_result"
    }
   ],
   "source": [
    "B32 = Ballp(1.5, [0.0, 0.0], 1.0)"
   ]
  },
  {
   "cell_type": "code",
   "execution_count": 14,
   "metadata": {},
   "outputs": [
    {
     "data": {
      "text/plain": [
       "Ballp{Float64}(6.0, [0.0, 0.0], 1.0)"
      ]
     },
     "execution_count": 14,
     "metadata": {},
     "output_type": "execute_result"
    }
   ],
   "source": [
    "B6 = Ballp(6.0, [0.0, 0.0], 1.0)"
   ]
  },
  {
   "cell_type": "code",
   "execution_count": 15,
   "metadata": {},
   "outputs": [
    {
     "data": {
      "image/svg+xml": [
       "<?xml version=\"1.0\" encoding=\"utf-8\"?>\n",
       "<svg xmlns=\"http://www.w3.org/2000/svg\" xmlns:xlink=\"http://www.w3.org/1999/xlink\" width=\"600\" height=\"400\" viewBox=\"0 0 2400 1600\">\n",
       "<defs>\n",
       "  <clipPath id=\"clip1600\">\n",
       "    <rect x=\"0\" y=\"0\" width=\"2400\" height=\"1600\"/>\n",
       "  </clipPath>\n",
       "</defs>\n",
       "<path clip-path=\"url(#clip1600)\" d=\"\n",
       "M0 1600 L2400 1600 L2400 0 L0 0  Z\n",
       "  \" fill=\"#ffffff\" fill-rule=\"evenodd\" fill-opacity=\"1\"/>\n",
       "<defs>\n",
       "  <clipPath id=\"clip1601\">\n",
       "    <rect x=\"480\" y=\"0\" width=\"1681\" height=\"1600\"/>\n",
       "  </clipPath>\n",
       "</defs>\n",
       "<path clip-path=\"url(#clip1600)\" d=\"\n",
       "M182.008 1487.47 L2352.76 1487.47 L2352.76 47.2441 L182.008 47.2441  Z\n",
       "  \" fill=\"#ffffff\" fill-rule=\"evenodd\" fill-opacity=\"1\"/>\n",
       "<defs>\n",
       "  <clipPath id=\"clip1602\">\n",
       "    <rect x=\"182\" y=\"47\" width=\"2172\" height=\"1441\"/>\n",
       "  </clipPath>\n",
       "</defs>\n",
       "<polyline clip-path=\"url(#clip1602)\" style=\"stroke:#000000; stroke-width:2; stroke-opacity:0.1; fill:none\" points=\"\n",
       "  248.351,1487.47 248.351,47.2441 \n",
       "  \"/>\n",
       "<polyline clip-path=\"url(#clip1602)\" style=\"stroke:#000000; stroke-width:2; stroke-opacity:0.1; fill:none\" points=\"\n",
       "  588.028,1487.47 588.028,47.2441 \n",
       "  \"/>\n",
       "<polyline clip-path=\"url(#clip1602)\" style=\"stroke:#000000; stroke-width:2; stroke-opacity:0.1; fill:none\" points=\"\n",
       "  927.705,1487.47 927.705,47.2441 \n",
       "  \"/>\n",
       "<polyline clip-path=\"url(#clip1602)\" style=\"stroke:#000000; stroke-width:2; stroke-opacity:0.1; fill:none\" points=\"\n",
       "  1267.38,1487.47 1267.38,47.2441 \n",
       "  \"/>\n",
       "<polyline clip-path=\"url(#clip1602)\" style=\"stroke:#000000; stroke-width:2; stroke-opacity:0.1; fill:none\" points=\"\n",
       "  1607.06,1487.47 1607.06,47.2441 \n",
       "  \"/>\n",
       "<polyline clip-path=\"url(#clip1602)\" style=\"stroke:#000000; stroke-width:2; stroke-opacity:0.1; fill:none\" points=\"\n",
       "  1946.74,1487.47 1946.74,47.2441 \n",
       "  \"/>\n",
       "<polyline clip-path=\"url(#clip1602)\" style=\"stroke:#000000; stroke-width:2; stroke-opacity:0.1; fill:none\" points=\"\n",
       "  2286.41,1487.47 2286.41,47.2441 \n",
       "  \"/>\n",
       "<polyline clip-path=\"url(#clip1602)\" style=\"stroke:#000000; stroke-width:2; stroke-opacity:0.1; fill:none\" points=\"\n",
       "  182.008,1446.71 2352.76,1446.71 \n",
       "  \"/>\n",
       "<polyline clip-path=\"url(#clip1602)\" style=\"stroke:#000000; stroke-width:2; stroke-opacity:0.1; fill:none\" points=\"\n",
       "  182.008,1107.04 2352.76,1107.04 \n",
       "  \"/>\n",
       "<polyline clip-path=\"url(#clip1602)\" style=\"stroke:#000000; stroke-width:2; stroke-opacity:0.1; fill:none\" points=\"\n",
       "  182.008,767.359 2352.76,767.359 \n",
       "  \"/>\n",
       "<polyline clip-path=\"url(#clip1602)\" style=\"stroke:#000000; stroke-width:2; stroke-opacity:0.1; fill:none\" points=\"\n",
       "  182.008,427.682 2352.76,427.682 \n",
       "  \"/>\n",
       "<polyline clip-path=\"url(#clip1602)\" style=\"stroke:#000000; stroke-width:2; stroke-opacity:0.1; fill:none\" points=\"\n",
       "  182.008,88.0053 2352.76,88.0053 \n",
       "  \"/>\n",
       "<polyline clip-path=\"url(#clip1600)\" style=\"stroke:#000000; stroke-width:4; stroke-opacity:1; fill:none\" points=\"\n",
       "  182.008,1487.47 2352.76,1487.47 \n",
       "  \"/>\n",
       "<polyline clip-path=\"url(#clip1600)\" style=\"stroke:#000000; stroke-width:4; stroke-opacity:1; fill:none\" points=\"\n",
       "  182.008,1487.47 182.008,47.2441 \n",
       "  \"/>\n",
       "<polyline clip-path=\"url(#clip1600)\" style=\"stroke:#000000; stroke-width:4; stroke-opacity:1; fill:none\" points=\"\n",
       "  248.351,1487.47 248.351,1470.19 \n",
       "  \"/>\n",
       "<polyline clip-path=\"url(#clip1600)\" style=\"stroke:#000000; stroke-width:4; stroke-opacity:1; fill:none\" points=\"\n",
       "  588.028,1487.47 588.028,1470.19 \n",
       "  \"/>\n",
       "<polyline clip-path=\"url(#clip1600)\" style=\"stroke:#000000; stroke-width:4; stroke-opacity:1; fill:none\" points=\"\n",
       "  927.705,1487.47 927.705,1470.19 \n",
       "  \"/>\n",
       "<polyline clip-path=\"url(#clip1600)\" style=\"stroke:#000000; stroke-width:4; stroke-opacity:1; fill:none\" points=\"\n",
       "  1267.38,1487.47 1267.38,1470.19 \n",
       "  \"/>\n",
       "<polyline clip-path=\"url(#clip1600)\" style=\"stroke:#000000; stroke-width:4; stroke-opacity:1; fill:none\" points=\"\n",
       "  1607.06,1487.47 1607.06,1470.19 \n",
       "  \"/>\n",
       "<polyline clip-path=\"url(#clip1600)\" style=\"stroke:#000000; stroke-width:4; stroke-opacity:1; fill:none\" points=\"\n",
       "  1946.74,1487.47 1946.74,1470.19 \n",
       "  \"/>\n",
       "<polyline clip-path=\"url(#clip1600)\" style=\"stroke:#000000; stroke-width:4; stroke-opacity:1; fill:none\" points=\"\n",
       "  2286.41,1487.47 2286.41,1470.19 \n",
       "  \"/>\n",
       "<polyline clip-path=\"url(#clip1600)\" style=\"stroke:#000000; stroke-width:4; stroke-opacity:1; fill:none\" points=\"\n",
       "  182.008,1446.71 208.057,1446.71 \n",
       "  \"/>\n",
       "<polyline clip-path=\"url(#clip1600)\" style=\"stroke:#000000; stroke-width:4; stroke-opacity:1; fill:none\" points=\"\n",
       "  182.008,1107.04 208.057,1107.04 \n",
       "  \"/>\n",
       "<polyline clip-path=\"url(#clip1600)\" style=\"stroke:#000000; stroke-width:4; stroke-opacity:1; fill:none\" points=\"\n",
       "  182.008,767.359 208.057,767.359 \n",
       "  \"/>\n",
       "<polyline clip-path=\"url(#clip1600)\" style=\"stroke:#000000; stroke-width:4; stroke-opacity:1; fill:none\" points=\"\n",
       "  182.008,427.682 208.057,427.682 \n",
       "  \"/>\n",
       "<polyline clip-path=\"url(#clip1600)\" style=\"stroke:#000000; stroke-width:4; stroke-opacity:1; fill:none\" points=\"\n",
       "  182.008,88.0053 208.057,88.0053 \n",
       "  \"/>\n",
       "<g clip-path=\"url(#clip1600)\">\n",
       "<text style=\"fill:#000000; fill-opacity:1; font-family:Arial,Helvetica Neue,Helvetica,sans-serif; font-size:48px; text-anchor:middle;\" transform=\"rotate(0, 248.351, 1541.47)\" x=\"248.351\" y=\"1541.47\">-1.5</text>\n",
       "</g>\n",
       "<g clip-path=\"url(#clip1600)\">\n",
       "<text style=\"fill:#000000; fill-opacity:1; font-family:Arial,Helvetica Neue,Helvetica,sans-serif; font-size:48px; text-anchor:middle;\" transform=\"rotate(0, 588.028, 1541.47)\" x=\"588.028\" y=\"1541.47\">-1.0</text>\n",
       "</g>\n",
       "<g clip-path=\"url(#clip1600)\">\n",
       "<text style=\"fill:#000000; fill-opacity:1; font-family:Arial,Helvetica Neue,Helvetica,sans-serif; font-size:48px; text-anchor:middle;\" transform=\"rotate(0, 927.705, 1541.47)\" x=\"927.705\" y=\"1541.47\">-0.5</text>\n",
       "</g>\n",
       "<g clip-path=\"url(#clip1600)\">\n",
       "<text style=\"fill:#000000; fill-opacity:1; font-family:Arial,Helvetica Neue,Helvetica,sans-serif; font-size:48px; text-anchor:middle;\" transform=\"rotate(0, 1267.38, 1541.47)\" x=\"1267.38\" y=\"1541.47\">0.0</text>\n",
       "</g>\n",
       "<g clip-path=\"url(#clip1600)\">\n",
       "<text style=\"fill:#000000; fill-opacity:1; font-family:Arial,Helvetica Neue,Helvetica,sans-serif; font-size:48px; text-anchor:middle;\" transform=\"rotate(0, 1607.06, 1541.47)\" x=\"1607.06\" y=\"1541.47\">0.5</text>\n",
       "</g>\n",
       "<g clip-path=\"url(#clip1600)\">\n",
       "<text style=\"fill:#000000; fill-opacity:1; font-family:Arial,Helvetica Neue,Helvetica,sans-serif; font-size:48px; text-anchor:middle;\" transform=\"rotate(0, 1946.74, 1541.47)\" x=\"1946.74\" y=\"1541.47\">1.0</text>\n",
       "</g>\n",
       "<g clip-path=\"url(#clip1600)\">\n",
       "<text style=\"fill:#000000; fill-opacity:1; font-family:Arial,Helvetica Neue,Helvetica,sans-serif; font-size:48px; text-anchor:middle;\" transform=\"rotate(0, 2286.41, 1541.47)\" x=\"2286.41\" y=\"1541.47\">1.5</text>\n",
       "</g>\n",
       "<g clip-path=\"url(#clip1600)\">\n",
       "<text style=\"fill:#000000; fill-opacity:1; font-family:Arial,Helvetica Neue,Helvetica,sans-serif; font-size:48px; text-anchor:end;\" transform=\"rotate(0, 158.008, 1464.21)\" x=\"158.008\" y=\"1464.21\">-1.0</text>\n",
       "</g>\n",
       "<g clip-path=\"url(#clip1600)\">\n",
       "<text style=\"fill:#000000; fill-opacity:1; font-family:Arial,Helvetica Neue,Helvetica,sans-serif; font-size:48px; text-anchor:end;\" transform=\"rotate(0, 158.008, 1124.54)\" x=\"158.008\" y=\"1124.54\">-0.5</text>\n",
       "</g>\n",
       "<g clip-path=\"url(#clip1600)\">\n",
       "<text style=\"fill:#000000; fill-opacity:1; font-family:Arial,Helvetica Neue,Helvetica,sans-serif; font-size:48px; text-anchor:end;\" transform=\"rotate(0, 158.008, 784.859)\" x=\"158.008\" y=\"784.859\">0.0</text>\n",
       "</g>\n",
       "<g clip-path=\"url(#clip1600)\">\n",
       "<text style=\"fill:#000000; fill-opacity:1; font-family:Arial,Helvetica Neue,Helvetica,sans-serif; font-size:48px; text-anchor:end;\" transform=\"rotate(0, 158.008, 445.182)\" x=\"158.008\" y=\"445.182\">0.5</text>\n",
       "</g>\n",
       "<g clip-path=\"url(#clip1600)\">\n",
       "<text style=\"fill:#000000; fill-opacity:1; font-family:Arial,Helvetica Neue,Helvetica,sans-serif; font-size:48px; text-anchor:end;\" transform=\"rotate(0, 158.008, 105.505)\" x=\"158.008\" y=\"105.505\">1.0</text>\n",
       "</g>\n",
       "<path clip-path=\"url(#clip1602)\" d=\"\n",
       "M588.028 947.69 L588.334 1040.91 L589.466 1098.22 L590.786 1134.55 L592.658 1166.49 L595.15 1195.08 L598.554 1222.87 L603.165 1249.63 L608.826 1273.89 L615.612 1295.95 \n",
       "  L623.6 1316.04 L632.861 1334.33 L643.449 1350.91 L655.428 1365.88 L668.864 1379.31 L683.83 1391.29 L700.408 1401.88 L718.697 1411.14 L738.795 1419.13 L760.852 1425.92 \n",
       "  L785.11 1431.58 L811.869 1436.19 L839.666 1439.59 L868.255 1442.08 L900.187 1443.95 L936.521 1445.28 L993.834 1446.41 L1087.05 1446.71 L1447.71 1446.71 L1540.93 1446.41 \n",
       "  L1598.24 1445.28 L1634.58 1443.95 L1666.51 1442.08 L1695.1 1439.59 L1722.9 1436.19 L1749.65 1431.58 L1773.91 1425.92 L1795.97 1419.13 L1816.07 1411.14 L1834.36 1401.88 \n",
       "  L1850.93 1391.29 L1865.9 1379.31 L1879.34 1365.88 L1891.31 1350.91 L1901.9 1334.33 L1911.16 1316.04 L1919.15 1295.95 L1925.94 1273.89 L1931.6 1249.63 L1936.21 1222.87 \n",
       "  L1939.61 1195.08 L1942.11 1166.49 L1943.98 1134.55 L1945.3 1098.22 L1946.43 1040.91 L1946.74 947.69 L1946.74 587.029 L1946.43 493.811 L1945.3 436.498 L1943.98 400.164 \n",
       "  L1942.11 368.233 L1939.61 339.643 L1936.21 311.846 L1931.6 285.087 L1925.94 260.83 L1919.15 238.772 L1911.16 218.675 L1901.9 200.385 L1891.31 183.808 L1879.34 168.842 \n",
       "  L1865.9 155.406 L1850.93 143.427 L1834.36 132.839 L1816.07 123.577 L1795.97 115.589 L1773.91 108.804 L1749.65 103.142 L1722.9 98.5317 L1695.1 95.1277 L1666.51 92.6358 \n",
       "  L1634.58 90.7639 L1598.24 89.4435 L1540.93 88.3112 L1447.71 88.0053 L1087.05 88.0053 L993.834 88.3112 L936.521 89.4435 L900.187 90.7639 L868.255 92.6358 L839.666 95.1277 \n",
       "  L811.869 98.5317 L785.11 103.142 L760.852 108.804 L738.795 115.589 L718.697 123.577 L700.408 132.839 L683.83 143.427 L668.864 155.406 L655.428 168.842 L643.449 183.808 \n",
       "  L632.861 200.385 L623.6 218.675 L615.612 238.772 L608.826 260.83 L603.165 285.087 L598.554 311.846 L595.15 339.643 L592.658 368.233 L590.786 400.164 L589.466 436.498 \n",
       "  L588.334 493.811 L588.028 587.029 L588.028 947.69 L588.028 947.69  Z\n",
       "  \" fill=\"#009af9\" fill-rule=\"evenodd\" fill-opacity=\"0.5\"/>\n",
       "<polyline clip-path=\"url(#clip1602)\" style=\"stroke:#000000; stroke-width:4; stroke-opacity:0.5; fill:none\" points=\"\n",
       "  588.028,947.69 588.334,1040.91 589.466,1098.22 590.786,1134.55 592.658,1166.49 595.15,1195.08 598.554,1222.87 603.165,1249.63 608.826,1273.89 615.612,1295.95 \n",
       "  623.6,1316.04 632.861,1334.33 643.449,1350.91 655.428,1365.88 668.864,1379.31 683.83,1391.29 700.408,1401.88 718.697,1411.14 738.795,1419.13 760.852,1425.92 \n",
       "  785.11,1431.58 811.869,1436.19 839.666,1439.59 868.255,1442.08 900.187,1443.95 936.521,1445.28 993.834,1446.41 1087.05,1446.71 1447.71,1446.71 1540.93,1446.41 \n",
       "  1598.24,1445.28 1634.58,1443.95 1666.51,1442.08 1695.1,1439.59 1722.9,1436.19 1749.65,1431.58 1773.91,1425.92 1795.97,1419.13 1816.07,1411.14 1834.36,1401.88 \n",
       "  1850.93,1391.29 1865.9,1379.31 1879.34,1365.88 1891.31,1350.91 1901.9,1334.33 1911.16,1316.04 1919.15,1295.95 1925.94,1273.89 1931.6,1249.63 1936.21,1222.87 \n",
       "  1939.61,1195.08 1942.11,1166.49 1943.98,1134.55 1945.3,1098.22 1946.43,1040.91 1946.74,947.69 1946.74,587.029 1946.43,493.811 1945.3,436.498 1943.98,400.164 \n",
       "  1942.11,368.233 1939.61,339.643 1936.21,311.846 1931.6,285.087 1925.94,260.83 1919.15,238.772 1911.16,218.675 1901.9,200.385 1891.31,183.808 1879.34,168.842 \n",
       "  1865.9,155.406 1850.93,143.427 1834.36,132.839 1816.07,123.577 1795.97,115.589 1773.91,108.804 1749.65,103.142 1722.9,98.5317 1695.1,95.1277 1666.51,92.6358 \n",
       "  1634.58,90.7639 1598.24,89.4435 1540.93,88.3112 1447.71,88.0053 1087.05,88.0053 993.834,88.3112 936.521,89.4435 900.187,90.7639 868.255,92.6358 839.666,95.1277 \n",
       "  811.869,98.5317 785.11,103.142 760.852,108.804 738.795,115.589 718.697,123.577 700.408,132.839 683.83,143.427 668.864,155.406 655.428,168.842 643.449,183.808 \n",
       "  632.861,200.385 623.6,218.675 615.612,238.772 608.826,260.83 603.165,285.087 598.554,311.846 595.15,339.643 592.658,368.233 590.786,400.164 589.466,436.498 \n",
       "  588.334,493.811 588.028,587.029 588.028,947.69 \n",
       "  \"/>\n",
       "<path clip-path=\"url(#clip1600)\" d=\"\n",
       "M1981.89 251.724 L2280.76 251.724 L2280.76 130.764 L1981.89 130.764  Z\n",
       "  \" fill=\"#ffffff\" fill-rule=\"evenodd\" fill-opacity=\"1\"/>\n",
       "<polyline clip-path=\"url(#clip1600)\" style=\"stroke:#000000; stroke-width:4; stroke-opacity:1; fill:none\" points=\"\n",
       "  1981.89,251.724 2280.76,251.724 2280.76,130.764 1981.89,130.764 1981.89,251.724 \n",
       "  \"/>\n",
       "<path clip-path=\"url(#clip1600)\" d=\"\n",
       "M2005.89 215.436 L2149.89 215.436 L2149.89 167.052 L2005.89 167.052 L2005.89 215.436  Z\n",
       "  \" fill=\"#009af9\" fill-rule=\"evenodd\" fill-opacity=\"0.5\"/>\n",
       "<polyline clip-path=\"url(#clip1600)\" style=\"stroke:#000000; stroke-width:4; stroke-opacity:1; fill:none\" points=\"\n",
       "  2005.89,215.436 2149.89,215.436 2149.89,167.052 2005.89,167.052 2005.89,215.436 \n",
       "  \"/>\n",
       "<g clip-path=\"url(#clip1600)\">\n",
       "<text style=\"fill:#000000; fill-opacity:1; font-family:Arial,Helvetica Neue,Helvetica,sans-serif; font-size:48px; text-anchor:start;\" transform=\"rotate(0, 2173.89, 208.744)\" x=\"2173.89\" y=\"208.744\">B6</text>\n",
       "</g>\n",
       "</svg>\n"
      ]
     },
     "execution_count": 15,
     "metadata": {},
     "output_type": "execute_result"
    }
   ],
   "source": [
    "plot(B6, lab=\"B6\", ratio=1.0)"
   ]
  },
  {
   "cell_type": "code",
   "execution_count": 7,
   "metadata": {},
   "outputs": [
    {
     "data": {
      "image/svg+xml": [
       "<?xml version=\"1.0\" encoding=\"utf-8\"?>\n",
       "<svg xmlns=\"http://www.w3.org/2000/svg\" xmlns:xlink=\"http://www.w3.org/1999/xlink\" width=\"600\" height=\"400\" viewBox=\"0 0 2400 1600\">\n",
       "<defs>\n",
       "  <clipPath id=\"clip0400\">\n",
       "    <rect x=\"0\" y=\"0\" width=\"2400\" height=\"1600\"/>\n",
       "  </clipPath>\n",
       "</defs>\n",
       "<path clip-path=\"url(#clip0400)\" d=\"\n",
       "M0 1600 L2400 1600 L2400 0 L0 0  Z\n",
       "  \" fill=\"#ffffff\" fill-rule=\"evenodd\" fill-opacity=\"1\"/>\n",
       "<defs>\n",
       "  <clipPath id=\"clip0401\">\n",
       "    <rect x=\"480\" y=\"0\" width=\"1681\" height=\"1600\"/>\n",
       "  </clipPath>\n",
       "</defs>\n",
       "<path clip-path=\"url(#clip0400)\" d=\"\n",
       "M182.008 1487.47 L2352.76 1487.47 L2352.76 47.2441 L182.008 47.2441  Z\n",
       "  \" fill=\"#ffffff\" fill-rule=\"evenodd\" fill-opacity=\"1\"/>\n",
       "<defs>\n",
       "  <clipPath id=\"clip0402\">\n",
       "    <rect x=\"182\" y=\"47\" width=\"2172\" height=\"1441\"/>\n",
       "  </clipPath>\n",
       "</defs>\n",
       "<polyline clip-path=\"url(#clip0402)\" style=\"stroke:#000000; stroke-width:2; stroke-opacity:0.1; fill:none\" points=\"\n",
       "  248.351,1487.47 248.351,47.2441 \n",
       "  \"/>\n",
       "<polyline clip-path=\"url(#clip0402)\" style=\"stroke:#000000; stroke-width:2; stroke-opacity:0.1; fill:none\" points=\"\n",
       "  588.028,1487.47 588.028,47.2441 \n",
       "  \"/>\n",
       "<polyline clip-path=\"url(#clip0402)\" style=\"stroke:#000000; stroke-width:2; stroke-opacity:0.1; fill:none\" points=\"\n",
       "  927.705,1487.47 927.705,47.2441 \n",
       "  \"/>\n",
       "<polyline clip-path=\"url(#clip0402)\" style=\"stroke:#000000; stroke-width:2; stroke-opacity:0.1; fill:none\" points=\"\n",
       "  1267.38,1487.47 1267.38,47.2441 \n",
       "  \"/>\n",
       "<polyline clip-path=\"url(#clip0402)\" style=\"stroke:#000000; stroke-width:2; stroke-opacity:0.1; fill:none\" points=\"\n",
       "  1607.06,1487.47 1607.06,47.2441 \n",
       "  \"/>\n",
       "<polyline clip-path=\"url(#clip0402)\" style=\"stroke:#000000; stroke-width:2; stroke-opacity:0.1; fill:none\" points=\"\n",
       "  1946.74,1487.47 1946.74,47.2441 \n",
       "  \"/>\n",
       "<polyline clip-path=\"url(#clip0402)\" style=\"stroke:#000000; stroke-width:2; stroke-opacity:0.1; fill:none\" points=\"\n",
       "  2286.41,1487.47 2286.41,47.2441 \n",
       "  \"/>\n",
       "<polyline clip-path=\"url(#clip0402)\" style=\"stroke:#000000; stroke-width:2; stroke-opacity:0.1; fill:none\" points=\"\n",
       "  182.008,1446.71 2352.76,1446.71 \n",
       "  \"/>\n",
       "<polyline clip-path=\"url(#clip0402)\" style=\"stroke:#000000; stroke-width:2; stroke-opacity:0.1; fill:none\" points=\"\n",
       "  182.008,1107.04 2352.76,1107.04 \n",
       "  \"/>\n",
       "<polyline clip-path=\"url(#clip0402)\" style=\"stroke:#000000; stroke-width:2; stroke-opacity:0.1; fill:none\" points=\"\n",
       "  182.008,767.359 2352.76,767.359 \n",
       "  \"/>\n",
       "<polyline clip-path=\"url(#clip0402)\" style=\"stroke:#000000; stroke-width:2; stroke-opacity:0.1; fill:none\" points=\"\n",
       "  182.008,427.682 2352.76,427.682 \n",
       "  \"/>\n",
       "<polyline clip-path=\"url(#clip0402)\" style=\"stroke:#000000; stroke-width:2; stroke-opacity:0.1; fill:none\" points=\"\n",
       "  182.008,88.0053 2352.76,88.0053 \n",
       "  \"/>\n",
       "<polyline clip-path=\"url(#clip0400)\" style=\"stroke:#000000; stroke-width:4; stroke-opacity:1; fill:none\" points=\"\n",
       "  182.008,1487.47 2352.76,1487.47 \n",
       "  \"/>\n",
       "<polyline clip-path=\"url(#clip0400)\" style=\"stroke:#000000; stroke-width:4; stroke-opacity:1; fill:none\" points=\"\n",
       "  182.008,1487.47 182.008,47.2441 \n",
       "  \"/>\n",
       "<polyline clip-path=\"url(#clip0400)\" style=\"stroke:#000000; stroke-width:4; stroke-opacity:1; fill:none\" points=\"\n",
       "  248.351,1487.47 248.351,1470.19 \n",
       "  \"/>\n",
       "<polyline clip-path=\"url(#clip0400)\" style=\"stroke:#000000; stroke-width:4; stroke-opacity:1; fill:none\" points=\"\n",
       "  588.028,1487.47 588.028,1470.19 \n",
       "  \"/>\n",
       "<polyline clip-path=\"url(#clip0400)\" style=\"stroke:#000000; stroke-width:4; stroke-opacity:1; fill:none\" points=\"\n",
       "  927.705,1487.47 927.705,1470.19 \n",
       "  \"/>\n",
       "<polyline clip-path=\"url(#clip0400)\" style=\"stroke:#000000; stroke-width:4; stroke-opacity:1; fill:none\" points=\"\n",
       "  1267.38,1487.47 1267.38,1470.19 \n",
       "  \"/>\n",
       "<polyline clip-path=\"url(#clip0400)\" style=\"stroke:#000000; stroke-width:4; stroke-opacity:1; fill:none\" points=\"\n",
       "  1607.06,1487.47 1607.06,1470.19 \n",
       "  \"/>\n",
       "<polyline clip-path=\"url(#clip0400)\" style=\"stroke:#000000; stroke-width:4; stroke-opacity:1; fill:none\" points=\"\n",
       "  1946.74,1487.47 1946.74,1470.19 \n",
       "  \"/>\n",
       "<polyline clip-path=\"url(#clip0400)\" style=\"stroke:#000000; stroke-width:4; stroke-opacity:1; fill:none\" points=\"\n",
       "  2286.41,1487.47 2286.41,1470.19 \n",
       "  \"/>\n",
       "<polyline clip-path=\"url(#clip0400)\" style=\"stroke:#000000; stroke-width:4; stroke-opacity:1; fill:none\" points=\"\n",
       "  182.008,1446.71 208.057,1446.71 \n",
       "  \"/>\n",
       "<polyline clip-path=\"url(#clip0400)\" style=\"stroke:#000000; stroke-width:4; stroke-opacity:1; fill:none\" points=\"\n",
       "  182.008,1107.04 208.057,1107.04 \n",
       "  \"/>\n",
       "<polyline clip-path=\"url(#clip0400)\" style=\"stroke:#000000; stroke-width:4; stroke-opacity:1; fill:none\" points=\"\n",
       "  182.008,767.359 208.057,767.359 \n",
       "  \"/>\n",
       "<polyline clip-path=\"url(#clip0400)\" style=\"stroke:#000000; stroke-width:4; stroke-opacity:1; fill:none\" points=\"\n",
       "  182.008,427.682 208.057,427.682 \n",
       "  \"/>\n",
       "<polyline clip-path=\"url(#clip0400)\" style=\"stroke:#000000; stroke-width:4; stroke-opacity:1; fill:none\" points=\"\n",
       "  182.008,88.0053 208.057,88.0053 \n",
       "  \"/>\n",
       "<g clip-path=\"url(#clip0400)\">\n",
       "<text style=\"fill:#000000; fill-opacity:1; font-family:Arial,Helvetica Neue,Helvetica,sans-serif; font-size:48px; text-anchor:middle;\" transform=\"rotate(0, 248.351, 1541.47)\" x=\"248.351\" y=\"1541.47\">-1.5</text>\n",
       "</g>\n",
       "<g clip-path=\"url(#clip0400)\">\n",
       "<text style=\"fill:#000000; fill-opacity:1; font-family:Arial,Helvetica Neue,Helvetica,sans-serif; font-size:48px; text-anchor:middle;\" transform=\"rotate(0, 588.028, 1541.47)\" x=\"588.028\" y=\"1541.47\">-1.0</text>\n",
       "</g>\n",
       "<g clip-path=\"url(#clip0400)\">\n",
       "<text style=\"fill:#000000; fill-opacity:1; font-family:Arial,Helvetica Neue,Helvetica,sans-serif; font-size:48px; text-anchor:middle;\" transform=\"rotate(0, 927.705, 1541.47)\" x=\"927.705\" y=\"1541.47\">-0.5</text>\n",
       "</g>\n",
       "<g clip-path=\"url(#clip0400)\">\n",
       "<text style=\"fill:#000000; fill-opacity:1; font-family:Arial,Helvetica Neue,Helvetica,sans-serif; font-size:48px; text-anchor:middle;\" transform=\"rotate(0, 1267.38, 1541.47)\" x=\"1267.38\" y=\"1541.47\">0.0</text>\n",
       "</g>\n",
       "<g clip-path=\"url(#clip0400)\">\n",
       "<text style=\"fill:#000000; fill-opacity:1; font-family:Arial,Helvetica Neue,Helvetica,sans-serif; font-size:48px; text-anchor:middle;\" transform=\"rotate(0, 1607.06, 1541.47)\" x=\"1607.06\" y=\"1541.47\">0.5</text>\n",
       "</g>\n",
       "<g clip-path=\"url(#clip0400)\">\n",
       "<text style=\"fill:#000000; fill-opacity:1; font-family:Arial,Helvetica Neue,Helvetica,sans-serif; font-size:48px; text-anchor:middle;\" transform=\"rotate(0, 1946.74, 1541.47)\" x=\"1946.74\" y=\"1541.47\">1.0</text>\n",
       "</g>\n",
       "<g clip-path=\"url(#clip0400)\">\n",
       "<text style=\"fill:#000000; fill-opacity:1; font-family:Arial,Helvetica Neue,Helvetica,sans-serif; font-size:48px; text-anchor:middle;\" transform=\"rotate(0, 2286.41, 1541.47)\" x=\"2286.41\" y=\"1541.47\">1.5</text>\n",
       "</g>\n",
       "<g clip-path=\"url(#clip0400)\">\n",
       "<text style=\"fill:#000000; fill-opacity:1; font-family:Arial,Helvetica Neue,Helvetica,sans-serif; font-size:48px; text-anchor:end;\" transform=\"rotate(0, 158.008, 1464.21)\" x=\"158.008\" y=\"1464.21\">-1.0</text>\n",
       "</g>\n",
       "<g clip-path=\"url(#clip0400)\">\n",
       "<text style=\"fill:#000000; fill-opacity:1; font-family:Arial,Helvetica Neue,Helvetica,sans-serif; font-size:48px; text-anchor:end;\" transform=\"rotate(0, 158.008, 1124.54)\" x=\"158.008\" y=\"1124.54\">-0.5</text>\n",
       "</g>\n",
       "<g clip-path=\"url(#clip0400)\">\n",
       "<text style=\"fill:#000000; fill-opacity:1; font-family:Arial,Helvetica Neue,Helvetica,sans-serif; font-size:48px; text-anchor:end;\" transform=\"rotate(0, 158.008, 784.859)\" x=\"158.008\" y=\"784.859\">0.0</text>\n",
       "</g>\n",
       "<g clip-path=\"url(#clip0400)\">\n",
       "<text style=\"fill:#000000; fill-opacity:1; font-family:Arial,Helvetica Neue,Helvetica,sans-serif; font-size:48px; text-anchor:end;\" transform=\"rotate(0, 158.008, 445.182)\" x=\"158.008\" y=\"445.182\">0.5</text>\n",
       "</g>\n",
       "<g clip-path=\"url(#clip0400)\">\n",
       "<text style=\"fill:#000000; fill-opacity:1; font-family:Arial,Helvetica Neue,Helvetica,sans-serif; font-size:48px; text-anchor:end;\" transform=\"rotate(0, 158.008, 105.505)\" x=\"158.008\" y=\"105.505\">1.0</text>\n",
       "</g>\n",
       "<path clip-path=\"url(#clip0402)\" d=\"\n",
       "M588.028 784.037 L589.665 817.351 L592.934 850.545 L597.828 883.538 L604.335 916.252 L612.44 948.606 L622.122 980.525 L633.359 1011.93 L646.123 1042.74 L660.384 1072.9 \n",
       "  L676.107 1102.31 L693.254 1130.92 L711.785 1158.65 L731.654 1185.45 L752.814 1211.23 L775.214 1235.94 L798.799 1259.53 L823.513 1281.93 L849.296 1303.09 L876.086 1322.96 \n",
       "  L903.82 1341.49 L932.429 1358.63 L961.845 1374.36 L991.997 1388.62 L1022.81 1401.38 L1054.22 1412.62 L1086.13 1422.3 L1118.49 1430.41 L1151.2 1436.91 L1184.2 1441.81 \n",
       "  L1217.39 1445.08 L1250.7 1446.71 L1284.06 1446.71 L1317.37 1445.08 L1350.57 1441.81 L1383.56 1436.91 L1416.27 1430.41 L1448.63 1422.3 L1480.55 1412.62 L1511.95 1401.38 \n",
       "  L1542.77 1388.62 L1572.92 1374.36 L1602.34 1358.63 L1630.94 1341.49 L1658.68 1322.96 L1685.47 1303.09 L1711.25 1281.93 L1735.97 1259.53 L1759.55 1235.94 L1781.95 1211.23 \n",
       "  L1803.11 1185.45 L1822.98 1158.65 L1841.51 1130.92 L1858.66 1102.31 L1874.38 1072.9 L1888.64 1042.74 L1901.41 1011.93 L1912.64 980.525 L1922.32 948.606 L1930.43 916.252 \n",
       "  L1936.94 883.538 L1941.83 850.545 L1945.1 817.351 L1946.74 784.037 L1946.74 750.682 L1945.1 717.368 L1941.83 684.174 L1936.94 651.181 L1930.43 618.467 L1922.32 586.112 \n",
       "  L1912.64 554.194 L1901.41 522.79 L1888.64 491.974 L1874.38 461.822 L1858.66 432.406 L1841.51 403.797 L1822.98 376.064 L1803.11 349.273 L1781.95 323.49 L1759.55 298.776 \n",
       "  L1735.97 275.191 L1711.25 252.792 L1685.47 231.632 L1658.68 211.763 L1630.94 193.232 L1602.34 176.084 L1572.92 160.361 L1542.77 146.1 L1511.95 133.336 L1480.55 122.099 \n",
       "  L1448.63 112.417 L1416.27 104.312 L1383.56 97.8054 L1350.57 92.9113 L1317.37 89.642 L1284.06 88.0053 L1250.7 88.0053 L1217.39 89.642 L1184.2 92.9113 L1151.2 97.8054 \n",
       "  L1118.49 104.312 L1086.13 112.417 L1054.22 122.099 L1022.81 133.336 L991.997 146.1 L961.845 160.361 L932.429 176.084 L903.82 193.232 L876.086 211.763 L849.296 231.632 \n",
       "  L823.513 252.792 L798.799 275.191 L775.214 298.776 L752.814 323.49 L731.654 349.273 L711.785 376.064 L693.254 403.797 L676.107 432.406 L660.384 461.822 L646.123 491.974 \n",
       "  L633.359 522.79 L622.122 554.194 L612.44 586.112 L604.335 618.467 L597.828 651.181 L592.934 684.174 L589.665 717.368 L588.028 750.682 L588.028 784.037 L588.028 784.037 \n",
       "   Z\n",
       "  \" fill=\"#009af9\" fill-rule=\"evenodd\" fill-opacity=\"0.5\"/>\n",
       "<polyline clip-path=\"url(#clip0402)\" style=\"stroke:#000000; stroke-width:4; stroke-opacity:0.5; fill:none\" points=\"\n",
       "  588.028,784.037 589.665,817.351 592.934,850.545 597.828,883.538 604.335,916.252 612.44,948.606 622.122,980.525 633.359,1011.93 646.123,1042.74 660.384,1072.9 \n",
       "  676.107,1102.31 693.254,1130.92 711.785,1158.65 731.654,1185.45 752.814,1211.23 775.214,1235.94 798.799,1259.53 823.513,1281.93 849.296,1303.09 876.086,1322.96 \n",
       "  903.82,1341.49 932.429,1358.63 961.845,1374.36 991.997,1388.62 1022.81,1401.38 1054.22,1412.62 1086.13,1422.3 1118.49,1430.41 1151.2,1436.91 1184.2,1441.81 \n",
       "  1217.39,1445.08 1250.7,1446.71 1284.06,1446.71 1317.37,1445.08 1350.57,1441.81 1383.56,1436.91 1416.27,1430.41 1448.63,1422.3 1480.55,1412.62 1511.95,1401.38 \n",
       "  1542.77,1388.62 1572.92,1374.36 1602.34,1358.63 1630.94,1341.49 1658.68,1322.96 1685.47,1303.09 1711.25,1281.93 1735.97,1259.53 1759.55,1235.94 1781.95,1211.23 \n",
       "  1803.11,1185.45 1822.98,1158.65 1841.51,1130.92 1858.66,1102.31 1874.38,1072.9 1888.64,1042.74 1901.41,1011.93 1912.64,980.525 1922.32,948.606 1930.43,916.252 \n",
       "  1936.94,883.538 1941.83,850.545 1945.1,817.351 1946.74,784.037 1946.74,750.682 1945.1,717.368 1941.83,684.174 1936.94,651.181 1930.43,618.467 1922.32,586.112 \n",
       "  1912.64,554.194 1901.41,522.79 1888.64,491.974 1874.38,461.822 1858.66,432.406 1841.51,403.797 1822.98,376.064 1803.11,349.273 1781.95,323.49 1759.55,298.776 \n",
       "  1735.97,275.191 1711.25,252.792 1685.47,231.632 1658.68,211.763 1630.94,193.232 1602.34,176.084 1572.92,160.361 1542.77,146.1 1511.95,133.336 1480.55,122.099 \n",
       "  1448.63,112.417 1416.27,104.312 1383.56,97.8054 1350.57,92.9113 1317.37,89.642 1284.06,88.0053 1250.7,88.0053 1217.39,89.642 1184.2,92.9113 1151.2,97.8054 \n",
       "  1118.49,104.312 1086.13,112.417 1054.22,122.099 1022.81,133.336 991.997,146.1 961.845,160.361 932.429,176.084 903.82,193.232 876.086,211.763 849.296,231.632 \n",
       "  823.513,252.792 798.799,275.191 775.214,298.776 752.814,323.49 731.654,349.273 711.785,376.064 693.254,403.797 676.107,432.406 660.384,461.822 646.123,491.974 \n",
       "  633.359,522.79 622.122,554.194 612.44,586.112 604.335,618.467 597.828,651.181 592.934,684.174 589.665,717.368 588.028,750.682 588.028,784.037 \n",
       "  \n",
       "  \"/>\n",
       "<path clip-path=\"url(#clip0402)\" d=\"\n",
       "M1946.74 88.0053 L588.028 88.0053 L588.028 1446.71 L1946.74 1446.71 L1946.74 88.0053 L1946.74 88.0053  Z\n",
       "  \" fill=\"#e26f46\" fill-rule=\"evenodd\" fill-opacity=\"0.5\"/>\n",
       "<polyline clip-path=\"url(#clip0402)\" style=\"stroke:#000000; stroke-width:4; stroke-opacity:0.5; fill:none\" points=\"\n",
       "  1946.74,88.0053 588.028,88.0053 588.028,1446.71 1946.74,1446.71 1946.74,88.0053 \n",
       "  \"/>\n",
       "<path clip-path=\"url(#clip0402)\" d=\"\n",
       "M1267.38 1446.71 L1946.74 767.359 L1267.38 88.0053 L588.028 767.359 L1267.38 1446.71 L1267.38 1446.71  Z\n",
       "  \" fill=\"#3da44d\" fill-rule=\"evenodd\" fill-opacity=\"0.5\"/>\n",
       "<polyline clip-path=\"url(#clip0402)\" style=\"stroke:#000000; stroke-width:4; stroke-opacity:0.5; fill:none\" points=\"\n",
       "  1267.38,1446.71 1946.74,767.359 1267.38,88.0053 588.028,767.359 1267.38,1446.71 \n",
       "  \"/>\n",
       "<path clip-path=\"url(#clip0402)\" d=\"\n",
       "M588.028 770.151 L589.19 780.611 L591.946 797.149 L598.136 821.836 L606.491 848.046 L616.808 875.236 L628.889 903.029 L642.71 931.402 L658.17 960.15 L675.027 988.848 \n",
       "  L693.14 1017.34 L722.311 1059.98 L766.005 1115.81 L813.806 1169.72 L865.026 1220.94 L918.935 1268.74 L974.758 1312.43 L1017.4 1341.6 L1045.89 1359.71 L1074.59 1376.57 \n",
       "  L1103.34 1392.03 L1131.71 1405.85 L1159.51 1417.93 L1186.69 1428.25 L1212.91 1436.61 L1237.59 1442.79 L1254.13 1445.55 L1264.59 1446.71 L1270.17 1446.71 L1280.63 1445.55 \n",
       "  L1297.17 1442.79 L1321.86 1436.61 L1348.07 1428.25 L1375.26 1417.93 L1403.05 1405.85 L1431.42 1392.03 L1460.17 1376.57 L1488.87 1359.71 L1517.36 1341.6 L1560.01 1312.43 \n",
       "  L1615.83 1268.74 L1669.74 1220.94 L1720.96 1169.72 L1768.76 1115.81 L1812.45 1059.98 L1841.62 1017.34 L1859.74 988.848 L1876.59 960.15 L1892.05 931.402 L1905.88 903.029 \n",
       "  L1917.96 875.236 L1928.27 848.046 L1936.63 821.836 L1942.82 797.149 L1945.57 780.611 L1946.74 770.151 L1946.74 764.568 L1945.57 754.108 L1942.82 737.57 L1936.63 712.883 \n",
       "  L1928.27 686.672 L1917.96 659.483 L1905.88 631.69 L1892.05 603.317 L1876.59 574.568 L1859.74 545.871 L1841.62 517.379 L1812.45 474.736 L1768.76 418.912 L1720.96 365.003 \n",
       "  L1669.74 313.783 L1615.83 265.982 L1560.01 222.289 L1517.36 193.117 L1488.87 175.004 L1460.17 158.147 L1431.42 142.687 L1403.05 128.866 L1375.26 116.786 L1348.07 106.469 \n",
       "  L1321.86 98.1132 L1297.17 91.9239 L1280.63 89.167 L1270.17 88.0053 L1264.59 88.0053 L1254.13 89.167 L1237.59 91.9239 L1212.91 98.1132 L1186.69 106.469 L1159.51 116.786 \n",
       "  L1131.71 128.866 L1103.34 142.687 L1074.59 158.147 L1045.89 175.004 L1017.4 193.117 L974.758 222.289 L918.935 265.982 L865.026 313.783 L813.806 365.003 L766.005 418.912 \n",
       "  L722.311 474.736 L693.14 517.379 L675.027 545.871 L658.17 574.568 L642.71 603.317 L628.889 631.69 L616.808 659.483 L606.491 686.672 L598.136 712.883 L591.946 737.57 \n",
       "  L589.19 754.108 L588.028 764.568 L588.028 770.151 L588.028 770.151  Z\n",
       "  \" fill=\"#c271d2\" fill-rule=\"evenodd\" fill-opacity=\"0.5\"/>\n",
       "<polyline clip-path=\"url(#clip0402)\" style=\"stroke:#000000; stroke-width:4; stroke-opacity:0.5; fill:none\" points=\"\n",
       "  588.028,770.151 589.19,780.611 591.946,797.149 598.136,821.836 606.491,848.046 616.808,875.236 628.889,903.029 642.71,931.402 658.17,960.15 675.027,988.848 \n",
       "  693.14,1017.34 722.311,1059.98 766.005,1115.81 813.806,1169.72 865.026,1220.94 918.935,1268.74 974.758,1312.43 1017.4,1341.6 1045.89,1359.71 1074.59,1376.57 \n",
       "  1103.34,1392.03 1131.71,1405.85 1159.51,1417.93 1186.69,1428.25 1212.91,1436.61 1237.59,1442.79 1254.13,1445.55 1264.59,1446.71 1270.17,1446.71 1280.63,1445.55 \n",
       "  1297.17,1442.79 1321.86,1436.61 1348.07,1428.25 1375.26,1417.93 1403.05,1405.85 1431.42,1392.03 1460.17,1376.57 1488.87,1359.71 1517.36,1341.6 1560.01,1312.43 \n",
       "  1615.83,1268.74 1669.74,1220.94 1720.96,1169.72 1768.76,1115.81 1812.45,1059.98 1841.62,1017.34 1859.74,988.848 1876.59,960.15 1892.05,931.402 1905.88,903.029 \n",
       "  1917.96,875.236 1928.27,848.046 1936.63,821.836 1942.82,797.149 1945.57,780.611 1946.74,770.151 1946.74,764.568 1945.57,754.108 1942.82,737.57 1936.63,712.883 \n",
       "  1928.27,686.672 1917.96,659.483 1905.88,631.69 1892.05,603.317 1876.59,574.568 1859.74,545.871 1841.62,517.379 1812.45,474.736 1768.76,418.912 1720.96,365.003 \n",
       "  1669.74,313.783 1615.83,265.982 1560.01,222.289 1517.36,193.117 1488.87,175.004 1460.17,158.147 1431.42,142.687 1403.05,128.866 1375.26,116.786 1348.07,106.469 \n",
       "  1321.86,98.1132 1297.17,91.9239 1280.63,89.167 1270.17,88.0053 1264.59,88.0053 1254.13,89.167 1237.59,91.9239 1212.91,98.1132 1186.69,106.469 1159.51,116.786 \n",
       "  1131.71,128.866 1103.34,142.687 1074.59,158.147 1045.89,175.004 1017.4,193.117 974.758,222.289 918.935,265.982 865.026,313.783 813.806,365.003 766.005,418.912 \n",
       "  722.311,474.736 693.14,517.379 675.027,545.871 658.17,574.568 642.71,603.317 628.889,631.69 616.808,659.483 606.491,686.672 598.136,712.883 591.946,737.57 \n",
       "  589.19,754.108 588.028,764.568 588.028,770.151 \n",
       "  \"/>\n",
       "<path clip-path=\"url(#clip0400)\" d=\"\n",
       "M1941.74 433.164 L2280.76 433.164 L2280.76 130.764 L1941.74 130.764  Z\n",
       "  \" fill=\"#ffffff\" fill-rule=\"evenodd\" fill-opacity=\"1\"/>\n",
       "<polyline clip-path=\"url(#clip0400)\" style=\"stroke:#000000; stroke-width:4; stroke-opacity:1; fill:none\" points=\"\n",
       "  1941.74,433.164 2280.76,433.164 2280.76,130.764 1941.74,130.764 1941.74,433.164 \n",
       "  \"/>\n",
       "<path clip-path=\"url(#clip0400)\" d=\"\n",
       "M1965.74 215.436 L2109.74 215.436 L2109.74 167.052 L1965.74 167.052 L1965.74 215.436  Z\n",
       "  \" fill=\"#009af9\" fill-rule=\"evenodd\" fill-opacity=\"0.5\"/>\n",
       "<polyline clip-path=\"url(#clip0400)\" style=\"stroke:#000000; stroke-width:4; stroke-opacity:1; fill:none\" points=\"\n",
       "  1965.74,215.436 2109.74,215.436 2109.74,167.052 1965.74,167.052 1965.74,215.436 \n",
       "  \"/>\n",
       "<g clip-path=\"url(#clip0400)\">\n",
       "<text style=\"fill:#000000; fill-opacity:1; font-family:Arial,Helvetica Neue,Helvetica,sans-serif; font-size:48px; text-anchor:start;\" transform=\"rotate(0, 2133.74, 208.744)\" x=\"2133.74\" y=\"208.744\">B2</text>\n",
       "</g>\n",
       "<path clip-path=\"url(#clip0400)\" d=\"\n",
       "M1965.74 275.916 L2109.74 275.916 L2109.74 227.532 L1965.74 227.532 L1965.74 275.916  Z\n",
       "  \" fill=\"#e26f46\" fill-rule=\"evenodd\" fill-opacity=\"0.5\"/>\n",
       "<polyline clip-path=\"url(#clip0400)\" style=\"stroke:#000000; stroke-width:4; stroke-opacity:1; fill:none\" points=\"\n",
       "  1965.74,275.916 2109.74,275.916 2109.74,227.532 1965.74,227.532 1965.74,275.916 \n",
       "  \"/>\n",
       "<g clip-path=\"url(#clip0400)\">\n",
       "<text style=\"fill:#000000; fill-opacity:1; font-family:Arial,Helvetica Neue,Helvetica,sans-serif; font-size:48px; text-anchor:start;\" transform=\"rotate(0, 2133.74, 269.224)\" x=\"2133.74\" y=\"269.224\">Binf</text>\n",
       "</g>\n",
       "<path clip-path=\"url(#clip0400)\" d=\"\n",
       "M1965.74 336.396 L2109.74 336.396 L2109.74 288.012 L1965.74 288.012 L1965.74 336.396  Z\n",
       "  \" fill=\"#3da44d\" fill-rule=\"evenodd\" fill-opacity=\"0.5\"/>\n",
       "<polyline clip-path=\"url(#clip0400)\" style=\"stroke:#000000; stroke-width:4; stroke-opacity:1; fill:none\" points=\"\n",
       "  1965.74,336.396 2109.74,336.396 2109.74,288.012 1965.74,288.012 1965.74,336.396 \n",
       "  \"/>\n",
       "<g clip-path=\"url(#clip0400)\">\n",
       "<text style=\"fill:#000000; fill-opacity:1; font-family:Arial,Helvetica Neue,Helvetica,sans-serif; font-size:48px; text-anchor:start;\" transform=\"rotate(0, 2133.74, 329.704)\" x=\"2133.74\" y=\"329.704\">B1</text>\n",
       "</g>\n",
       "<path clip-path=\"url(#clip0400)\" d=\"\n",
       "M1965.74 396.876 L2109.74 396.876 L2109.74 348.492 L1965.74 348.492 L1965.74 396.876  Z\n",
       "  \" fill=\"#c271d2\" fill-rule=\"evenodd\" fill-opacity=\"0.5\"/>\n",
       "<polyline clip-path=\"url(#clip0400)\" style=\"stroke:#000000; stroke-width:4; stroke-opacity:1; fill:none\" points=\"\n",
       "  1965.74,396.876 2109.74,396.876 2109.74,348.492 1965.74,348.492 1965.74,396.876 \n",
       "  \"/>\n",
       "<g clip-path=\"url(#clip0400)\">\n",
       "<text style=\"fill:#000000; fill-opacity:1; font-family:Arial,Helvetica Neue,Helvetica,sans-serif; font-size:48px; text-anchor:start;\" transform=\"rotate(0, 2133.74, 390.184)\" x=\"2133.74\" y=\"390.184\">B3/2</text>\n",
       "</g>\n",
       "</svg>\n"
      ]
     },
     "execution_count": 7,
     "metadata": {},
     "output_type": "execute_result"
    }
   ],
   "source": [
    "B2 = Ball2([0.0, 0.0], 1.0)\n",
    "Binf = BallInf([0.0, 0.0], 1.0)\n",
    "B1 = Ball1([0.0, 0.0], 1.0);\n",
    "\n",
    "plot(B2, lab=\"B2\", ratio=1.0)\n",
    "plot!(Binf, lab=\"Binf\")\n",
    "plot!(B1, lab=\"B1\")\n",
    "plot!(B32, lab=\"B3/2\")"
   ]
  },
  {
   "cell_type": "markdown",
   "metadata": {},
   "source": [
    "Ejercicio:\n",
    "\n",
    "- Verificar que tanto $\\Vert \\cdot \\Vert_1$ como $\\Vert \\cdot \\Vert_\\infty$ son normas (es decir satisfacen todas las propiedades de norma dadas anteriormente)."
   ]
  },
  {
   "cell_type": "markdown",
   "metadata": {},
   "source": [
    "- Se graficaran las bolas unidad $B_p$, en $\\mathbb{R}^2$, respecto de $\\ell_p$ para distintos valores de $p$, siendo\n",
    "\n",
    "$$\n",
    "B_p = \\{x \\in \\mathbb{R}^n : \\Vert x \\Vert_p \\leq 1\\}.\n",
    "$$"
   ]
  },
  {
   "cell_type": "markdown",
   "metadata": {},
   "source": [
    "- Observar que la \"longitud\" de un vector depende de la norma elegida.\n",
    "\n",
    "- Como deciamos la eleccion puede depender de la aplicacion:\n",
    "\n",
    "    - Si el vector mide la temperatura en cierta posicion del espacio, para $n$ tiempos distintos, puedo utilizar la norma $\\ell_\\infty$ para medir la temperatura *maxima*.\n",
    "    \n",
    "    - Si me interesa en una temperatura promedio, puede ser mas apropiado elegir las normas $\\ell_1$ o $\\ell_2$."
   ]
  },
  {
   "cell_type": "markdown",
   "metadata": {},
   "source": [
    "- Verificar las propiedades de homogeneidad y definida positiva para $\\Vert \\cdot \\Vert_2$ y en general para cualquier $\\Vert \\cdot \\Vert_p$, $1 \\leq p \\leq \\infty$."
   ]
  },
  {
   "cell_type": "markdown",
   "metadata": {},
   "source": [
    "- La propiedad que requiere un poco mas de trabajo demostrar es la propiedad de subaditividad (= desigualdad triangular). Para probarlo conviene utilizar la desigualdad de Holder (ejercicio, se demostrara paracualquier espacio pre-Hilbertiano $V$ sobre $\\mathbb{K} = \\mathbb{R}$ o $\\mathbb{C}$). "
   ]
  },
  {
   "cell_type": "markdown",
   "metadata": {},
   "source": [
    "- Por que tomamos $p \\geq 1$? Toda bolas en la $p$-norma definidas asi es convexas (ejercicio)."
   ]
  },
  {
   "cell_type": "markdown",
   "metadata": {},
   "source": [
    "**Teorema (desigualdad de Holder)**. Sean $x,  y \\in \\mathbb{R}^n$ y sean $p, q \\leq 1$ numeros *conjugados* es decir $\\frac{1}{p} + \\frac{1}{q} = 1$. Entonces\n",
    "\n",
    "$$\n",
    "\\sum_{j=1}^n \\vert x_j y_j \\vert \\leq \\Vert x \\Vert_p \\Vert y \\Vert_q\n",
    "$$"
   ]
  },
  {
   "cell_type": "markdown",
   "metadata": {},
   "source": [
    "Nota: si $p = \\infty$, interpretamos $1/p$ como $0$."
   ]
  },
  {
   "cell_type": "markdown",
   "metadata": {},
   "source": [
    "Notas:\n",
    "\n",
    "- Como caso particular de la desigualdad de Holder, se tiene la desigualdad de Cauchy-Schwartz, haciendo $p = q = 2$:\n",
    "\n",
    "$$\n",
    "\\vert \\langle x, y \\rangle\\vert \\leq \\sum_{j=1}^n \\vert x_j y_j \\vert \\leq \\Vert x \\Vert_2 \\Vert y \\Vert_2 = \\langle x, x \\rangle \\langle y, y \\rangle\n",
    "$$"
   ]
  },
  {
   "cell_type": "markdown",
   "metadata": {},
   "source": [
    "- Utilizando la desigualdad de Minkowski (a continuacion) se deducira que $\\Vert \\cdot \\Vert_p$ para todo $1 \\leq p \\leq \\infty$ es de hecho una norma."
   ]
  },
  {
   "cell_type": "markdown",
   "metadata": {},
   "source": [
    "**Teorema (desigualdad de Minkowski)** Para todo $p \\geq 1$ y cualquier par de sucesiones $(x_n)$, $(y_n)$ en $\\ell^p$, la sucesion $(x_n + y_n)$ es $p$ sumable es decir $(x_n + y_n) \\in \\ell^p$ y se satisface\n",
    "\n",
    "$$\n",
    "\\Vert (x_n + y_n) \\Vert_p \\leq \\Vert (x_n)\\Vert_p + \\Vert(y_n)\\Vert_p\n",
    "$$"
   ]
  },
  {
   "cell_type": "markdown",
   "metadata": {},
   "source": [
    "---"
   ]
  },
  {
   "cell_type": "markdown",
   "metadata": {},
   "source": [
    "- Las desigualdades anteriores son importantes en analisis y valen en espacios de Hilbert en general.\n",
    "\n",
    "- No obstante, en espacios de dimension finita las distintas normas no \"difieren mucho\", desde un punto de vista topologico: como se muestra a continuacion, son equivalentes en un sentido bien definido."
   ]
  },
  {
   "cell_type": "markdown",
   "metadata": {},
   "source": [
    "- El resultado siguiente de equivalencia es interesante en demostraciones, porque da existencia de constantes (con frecuencia no interesa conocer el valor numerico de dichas constantes, sino su existencia)."
   ]
  },
  {
   "cell_type": "markdown",
   "metadata": {},
   "source": [
    "**Teorema (equivalencia de normas)** En $\\mathbb{R}^n$, todas las normas son equivalentes, es decir dadas dos normas $\\Vert \\cdot \\Vert$ y $\\Vert \\cdot \\Vert_*$ existen constantes $c_1, c_2 > 0$ tales que\n",
    "\n",
    "$$\n",
    "c_1 \\Vert x \\Vert \\leq \\Vert x \\Vert_* \\leq c_2 \\Vert x \\Vert,\\qquad \\forall x \\in \\mathbb{R}^n.\n",
    "$$"
   ]
  },
  {
   "cell_type": "markdown",
   "metadata": {},
   "source": [
    "En varios casos dichas constantes se pueden dar de manera explicita."
   ]
  },
  {
   "cell_type": "markdown",
   "metadata": {},
   "source": [
    "Ejercicio. Demostrar que:\n",
    "\n",
    "- $\\Vert x \\Vert_2 \\leq \\Vert x \\Vert_1 \\leq \\sqrt{n} \\Vert x \\Vert_2$\n",
    "\n",
    "- $\\Vert x \\Vert_\\infty \\leq \\Vert x \\Vert_2 \\leq \\sqrt{n} \\Vert x \\Vert_\\infty$\n",
    "\n",
    "- $\\Vert x \\Vert_\\infty \\leq \\Vert x \\Vert_1 \\leq n \\Vert x \\Vert_\\infty$"
   ]
  },
  {
   "cell_type": "markdown",
   "metadata": {},
   "source": [
    "**Proposicion.** Sea $x \\in \\mathbb{R}^n$, y sean $1 \\leq p, q \\leq \\infty$ con $1/p + 1/q = 1$.\n",
    "\n",
    "\n",
    "- Si $q \\geq p$, entonces\n",
    "\n",
    "$$\n",
    "\\Vert x \\Vert_p \\leq n^{\\frac{1}{p} - \\frac{1}{q}}\\Vert x \\Vert_q.\n",
    "$$\n",
    "\n",
    "- Si $p \\geq q$, entonces\n",
    "\n",
    "$$\n",
    "\\Vert x \\Vert_p \\leq \\Vert x \\Vert_q\n",
    "$$"
   ]
  },
  {
   "cell_type": "markdown",
   "metadata": {},
   "source": [
    "En ambos casos, las constantes son optimas, en el sentido de que que no existe ninguna constante mas chica tal que la desigualdad vale para todo $x \\in \\mathbb{R}^n$."
   ]
  },
  {
   "cell_type": "markdown",
   "metadata": {},
   "source": [
    "---"
   ]
  },
  {
   "cell_type": "markdown",
   "metadata": {},
   "source": [
    "## Normas inducidas"
   ]
  },
  {
   "cell_type": "code",
   "execution_count": null,
   "metadata": {},
   "outputs": [],
   "source": []
  },
  {
   "cell_type": "code",
   "execution_count": null,
   "metadata": {},
   "outputs": [],
   "source": []
  },
  {
   "cell_type": "code",
   "execution_count": null,
   "metadata": {},
   "outputs": [],
   "source": []
  },
  {
   "cell_type": "markdown",
   "metadata": {},
   "source": [
    "## Bases ortonormales"
   ]
  },
  {
   "cell_type": "code",
   "execution_count": null,
   "metadata": {},
   "outputs": [],
   "source": []
  },
  {
   "cell_type": "markdown",
   "metadata": {},
   "source": [
    "### Descomposicion de Gram-Schmidt"
   ]
  },
  {
   "cell_type": "code",
   "execution_count": null,
   "metadata": {},
   "outputs": [],
   "source": []
  }
 ],
 "metadata": {
  "kernelspec": {
   "display_name": "Julia 1.3.1",
   "language": "julia",
   "name": "julia-1.3"
  },
  "language_info": {
   "file_extension": ".jl",
   "mimetype": "application/julia",
   "name": "julia",
   "version": "1.3.1"
  }
 },
 "nbformat": 4,
 "nbformat_minor": 2
}
