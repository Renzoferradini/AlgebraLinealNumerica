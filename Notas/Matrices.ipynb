{
 "cells": [
  {
   "cell_type": "markdown",
   "metadata": {},
   "source": [
    "# Matrices"
   ]
  },
  {
   "cell_type": "markdown",
   "metadata": {},
   "source": [
    "Referencias:\n",
    "\n",
    "- Wendland, Capitulo 1.\n",
    "- Horn & Johnson, Capitulo 0."
   ]
  },
  {
   "cell_type": "markdown",
   "metadata": {},
   "source": [
    "En esta parte vamos a repasar algunos conceptos importantes, a saber:\n",
    "\n",
    "- Nucleo.\n",
    "- Imagen\n",
    "- ..."
   ]
  },
  {
   "cell_type": "markdown",
   "metadata": {},
   "source": [
    "---"
   ]
  },
  {
   "cell_type": "markdown",
   "metadata": {},
   "source": [
    "- Sea $V$ un espacio vectorial dimension finita. A efectos practicos, pensar en $V = \\mathbb{R}^n$. Dado un conjunto $x_1, \\ldots, x_n \\in V$ decimos \n",
    "\n",
    "$$\n",
    "span\\{x_1, \\ldots, x_n\\} = \\left\\{ \\sum_{j=1}^n \\alpha_j x_j : \\alpha_1, \\ldots, \\alpha_n \\in \\mathbb{R} \\right\\}.\n",
    "$$"
   ]
  },
  {
   "cell_type": "markdown",
   "metadata": {},
   "source": [
    "- El span de esa lista de vectores es el subespacio lineal de $V$ que es recorrido por dichos vectores.\n",
    "\n",
    "- Pensar por ejemplo en un recta, o en un hiperplano."
   ]
  },
  {
   "cell_type": "markdown",
   "metadata": {},
   "source": [
    "**Definicion (base ortonormal)** Sea $V$ un espacio pre-Hilbertiano de dimension finita con una base $x_1, \\ldots, x_n$. Una base se llama ortonormal si todos los vectores tienen norma unidad, es decir\n",
    "\n",
    "$$\n",
    "\\Vert x_i \\Vert = \\langle x_i, x_i \\rangle^{1/2} = 1,\n",
    "$$\n",
    "y dos vectores diferentes son ortogonales,\n",
    "\n",
    "$$\n",
    "\\langle x_i, x_j \\rangle = 0,~i \\neq j.\n",
    "$$"
   ]
  },
  {
   "cell_type": "markdown",
   "metadata": {},
   "source": [
    "- Siempre es posible transformar una base dada a una base ortonormal."
   ]
  },
  {
   "cell_type": "markdown",
   "metadata": {},
   "source": [
    "**Teorema (Gram-Schmidt)** Sean $x_1, \\ldots, x_n$ vectores LI de un espacio pre-Hilbertiano $V$. Sea $u_1 = x_1 / \\Vert x_1 \\Vert$ y para cada $k = 1, 2, \\ldots, n-1$, definimos\n",
    "\n",
    "$$\n",
    "\\tilde{u}_{j+1} := u_{j+1} - \\sum_{j=1}^k \\langle u_{j+1}, u_j\\rangle u_j,\n",
    "$$\n",
    "$$\n",
    "u_{j+1} = \\tilde{u}_{j+1}/\\Vert \\tilde{u}_{j+1} \\Vert\n",
    "$$\n",
    "Entonces el conjunto $\\{u_1, \\ldots, u_k\\}$ forma una base ortonormal de $span\\{x_1, \\ldots, x_k\\}$ para $1 \\leq k \\leq n$."
   ]
  },
  {
   "cell_type": "markdown",
   "metadata": {},
   "source": [
    "- En la clase experimentaremos un poco con la implementacion del metodo de ortogonalizacion de Gram-Schmidt en Julia. \n",
    "\n",
    "- Veremos mas adelante que no es un metodo \"robusto\" para calcular bases; en otras palabras, hay metodos mejores desde el punto de vista numerico."
   ]
  },
  {
   "cell_type": "markdown",
   "metadata": {},
   "source": [
    "El [nucleo](https://es.wikipedia.org/wiki/N%C3%BAcleo_(matem%C3%A1tica)) (o en ingles, kernel, o null space) de una matriz o tranasformacion lineal es el conjunto de todos los vectores cuya imagen sea el vector nulo."
   ]
  },
  {
   "cell_type": "markdown",
   "metadata": {},
   "source": [
    "**Definiciones** Sea $A \\in \\mathbb{R}^{m\\times n}$. El *nucleo* de $A$ se define como el conjunto\n",
    "\n",
    "$$\n",
    "\\ker(A) = \\{ x \\in \\mathbb{R}^n: Ax = 0\\} \\subseteq \\mathbb{R}^n.\n",
    "$$"
   ]
  },
  {
   "cell_type": "markdown",
   "metadata": {},
   "source": [
    "Ejemplo. Calcular el nucleo de la transforacion lineal $f : \\mathbb{R}^2 \\to \\mathbb{R}$, $f(x, y) = x - y$."
   ]
  },
  {
   "cell_type": "markdown",
   "metadata": {},
   "source": [
    "*range(A)* de $A$ (imagen) se define como el conjunto\n",
    "\n",
    "$$\n",
    "range(A) = \\{ Ax : x \\in \\mathbb{R}^n\\} \\subseteq \\mathbb{R}^m.\n",
    "$$"
   ]
  },
  {
   "cell_type": "markdown",
   "metadata": {},
   "source": [
    "Observaciones:\n",
    "\n",
    "- El kernel de una matriz $A \\in \\mathbb{R}^{m\\times n}$ es un subespacio de $\\mathbb{R}^n$."
   ]
  },
  {
   "cell_type": "markdown",
   "metadata": {},
   "source": [
    "- El rango es un subespacio de $\\mathbb{R}^m$."
   ]
  },
  {
   "cell_type": "markdown",
   "metadata": {},
   "source": [
    "---"
   ]
  },
  {
   "cell_type": "markdown",
   "metadata": {},
   "source": [
    "---"
   ]
  },
  {
   "cell_type": "code",
   "execution_count": 1,
   "metadata": {},
   "outputs": [],
   "source": [
    "using LinearAlgebra"
   ]
  },
  {
   "cell_type": "markdown",
   "metadata": {},
   "source": [
    "Ejemplos utilizando:\n",
    "\n",
    "- `nullspace`\n",
    "- `eigvecs`"
   ]
  },
  {
   "cell_type": "markdown",
   "metadata": {},
   "source": [
    "**Definicion** Sea $A \\in \\mathbb{R}^{n\\times n}$ una matriz cuadrada.\n",
    "\n",
    "1- Decimos que $A$ es semi-definida positiva si para todo $x \\in \\mathbb{R}^n$ se tiene que\n",
    "\n",
    "$$\n",
    "x^T A x = \\sum_{i=1}^n \\sum_{j=1}^n x_i x_j a_{ij} \\geq 0\n",
    "$$\n",
    "$A$ se dice definida positiva si la expresion de arriba es positiva ($ > 0$) para todo $x \\neq 0$"
   ]
  },
  {
   "cell_type": "markdown",
   "metadata": {},
   "source": [
    "2- $A$ se dice ortogonal si $A^T A = I$"
   ]
  },
  {
   "cell_type": "markdown",
   "metadata": {},
   "source": [
    "3- $A$ se dice diagonalizable si existe una matriz invertible $S \\in \\mathbb{R}^{n\\times n}$ (o si estamos en los complejos, $\\mathbb{C}^{n\\times n}$ y una matriz diagonal $D \\in \\mathbb{R}^{n\\times n}$ tales que\n",
    "\n",
    "$$\n",
    "A = S D S^{-1}.\n",
    "$$"
   ]
  },
  {
   "cell_type": "markdown",
   "metadata": {},
   "source": [
    "- Observar que para toda $A \\in \\mathbb{R}^{m\\times n}$, la matriz $A^T A \\in \\mathbb{R}^{n\\times n}$ es simetrica y semidefinida positiva.\n",
    "\n",
    "- Toda matriz simetrica y definida positiva se puede escribir de esta forma (ejercicio)."
   ]
  },
  {
   "cell_type": "markdown",
   "metadata": {},
   "source": [
    "Ejemplo con:"
   ]
  },
  {
   "cell_type": "code",
   "execution_count": null,
   "metadata": {},
   "outputs": [],
   "source": [
    "A = [4 2; 2 5]"
   ]
  },
  {
   "cell_type": "markdown",
   "metadata": {},
   "source": [
    "El siguiente resultado se puede demostrar con el teorema espectral en espacios de dimensiona finita. No lo demostraremos."
   ]
  },
  {
   "cell_type": "markdown",
   "metadata": {},
   "source": [
    "**Teorema** Si $A \\in \\mathbb{R}^{n\\times n}$ es simetrica, entonces existe una base ortonormal de $\\mathbb{R}^n$ que consiste en vectores propios de $A$."
   ]
  },
  {
   "cell_type": "markdown",
   "metadata": {},
   "source": [
    "Observaciones:\n",
    "\n",
    "- En otras palabras, el teorema anterior implica que existen valores propios reales $\\lambda_1, \\ldots, \\lambda_n \\in \\mathbb{R}$ y vectores $w_1, \\ldots, w_n \\in \\mathbb{R}^n \\setminus \\{0\\}$ que satisfacen\n",
    "\n",
    "$$\n",
    "Aw_j = \\lambda_j w_j,\\qquad \\langle w_j, w_k \\rangle_2 = \\delta_{jk}.\n",
    "$$"
   ]
  },
  {
   "cell_type": "markdown",
   "metadata": {},
   "source": [
    "- Recordar que una matriz real $Q \\in \\mathbb{R}^{n\\times n}$ se dice *ortogonal* si $Q Q^T = I$."
   ]
  },
  {
   "cell_type": "markdown",
   "metadata": {},
   "source": [
    "- Si escribimos $Q = (w_1, \\ldots, w_n) \\in \\mathbb{R}^{n\\times n}$, entonces $Q$ es una matriz ortogonal."
   ]
  },
  {
   "cell_type": "markdown",
   "metadata": {},
   "source": [
    "**Proposicion** Si $A \\in \\mathbb{R}^{n\\times n}$ es simetrica, entonces existe un matriz ortogonal $Q \\in \\mathbb{R}^{n\\times n}$ tal que $Q^T A Q = D$ es una matriz diagonal que tiene en su diagonal los valores propios de $A$."
   ]
  },
  {
   "cell_type": "markdown",
   "metadata": {},
   "source": [
    "Tenemos como consecuencia que toda matriz simetrica y definida positiva posee una *raiz cuadrada*."
   ]
  },
  {
   "cell_type": "markdown",
   "metadata": {},
   "source": [
    "**Corolario.** Sea $A \\in \\mathbb{R}^{n\\times n}$ simetrica y semidefinida positiva. Entonces, existe una matriz simetrica y semidefinida positiva, llamemole $A^{1/2} \\in \\mathbb{R}^{n\\times n}$, tal que\n",
    "\n",
    "$$\n",
    "A = A^{1/2}A^{1/2}.\n",
    "$$\n",
    "Dicha matriz $A^{1/2}$ se llama la *raiz cuadrada de $A$*."
   ]
  },
  {
   "cell_type": "markdown",
   "metadata": {},
   "source": [
    "*Demostracion*. Vista en el teorico."
   ]
  },
  {
   "cell_type": "markdown",
   "metadata": {},
   "source": [
    "Ejemplo:"
   ]
  },
  {
   "cell_type": "code",
   "execution_count": 16,
   "metadata": {},
   "outputs": [
    {
     "data": {
      "text/plain": [
       "2×2 Array{Int64,2}:\n",
       " 4  2\n",
       " 2  5"
      ]
     },
     "execution_count": 16,
     "metadata": {},
     "output_type": "execute_result"
    }
   ],
   "source": [
    "A = [4 2; 2 5]"
   ]
  },
  {
   "cell_type": "markdown",
   "metadata": {},
   "source": [
    "- Verificar que es definida positiva (a mano).\n",
    "- Calcular valores propios (a mano). Verificar con Julia.\n",
    "- Calcular raiz cuadrada."
   ]
  },
  {
   "cell_type": "code",
   "execution_count": 15,
   "metadata": {},
   "outputs": [
    {
     "data": {
      "text/plain": [
       "2×2 Array{Float64,2}:\n",
       " 1.94029   0.485071\n",
       " 0.485071  2.18282"
      ]
     },
     "execution_count": 15,
     "metadata": {},
     "output_type": "execute_result"
    }
   ],
   "source": [
    "sqrt([4 2; 2 5])"
   ]
  },
  {
   "cell_type": "code",
   "execution_count": 19,
   "metadata": {},
   "outputs": [
    {
     "data": {
      "text/plain": [
       "2×2 Array{Complex{Float64},2}:\n",
       " 0.866025+0.5im  0.866025-0.5im\n",
       " 0.866025-0.5im  0.866025+0.5im"
      ]
     },
     "execution_count": 19,
     "metadata": {},
     "output_type": "execute_result"
    }
   ],
   "source": [
    "sqrt([1 2; 2 1])"
   ]
  },
  {
   "cell_type": "markdown",
   "metadata": {},
   "source": [
    "**Definicion (valor propio generalizado)** "
   ]
  },
  {
   "cell_type": "code",
   "execution_count": null,
   "metadata": {},
   "outputs": [],
   "source": []
  },
  {
   "cell_type": "markdown",
   "metadata": {},
   "source": [
    "**Teorema** Sean $A, B \\in \\mathbb{R}^{n\\times n}$ simetrica y definidas positivas. Entonces todos los valores propios de $B^{-1}A$ son reales y positivos. Ademas, existen $n$ pares de valores propios generalizados $\\lambda_j$ y vectores propios $v_j$, $1\\le j \\leq n$ tales que \n",
    "\n",
    "$$\n",
    "Av_j = \\lambda_b B v_j\n",
    "$$\n",
    "\n",
    "y\n",
    "\n",
    "$$\n",
    "v_i^T B v_j = v_i^T A v_j = 0,\\qquad i \\neq j\n",
    "$$"
   ]
  },
  {
   "cell_type": "markdown",
   "metadata": {},
   "source": [
    "**Definicion (proyeccion)**"
   ]
  },
  {
   "cell_type": "markdown",
   "metadata": {},
   "source": [
    "# Descomposicion en valores singulares"
   ]
  },
  {
   "cell_type": "markdown",
   "metadata": {},
   "source": [
    "Pregunta: sea $B_n = \\{x \\in \\mathbb{R}^n: \\Vert x \\Vert_2 \\leq 1\\}$ la bola unidad en norma 2. Como transforma una matriz cuadrada $A \\in \\mathbb{R}^{n\\times n}$ a ese conjunto? Es decir, como podemos describir geometricamente la transformacion $Y = AB_n$, i.e. $Y := \\{y \\in \\mathbb{R}^n: y = Ax,~x \\in B_n\\}$."
   ]
  },
  {
   "cell_type": "markdown",
   "metadata": {},
   "source": [
    "El resultado que vimos anteriormente nos da una pista en esa direccion."
   ]
  },
  {
   "cell_type": "markdown",
   "metadata": {},
   "source": [
    "Recodemos la siguiente proposicion que demostramos anteriormente: si $A \\in \\mathbb{R}^{n\\times n}$ es una matriz simetrica, entonces podemos escribir $Q^T A Q = D$ con $Q \\in \\mathbb{R}^{n\\times n}$ ortogonal y $D$ diagonal cuyas entradas son los valores propios de $A$."
   ]
  },
  {
   "cell_type": "markdown",
   "metadata": {},
   "source": [
    "# Matriz pseudo-inversa"
   ]
  },
  {
   "cell_type": "markdown",
   "metadata": {},
   "source": [
    "**Def (matriz pseudo-inversa)** Sea $A \\in \\mathbb{R}^{m \\times n}$ con rango $r = rango(A)$. Sea $A = U \\Sigma V^T$ la descomposicion en valores singulares de $A$ con matrices ortogonales $U \\in \\mathbb{R}^{m \\times m}$, $V \\in \\mathbb{R}^{n\\times n}$ y $\\Sigma \\in \\mathbb{R}^{m\\times n}$ una matriz diagonal con las componentes no nulas, $\\sigma_1 \\geq \\sigma_2 \\geq \\cdots \\geq \\sigma_r > 0$. Sea $\\Sigma^+ \\in \\mathbb{R}^{n \\times m}$ la matriz\n",
    "\n",
    "$$\n",
    "\\Sigma^+ = \\begin{pmatrix}\n",
    "\\sigma^{-1}_1 & & & 0 & \\cdots & 0 \\\\\n",
    " & \\ddots & & \\vdots &  & \\vdots \\\\\n",
    " & & \\sigma^{-1}_r & 0 & \\cdots & 0 \\\\\n",
    "0 & &0  & 0 & \\cdots & 0 \\\\\n",
    "\\vdots & & \\vdots & 0 & \\cdots & 0 \\\\\n",
    "0 & \\cdots &0 & 0 & \\cdots & 0\n",
    "\\end{pmatrix}\n",
    "$$"
   ]
  },
  {
   "cell_type": "markdown",
   "metadata": {},
   "source": [
    "La matriz *pseudo-inversa* de $A$ se define como\n",
    "\n",
    "$$\n",
    "A^+ := V \\Sigma^+ U^T \\in \\mathbb{R}^{n\\times m}.\n",
    "$$"
   ]
  },
  {
   "cell_type": "markdown",
   "metadata": {},
   "source": [
    "### Unicidad de la matriz pseudo-inversa"
   ]
  },
  {
   "cell_type": "code",
   "execution_count": null,
   "metadata": {},
   "outputs": [],
   "source": []
  },
  {
   "cell_type": "code",
   "execution_count": null,
   "metadata": {},
   "outputs": [],
   "source": []
  },
  {
   "cell_type": "markdown",
   "metadata": {},
   "source": [
    "### Relacion de la matriz pseudo-inversa con proyecciones ortogonales"
   ]
  },
  {
   "cell_type": "code",
   "execution_count": null,
   "metadata": {},
   "outputs": [],
   "source": []
  }
 ],
 "metadata": {
  "kernelspec": {
   "display_name": "Julia 1.4.0",
   "language": "julia",
   "name": "julia-1.4"
  },
  "language_info": {
   "file_extension": ".jl",
   "mimetype": "application/julia",
   "name": "julia",
   "version": "1.4.0"
  }
 },
 "nbformat": 4,
 "nbformat_minor": 2
}
