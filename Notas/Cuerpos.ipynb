{
 "cells": [
  {
   "cell_type": "markdown",
   "metadata": {},
   "source": [
    "# Cuerpos"
   ]
  },
  {
   "cell_type": "markdown",
   "metadata": {},
   "source": [
    "*Nota.* En inglés el concepto que vamos a considerar en esta seccion se llama *field*. Algunos lo traducen como *campo*. Ver [Cuerpo (matematicas)](https://es.wikipedia.org/wiki/Cuerpo_(matem%C3%A1ticas))."
   ]
  },
  {
   "cell_type": "markdown",
   "metadata": {},
   "source": [
    "### Referencias\n",
    "\n",
    "- Golan, Chapter 2.\n",
    "- Beilina, Chapter 1, 2."
   ]
  },
  {
   "cell_type": "markdown",
   "metadata": {},
   "source": [
    "- Los \"números\" son una de las estructuras matematicas mas fundamentales."
   ]
  },
  {
   "cell_type": "markdown",
   "metadata": {},
   "source": [
    "![](https://upload.wikimedia.org/wikipedia/commons/thumb/5/56/Bronnikov_gimnpifagoreizev.jpg/440px-Bronnikov_gimnpifagoreizev.jpg)"
   ]
  },
  {
   "cell_type": "markdown",
   "metadata": {},
   "source": [
    "Los \"pitagoricos\" ya sabian que $\\mathbb{Q} \\neq \\mathbb{R}$."
   ]
  },
  {
   "cell_type": "markdown",
   "metadata": {},
   "source": [
    "- La idea es definir operaciones para manipular numeros (eg. adicion, multiplicacion) que satisfacen ciertas reglas.\n",
    "\n",
    "- El \"desafio\" conceptual es entender, o aislar, estas reglas y definir un *sistema formal* y recien se logro en el S.XIX.\n",
    "\n",
    "- Desde esos estudios surgio el concepto de \"field\" (cuerpo).\n",
    "\n",
    "- Solo veremos nada mas que la definicion y algunas propiedades elementales; el estudio sistemático de estas nociones es parte de un curso eg. de Álgebra Abstracta."
   ]
  },
  {
   "cell_type": "markdown",
   "metadata": {},
   "source": [
    "$$\\mathbb{K}$$"
   ]
  },
  {
   "cell_type": "markdown",
   "metadata": {},
   "source": [
    "**Def (cuerpo).** Sea $F$ un conjunto no vacio y sean dadas dos funciones\n",
    "\n",
    "- $F \\times F \\to F$ llamada adicion, que usualmente notamos con $+$,\n",
    "- $F \\times F \\to F$ llamada producto (o multiplicacion), que usualmente notamos con $\\cdot$ o $*$ o nada cuando queda claro por el contexto, eg. $a*b = a\\cdot b = ab$.\n",
    "\n",
    "Entonces, se dice que es $F$ es un *campo* si las siguientes condiciones son satisfechas, para todos $a, b, c \\in F$:\n",
    "\n",
    "- (1) *Asociatividad* de la adicion y la multiplicacion:\n",
    "\n",
    "$$\n",
    "a + (b + c) = (a + b) + c \\\\\n",
    "a(bc)  = (ab) c\\\\\n",
    "$$\n",
    "\n",
    "- (2) *Conmutatividad* de la adicion y la multiplicacion:\n",
    "\n",
    "$$\n",
    "a + b = b + a \\\\\n",
    "ab = ba\\\\\n",
    "$$\n",
    "\n",
    "- (3) *Distributividad* de la multiplicacion respesto de la adicion:\n",
    "\n",
    "$$\n",
    "a(b + c) = ab + ac\n",
    "$$"
   ]
  },
  {
   "cell_type": "markdown",
   "metadata": {},
   "source": [
    "- (4) Existencia de *elemento identidad* para la adicion y la multiplicacion:\n",
    "\n",
    "    - Existe un elemento de $F$ que notamos $0 \\in F$ tal que $a + 0 = a$ para todo $a \\in F$,\n",
    "    - Existe *otro* elemento de $F$ que notamos $1 \\in F$ tal que $a1 = a$ para todo $a \\in F$."
   ]
  },
  {
   "cell_type": "markdown",
   "metadata": {},
   "source": [
    "- (5) Existencia de *inversa aditiva*: para cada $a \\in F$ existe un elemento de $F$ que notamos $-a$ tal que $a + (-a) = 0$."
   ]
  },
  {
   "cell_type": "markdown",
   "metadata": {},
   "source": [
    "- (6) Existencia de *inversa multiplicativa*: para cada $a \\in F$, $a \\neq 0$, existe un elemento de $F$ que notamos $a^{-1}$ tal que $a^{-1} a = 1$."
   ]
  },
  {
   "cell_type": "markdown",
   "metadata": {},
   "source": [
    "*Nota*. A veces en vez de $F$ utilizaremos $\\mathbb{K}$ para notar los cuerpos de forma generica. Ademas, en nuestro curso casi siempre trabajaremos con $\\mathbb{K} = \\mathbb{R}$ o $\\mathbb{K} = \\mathbb{C}$."
   ]
  },
  {
   "cell_type": "markdown",
   "metadata": {},
   "source": [
    "### Comentarios"
   ]
  },
  {
   "cell_type": "markdown",
   "metadata": {},
   "source": [
    "- Los elementos $-a$ y $a^{-1}$, si existen, son unicos."
   ]
  },
  {
   "cell_type": "markdown",
   "metadata": {},
   "source": [
    "- Si $a$ y $b$ son elementos de un cuerpo $F$, escribimos $a - b$ en vez de $a + (-b)$ y $a / b$ en vez de $a b^{-1}$."
   ]
  },
  {
   "cell_type": "markdown",
   "metadata": {},
   "source": [
    "- Si $0 \\neq a \\in F$ y $n \\in \\mathbb{N}$, $na$ significa la suma $a + \\cdots + a$ (n sumandos) y $a^n$ el producto $a \\cdots a$ (n factores."
   ]
  },
  {
   "cell_type": "markdown",
   "metadata": {},
   "source": [
    "- Si $n$ es un entero negativo, $na$ significa $(-n)(-a)$ y $a^n$ significa $(a^{-1})^{-n}$."
   ]
  },
  {
   "cell_type": "markdown",
   "metadata": {},
   "source": [
    "- Si $n = 0$ entonces $na$ es el elemento $0$ de $F$ y $a^n$ el elemento $1$."
   ]
  },
  {
   "cell_type": "markdown",
   "metadata": {},
   "source": [
    "- Para $0 = a \\in F$, definimos $na = 0$ para todos los enteros $n$ y $a^n = 0$ para todos los enteros positivo $n$."
   ]
  },
  {
   "cell_type": "markdown",
   "metadata": {},
   "source": [
    "- El simbolo $0^k$ no se define para $k \\leq 0$."
   ]
  },
  {
   "cell_type": "markdown",
   "metadata": {},
   "source": [
    "- $\\sum_{i=1}^n a_i = a_1 + \\cdots + a_n$ no es ambiguo, por la proiedad de conmutatividad."
   ]
  },
  {
   "cell_type": "markdown",
   "metadata": {},
   "source": [
    "- El producto tampoco es ambiguo por la proiedad de conmutatividad, $\\prod_{i=1}^n a_i = a_1 \\cdots a_n$."
   ]
  },
  {
   "cell_type": "markdown",
   "metadata": {},
   "source": [
    "- La multiplicacion se distribuye sobre sumas cualesquiera, es decir, si $a \\in F$ y $b_1, \\ldots, b_n$ es una lista de elementos de $F$, entonces $a\\left( \\sum_i b_i \\right) = \\sum_i a b_i$ (se deduce facilmente por induccion) < Ejercicio"
   ]
  },
  {
   "cell_type": "markdown",
   "metadata": {},
   "source": [
    "---"
   ]
  },
  {
   "cell_type": "markdown",
   "metadata": {},
   "source": [
    "- $\\mathbb{R}$ y $\\mathbb{Q}$ con las reglas usuales de adicion y multiplicacion, son *cuerpos*. < Ejercicio verificar"
   ]
  },
  {
   "cell_type": "markdown",
   "metadata": {},
   "source": [
    "- Veremos a continuacion que $\\mathbb{C}$ tambien lo es."
   ]
  },
  {
   "cell_type": "markdown",
   "metadata": {},
   "source": [
    "**Def (sub-cuerpo)** (subfield) Un subconjunto $G \\subseteq F$ es un subcuerpo si y solo si:\n",
    "\n",
    "- $0\\in G$, $1 \\in G$,\n",
    "- $G$ es cerrado bajo adicion y multiplicacion\n",
    "- $G$ contiene las inversas aditivas y multiplicativas de todos sus elementos no nulos."
   ]
  },
  {
   "cell_type": "markdown",
   "metadata": {},
   "source": [
    "**Prop.** $\\mathbb{Q}$ es un sub-cuerpo de $\\mathbb{R}$."
   ]
  },
  {
   "cell_type": "markdown",
   "metadata": {},
   "source": [
    "**Prop.** La interseccion de una coleccion de sub-cuerpos de un cuerpo $F$ es tambien un subcuerpo de $F$."
   ]
  },
  {
   "cell_type": "markdown",
   "metadata": {},
   "source": [
    "### Ejemplo (cuerpo de Galois)"
   ]
  },
  {
   "cell_type": "markdown",
   "metadata": {},
   "source": [
    "- El cuerpo de Galois (Galois field) es un ejemplo de cuerpo *finito*. Se denota $GF(p)$.\n",
    "\n",
    "- Tiene aplicaciones, por ejemplo, en criptografia.\n",
    "\n",
    "- Sea $p$ un entero positivo y sea $\\mathbb{Z}/(p) = \\{0, 1, \\ldots p - 1\\}$.\n",
    "\n",
    "- Para cada entero no negativo $n$, sea $[n]_p$ definido como el resto de dividir $n$ entre $p$.\n",
    "\n",
    "- $[n]_p \\in \\mathbb{Z}/(p)$ para cada entero no negativo $n$ y $[i]_p = i$ para cada $i \\in \\mathbb{Z}/(p)$.\n",
    "\n",
    "- Las operaciones en $\\mathbb{Z}/(p)$ son $[n]_p + [k]_p = [n+k]_p$ y $[n]_p \\cdot [k]_p = [nk]_p$."
   ]
  },
  {
   "cell_type": "markdown",
   "metadata": {},
   "source": [
    "- Se verifica que si $p$ es *primo* entonces $\\mathbb{Z}/(p)$ con las dos operaciones definidas mas arriba es un cuerpo. Se dice que es el cuerpo de Galois, $GF(p)$, de orden $p$."
   ]
  },
  {
   "cell_type": "markdown",
   "metadata": {},
   "source": [
    "### Propiedades elementales de $F$"
   ]
  },
  {
   "cell_type": "markdown",
   "metadata": {},
   "source": [
    "**Proposicion (algunas propiedades de unicidad)**\n",
    "\n",
    "- Si $e \\in F$ tal que $e + a = a$ para todo $a \\in F$ entonces $e = 0$.\n",
    "\n",
    "- Si $u \\in F$ tal que $ua = a$ para todo $a \\in F$, entones $u = 1$.\n",
    "\n",
    "- Si $a$ y $b$ son elementos de $F$, entonces\n",
    "\n",
    "    (i) Existe un unico elemento $c \\in F$ tal que $a + c = b$.\n",
    "    \n",
    "    (ii) Si $a \\neq 0$, entonces existe un unico elemento $d\\in F$ tal que $ad = b$."
   ]
  },
  {
   "cell_type": "markdown",
   "metadata": {},
   "source": [
    "**Def (caracteristica de un cuerpo)** La caracteristica de un cuerpo $F$ es el entero positivo $p$ mas chico tal que $1 + \\ldots+ 1$ (p sumandos) valen $0$, si talentero $p$ existe, y 0 (cero) en caso contrario."
   ]
  },
  {
   "cell_type": "markdown",
   "metadata": {},
   "source": [
    "- $GF(p)$ tiene caracteristica $p$ porque $1 + \\ldots + 1 = 0$"
   ]
  },
  {
   "cell_type": "markdown",
   "metadata": {},
   "source": [
    "**Proposicion.** Si $F$ es un cuerpo de caracteristica $p > 0$ entonces $p$ es un numero primo."
   ]
  },
  {
   "cell_type": "markdown",
   "metadata": {},
   "source": [
    "### Propiedades elementales de un cuerpo $F$\n",
    "\n",
    "**Proposicion.** Sean $a, b, c$ elementos de un cuerpo $F$. Se verifica que:\n",
    "\n",
    "(i) $0a = 0$\n",
    "\n",
    "(ii) $(-1)a = -a$\n",
    "\n",
    "(iii) $a(-b) = -(ab) = (-a)b$\n",
    "\n",
    "(iv) $-(-a) = a$\n",
    "\n",
    "(v) $(-a)(-b) = ab$\n",
    "\n",
    "(vi) $-(a+b) = (-a) + (-b)$\n",
    "\n",
    "(vii) $a(b-c) = ab - ac$\n",
    "\n",
    "(viii) si $a \\neq 0$, entonces $(a^{-1})^{-1} = a$\n",
    "\n",
    "(ix) si $a, b \\neq 0$, entonces $(ab)^{-1} = b^{-1} a^{-1}$\n",
    "\n",
    "(x) si $a + c = b + c$ entonces $a = b$\n",
    "\n",
    "(xi) si $c \\neq 0$ y $ac = bc$ entonces $a = b$\n",
    "\n",
    "(xii) si $ab = 0$ entonces $a = 0 $ o $ b = 0$"
   ]
  },
  {
   "cell_type": "markdown",
   "metadata": {},
   "source": [
    "# Números complejos"
   ]
  },
  {
   "cell_type": "markdown",
   "metadata": {},
   "source": [
    "### Referencias\n",
    "\n",
    "- S. Lang, Chapter 1.\n",
    "- Beilina, Chapter 1."
   ]
  },
  {
   "cell_type": "markdown",
   "metadata": {},
   "source": [
    "![](data:image/jpeg;base64,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)"
   ]
  },
  {
   "cell_type": "markdown",
   "metadata": {},
   "source": [
    "- Una de las ventajas de trabajar con numeros *reales* en vez de numeros *racionales* es que algunas ecuaciones que no tienen ninguna solucion en los racionales, si la tienen en los reales, por ejemplo, la ecuacion $x^2 = 2$."
   ]
  },
  {
   "cell_type": "markdown",
   "metadata": {},
   "source": [
    "- Sin embargo, en el caso de $x^2 = - 1$ o $x^2 = -2$ no tienen soluciones con $x$ real."
   ]
  },
  {
   "cell_type": "markdown",
   "metadata": {},
   "source": [
    "- Dichas ecuaciones si tienen solucion en el cuerpo de los numeros complejos."
   ]
  },
  {
   "cell_type": "markdown",
   "metadata": {},
   "source": [
    "**Def. (numero complejo)**\n",
    "\n",
    "- Los numeros complejos son un conjunto de objetos que se pueden sumar y multiplicar.\n",
    "- La suma y producto  de numeros complejos es otro numero complejo.\n",
    "\n",
    "- Cada numero real es un numero complejo y si $\\alpha, \\beta$ son reales su suma y producto (como complejos) es la misma que su suma y producto como reales.\n",
    "\n",
    "- Existe un numero complejo que llamamos $i$ y verifica $i^2 = -1$. Es la *unidad imaginaria.*\n",
    "\n",
    "- Cada numero complejo se puede escribir de manera unica en la forma $a + bi$ donde $a, b$ son reales.\n",
    "\n",
    "- Reglas de aritmetica: si $\\alpha, \\beta, \\gamma$ con numeros complejos, entonces:\n",
    "\n",
    "    - $(\\alpha \\beta)\\gamma = \\alpha (\\beta \\gamma)$\n",
    "\n",
    "    - $(\\alpha + \\beta) + \\gamma = \\alpha + (\\beta + \\gamma)$\n",
    "\n",
    "    - $\\alpha(\\beta + \\gamma) = \\alpha \\beta + \\alpha \\gamma$\n",
    "\n",
    "    - $(\\beta + \\gamma)\\alpha = \\beta \\alpha  + \\gamma \\alpha$\n",
    "    \n",
    "    - $\\alpha\\beta = \\beta \\alpha$, $\\alpha + \\beta = \\beta + \\alpha$\n",
    "\n",
    "- Si $1 \\in \\mathbb{R}$ entonces $1\\alpha = \\alpha$\n",
    "\n",
    "- Si $0 \\in \\mathbb{R}$ entonces $0\\alpha = 0$\n",
    "\n",
    "- Tenemos que $\\alpha + (-1)\\alpha = 0$"
   ]
  },
  {
   "cell_type": "markdown",
   "metadata": {},
   "source": [
    "**Proposicion.** Con las operaciones definidas anteriormente, $\\mathbb{C}$ es un cuerpo."
   ]
  },
  {
   "cell_type": "markdown",
   "metadata": {},
   "source": [
    "### Observaciones\n",
    "\n",
    "- A cada numero complejo $a + bi$ podemos asociarle el punto en el plano de coordenadas $(a, b)$."
   ]
  },
  {
   "cell_type": "markdown",
   "metadata": {},
   "source": [
    "- La adicion de numeros complejos se hace de forma \"componente a componente\", es decir si $\\alpha = a_1 + i b_1$ y $\\beta = a_2 + ib_2$, entonces\n",
    "\n",
    "$$\n",
    "\\alpha + \\beta  = a_1 + a_2 + i (b_1 + b_2)\n",
    "$$"
   ]
  },
  {
   "cell_type": "markdown",
   "metadata": {},
   "source": [
    "- Tambien es frecuente utilizar la representacion polar, $z = re^{i\\theta}$, $r \\geq 0$, $\\theta \\in [0, 2\\pi)$."
   ]
  },
  {
   "cell_type": "markdown",
   "metadata": {},
   "source": [
    "### Operaciones basicas y formulas"
   ]
  },
  {
   "cell_type": "markdown",
   "metadata": {},
   "source": [
    "- $x^2 + 1 = 0$ no tiene solucion en los reales, porque el cuadrado de un numero real nunca es negativo."
   ]
  },
  {
   "cell_type": "markdown",
   "metadata": {},
   "source": [
    "- Se define un simbolo llamado *unidad imaginaria*, con la letra $i$, tal que\n",
    "\n",
    "$$\n",
    "i^2 = -1,\n",
    "$$\n",
    "por definicion."
   ]
  },
  {
   "cell_type": "markdown",
   "metadata": {},
   "source": [
    "- $\\alpha_1 = i$ es raiz de $x^2 + 1 = 0$.\n",
    "\n",
    "- $(-i)^2 = (-1)^2i^2 = -1$. Por tanto $x^2 +1=0$ admite las 2 soluciones $\\alpha_1 = i$ y $\\alpha_2 = -i$.\n",
    "\n",
    "- comparar con $x^2 - 1 = 0$, que admite dos soluciones reales $\\pm 1$."
   ]
  },
  {
   "cell_type": "markdown",
   "metadata": {},
   "source": [
    "- Consideremos la ecuacion cuadratica $x^2 + q = 0$, $q > 0$."
   ]
  },
  {
   "cell_type": "markdown",
   "metadata": {},
   "source": [
    "- Tiene dos raices: $\\alpha_1 = i\\sqrt{q}$, $\\alpha_2 =-i\\sqrt{q}$."
   ]
  },
  {
   "cell_type": "markdown",
   "metadata": {},
   "source": [
    "- Los numeros $ib$ con $b$ real se llaman numeros imaginarios."
   ]
  },
  {
   "cell_type": "markdown",
   "metadata": {},
   "source": [
    "- **Ecuacion cuadratica general**"
   ]
  },
  {
   "cell_type": "markdown",
   "metadata": {},
   "source": [
    "- Sea $x^2 - 2px + q = 0$."
   ]
  },
  {
   "cell_type": "markdown",
   "metadata": {},
   "source": [
    "con $p, q$ reales."
   ]
  },
  {
   "cell_type": "markdown",
   "metadata": {},
   "source": [
    "- Sumando y restando $p^2$, queda $(x-p)^2 + q - p^2 = 0$."
   ]
  },
  {
   "cell_type": "markdown",
   "metadata": {},
   "source": [
    "- Si $q - p^2 > 0$ decimos que el *discriminante* es negativo ($p^2 - q < 0$)."
   ]
  },
  {
   "cell_type": "markdown",
   "metadata": {},
   "source": [
    "- Raices: $\\alpha_1 = p + i\\sqrt{q-p^2}$, $\\alpha_2 = p - i\\sqrt{q-p^2}$."
   ]
  },
  {
   "cell_type": "markdown",
   "metadata": {},
   "source": [
    "Aqui los numeros $\\alpha_i$ para $i = 1, 2$ son numeros *complejos* con partes real e imaginaria $p$ y $\\pm \\sqrt{q-p^2}$ respectivamente."
   ]
  },
  {
   "cell_type": "markdown",
   "metadata": {},
   "source": [
    "- Notacion general: $z = x + iy$."
   ]
  },
  {
   "cell_type": "markdown",
   "metadata": {},
   "source": [
    "donde $x$ es la parte real e $y$ la parte imaginaria del numero complejo $z$."
   ]
  },
  {
   "cell_type": "markdown",
   "metadata": {},
   "source": [
    "y escribimos $\\Re z = x$, $\\Im z = y$,\n",
    "$$\n",
    "z = \\Re z + i \\Im z\n",
    "$$"
   ]
  },
  {
   "cell_type": "markdown",
   "metadata": {},
   "source": [
    "- Por definicion, dos numeros complejos son iguales sii sus partes real e imaginaria coinciden."
   ]
  },
  {
   "cell_type": "markdown",
   "metadata": {},
   "source": [
    "### Propiedades algebraicas en $\\mathbb{C}$"
   ]
  },
  {
   "cell_type": "markdown",
   "metadata": {},
   "source": [
    "- Suma: sean $z_1 = x_1 + i y_1$, $z_2 = x_2 + iy_2$; la suma $z_1 + z_2$ es el numero complejo $z = x + iy$ con $x = x_1 + x_2$, $y = y_1 + y_2$, es decir,\n",
    "\n",
    "$$\n",
    "\\Re(z_1 + z_2) = \\Re(z_1) + \\Re(z_2) \\\\\n",
    "\\Im(z_1 + z_2) = \\Im(z_1) + \\Im(z_2)\n",
    "$$"
   ]
  },
  {
   "cell_type": "markdown",
   "metadata": {},
   "source": [
    "- Resta: la resta o diferencia entre $z_1$ y $z_2$ es\n",
    "\n",
    "$$\n",
    "z = (x_1 - x_2) + i(y_1 - y_2)\n",
    "$$"
   ]
  },
  {
   "cell_type": "markdown",
   "metadata": {},
   "source": [
    "- Si $z$ es la diferencia de los numeros complejos $z_1$ y $z_2$, entonces $z_2 = z + z_1$."
   ]
  },
  {
   "cell_type": "markdown",
   "metadata": {},
   "source": [
    "- El numero complejo $0 + i0$ se llama el zero (como elemento de $\\mathbb{C}$)"
   ]
  },
  {
   "cell_type": "markdown",
   "metadata": {},
   "source": [
    "- Multiplicacion: el producto se realiza de la formula usual en $\\mathbb{R}$, usando que $i^2 = -1$\n",
    "\n",
    "$$\n",
    "z_1 z_2 = (x_1 + iy_1)(x_2 + iy_2) = \\\\\n",
    "= x_1 x_2 - y_1y_2 + i(x_1 y_2 + y_1 x_2)\n",
    "$$"
   ]
  },
  {
   "cell_type": "markdown",
   "metadata": {},
   "source": [
    "- Para todo numero complejo, tenemos que $z 0 = 0z = 0$."
   ]
  },
  {
   "cell_type": "markdown",
   "metadata": {},
   "source": [
    "**Observacion.** Las reglas definidas arriba, para la adicion y la multiplicacion de numeros complejos, verifica las propiedades de cuerpo,\n"
   ]
  },
  {
   "cell_type": "markdown",
   "metadata": {},
   "source": [
    "para todos numeros complejos $z_1, z_2, z_3 \\in \\mathbb{C}$,\n",
    "\n",
    "- Conmutatividad: $z_1 + z_2 = z_2 + z_1$, $z_1 z_2 = z_2 z_1$\n",
    "\n",
    "- Asociatividad: $(z_1 + z_2) + z_3 = z_1 + (z_2 + z_3)$, $(z_1 z_2)z_3 = z_1(z_2 z_3)$\n",
    "\n",
    "- Distributividad: $(z_1 + z_2)z_3 = z_1 z_3 + z_2 z_3$."
   ]
  },
  {
   "cell_type": "markdown",
   "metadata": {},
   "source": [
    "- Division: la division de $z_1$ entre $z_1$ satisface $z z_2 = z_1$, y decimos que el numero $z$ es el cociente entre $z_1$ dividido por $z_2$, y notamos\n",
    "$$\n",
    "z = z_1/ z_2 = \\dfrac{z_1}{z_2}\n",
    "$$"
   ]
  },
  {
   "cell_type": "markdown",
   "metadata": {},
   "source": [
    "- Si $z_2 \\neq 0$, hay una *unica* solucion $z$. Utilizando las reglas aritmeticas definidas anteriomente,\n",
    "\n"
   ]
  },
  {
   "cell_type": "markdown",
   "metadata": {},
   "source": [
    "si $z = x + iy$, $z_i = x_i + i y_i$ para $i = 1, 2$, entonces separando las partes real e imaginaria de $z z_2 = z_1$, nos queda"
   ]
  },
  {
   "cell_type": "markdown",
   "metadata": {},
   "source": [
    "$$\n",
    "\\begin{pmatrix}\n",
    "    x_2 & -y_2 \\\\\n",
    "    y_2 & x_2\n",
    "    \\end{pmatrix} \\binom{x}{y} = \\binom{x_1}{y_1}\n",
    "$$"
   ]
  },
  {
   "cell_type": "markdown",
   "metadata": {},
   "source": [
    "- el determinante es no nulo asumiendo que $z_2 \\neq 0$ (repasaremos esto mas adelante)"
   ]
  },
  {
   "cell_type": "markdown",
   "metadata": {},
   "source": [
    "y las soluciones (aplicando las reglas de Cramer, por ejemplo)\n",
    "\n",
    "$$\n",
    "x = \\dfrac{x_1 x_2 + y_1 y_2}{x_2^2 + y_2^2}\n",
    "$$\n",
    "\n",
    "$$\n",
    "y = \\dfrac{x_2 y_1 - x_1 y_2}{x_2^2 + y_2^2}\n",
    "$$"
   ]
  },
  {
   "cell_type": "markdown",
   "metadata": {},
   "source": [
    "**Ejercicio**. Dividir $z_1 = 1+2i$ entre $z_2 = 3 + 4i$. Hacer el calculo a mano. Verificarlo con Julia."
   ]
  },
  {
   "cell_type": "code",
   "execution_count": 19,
   "metadata": {},
   "outputs": [
    {
     "data": {
      "text/plain": [
       "3 + 4im"
      ]
     },
     "execution_count": 19,
     "metadata": {},
     "output_type": "execute_result"
    }
   ],
   "source": [
    "z₁ = 1 + 2im\n",
    "z₂ = 3 + 4im"
   ]
  },
  {
   "cell_type": "code",
   "execution_count": 20,
   "metadata": {},
   "outputs": [
    {
     "data": {
      "text/plain": [
       "0.44 + 0.08im"
      ]
     },
     "execution_count": 20,
     "metadata": {},
     "output_type": "execute_result"
    }
   ],
   "source": [
    "z₁ / z₂ # esto me da en punto flotante"
   ]
  },
  {
   "cell_type": "code",
   "execution_count": 21,
   "metadata": {},
   "outputs": [
    {
     "data": {
      "text/plain": [
       "11//25 + 2//25*im"
      ]
     },
     "execution_count": 21,
     "metadata": {},
     "output_type": "execute_result"
    }
   ],
   "source": [
    "z₁ // z₂ # esto me da la solucion usando racionales como coeficientes"
   ]
  },
  {
   "cell_type": "markdown",
   "metadata": {},
   "source": [
    "- Potencia: para cada $n \\in \\mathbb{N}$, definimos $z^n = z z\\cdots z$, $n$ veces."
   ]
  },
  {
   "cell_type": "markdown",
   "metadata": {},
   "source": [
    "- Tambien se define $z^0 = 1$, $z^{-n} = (1/z)^n$."
   ]
  },
  {
   "cell_type": "markdown",
   "metadata": {},
   "source": [
    "**Observacion.** Si trabajo con numeros complejos cuya parte imaginaria es *cero*, entonces las operaciones definidas anteriormente son identicas al caso real."
   ]
  },
  {
   "cell_type": "markdown",
   "metadata": {},
   "source": [
    "**Propiedad.** Con las operaciones definidas anteriormente, $\\mathbb{C}$ es un *campo*."
   ]
  },
  {
   "cell_type": "markdown",
   "metadata": {},
   "source": [
    "### Complejo conjugado y algunas propiedades de la norma"
   ]
  },
  {
   "cell_type": "markdown",
   "metadata": {},
   "source": [
    "- El *complejo conjugado* de un numero complejo $z = x + iy$ es $\\bar{z} = x - iy$, tambien notamos con $conj$ o un asterisco, $z^*$."
   ]
  },
  {
   "cell_type": "markdown",
   "metadata": {},
   "source": [
    "Se verifica que:\n",
    "\n",
    "- idempotente: $(z^*)^* = z$\n",
    "- lineal: $(z_1 + z_2)^* = z_1^* + z_2^*$\n",
    "- (?) $(z_1 z_2)^* = z_1^* z_2^*$\n",
    "- $z + z^* = 2\\Re z = 2x$"
   ]
  },
  {
   "cell_type": "markdown",
   "metadata": {},
   "source": [
    "- $z - z^* = i2\\Im z = i2y$"
   ]
  },
  {
   "cell_type": "markdown",
   "metadata": {},
   "source": [
    "- $zz^* = (\\Re z)^2 + (\\Im z)^2 = x^2 + y^2$"
   ]
  },
  {
   "cell_type": "markdown",
   "metadata": {},
   "source": [
    "**Def (valor absoluto)** El numero real no negativo\n",
    "\n",
    "$$\n",
    "|z| = \\sqrt{z z^*} = \\sqrt{x^2 + y^2} \n",
    "$$\n",
    "se llama valor absoluto, o modulo de $z = x+iy$.\n",
    "\n",
    "Se verifica que:\n",
    "\n",
    "- si $|z| = 0$ ntonces $x = y = 0$ es decir $z = 0$"
   ]
  },
  {
   "cell_type": "markdown",
   "metadata": {},
   "source": [
    "- $|z_1 z_2| = |z_1|\\cdot |z_2|$"
   ]
  },
  {
   "cell_type": "markdown",
   "metadata": {},
   "source": [
    "- Para todo $x, y \\in \\mathbb{R}$,\n",
    "\n",
    "$$\n",
    "2|x y| \\leq (x^2 + y^2)\n",
    "$$"
   ]
  },
  {
   "cell_type": "markdown",
   "metadata": {},
   "source": [
    "<img src=\"https://i.stack.imgur.com/q0UIv.png\" alt=\"PageRank\" style=\"width: 500px;\"/>"
   ]
  },
  {
   "cell_type": "markdown",
   "metadata": {},
   "source": [
    "ref: https://math.stackexchange.com/questions/470221/prove-the-inequality-xy-leq-frac12x2y2"
   ]
  },
  {
   "cell_type": "markdown",
   "metadata": {},
   "source": [
    "*Nota*. Esta propiedad es un caso especial de la [desiguladad de Young](https://en.wikipedia.org/wiki/Young%27s_inequality_for_products). "
   ]
  },
  {
   "cell_type": "markdown",
   "metadata": {},
   "source": [
    "**Proposicion.** \n",
    "\n",
    "- Si $z = x + iy$, entonces $|x| \\leq |z|$ y $|y| \\leq |z|$.\n",
    "\n",
    "- Para $z, w \\in \\mathbb{C}$ cualesquiera, $|z + w|^2 = |z|^2 + |w|^2 + 2\\Re (zw^*)$  \n",
    "\n",
    "- Deducir la desigualdad triangular para numeros complejos $|z + w| \\leq |z| + |w|$. Sugerencia: combinar los resultados anteriores con la desigualdad de Young del parrafo anterior."
   ]
  },
  {
   "cell_type": "markdown",
   "metadata": {},
   "source": [
    "- En particular, los \"valores absolutos\" de numeros complejos se comportan igual que para los numeros reales."
   ]
  },
  {
   "cell_type": "markdown",
   "metadata": {},
   "source": [
    "### Observacion\n",
    "\n",
    "Utilizando la desigualdad triangular,"
   ]
  },
  {
   "cell_type": "markdown",
   "metadata": {},
   "source": [
    "- $|z_1| = |z_1 + z_2 - z_2| \\leq |z_1 - z_2| + |z_2|$"
   ]
  },
  {
   "cell_type": "markdown",
   "metadata": {},
   "source": [
    "- deducimos que $|z_1| - |z_2| \\leq |z_1 - z_2|$"
   ]
  },
  {
   "cell_type": "markdown",
   "metadata": {},
   "source": [
    "- de forma analoga, $|z_2| \\leq |z_1 - z_2| + |z_1|$ entonces $|z_2| - |z_1| \\leq |z_1 - z_2|$"
   ]
  },
  {
   "cell_type": "markdown",
   "metadata": {},
   "source": [
    "- Deducimos la desigualdad triangular invertida:\n",
    "\n",
    "$$\n",
    "\\vert |z_2| - |z_1| \\vert \\leq |z_1 - z_2|\n",
    "$$"
   ]
  },
  {
   "cell_type": "markdown",
   "metadata": {},
   "source": [
    "- La representacion en el plano complejo se llama a veces [diagrama de Argand](https://es.wikipedia.org/wiki/Plano_complejo)"
   ]
  },
  {
   "cell_type": "markdown",
   "metadata": {},
   "source": [
    "<img src=\"https://upload.wikimedia.org/wikipedia/commons/thumb/a/af/Complex_number_illustration.svg/440px-Complex_number_illustration.svg.png\" alt=\"PageRank\" style=\"width: 300px;\"/>"
   ]
  },
  {
   "cell_type": "markdown",
   "metadata": {},
   "source": [
    "En el plano complejo, identificar:\n",
    "\n",
    "- los ejes real e imaginario\n",
    "- las coordenadas $x$ e $y$ del numero $z = x + iy$\n",
    "- la conjugacion compleja es una reflexion respecto al eje real\n",
    "- el modulo $|z|$ corresponde con la distancia Euclidea entre $z$ y el origen\n",
    "- la suma corresponde a sumar *vectores*\n",
    "- la desigualdad triangular probada anteriormente se puede (re) interpretar como la desigualdad triangular para vectores"
   ]
  },
  {
   "cell_type": "markdown",
   "metadata": {},
   "source": [
    "### Descripcion polar"
   ]
  },
  {
   "cell_type": "markdown",
   "metadata": {},
   "source": [
    "<img src=\"https://upload.wikimedia.org/wikipedia/commons/thumb/7/71/Euler%27s_formula.svg/400px-Euler%27s_formula.svg.png\" alt=\"PageRank\" style=\"width: 300px;\"/>"
   ]
  },
  {
   "cell_type": "markdown",
   "metadata": {},
   "source": [
    "- Coordenadas polares: \n",
    "\n",
    "- $z = \\rho e^{i\\varphi}$\n",
    "- modulo $\\rho \\geq 0$, notacion: $\\rho = |z|$\n",
    "- angulo (polar) $\\varphi \\in [0, 2\\pi)$, o argumento, notacion: $\\varphi = \\arg z$."
   ]
  },
  {
   "cell_type": "markdown",
   "metadata": {},
   "source": [
    "Observar que, si $|z| \\neq 0$,\n",
    "\n",
    "$$\n",
    "z = |z| \\left( \\frac{x}{|z|} + i\\frac{y}{|z|} \\right)\n",
    "$$"
   ]
  },
  {
   "cell_type": "markdown",
   "metadata": {},
   "source": [
    "sean\n",
    "\n",
    "$$\n",
    "\\dfrac{x}{|z|} = \\cos \\varphi\n",
    "$$\n",
    "\n",
    "$$\n",
    "\\dfrac{y}{|z|} = \\sin \\varphi\n",
    "$$"
   ]
  },
  {
   "cell_type": "markdown",
   "metadata": {},
   "source": [
    "entonces\n",
    "\n",
    "$$\n",
    "z = \\rho(\\cos \\varphi + i \\sin \\varphi)\n",
    "$$"
   ]
  },
  {
   "cell_type": "markdown",
   "metadata": {},
   "source": [
    "A continuacion demostramos la desigualdad triangular para $m$ numeros complejos. En esta demostracion utilizamos la notacion polar."
   ]
  },
  {
   "cell_type": "markdown",
   "metadata": {},
   "source": [
    "**Prop. (desigualdad triangular)** Sean $z_1, \\ldots, z_m$ numeros complejos. Entonces\n",
    "$$\n",
    "\\vert z_1 + \\ldots + z_m \\vert \\leq \\vert z_1 \\vert + \\ldots + \\vert z_m \\vert.\n",
    "$$\n",
    "Ademas, identificar el caso en el que se cumple la igualdad.\n",
    "\n",
    "<details><summary>Demostracion.</summary>\n",
    "<p>\n",
    "\n",
    "Sea $\\theta \\in \\mathbb{R}$ tal que $e^{-i\\theta}(z_1 + \\ldots + z_m) = \\vert z_1 + \\ldots + z_m\\vert$.\n",
    "\n",
    "Entonces \n",
    "\n",
    "$$\n",
    "\\vert z_1 + \\ldots + z_m \\vert  = \\Re \\vert z_1 + \\ldots + z_m \\vert\\\\\n",
    "= \\Re (e^{-i\\theta}( z_1 + \\ldots + z_m \\vert )) \\\\\n",
    "= \\Re (e^{-i\\theta}(z_1)) + \\ldots + \\Re (e^{-i\\theta}(z_m)) \\\\\n",
    "\\leq \\vert e^{-i\\theta}(z_1)\\vert  + \\ldots + \\vert e^{-i\\theta}(z_m)\\vert \\\\\n",
    "= |z_1|  + \\ldots + |z_m|.\n",
    "$$\n",
    "\n",
    "- La igualdad se cumple sii $\\Re (e^{-i\\theta} z_k) = |e^{-i\\theta}z_k|$ para todo $k = 1,\\ldots,m$ es decir sii $z_k = e^{i\\theta}|z_k|$: todos estan en el mismo *rayo* $\\{r e^{i\\theta}, r \\geq 0\\}$.\n",
    "\n",
    "</p>\n",
    "</details>"
   ]
  },
  {
   "cell_type": "markdown",
   "metadata": {},
   "source": [
    "Operaciones aritmeticas utilizando la forma polar:"
   ]
  },
  {
   "cell_type": "markdown",
   "metadata": {},
   "source": [
    "Sean $z_1$, $z_2$ expresados en forma polar. Entonces\n",
    "\n",
    "$$\n",
    "z_1 z_2 = \\rho_1 \\rho_2 (\\cos(\\varphi_1 + \\varphi_2) + i\\sin(\\varphi_1 + \\varphi_2))\n",
    "$$"
   ]
  },
  {
   "cell_type": "markdown",
   "metadata": {},
   "source": [
    "- En sintesis: para multiplicar dos numeros complejos, debo multiplicar sus valores absolutos y sumar sus argumentos"
   ]
  },
  {
   "cell_type": "markdown",
   "metadata": {},
   "source": [
    "- Comparar con $e^{i(\\varphi_1 + \\varphi_2)}$."
   ]
  },
  {
   "cell_type": "markdown",
   "metadata": {},
   "source": [
    "**Ejercicio.** Realizar el producto de los numeros complejos $z_1 = 3\\cos(\\pi/2) + 3i\\sin(\\pi/2)$ con $z_2 = 2\\cos(\\pi/4) + 2i\\sin(\\pi/4)$. Verificar su resultado usand Julia."
   ]
  },
  {
   "cell_type": "markdown",
   "metadata": {},
   "source": [
    "### Parentesis: calculo numerico vs calculo simbolico"
   ]
  },
  {
   "cell_type": "code",
   "execution_count": 22,
   "metadata": {},
   "outputs": [
    {
     "data": {
      "text/plain": [
       "π = 3.1415926535897..."
      ]
     },
     "execution_count": 22,
     "metadata": {},
     "output_type": "execute_result"
    }
   ],
   "source": [
    "pi"
   ]
  },
  {
   "cell_type": "code",
   "execution_count": 23,
   "metadata": {},
   "outputs": [
    {
     "data": {
      "text/plain": [
       "0.6283185307179586"
      ]
     },
     "execution_count": 23,
     "metadata": {},
     "output_type": "execute_result"
    }
   ],
   "source": [
    "pi * 0.2"
   ]
  },
  {
   "cell_type": "code",
   "execution_count": null,
   "metadata": {},
   "outputs": [],
   "source": [
    "x^2 = 2"
   ]
  },
  {
   "cell_type": "code",
   "execution_count": null,
   "metadata": {},
   "outputs": [],
   "source": [
    "] add SymPy"
   ]
  },
  {
   "cell_type": "code",
   "execution_count": 24,
   "metadata": {},
   "outputs": [],
   "source": [
    "using SymPy"
   ]
  },
  {
   "cell_type": "code",
   "execution_count": 25,
   "metadata": {},
   "outputs": [
    {
     "data": {
      "text/latex": [
       "\\begin{equation*}x\\end{equation*}"
      ],
      "text/plain": [
       "x"
      ]
     },
     "execution_count": 25,
     "metadata": {},
     "output_type": "execute_result"
    }
   ],
   "source": [
    "x = sympy.Symbol(\"x\")"
   ]
  },
  {
   "cell_type": "code",
   "execution_count": 26,
   "metadata": {},
   "outputs": [
    {
     "data": {
      "text/latex": [
       "\\begin{equation*}x + 2\\end{equation*}"
      ],
      "text/plain": [
       "x + 2"
      ]
     },
     "execution_count": 26,
     "metadata": {},
     "output_type": "execute_result"
    }
   ],
   "source": [
    "x + 2"
   ]
  },
  {
   "cell_type": "code",
   "execution_count": 27,
   "metadata": {},
   "outputs": [
    {
     "data": {
      "text/latex": [
       "\\begin{equation*}\\pi x\\end{equation*}"
      ],
      "text/plain": [
       "π⋅x"
      ]
     },
     "execution_count": 27,
     "metadata": {},
     "output_type": "execute_result"
    }
   ],
   "source": [
    "y = sympy.pi * x"
   ]
  },
  {
   "cell_type": "code",
   "execution_count": 28,
   "metadata": {},
   "outputs": [
    {
     "data": {
      "text/latex": [
       "\\begin{equation*}\\pi\\end{equation*}"
      ],
      "text/plain": [
       "π"
      ]
     },
     "execution_count": 28,
     "metadata": {},
     "output_type": "execute_result"
    }
   ],
   "source": [
    "y /x"
   ]
  },
  {
   "cell_type": "code",
   "execution_count": 29,
   "metadata": {},
   "outputs": [
    {
     "data": {
      "text/plain": [
       "0.7071067811865475"
      ]
     },
     "execution_count": 29,
     "metadata": {},
     "output_type": "execute_result"
    }
   ],
   "source": [
    "sin(pi/4)"
   ]
  },
  {
   "cell_type": "code",
   "execution_count": 30,
   "metadata": {},
   "outputs": [
    {
     "data": {
      "text/latex": [
       "\\begin{equation*}\\frac{\\sqrt{2}}{2}\\end{equation*}"
      ],
      "text/plain": [
       "√2\n",
       "──\n",
       "2 "
      ]
     },
     "execution_count": 30,
     "metadata": {},
     "output_type": "execute_result"
    }
   ],
   "source": [
    "z = sympy.sin(sympy.pi / 4)"
   ]
  },
  {
   "cell_type": "code",
   "execution_count": null,
   "metadata": {},
   "outputs": [],
   "source": [
    "convert(Float64, z.subs(x, 1))"
   ]
  },
  {
   "cell_type": "code",
   "execution_count": 13,
   "metadata": {},
   "outputs": [
    {
     "data": {
      "text/latex": [
       "\\begin{equation*}\\frac{\\pi}{2}\\end{equation*}"
      ],
      "text/plain": [
       "π\n",
       "─\n",
       "2"
      ]
     },
     "execution_count": 13,
     "metadata": {},
     "output_type": "execute_result"
    }
   ],
   "source": [
    "sympy.pi / 2"
   ]
  },
  {
   "cell_type": "code",
   "execution_count": 16,
   "metadata": {},
   "outputs": [
    {
     "data": {
      "text/latex": [
       "\\begin{equation*}\\frac{3}{2} + \\frac{3 \\sqrt{2}}{2}\\end{equation*}"
      ],
      "text/plain": [
       "3   3⋅√2\n",
       "─ + ────\n",
       "2    2  "
      ]
     },
     "execution_count": 16,
     "metadata": {},
     "output_type": "execute_result"
    }
   ],
   "source": [
    "3 * sympy.cos(sympy.pi / 4) + 3 * sympy.sin(sympy.pi / 6)"
   ]
  },
  {
   "cell_type": "code",
   "execution_count": 31,
   "metadata": {},
   "outputs": [
    {
     "name": "stderr",
     "output_type": "stream",
     "text": [
      "┌ Info: Precompiling PyPlot [d330b81b-6aea-500a-939a-2ce795aea3ee]\n",
      "└ @ Base loading.jl:1260\n"
     ]
    }
   ],
   "source": [
    "using PyPlot"
   ]
  },
  {
   "cell_type": "markdown",
   "metadata": {},
   "source": [
    "### Observaciones sobre la representacion polar"
   ]
  },
  {
   "cell_type": "markdown",
   "metadata": {},
   "source": [
    "- El argumento de un numero complejo se define *modulo 2$\\pi$* ya que si hago $\\varphi_1 + \\varphi_2$ me puedo pasar de $2\\pi$; las funciones trigonometricas son periodicas ;)"
   ]
  },
  {
   "cell_type": "markdown",
   "metadata": {},
   "source": [
    "- la ecuacion $z z_2 = z_1$ la podemos escribir como\n",
    "\n",
    "$$\n",
    "\\rho \\rho_2 (\\cos(\\varphi_1 + \\varphi_2) + i \\sin(\\varphi + \\varphi_2) = \\rho_1 (\\cos\\varphi_1 + i \\sin\\varphi_1)\n",
    "$$"
   ]
  },
  {
   "cell_type": "markdown",
   "metadata": {},
   "source": [
    "- entonces el cociente $z = z_1 / z_2$ lo podemos escribir como\n",
    "\n",
    "$$\n",
    "z = \\frac{z_1}{z_2} = \\frac{\\rho_1}{\\rho_2}(\\cos(\\varphi_1-\\varphi_2) + i (\\sin(\\varphi_1 - \\varphi_2))\n",
    "$$"
   ]
  },
  {
   "cell_type": "markdown",
   "metadata": {},
   "source": [
    "- Es decir la division de numeros complejos representa dividir sus valores absolutos y substraer sus argumentos."
   ]
  },
  {
   "cell_type": "markdown",
   "metadata": {},
   "source": [
    "**Ejericio.** Calcular $z_1 / z_2$ para los numeros del ejercicio anterior (producto)."
   ]
  },
  {
   "cell_type": "markdown",
   "metadata": {},
   "source": [
    "- Las potencias de un numero complejo se obtienen haciendo $z = z_1 = z_2$ en la ecuacion de producto, obteniendo\n",
    "\n",
    "$$\n",
    "z^2 = zz = \\rho^2 (\\cos 2\\varphi + i \\sin 2\\varphi)\n",
    "$$\n",
    "y en general para $n \\in \\mathbb{N}$,\n",
    "\n",
    "$$\n",
    "z^n = \\rho^n (\\cos n\\varphi + \\sin n\\varphi)\n",
    "$$"
   ]
  },
  {
   "cell_type": "markdown",
   "metadata": {},
   "source": [
    "Esta ecuacion se llama la **formula de De Moivre**."
   ]
  },
  {
   "cell_type": "markdown",
   "metadata": {},
   "source": [
    "Tambien se extiende para enteros negativos, haciendo $\\rho^{-n} = (1/\\rho)^n$"
   ]
  },
  {
   "cell_type": "markdown",
   "metadata": {},
   "source": [
    "- Como encontrar todas las raices de un numero complejo $z$?"
   ]
  },
  {
   "cell_type": "markdown",
   "metadata": {},
   "source": [
    "- Sea $z = \\rho (\\cos \\varphi + i \\sin \\varphi)$ con $n \\geq 1$ entero.\n",
    "\n",
    "- Queremos obtener un numero $\\tilde{z} = \\tilde{\\rho}(\\cos \\tilde{\\varphi} + i\\sin \\tilde{\\varphi})$ tal que\n",
    "\n",
    "$$\n",
    "\\tilde{z}^n = \\tilde{\\rho}^n(\\cos n\\tilde{\\varphi} + i\\sin n\\tilde{\\varphi}) = \\rho (\\cos \\varphi + i \\sin \\varphi)\n",
    "$$"
   ]
  },
  {
   "cell_type": "markdown",
   "metadata": {},
   "source": [
    "Soluciones:\n",
    "\n",
    "- $\\tilde{\\rho} = \\rho^{1/n}$\n",
    "- $\\tilde{\\varphi} = \\dfrac{\\varphi}{n} + \\dfrac{2\\pi k}{n}$, $k = 0, 1, \\ldots, n-1$"
   ]
  },
  {
   "cell_type": "markdown",
   "metadata": {},
   "source": [
    "Donde\n",
    "\n",
    "- $\\rho^{1/n}$ es la unica raiz real n-esima del numero no negativo $\\rho$\n",
    "\n",
    "- las raices que estamos buscando son los numeros complejos\n",
    "\n",
    "$$\n",
    "z_k = \\rho^{1/n} ( \\cos \\varphi_k + i \\sin \\varphi_k),\n",
    "$$\n",
    "$$\n",
    "\\varphi_k = \\dfrac{\\varphi}{n} + \\dfrac{2\\pi k}{n},\n",
    "$$\n",
    "para $k = 0, 1, \\ldots, n-1$\n",
    "\n",
    "- estas son las $n$ raices del numero complejo $z$"
   ]
  },
  {
   "cell_type": "markdown",
   "metadata": {},
   "source": [
    "- Si $k > n-1$ los numeros $z_k$ se repiten de manera periodica, consecuencia de la periodicidad de las funciones trigonometricas"
   ]
  },
  {
   "cell_type": "markdown",
   "metadata": {},
   "source": [
    "- Una forma equivalente para las raices es la siguiente, si definimos\n",
    "\n",
    "$$\n",
    "q_k = \\cos \\dfrac{2\\pi k}{n} + i\\sin \\dfrac{2\\pi k}{n},\n",
    "$$\n",
    "$k = 0, 1, \\ldots, n-1$ son las $n$ raices de la unidad es decir las soluciones de  $z^n = 1$"
   ]
  },
  {
   "cell_type": "markdown",
   "metadata": {},
   "source": [
    "- es decir $q_k^n = 1$ para todo $k = 0, 1, \\ldots, n-1$"
   ]
  },
  {
   "cell_type": "markdown",
   "metadata": {},
   "source": [
    "- se verifica que $z_k = z_0 q_k$, $k = 0, 1, \\ldots, n-1$"
   ]
  },
  {
   "cell_type": "markdown",
   "metadata": {},
   "source": [
    "- por tanto, alcanza con calcular una sola raiz (la primera)\n",
    "\n",
    "$$\n",
    "z_0 = \\rho^{1/n}(\\cos \\varphi/n + i \\sin \\varphi/n)\n",
    "$$\n",
    "para obtener toda las demas, mediante rotaciones de angulo $2\\pi/n$ respecto al circulo unidad"
   ]
  },
  {
   "cell_type": "markdown",
   "metadata": {},
   "source": [
    "**Ejercicio.** Calcular las cuatro raices del numero complejo $z = 3(\\cos \\pi/2 + i \\sin \\pi/2)$. Verificar su resulado con Julia."
   ]
  },
  {
   "cell_type": "markdown",
   "metadata": {},
   "source": [
    "Se pide calcular las raices cuartas de $z$."
   ]
  },
  {
   "cell_type": "markdown",
   "metadata": {},
   "source": [
    "En sintesis:\n",
    "\n",
    "- cada numero complejo, exceptuando el origen, tiene $n$ raices $n$-esimas distitas.\n",
    "\n",
    "- todas sus raices se encuentran en un circulo de radio $\\rho^{1/n}$ centrado en el origen. Dibujar!"
   ]
  },
  {
   "cell_type": "markdown",
   "metadata": {},
   "source": [
    "- Resultado: *no hay* otras raices mas que las encontradas hasta el momento. Veremos esto mas adelante."
   ]
  },
  {
   "cell_type": "markdown",
   "metadata": {},
   "source": [
    "## Operaciones algebraicas con polinomios"
   ]
  },
  {
   "cell_type": "markdown",
   "metadata": {},
   "source": [
    "En esta parte trabajaremos con polinomios con dominio en  $\\mathbb{C}$ (o si se especifica, un subconjunto $D \\subseteq \\mathbb{C}$), a coeficientes complejos.\n",
    "\n",
    "Mas precisamente, sea $P_n : \\mathbb{C} \\to \\mathbb{C}$,\n",
    "\n",
    "$$\n",
    "P_n(z) = a_0 + a_1 z + a_2 z^2 + \\ldots + a_n z^n.\n",
    "$$\n",
    "donde $n\\geq 0$ es entero y donde los $a_i$ son complejos y se llaman los coeficientes de $P_n$."
   ]
  },
  {
   "cell_type": "markdown",
   "metadata": {},
   "source": [
    "- Si $a_n \\neq 0$, decimos que $P_n$ tiene grado $n$, notamos $\\text{gr}(P_n(z)) = n$."
   ]
  },
  {
   "cell_type": "markdown",
   "metadata": {},
   "source": [
    "Notacion y operaciones algebraicas:\n",
    "\n",
    "- Decimos que dos polinomios $P_n(z)$ y $Q_n(z)$ son iguales si tienen exactamente los mismos coeficientes.\n",
    "\n",
    "- Si todos los coeficientes de un polinomio son cero, decimos que se trata del polinomio nulo o polinomio identicamente cero, lo notamos con $0$.\n",
    "\n",
    "- La suma de dos polinomios $P_n(z) + Q_m(z)$ es tambien un polinomio, su grado es igual o menor al maximo de $m$ y de $n$, o es el polinomio nulo.\n",
    "\n",
    "- El producto de dos polinomios $P_n(z) \\cdot Q_m(z)$ es un polinomio de grado $n + m$\n",
    "\n",
    "- La suma del polinomio nulo a cualquier polinomio no cambia su grado."
   ]
  },
  {
   "cell_type": "markdown",
   "metadata": {},
   "source": [
    "**Observacion:** - El producto de dos polinomios es cero sii uno de los factores es el polinomio nulo.\n",
    "\n",
    "Para probar la afirmacion basta utilizar la propiedad de [no existencia de divisores no triviales del cero](https://en.wikipedia.org/wiki/Zero-product_property) vista anteriormente para cualquier cuerpos $F$, observando que el coficiente de mayor grado de $P_nQ_m$ es $a_n b_m$, que es cero si y solo si $a_n = 0 $ o $b_m = 0$, lo que contradice el hecho de qu $P_n$ y $Q_m$ sean de grados $n$ y $m$.\n",
    "\n",
    "Alternativamente, sabemos que los ceros de un polinomio no nulo son finitos (se vera mas adelante), por tanto, alcanza con tomar $w \\in \\mathbb{C}$ tal que no es ni cero de $P_n$ ni cero de $Q_m$, por tanto, $P_n(w)Q_m(w) = 0$ implica que $w$ es raiz de $P_n$ o de $Q_m$, de nuevo una contradiccion."
   ]
  },
  {
   "cell_type": "markdown",
   "metadata": {},
   "source": [
    "- A continuacion estudiamos la operacion de **division** de un polinomio $P(z)$ por un polinomio $Q(z)$.\n",
    "\n",
    "- Los polinomios $q(z)$ y $r(z)$ en $P(z) = Q(z) q(z) + r(z)$ se llaman *cociente* y *resto* reespectivamente.\n",
    "\n",
    "- Si $r = 0$, decimos que $Q(z)$ *divide* a $Pz)$, o de forma equvalente, que $Q(z)$ es un *factor* de $P(z)$."
   ]
  },
  {
   "cell_type": "markdown",
   "metadata": {},
   "source": [
    "**Teorema (division de polinomios).** Sean $P(z)$ y $Q(z)$ polinomios, con $Q(z)$ no identicamente nulo. Existen polinomios unicos $q(z)$ y $r(z)$ tales que\n",
    "\n",
    "$$\n",
    "P(z) = Q(z) q(z) + r(z),\\qquad \\text{con } r(z) = 0 \\text{ o } \\text{gr}(r(z)) < \\text{gr}(Q(z)).\n",
    "$$"
   ]
  },
  {
   "cell_type": "markdown",
   "metadata": {},
   "source": [
    "**Demostracion.** Vista en el teorico."
   ]
  },
  {
   "cell_type": "markdown",
   "metadata": {},
   "source": [
    "**Ejercicio.** En las formulas obtenidas en clase, supusimos que $2m \\leq n$. Obtener las formulas para $q(z)$ y $r(z)$ si $2m > n$, $n \\geq m$."
   ]
  },
  {
   "cell_type": "markdown",
   "metadata": {},
   "source": [
    "**Nota.** El resultado anterior vale en general para cualquier cuerpo $F$. Ver por ejemplo [Teorema 3, pp. 299-300, Ch. 9, Abstract Algebra 3rd ed, D. S. Dummit, R. M. Foote]."
   ]
  },
  {
   "cell_type": "markdown",
   "metadata": {},
   "source": [
    "- El metodo de calculo de los coeficientes utilizado en la demostracion anterior se llama **metodo de Horner.**"
   ]
  },
  {
   "cell_type": "markdown",
   "metadata": {},
   "source": [
    "- Observar que si $P(z)$ y $Q(z)$ son polinomios a coeficientes reales, $q(z)$ y $r(z)$ tambien tienen coeficientes rales."
   ]
  },
  {
   "cell_type": "markdown",
   "metadata": {},
   "source": [
    "### Ejercicio\n",
    "\n",
    "En este ejercicio consideramos la evaluacion de un polinoio de grado $n$.\n",
    "Se asumira que los coeficientes del polinomio se pasan en un vector de largo $n+1$.\n",
    "\n",
    "- Implementar la version \"naive\" para evaluar un polinomio, es decir, acumulando sobre los monomios.\n",
    "- Implementar el metodo de Horner para evaluar un polinomio de grado $n$.\n",
    "- Comparar ambas implementaciones desde el punto de vista teorico.\n",
    "- Comparar ambas implementaciones utilizando la herramienta [BenchmarkTools](https://github.com/JuliaCI/BenchmarkTools.jl), para distintos valores de $n$."
   ]
  },
  {
   "cell_type": "markdown",
   "metadata": {},
   "source": [
    "En particular verificar que:\n",
    "\n",
    "- El metodo de Horner requiere  a lo sumo $n$ productos y $n$ sumas\n",
    "- Usando la forma monomial del polinomio requiere $n$ sumas y $(n^2 + n) / 2 $ productos."
   ]
  },
  {
   "cell_type": "markdown",
   "metadata": {},
   "source": [
    "Solucion."
   ]
  },
  {
   "cell_type": "markdown",
   "metadata": {},
   "source": [
    "Pseudo-codigo.\n",
    "\n",
    "Entrada: polinomio $P_n(z)$ de grado $n$, dado por sus $n$ coeficientes en un vector de largo $n+1$. Punto $z$ donde quiero evaluar mi polinomio.\n",
    "\n",
    "Salida: $P_n(z)$.\n",
    "\n",
    "Algoritmo (Horner)\n",
    "\n",
    "```julia\n",
    "b <- vector vacio de largo n+1\n",
    "\n",
    "b[n+1] = a[n+1]\n",
    "b[n] = a[n] + b[n+1] * z\n",
    "b[n-1] = a[n-1] + b[n] * z\n",
    "...\n",
    "b[1] = a[1] + b[2] * z\n",
    "\n",
    "devolver b[1]\n",
    "```"
   ]
  },
  {
   "cell_type": "code",
   "execution_count": 6,
   "metadata": {},
   "outputs": [
    {
     "data": {
      "text/plain": [
       "horner (generic function with 1 method)"
      ]
     },
     "execution_count": 6,
     "metadata": {},
     "output_type": "execute_result"
    }
   ],
   "source": [
    "function horner(a, z)\n",
    "    n = length(a) - 1\n",
    "    bi = a[n+1]\n",
    "    for i in n:-1:1\n",
    "        bi = a[i] + bi * z\n",
    "    end\n",
    "    return bi\n",
    "end"
   ]
  },
  {
   "cell_type": "code",
   "execution_count": 7,
   "metadata": {},
   "outputs": [
    {
     "data": {
      "text/plain": [
       "4.0 - 4.0im"
      ]
     },
     "execution_count": 7,
     "metadata": {},
     "output_type": "execute_result"
    }
   ],
   "source": [
    "P = P = [1.0, 0.0, -1.0]\n",
    "horner(P, 1 + 2im)"
   ]
  },
  {
   "cell_type": "markdown",
   "metadata": {},
   "source": [
    "$1 - z^2$"
   ]
  },
  {
   "cell_type": "code",
   "execution_count": 9,
   "metadata": {},
   "outputs": [
    {
     "data": {
      "text/plain": [
       "4 - 4im"
      ]
     },
     "execution_count": 9,
     "metadata": {},
     "output_type": "execute_result"
    }
   ],
   "source": [
    "1 - (1+2im)^2"
   ]
  },
  {
   "cell_type": "code",
   "execution_count": 3,
   "metadata": {},
   "outputs": [
    {
     "name": "stdout",
     "output_type": "stream",
     "text": [
      "3\n",
      "2\n",
      "1\n"
     ]
    }
   ],
   "source": [
    "n = 3\n",
    "for i in n:-1:1\n",
    "    println(i)\n",
    "end"
   ]
  },
  {
   "cell_type": "code",
   "execution_count": 4,
   "metadata": {},
   "outputs": [
    {
     "name": "stdout",
     "output_type": "stream",
     "text": [
      "1\n",
      "2\n",
      "3\n"
     ]
    }
   ],
   "source": [
    "for i in 1:1:n\n",
    "    println(i)\n",
    "end"
   ]
  },
  {
   "cell_type": "code",
   "execution_count": 5,
   "metadata": {},
   "outputs": [
    {
     "name": "stdout",
     "output_type": "stream",
     "text": [
      "1\n",
      "2\n",
      "3\n"
     ]
    }
   ],
   "source": [
    "for i in 1:n\n",
    "    println(i)\n",
    "end"
   ]
  },
  {
   "cell_type": "code",
   "execution_count": 2,
   "metadata": {},
   "outputs": [
    {
     "data": {
      "text/plain": [
       "3-element Array{Float64,1}:\n",
       "  1.0\n",
       "  0.0\n",
       " -1.0"
      ]
     },
     "execution_count": 2,
     "metadata": {},
     "output_type": "execute_result"
    }
   ],
   "source": [
    "P = [1.0, 0.0, -1.0]"
   ]
  },
  {
   "cell_type": "code",
   "execution_count": 12,
   "metadata": {},
   "outputs": [
    {
     "data": {
      "text/plain": [
       "evaluacion (generic function with 1 method)"
      ]
     },
     "execution_count": 12,
     "metadata": {},
     "output_type": "execute_result"
    }
   ],
   "source": [
    "# [a[1], a[2], . . ., a[n+1]]\n",
    "function evaluacion(a, z)\n",
    "    aux = a[1] # a0\n",
    "    n = length(a) - 1 # grado\n",
    "    for i in 2:n+1\n",
    "        aux += a[i] * z^(i-1)\n",
    "    end\n",
    "    return aux\n",
    "end"
   ]
  },
  {
   "cell_type": "code",
   "execution_count": 13,
   "metadata": {},
   "outputs": [
    {
     "data": {
      "text/plain": [
       "4.0 - 4.0im"
      ]
     },
     "execution_count": 13,
     "metadata": {},
     "output_type": "execute_result"
    }
   ],
   "source": [
    "evaluacion(P, 1+2im)"
   ]
  },
  {
   "cell_type": "markdown",
   "metadata": {},
   "source": [
    "$P_2(z) = 1 + 0*z - z^2$"
   ]
  },
  {
   "cell_type": "code",
   "execution_count": null,
   "metadata": {},
   "outputs": [],
   "source": [
    "# ] add BenchmarkTools"
   ]
  },
  {
   "cell_type": "code",
   "execution_count": 14,
   "metadata": {},
   "outputs": [],
   "source": [
    "using BenchmarkTools"
   ]
  },
  {
   "cell_type": "code",
   "execution_count": 16,
   "metadata": {},
   "outputs": [
    {
     "data": {
      "text/plain": [
       "11-element Array{Complex{Float64},1}:\n",
       "  0.8757761048313477 + 0.155723245712847im\n",
       "  0.6376764441629303 + 0.9007965974417731im\n",
       "  0.6914388745627069 + 0.18379400863644024im\n",
       " 0.33459293639510035 + 0.4944778216654797im\n",
       " 0.37256062548258084 + 0.9876969657548043im\n",
       "  0.3744009988483792 + 0.06441827855896243im\n",
       "  0.9825658741642955 + 0.9958664565461794im\n",
       "  0.8425306849936309 + 0.2261322320902288im\n",
       "  0.4736176021256069 + 0.21183048138228955im\n",
       "  0.9536282609746485 + 0.2825509408930613im\n",
       "  0.7121945310242739 + 0.09489838629319314im"
      ]
     },
     "execution_count": 16,
     "metadata": {},
     "output_type": "execute_result"
    }
   ],
   "source": [
    "P = rand(10 + 1) + im * rand(10+1)"
   ]
  },
  {
   "cell_type": "code",
   "execution_count": 17,
   "metadata": {},
   "outputs": [
    {
     "data": {
      "text/plain": [
       "27.651358418043717 + 30.217904601488787im"
      ]
     },
     "execution_count": 17,
     "metadata": {},
     "output_type": "execute_result"
    }
   ],
   "source": [
    "z = 1.0 + 1.0im\n",
    "horner(P, z)"
   ]
  },
  {
   "cell_type": "code",
   "execution_count": 18,
   "metadata": {},
   "outputs": [
    {
     "data": {
      "text/plain": [
       "27.65135841804371 + 30.217904601488794im"
      ]
     },
     "execution_count": 18,
     "metadata": {},
     "output_type": "execute_result"
    }
   ],
   "source": [
    "evaluacion(P, z)"
   ]
  },
  {
   "cell_type": "code",
   "execution_count": 19,
   "metadata": {},
   "outputs": [
    {
     "name": "stdout",
     "output_type": "stream",
     "text": [
      "  27.164 ns (0 allocations: 0 bytes)\n"
     ]
    },
    {
     "data": {
      "text/plain": [
       "27.651358418043717 + 30.217904601488787im"
      ]
     },
     "execution_count": 19,
     "metadata": {},
     "output_type": "execute_result"
    }
   ],
   "source": [
    "@btime horner($P, $z)"
   ]
  },
  {
   "cell_type": "code",
   "execution_count": 20,
   "metadata": {},
   "outputs": [
    {
     "name": "stdout",
     "output_type": "stream",
     "text": [
      "  112.579 ns (0 allocations: 0 bytes)\n"
     ]
    },
    {
     "data": {
      "text/plain": [
       "27.65135841804371 + 30.217904601488794im"
      ]
     },
     "execution_count": 20,
     "metadata": {},
     "output_type": "execute_result"
    }
   ],
   "source": [
    "@btime evaluacion($P, $z)"
   ]
  },
  {
   "cell_type": "markdown",
   "metadata": {},
   "source": [
    "### Ejemplos"
   ]
  },
  {
   "cell_type": "markdown",
   "metadata": {},
   "source": [
    "- Dividir el poloinomio $P_4(z) = 2z^4 - 3z^3 + 4z^2 - 5z + 6$ por el polinomio $Q_2(z) = z^2 - 3z + 1$.\n",
    "\n",
    "- Realizar el calculo a mano.\n",
    "\n",
    "- Realizar el calculo mediante calculo simbolico, utilizando las funciones `sympy.quo` y `sympy.rem`, o `sympy.div`, del modulo `SymPy`."
   ]
  },
  {
   "cell_type": "markdown",
   "metadata": {},
   "source": [
    "Para el calculo a mano, la idea es calcular los polinomios $q_2(z)$ y $r_1(z)$ tales que\n",
    "\n",
    "$$\n",
    "q_2(z) = c_2z^2 + c_1 z + c_0\n",
    "$$\n",
    "\n",
    "y\n",
    "\n",
    "$$\n",
    "r_1(z) = d_1 z + d_0\n",
    "$$\n"
   ]
  },
  {
   "cell_type": "markdown",
   "metadata": {},
   "source": [
    "Aqui $n = 4$, el grado del numerador, y $m=2$, el grado del denominador."
   ]
  },
  {
   "cell_type": "markdown",
   "metadata": {},
   "source": [
    "Usamos las formulas de recurrencia para el cociente:\n",
    "\n",
    "- $c_{2} = a_4 = 2$\n",
    "- $c_{1} = a_3 - c_2b_1 = -3 - 2*(-3) = 3$\n",
    "- $c_0 = a_2 - c_1 b_1 - c_2 b_0 = 4 - (3)*(-3) - 2 * 1 = 11$"
   ]
  },
  {
   "cell_type": "markdown",
   "metadata": {},
   "source": [
    "Por tanto,\n",
    "\n",
    "$$\n",
    "q_2(z) = 2z^2 + 3z + 11\n",
    "$$"
   ]
  },
  {
   "cell_type": "markdown",
   "metadata": {},
   "source": [
    "Usamos las formulas de recurrencia para el resto:\n",
    "\n",
    "- $d_1 = a_1 - c_0b_1- c_1 b_0 = -5 - (11)*(-3) - (3)*1 = 25$\n",
    "- $d_0 = a_0 - c_0 b_0 = 6 - 11 * 1 = -5$ "
   ]
  },
  {
   "cell_type": "markdown",
   "metadata": {},
   "source": [
    "Por tanto,\n",
    "\n",
    "$$\n",
    "r_1(z) = 25z - 5.\n",
    "$$"
   ]
  },
  {
   "cell_type": "markdown",
   "metadata": {},
   "source": [
    "Para el calculo simbolico, primero cargamos el paquete SymPy:"
   ]
  },
  {
   "cell_type": "code",
   "execution_count": 1,
   "metadata": {},
   "outputs": [],
   "source": [
    "using SymPy"
   ]
  },
  {
   "cell_type": "markdown",
   "metadata": {},
   "source": [
    "Luego definimos un \"simbolo\" `z`, y creamos los polinomios $P(z)$ y $Q(z)$:"
   ]
  },
  {
   "cell_type": "code",
   "execution_count": 2,
   "metadata": {},
   "outputs": [
    {
     "data": {
      "text/latex": [
       "\\begin{equation*}z\\end{equation*}"
      ],
      "text/plain": [
       "z"
      ]
     },
     "execution_count": 2,
     "metadata": {},
     "output_type": "execute_result"
    }
   ],
   "source": [
    "z = sympy.Symbol(\"z\")"
   ]
  },
  {
   "cell_type": "code",
   "execution_count": 3,
   "metadata": {},
   "outputs": [
    {
     "data": {
      "text/latex": [
       "\\begin{equation*}\\left(1 - z\\right) \\left(z - 4\\right)\\end{equation*}"
      ],
      "text/plain": [
       "(1 - z)⋅(z - 4)"
      ]
     },
     "execution_count": 3,
     "metadata": {},
     "output_type": "execute_result"
    }
   ],
   "source": [
    "(1-z)*(z-4)"
   ]
  },
  {
   "cell_type": "code",
   "execution_count": 4,
   "metadata": {},
   "outputs": [
    {
     "data": {
      "text/plain": [
       "P (generic function with 1 method)"
      ]
     },
     "execution_count": 4,
     "metadata": {},
     "output_type": "execute_result"
    }
   ],
   "source": [
    "P(z) = 2z^4 - 3z^3 + 4z^2 - 5z + 6"
   ]
  },
  {
   "cell_type": "code",
   "execution_count": 5,
   "metadata": {},
   "outputs": [
    {
     "data": {
      "text/latex": [
       "\\begin{equation*}2 z^{4} - 3 z^{3} + 4 z^{2} - 5 z + 6\\end{equation*}"
      ],
      "text/plain": [
       "   4      3      2          \n",
       "2⋅z  - 3⋅z  + 4⋅z  - 5⋅z + 6"
      ]
     },
     "execution_count": 5,
     "metadata": {},
     "output_type": "execute_result"
    }
   ],
   "source": [
    "P(z)"
   ]
  },
  {
   "cell_type": "code",
   "execution_count": 64,
   "metadata": {},
   "outputs": [
    {
     "data": {
      "text/plain": [
       "6.0"
      ]
     },
     "execution_count": 64,
     "metadata": {},
     "output_type": "execute_result"
    }
   ],
   "source": [
    "P(0.0)"
   ]
  },
  {
   "cell_type": "code",
   "execution_count": 66,
   "metadata": {},
   "outputs": [
    {
     "data": {
      "text/plain": [
       "-1.0 - 3.0im"
      ]
     },
     "execution_count": 66,
     "metadata": {},
     "output_type": "execute_result"
    }
   ],
   "source": [
    "P(1.0 + 1.0im)"
   ]
  },
  {
   "cell_type": "code",
   "execution_count": 44,
   "metadata": {},
   "outputs": [
    {
     "data": {
      "text/plain": [
       "Q (generic function with 1 method)"
      ]
     },
     "execution_count": 44,
     "metadata": {},
     "output_type": "execute_result"
    }
   ],
   "source": [
    "Q(z) = z^2 - 3z + 1"
   ]
  },
  {
   "cell_type": "code",
   "execution_count": 45,
   "metadata": {},
   "outputs": [
    {
     "data": {
      "text/latex": [
       "\\begin{equation*}z^{2} - 3 z + 1\\end{equation*}"
      ],
      "text/plain": [
       " 2          \n",
       "z  - 3⋅z + 1"
      ]
     },
     "execution_count": 45,
     "metadata": {},
     "output_type": "execute_result"
    }
   ],
   "source": [
    "Q(z)"
   ]
  },
  {
   "cell_type": "code",
   "execution_count": 59,
   "metadata": {},
   "outputs": [
    {
     "data": {
      "text/plain": [
       "(2*z^2 + 3*z + 11, 25*z - 5)"
      ]
     },
     "execution_count": 59,
     "metadata": {},
     "output_type": "execute_result"
    }
   ],
   "source": [
    "#sympy.div(P(z), Q(z), domain=sympy.CC)\n",
    "sympy.div(P(z), Q(z))"
   ]
  },
  {
   "cell_type": "code",
   "execution_count": 60,
   "metadata": {},
   "outputs": [
    {
     "data": {
      "text/latex": [
       "\\begin{equation*}2 z^{2} + 3 z + 11\\end{equation*}"
      ],
      "text/plain": [
       "   2           \n",
       "2⋅z  + 3⋅z + 11"
      ]
     },
     "execution_count": 60,
     "metadata": {},
     "output_type": "execute_result"
    }
   ],
   "source": [
    "sympy.quo(P(z), Q(z))"
   ]
  },
  {
   "cell_type": "code",
   "execution_count": 62,
   "metadata": {},
   "outputs": [
    {
     "data": {
      "text/latex": [
       "\\begin{equation*}25 z - 5\\end{equation*}"
      ],
      "text/plain": [
       "25⋅z - 5"
      ]
     },
     "execution_count": 62,
     "metadata": {},
     "output_type": "execute_result"
    }
   ],
   "source": [
    "sympy.rem(P(z), Q(z))"
   ]
  },
  {
   "cell_type": "markdown",
   "metadata": {},
   "source": [
    "---"
   ]
  },
  {
   "cell_type": "markdown",
   "metadata": {},
   "source": [
    "Pregunta:\n",
    "\n",
    "- Si $P(z) = Q(z)$ para todo $z$, acaso todos los coeficientes de $P$ y de $Q$ coinciden?\n",
    "- La pregunta se reduce, factorizando los terminos de igual orden, a la siguiente: si $P_n(z) = 0$, ie. es identicamente cero, acaso todos sus coeficientes son cero"
   ]
  },
  {
   "cell_type": "markdown",
   "metadata": {},
   "source": [
    "## Raices de polinomios y sus propiedades"
   ]
  },
  {
   "cell_type": "markdown",
   "metadata": {},
   "source": [
    "Decimos que $\\alpha \\in \\mathbb{C}$ es una *raiz* del polinomio $P_n(z)$ si $P_n(\\alpha) = 0$."
   ]
  },
  {
   "cell_type": "markdown",
   "metadata": {},
   "source": [
    "**Teorema de Bezout.** Sea $\\alpha \\in \\mathbb{C}$ y $n\\geq 1$. Entonces, $z-\\alpha$ divide al polinomio $P_n(z) - P_n(\\alpha)$."
   ]
  },
  {
   "cell_type": "markdown",
   "metadata": {},
   "source": [
    "*Demostracion.* Usando el teorema de la division, con numerador $P_n(z) - P_n(\\alpha)$, y denominador $z-\\alpha$, tenemos\n",
    "\n",
    "$$\n",
    "P_n(z) - P_n(\\alpha) = q_{n-1}(z)(z - \\alpha) + r\n",
    "$$\n",
    "donde $r$ es un escalar o el polinomio nulo.\n",
    "\n",
    "Tomando $z = \\alpha$, queda $0 = 0 + r$ es decir $r = 0$. Por tanto, \n",
    "$$\n",
    "P_n(z) - P_n(\\alpha) = q_{n-1}(z)(z - \\alpha)\n",
    "$$\n",
    "y $(z-\\alpha)$ divide a $P_n(z) - P_n(\\alpha)$, que es lo que queriamos demostrar."
   ]
  },
  {
   "cell_type": "markdown",
   "metadata": {},
   "source": [
    "**Corolario.** Un numero complejo $\\alpha  \\in \\mathbb{C}$ es un raiz de un polinomio $P_n(z)$ sii $z-\\alpha$ divide a $P_n(z)$."
   ]
  },
  {
   "cell_type": "markdown",
   "metadata": {},
   "source": [
    "La prueba es trivial, utilizando el teorema de Bezout."
   ]
  },
  {
   "cell_type": "markdown",
   "metadata": {},
   "source": [
    "### Nocion de multiplicidad."
   ]
  },
  {
   "cell_type": "markdown",
   "metadata": {},
   "source": [
    "Un numero $\\alpha \\in \\mathbb{C}$ se dice una raiz con multiplicidad $k\\geq 1$ de un polinomio $P_n(z)$ si $(z-\\alpha)^k$ divide a $P_n(z)$:\n",
    "\n",
    "$$\n",
    "P_n(z) = (z-\\alpha)^k q_{n-k}(z),\n",
    "$$\n",
    "y $z-\\alpha$ *no divide* a $q_{n-k}(z)$. Es decir, $\\alpha$ no debe ser una raiz del polinomio $q_{n-k}(z)$."
   ]
  },
  {
   "cell_type": "markdown",
   "metadata": {},
   "source": [
    "Una raiz se dice *simple* si tiene multiplicidad uno."
   ]
  },
  {
   "cell_type": "markdown",
   "metadata": {},
   "source": [
    "### Teorema fundamental del algebra"
   ]
  },
  {
   "cell_type": "markdown",
   "metadata": {},
   "source": [
    "Diremos que un polinomio esta *normalizado* si su coeficiente de maximo orden (leading coefficient) es 1. Notese que dado $P_n(z)$ no normalizado, si hago $\\tilde{P}_n(z) = P_n(z) / a_n$ entonces el el zero set o conjunto donde se anulan $P$ y $\\tilde{P}$, es decir el conjunto de raices, es el mismo. Es por eso que para simplificar la notacion a menudo consideramos polinomios normalizados, sin perdida de generalidad."
   ]
  },
  {
   "cell_type": "markdown",
   "metadata": {},
   "source": [
    "**Teorema fundamental del álgebra.** Cada polinomio\n",
    "\n",
    "$$\n",
    "P_n(z) = z^n + a_{n-1}z^{n-1}+\\ldots+a_0,\\qquad n \\geq 1\n",
    "$$\n",
    "tiene por lo menos una raiz."
   ]
  },
  {
   "cell_type": "markdown",
   "metadata": {},
   "source": [
    "*Demostracion.* Vista en el teorico."
   ]
  },
  {
   "cell_type": "markdown",
   "metadata": {},
   "source": [
    "**Teorema.** Cada polinomio de grado $n \\geq 1$ tiene $n$ raices (contadas con su multiplicidad)."
   ]
  },
  {
   "cell_type": "markdown",
   "metadata": {},
   "source": [
    "*Demostracion.* Vista en el teorico."
   ]
  },
  {
   "cell_type": "markdown",
   "metadata": {},
   "source": [
    "**Teorema.** Ningun polinomio $P_n$ de grado $n \\geq 1$ puede tener mas de $n$ raices."
   ]
  },
  {
   "cell_type": "markdown",
   "metadata": {},
   "source": [
    "## Formulas de Viete"
   ]
  },
  {
   "cell_type": "markdown",
   "metadata": {},
   "source": [
    "Sea $P_n(z) = \\sum_{i=1}^n a_i z^i$ un polinomio de grado $n \\geq 1$. Supongamos que el polinomio $P_n$ tiene raices $\\alpha_1,\\ldots, \\alpha_m$ de multiplicidades $k_1, k_2, \\ldots, k_m$, y $k_1 + k_2 + \\ldots + k_m = n$. "
   ]
  },
  {
   "cell_type": "markdown",
   "metadata": {},
   "source": [
    "Entonces podemos escribir \n",
    "\n",
    "$$\n",
    "P_n(z) = A (z-\\alpha_1)^{k_1} (z-\\alpha_2)^{k_2} \\cdots (z-\\alpha_m)^{k_m}\n",
    "$$\n",
    "siendo $A$ una constante."
   ]
  },
  {
   "cell_type": "markdown",
   "metadata": {},
   "source": [
    "Sea $P_n$ un polinomio normalizado de grado $n \\geq 1$. Supongamos que se enumeran las raices por los enteros $1, 2, \\ldots, n$ repitiendo cada una de a cuerdo a su multiplicidad. Entonces\n",
    "\n",
    "$$\n",
    "P_n(z) = (z-\\alpha_1)(z-\\alpha_2)\\cdots (z-\\alpha_n)\n",
    "$$"
   ]
  },
  {
   "cell_type": "markdown",
   "metadata": {},
   "source": [
    "**Teorema (Formulas de Viete)**. Se verifica que\n",
    "\n",
    "$$\n",
    "a_{n-1} = -(\\alpha_1 + \\alpha_2 + \\ldots + \\alpha_n) \\\\\n",
    "a_{n-2} = \\alpha_1 \\alpha_2 + \\alpha_1 \\alpha_3 + \\ldots + \\alpha_{n-1}\\alpha_n \\\\\n",
    "\\cdots  \\\\\n",
    "a_{0} = (-1)^n \\alpha_1  \\alpha_2  \\cdots  \\alpha_n\n",
    "$$"
   ]
  },
  {
   "cell_type": "markdown",
   "metadata": {},
   "source": [
    "<img src=\"https://upload.wikimedia.org/wikipedia/commons/thumb/2/2a/Francois_Viete.jpg/440px-Francois_Viete.jpg\" alt=\"PageRank\" style=\"width: 150px;\"/>"
   ]
  },
  {
   "cell_type": "markdown",
   "metadata": {},
   "source": [
    "*Demostracion.* La idea es agrupar todos los coeficientes con la misma potencia de $z$ en el lado derecho, e igualarlos a los coeficientes del lado izquierdo."
   ]
  },
  {
   "cell_type": "markdown",
   "metadata": {},
   "source": [
    "Observar que:\n",
    "\n",
    "- El numero de factores aumenta en 1 en cada fila.\n",
    "- Se suman todos los posibles productos de tales factores.\n",
    "- El factor (-1) va alternando."
   ]
  },
  {
   "cell_type": "markdown",
   "metadata": {},
   "source": [
    "Las formulas anteriores relacionan los coeficientes del polinomio con sumas y productos de sus raices, por eso tambien se conocen como *relaciones entres coeficientes y raices.*"
   ]
  },
  {
   "cell_type": "markdown",
   "metadata": {},
   "source": [
    "## Polinomios a coeficientes reales"
   ]
  },
  {
   "cell_type": "markdown",
   "metadata": {},
   "source": [
    "Supongamos que todos los coeficintes de $P_n(z) = z^n + a_{n-1} z^{n-1} + \\ldots + a_0$, de grado $n \\geq 1$ son reales. Sea $\\alpha$ una raiz de $P_n$."
   ]
  },
  {
   "cell_type": "markdown",
   "metadata": {},
   "source": [
    "Observar que:\n",
    "\n",
    "- El complejo conjugado $\\alpha^*$ tambien es raiz, porque si $P_n(\\alpha) = 0$ entonces conjugando a ambos lados, $(P_n(\\alpha))^* = 0$.\n",
    "- Por linealidad de la operacion conugada, $(\\alpha^*)^n + a_{n-1}(\\alpha^*)^{n-1} + \\ldots + a_0 = P_n(\\alpha^*) = 0$."
   ]
  },
  {
   "cell_type": "markdown",
   "metadata": {},
   "source": [
    "- Sean $\\alpha_1, \\ldots, \\alpha_s$ son todas las raices reales del polinomio $P_n$. Sean $k_1, \\ldots, k_s$ sus respectivas multiplicidades. Sea\n",
    "\n",
    "$$\n",
    "r = k_1 + k_2 + \\ldots + k_s\n",
    "$$\n",
    "$$\n",
    "Q_r(z) = (z-\\alpha)^{k_1} (z-\\alpha_2)^{k_2} \\cdots (z-\\alpha_s)^{k_s}\n",
    "$$"
   ]
  },
  {
   "cell_type": "markdown",
   "metadata": {},
   "source": [
    "# Sistemas de ecuaciones lineales"
   ]
  },
  {
   "cell_type": "markdown",
   "metadata": {},
   "source": [
    "## Permutaciones. Determinantes. Propiedades basicas."
   ]
  },
  {
   "cell_type": "markdown",
   "metadata": {},
   "source": [
    "- Sea $M_n = \\{1, 2, \\ldots, n\\}$.\n",
    "- Podemos ordenar los elementos de $M_n$ de maneras distintas.\n",
    "- Cada una de dichas ordenacion se se llama *permutacion*.\n",
    "- Por ejmplo,\n",
    "\n",
    "$$\n",
    "1, 2, 3, \\ldots, n\n",
    "$$\n",
    "y\n",
    "$$\n",
    "2, 1, 3, \\ldots, n\n",
    "$$\n",
    "son dos permutaciones distintas."
   ]
  },
  {
   "cell_type": "markdown",
   "metadata": {},
   "source": [
    "- En general una permutacion de $M_n$ la podemos escribir de la foma\n",
    "\n",
    "$$\n",
    "n_1, n_2, \\ldots, n_n\n",
    "$$\n",
    "siendo $n_1, n_2, \\ldots, n_n$ los numeros enteros $1, 2, 3, \\ldots, n$ en algun orden."
   ]
  },
  {
   "cell_type": "markdown",
   "metadata": {},
   "source": [
    "- El numero de permutaciones distintas de $M_n$ se denota $P_n$."
   ]
  },
  {
   "cell_type": "markdown",
   "metadata": {},
   "source": [
    "**Ejercicio.** $P_n$ es igual al producto de los primeros $n$ numeros naturales, $n! = 1\\times 2 \\times \\cdots \\times n$. Sugerencia: hacer induccion en $n$."
   ]
  },
  {
   "cell_type": "markdown",
   "metadata": {},
   "source": [
    "## Eliminacion Gaussiana"
   ]
  }
 ],
 "metadata": {
  "kernelspec": {
   "display_name": "Julia 1.4.0",
   "language": "julia",
   "name": "julia-1.4"
  },
  "language_info": {
   "file_extension": ".jl",
   "mimetype": "application/julia",
   "name": "julia",
   "version": "1.4.0"
  }
 },
 "nbformat": 4,
 "nbformat_minor": 2
}
