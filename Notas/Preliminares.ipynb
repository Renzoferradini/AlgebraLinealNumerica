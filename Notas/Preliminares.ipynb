{
 "cells": [
  {
   "cell_type": "markdown",
   "metadata": {},
   "source": [
    "# Notación"
   ]
  },
  {
   "cell_type": "markdown",
   "metadata": {},
   "source": [
    "Referencias:\n",
    "\n",
    "- Golan, Chapter 1.\n",
    "- Wendland, Chapter 1.\n",
    "- Horn & Johnson, Chapter 0."
   ]
  },
  {
   "cell_type": "markdown",
   "metadata": {},
   "source": [
    "En esta seccion vamos a hacer un repasito de la notacion matematica que usaremos."
   ]
  },
  {
   "cell_type": "markdown",
   "metadata": {},
   "source": [
    "**Cuerpos**\n",
    "\n",
    "- $\\mathbb{R}$: números reales\n",
    "- $\\mathbb{Z}$: números enteros\n",
    "- $\\mathbb{N}$: números naturales (no incluye el cero)\n",
    "- $\\mathbb{N}_0$: números naturales incluyendo el cero\n",
    "- $\\mathbb{C}$: números complejos\n",
    "- $\\mathbb{Q}$: números racionales"
   ]
  },
  {
   "cell_type": "markdown",
   "metadata": {},
   "source": [
    "$\\mathbb{R}^n$: vector de $n$ componentes en $\\mathbb{R}^n$"
   ]
  },
  {
   "cell_type": "markdown",
   "metadata": {},
   "source": [
    "Las componentes de un vector $x \\in \\mathbb{R}^n$ son $x_j \\in \\mathbb{R}$, i.e. $x = (x_1, \\ldots, x_n)^T$ o\n",
    "$$\n",
    "x = \\begin{pmatrix} x_1 \\\\ x_2 \\\\ \\vdots \\\\ x_n \\end{pmatrix}.\n",
    "$$"
   ]
  },
  {
   "cell_type": "markdown",
   "metadata": {},
   "source": [
    "- Los \"vectores\" son vectores columna.\n",
    "\n",
    "- La base canonica de $\\mathbb{R}^n$ es $e_1, \\ldots, e_n$, i.e. $e_i$ tiene todas las componentes $0$ salvo la i-esima que vale $1$."
   ]
  },
  {
   "cell_type": "markdown",
   "metadata": {},
   "source": [
    "$e_1=(1, 0, 0)^T$\n",
    "$e_2=(0, 1, 0)^T$\n",
    "$e_3=(0, 0, 1)^T$"
   ]
  },
  {
   "cell_type": "markdown",
   "metadata": {},
   "source": [
    "- Producto interno o escalar entre vectores de $\\mathbb{R}^n$: para todos $x, y \\in \\mathbb{R}^n$, $x^T y = \\langle x , y \\rangle_2$ definido como\n",
    "\n",
    "$$\n",
    "\\langle x, y \\rangle = \\sum_{j=1}^n x_j y_j.\n",
    "$$"
   ]
  },
  {
   "cell_type": "markdown",
   "metadata": {},
   "source": [
    "- Notamos $A \\in \\mathbb{R}^{m \\times n}$ a una matrix $A$ de componentes reales, con $m$ filas y $n$ columnas."
   ]
  },
  {
   "cell_type": "markdown",
   "metadata": {},
   "source": [
    "- Notamos con $A = (a_{ij})$ donde el indice $i$ refiere al a i-esima fila de $A$ y el indice $j$ refiere a la j-esima columna de $A$."
   ]
  },
  {
   "cell_type": "markdown",
   "metadata": {},
   "source": [
    "- Es decir,\n",
    "\n",
    "$$\n",
    "A = (a_{ij}) = \\begin{pmatrix} a_{11} & a_{12} & \\cdots  & a_{1n} \\\\\n",
    "a_{21} & a_{22} & \\cdots & a_{2n} \\\\\n",
    "\\vdots &  & & \\vdots \\\\\n",
    "a_{m1} & a_{m2}& \\cdots& a_{mn} \\end{pmatrix}\n",
    "$$"
   ]
  },
  {
   "cell_type": "markdown",
   "metadata": {},
   "source": [
    "- Notar que $a_{ij} = e_i^T A e_j$.\n",
    "\n",
    "- Si $A$ no es cuadrada, digamos es $A \\in \\mathbb{R}^{m\\times n}$, tambien podemos escribir $a_{ij} = e_i^{(m)T} A e_j^{(n)}$ o simplemente abusando un poco de la notacion, $a_{ij} = e_i^T A e_j$."
   ]
  },
  {
   "cell_type": "markdown",
   "metadata": {},
   "source": [
    "- El *simbolo de Kronecker* $\\delta_{ij}$ se define como $\\delta_{ii} = 1$ (es decir $i = j$) y $0$ si $i \\neq j$."
   ]
  },
  {
   "cell_type": "markdown",
   "metadata": {},
   "source": [
    "- La matriz identidad en $\\mathbb{R}^n$ se denota con $I_n \\in \\mathbb{R}^{n\\times n}$ o simplemente $I \\in \\mathbb{R}^{n\\times n}$."
   ]
  },
  {
   "cell_type": "markdown",
   "metadata": {},
   "source": [
    "- Notar que $I = (\\delta_{ij})_{1 \\leq i, j \\leq n}$."
   ]
  },
  {
   "cell_type": "markdown",
   "metadata": {},
   "source": [
    "- Columnas de $A \\in \\mathbb{R}^{m \\times n}$: $A_j := Ae_j \\in \\mathbb{R}^m$, $1 \\leq j \\leq n$."
   ]
  },
  {
   "cell_type": "markdown",
   "metadata": {},
   "source": [
    "- En particular, $A = (A_1, A_2, \\ldots, A_n)$."
   ]
  },
  {
   "cell_type": "markdown",
   "metadata": {},
   "source": [
    "- Producto matriz por vector: sea $A \\in \\mathbb{R}^{m \\times n}$ y sea $x \\in \\mathbb{R}^n$. Entonces\n",
    "\n",
    "$$\n",
    "Ax = A\\sum_j x_j e_j = \\sum_j x_j A_j.\n",
    "$$"
   ]
  },
  {
   "cell_type": "markdown",
   "metadata": {},
   "source": [
    "**Simbolos**\n",
    "\n",
    "- $\\vert \\cdot \\vert$: valor absoluto\n",
    "- $\\langle \\cdot, \\cdot \\rangle$: producto interno\n",
    "- $\\Vert \\cdot \\Vert$: norma"
   ]
  },
  {
   "cell_type": "markdown",
   "metadata": {},
   "source": [
    "**Algunas abreviaciones comunes**"
   ]
  },
  {
   "cell_type": "markdown",
   "metadata": {},
   "source": [
    "- ALN: algebra lineal numerica\n",
    "- LI: linealmente independiente\n",
    "- LD: linealmente dependiente\n",
    "- v.p.: valores propios\n",
    "- e.v.: espacio vectorial\n",
    "- e.v.p.i: espacio vectorial con producto interno\n",
    "- LQQD: lo que queda demostrado (tambien, QED) o el simbolo $\\blacksquare$ para indicar el final de una demostracion\n",
    "- flops: floating-point operations"
   ]
  },
  {
   "cell_type": "markdown",
   "metadata": {},
   "source": [
    "**Abreviaciones que designan algoritmos**\n",
    "\n",
    "- SVD: descomposicion en valores singulares\n",
    "- QR: descomposicion QR"
   ]
  },
  {
   "cell_type": "markdown",
   "metadata": {},
   "source": [
    "# Tipos especiales de matrices"
   ]
  },
  {
   "cell_type": "markdown",
   "metadata": {},
   "source": [
    "$A \\in \\mathbb{R}^{m\\times n}$"
   ]
  },
  {
   "cell_type": "markdown",
   "metadata": {},
   "source": [
    "- Matriz cuadrada: $m = n$"
   ]
  },
  {
   "cell_type": "markdown",
   "metadata": {},
   "source": [
    "- Matriz diagonal, $a_{ij} = 0$ para $i \\neq j$.\n",
    "    - Si $a_{ii} = \\lambda_i$, notamos $A = diag(\\lambda_1, \\ldots, \\lambda_n)$"
   ]
  },
  {
   "cell_type": "markdown",
   "metadata": {},
   "source": [
    "- Matriz triangular superior: $a_{ij} = 0$ para $i > j$."
   ]
  },
  {
   "cell_type": "markdown",
   "metadata": {},
   "source": [
    "- Matriz triangular inferior: $a_{ij} = 0$ para $i < j$."
   ]
  },
  {
   "cell_type": "markdown",
   "metadata": {},
   "source": [
    "- Matriz en banda: existen $k, l \\in \\mathbb{N}_0$ tales que $a_{ij} = 0$ si $j < i - k$ o $j > i + l$.\n",
    "    - Tengo a lo sumo $k$ sub-diagonales y $l$ super-diagonales con entrada (posiblemente) no nulas."
   ]
  },
  {
   "cell_type": "markdown",
   "metadata": {},
   "source": [
    "- Matriz esparsa/rala/dispersa (en ingles, *sparse matrix*): \"muchas\" entradas son cero, digamos, mas de la mitad"
   ]
  },
  {
   "cell_type": "markdown",
   "metadata": {},
   "source": [
    "- Densa/full : si no es esparsa."
   ]
  },
  {
   "cell_type": "markdown",
   "metadata": {},
   "source": [
    "Notas:\n",
    "\n",
    "- La matriz identidad es $I = diag(1, \\ldots, 1) \\in \\mathbb{R}^n$."
   ]
  },
  {
   "cell_type": "markdown",
   "metadata": {},
   "source": [
    "- Matriz en banda con $k = l = 1$: **tridiagonal**"
   ]
  },
  {
   "cell_type": "markdown",
   "metadata": {},
   "source": [
    "- La matriz transpuesta de $A =  (a_{ij}) \\in \\mathbb{R}^{m \\times n}$ se denota $A^T$ y se define intercambiando las filas y las columnas de $A$, es decir, $A^T = (a_{ji}) \\in \\mathbb{R}^{n \\times m}$.\n",
    "\n",
    "- Una matriz cuadrada $A \\in \\mathbb{R}^{n\\times n}$ se dice **simetrica** si $A^T = A$."
   ]
  },
  {
   "cell_type": "markdown",
   "metadata": {},
   "source": [
    "### Ejercicios para resolver con computadora\n",
    "\n",
    "- Construir matrices de los distintos tipos en Julia.\n",
    "- Investigar los comandos `rand`, `randn` para generar vectores y matrices aleatorias.\n",
    "- Investigar los comandos `sprand`, `sprandn` para generar vectores y matrices esparsas aleatorios.\n",
    "- Visualizar las matrices generadas anteriormente con el comando `spy` de la libreria `PyPlot`.\n",
    "- Escribir una funcion que recibe una matriz y un vector y devuelve el producto entre $A$ y $x$.\n",
    "- Observar que Julia ya \"sabe\" calcular $Ax$.\n",
    "- Escribir una funcion que recibe una matriz y devuelve la matriz transpuesta.\n",
    "- Escribir una funcion que determina si una matriz es simetrica o no."
   ]
  },
  {
   "cell_type": "markdown",
   "metadata": {},
   "source": [
    "### Ejercicios teoricos"
   ]
  },
  {
   "cell_type": "markdown",
   "metadata": {},
   "source": [
    "Dada $A \\in \\mathbb{R}^{n\\times n}$, decimos que $X$ es la inversa de $A$ si verifica que: $AX = XA = I_n$.\n",
    "\n",
    "Notamos $A^{-1} = X$.\n",
    "\n",
    "- Si una matriz $A \\in \\mathbb{R}^{n\\times n}$ es simetrica e invertible, entonces $A^{-1}$ tambien lo es.\n",
    "- La transpuesta y la inversa de una matriz satisfacen (mientras que las inversas esten definidas):\n",
    "    - (i) $(AB)^T = B^T A^T$\n",
    "    - (ii) $(AB)^{-1} = B^{-1} A^{-1}$."
   ]
  },
  {
   "cell_type": "markdown",
   "metadata": {},
   "source": [
    "# Introduccion al lenguaje de programacion Julia"
   ]
  },
  {
   "cell_type": "markdown",
   "metadata": {},
   "source": [
    "En esta parte vamos a familiarizarnos con algunas tecnicas basicas de programacion. En particular:\n",
    "\n",
    "- `for`, `while`: iteracion\n",
    "- `if`, `then`, `else`: condicionales\n",
    "\n",
    "- Funciones: `funcion: entrada -> salida`\n",
    "\n",
    "- Asignar un nuevo valor a una variable $x$, por ejemplo\n",
    "    - `x := x + y` que significa que primero evaluo la suma de $x$ con $y$ y luego, este resultado es asignado a $x$.\n",
    "    \n",
    "- Input/Output en un algoritmo.\n",
    "\n",
    "- Un algoritmo debe tener un *criterio de terminacion*."
   ]
  },
  {
   "cell_type": "markdown",
   "metadata": {},
   "source": [
    "Empezaremos por ver cómo se definen variables, vectores y matrices en Julia."
   ]
  },
  {
   "cell_type": "markdown",
   "metadata": {},
   "source": [
    "# Variables, vectores y matrices"
   ]
  },
  {
   "cell_type": "code",
   "execution_count": 14,
   "metadata": {},
   "outputs": [
    {
     "data": {
      "text/plain": [
       "2020"
      ]
     },
     "execution_count": 14,
     "metadata": {},
     "output_type": "execute_result"
    }
   ],
   "source": [
    "Marcelo = 2020"
   ]
  },
  {
   "cell_type": "code",
   "execution_count": 15,
   "metadata": {},
   "outputs": [
    {
     "data": {
      "text/plain": [
       "2021"
      ]
     },
     "execution_count": 15,
     "metadata": {},
     "output_type": "execute_result"
    }
   ],
   "source": [
    "Marcelo_mas_uno = Marcelo + 1"
   ]
  },
  {
   "cell_type": "code",
   "execution_count": 16,
   "metadata": {},
   "outputs": [
    {
     "data": {
      "text/plain": [
       "2020"
      ]
     },
     "execution_count": 16,
     "metadata": {},
     "output_type": "execute_result"
    }
   ],
   "source": [
    "Marcelo"
   ]
  },
  {
   "cell_type": "code",
   "execution_count": 18,
   "metadata": {},
   "outputs": [
    {
     "data": {
      "text/plain": [
       "2120"
      ]
     },
     "execution_count": 18,
     "metadata": {},
     "output_type": "execute_result"
    }
   ],
   "source": [
    "x = 2020\n",
    "y = 100\n",
    "\n",
    "x + y"
   ]
  },
  {
   "cell_type": "code",
   "execution_count": 19,
   "metadata": {},
   "outputs": [
    {
     "data": {
      "text/plain": [
       "202000"
      ]
     },
     "execution_count": 19,
     "metadata": {},
     "output_type": "execute_result"
    }
   ],
   "source": [
    "Marcelo = Marcelo * 100"
   ]
  },
  {
   "cell_type": "code",
   "execution_count": 21,
   "metadata": {},
   "outputs": [
    {
     "data": {
      "text/plain": [
       "1"
      ]
     },
     "execution_count": 21,
     "metadata": {},
     "output_type": "execute_result"
    }
   ],
   "source": [
    "x = 1"
   ]
  },
  {
   "cell_type": "code",
   "execution_count": 22,
   "metadata": {},
   "outputs": [
    {
     "data": {
      "text/plain": [
       "1"
      ]
     },
     "execution_count": 22,
     "metadata": {},
     "output_type": "execute_result"
    }
   ],
   "source": [
    "x"
   ]
  },
  {
   "cell_type": "code",
   "execution_count": 23,
   "metadata": {},
   "outputs": [
    {
     "data": {
      "text/plain": [
       "2"
      ]
     },
     "execution_count": 23,
     "metadata": {},
     "output_type": "execute_result"
    }
   ],
   "source": [
    "x = 2*x"
   ]
  },
  {
   "cell_type": "code",
   "execution_count": 24,
   "metadata": {},
   "outputs": [
    {
     "data": {
      "text/plain": [
       "2"
      ]
     },
     "execution_count": 24,
     "metadata": {},
     "output_type": "execute_result"
    }
   ],
   "source": [
    "x"
   ]
  },
  {
   "cell_type": "markdown",
   "metadata": {},
   "source": [
    "## Vectores"
   ]
  },
  {
   "cell_type": "markdown",
   "metadata": {},
   "source": [
    "Supongamos que quiero definir $x = (1, 2)^T$."
   ]
  },
  {
   "cell_type": "code",
   "execution_count": 25,
   "metadata": {},
   "outputs": [
    {
     "data": {
      "text/plain": [
       "2-element Array{Int64,1}:\n",
       " 1\n",
       " 2"
      ]
     },
     "execution_count": 25,
     "metadata": {},
     "output_type": "execute_result"
    }
   ],
   "source": [
    "x = [1, 2]"
   ]
  },
  {
   "cell_type": "markdown",
   "metadata": {},
   "source": [
    "Supongamos que quiero definir $x = (1, 2, 3, 4)^T$."
   ]
  },
  {
   "cell_type": "code",
   "execution_count": 26,
   "metadata": {},
   "outputs": [
    {
     "data": {
      "text/plain": [
       "4-element Array{Int64,1}:\n",
       " 1\n",
       " 2\n",
       " 3\n",
       " 4"
      ]
     },
     "execution_count": 26,
     "metadata": {},
     "output_type": "execute_result"
    }
   ],
   "source": [
    "x = [1, 2, 3, 4]"
   ]
  },
  {
   "cell_type": "markdown",
   "metadata": {},
   "source": [
    "$x = (1.0, 2.5)^T$:"
   ]
  },
  {
   "cell_type": "code",
   "execution_count": 27,
   "metadata": {},
   "outputs": [
    {
     "data": {
      "text/plain": [
       "2-element Array{Float64,1}:\n",
       " 1.0\n",
       " 2.5"
      ]
     },
     "execution_count": 27,
     "metadata": {},
     "output_type": "execute_result"
    }
   ],
   "source": [
    "x = [1.0, 2.5]"
   ]
  },
  {
   "cell_type": "markdown",
   "metadata": {},
   "source": [
    "\n",
    "|Tipo|Conjunto|Ejemplo|\n",
    "|----|-----|-----|\n",
    "|`Int64`|Enteros|`x = 1`|\n",
    "|`Float64`|Numeros con coma|`x = 1.5`|\n",
    "|`Rational{Int64}`|Racionales|`x = 2//1`|\n",
    "|`Complex{Int64}`|Complejos|`x = 1 - im`|\n",
    "|`Complex{Float64}`|Complejos|`x = 1.0 - 1.5im`|"
   ]
  },
  {
   "cell_type": "code",
   "execution_count": 45,
   "metadata": {},
   "outputs": [
    {
     "data": {
      "text/plain": [
       "Complex{Int64}"
      ]
     },
     "execution_count": 45,
     "metadata": {},
     "output_type": "execute_result"
    }
   ],
   "source": [
    "x = 1 - im\n",
    "typeof(x)"
   ]
  },
  {
   "cell_type": "code",
   "execution_count": 46,
   "metadata": {},
   "outputs": [
    {
     "data": {
      "text/plain": [
       "Complex{Float64}"
      ]
     },
     "execution_count": 46,
     "metadata": {},
     "output_type": "execute_result"
    }
   ],
   "source": [
    "x = 1.0 - 1.5im\n",
    "typeof(x)"
   ]
  },
  {
   "cell_type": "code",
   "execution_count": 47,
   "metadata": {},
   "outputs": [
    {
     "data": {
      "text/plain": [
       "Complex{Float64}"
      ]
     },
     "execution_count": 47,
     "metadata": {},
     "output_type": "execute_result"
    }
   ],
   "source": [
    "x = 1 - 1.5im\n",
    "typeof(x)"
   ]
  },
  {
   "cell_type": "markdown",
   "metadata": {},
   "source": [
    "**Type promotion (promocion)**"
   ]
  },
  {
   "cell_type": "markdown",
   "metadata": {},
   "source": [
    "$x = (1, 2)^T \\in \\mathbb{Q}^2$."
   ]
  },
  {
   "cell_type": "code",
   "execution_count": 28,
   "metadata": {},
   "outputs": [
    {
     "data": {
      "text/plain": [
       "2-element Array{Rational{Int64},1}:\n",
       " 1//1\n",
       " 2//1"
      ]
     },
     "execution_count": 28,
     "metadata": {},
     "output_type": "execute_result"
    }
   ],
   "source": [
    "x = [1//1, 2//1]"
   ]
  },
  {
   "cell_type": "markdown",
   "metadata": {},
   "source": [
    "$x = (1.0+i, 1.0-i)^T \\in \\mathbb{C}^2$."
   ]
  },
  {
   "cell_type": "code",
   "execution_count": 35,
   "metadata": {},
   "outputs": [
    {
     "data": {
      "text/plain": [
       "2-element Array{Complex{Int64},1}:\n",
       " 1 + 1im\n",
       " 1 - 1im"
      ]
     },
     "execution_count": 35,
     "metadata": {},
     "output_type": "execute_result"
    }
   ],
   "source": [
    "x = [1+1im, 1-1im]"
   ]
  },
  {
   "cell_type": "code",
   "execution_count": null,
   "metadata": {},
   "outputs": [],
   "source": []
  },
  {
   "cell_type": "code",
   "execution_count": 38,
   "metadata": {},
   "outputs": [],
   "source": [
    "using LinearAlgebra"
   ]
  },
  {
   "cell_type": "code",
   "execution_count": 40,
   "metadata": {},
   "outputs": [
    {
     "data": {
      "text/plain": [
       "2-element Array{Int64,1}:\n",
       " 2\n",
       " 2"
      ]
     },
     "execution_count": 40,
     "metadata": {},
     "output_type": "execute_result"
    }
   ],
   "source": [
    "[1+I, 1+I]"
   ]
  },
  {
   "cell_type": "markdown",
   "metadata": {},
   "source": [
    "Sea $x = (1, 2, 3)^T \\in \\mathbb{R}^3$."
   ]
  },
  {
   "cell_type": "code",
   "execution_count": 48,
   "metadata": {},
   "outputs": [
    {
     "data": {
      "text/plain": [
       "3-element Array{Int64,1}:\n",
       " 1\n",
       " 2\n",
       " 3"
      ]
     },
     "execution_count": 48,
     "metadata": {},
     "output_type": "execute_result"
    }
   ],
   "source": [
    "x = [1, 2, 3]"
   ]
  },
  {
   "cell_type": "markdown",
   "metadata": {},
   "source": [
    "### Indexar"
   ]
  },
  {
   "cell_type": "markdown",
   "metadata": {},
   "source": [
    "Supongamos que trabajo con las potencias $1, 2, 4, 8, 16$."
   ]
  },
  {
   "cell_type": "code",
   "execution_count": 64,
   "metadata": {},
   "outputs": [
    {
     "data": {
      "text/plain": [
       "5-element Array{Int64,1}:\n",
       "  1\n",
       "  2\n",
       "  4\n",
       "  8\n",
       " 16"
      ]
     },
     "execution_count": 64,
     "metadata": {},
     "output_type": "execute_result"
    }
   ],
   "source": [
    "x = [1, 2, 4, 8, 16]"
   ]
  },
  {
   "cell_type": "code",
   "execution_count": 65,
   "metadata": {},
   "outputs": [
    {
     "data": {
      "text/plain": [
       "9"
      ]
     },
     "execution_count": 65,
     "metadata": {},
     "output_type": "execute_result"
    }
   ],
   "source": [
    "x[1] + x[4]"
   ]
  },
  {
   "cell_type": "code",
   "execution_count": 66,
   "metadata": {},
   "outputs": [
    {
     "data": {
      "text/plain": [
       "5-element Array{Int64,1}:\n",
       "  2\n",
       "  4\n",
       "  8\n",
       " 16\n",
       " 32"
      ]
     },
     "execution_count": 66,
     "metadata": {},
     "output_type": "execute_result"
    }
   ],
   "source": [
    "2x"
   ]
  },
  {
   "cell_type": "code",
   "execution_count": 59,
   "metadata": {},
   "outputs": [
    {
     "data": {
      "text/plain": [
       "32"
      ]
     },
     "execution_count": 59,
     "metadata": {},
     "output_type": "execute_result"
    }
   ],
   "source": [
    "2 * x[5]"
   ]
  },
  {
   "cell_type": "code",
   "execution_count": 60,
   "metadata": {},
   "outputs": [
    {
     "data": {
      "text/plain": [
       "5-element Array{Int64,1}:\n",
       "  1\n",
       "  2\n",
       "  4\n",
       "  8\n",
       " 16"
      ]
     },
     "execution_count": 60,
     "metadata": {},
     "output_type": "execute_result"
    }
   ],
   "source": [
    "x"
   ]
  },
  {
   "cell_type": "code",
   "execution_count": 61,
   "metadata": {},
   "outputs": [
    {
     "ename": "BoundsError",
     "evalue": "BoundsError: attempt to access 5-element Array{Int64,1} at index [6]",
     "output_type": "error",
     "traceback": [
      "BoundsError: attempt to access 5-element Array{Int64,1} at index [6]",
      "",
      "Stacktrace:",
      " [1] setindex!(::Array{Int64,1}, ::Float64, ::Int64) at ./array.jl:782",
      " [2] top-level scope at In[61]:1"
     ]
    }
   ],
   "source": [
    "x[6] = 1000.0"
   ]
  },
  {
   "cell_type": "code",
   "execution_count": 62,
   "metadata": {},
   "outputs": [
    {
     "data": {
      "text/plain": [
       "6-element Array{Int64,1}:\n",
       "    1\n",
       "    2\n",
       "    4\n",
       "    8\n",
       "   16\n",
       " 1000"
      ]
     },
     "execution_count": 62,
     "metadata": {},
     "output_type": "execute_result"
    }
   ],
   "source": [
    "push!(x, 1000.0)"
   ]
  },
  {
   "cell_type": "code",
   "execution_count": 57,
   "metadata": {},
   "outputs": [
    {
     "data": {
      "text/plain": [
       "4-element Array{Int64,1}:\n",
       "  1\n",
       "  2\n",
       "  8\n",
       " 16"
      ]
     },
     "execution_count": 57,
     "metadata": {},
     "output_type": "execute_result"
    }
   ],
   "source": [
    "x[[1, 2, 4, 5]]"
   ]
  },
  {
   "cell_type": "code",
   "execution_count": 50,
   "metadata": {},
   "outputs": [
    {
     "data": {
      "text/plain": [
       "2-element Array{Int64,1}:\n",
       " 1\n",
       " 2"
      ]
     },
     "execution_count": 50,
     "metadata": {},
     "output_type": "execute_result"
    }
   ],
   "source": [
    "x[1:2]"
   ]
  },
  {
   "cell_type": "markdown",
   "metadata": {},
   "source": [
    "## Matrices"
   ]
  },
  {
   "cell_type": "markdown",
   "metadata": {},
   "source": [
    "$M = \\begin{pmatrix} 1 & -1 \\\\ -1 & 1 \\end{pmatrix}$"
   ]
  },
  {
   "cell_type": "code",
   "execution_count": 67,
   "metadata": {},
   "outputs": [
    {
     "data": {
      "text/plain": [
       "2×2 Array{Int64,2}:\n",
       "  1  -1\n",
       " -1   1"
      ]
     },
     "execution_count": 67,
     "metadata": {},
     "output_type": "execute_result"
    }
   ],
   "source": [
    "M = [1 -1; -1 1]"
   ]
  },
  {
   "cell_type": "markdown",
   "metadata": {},
   "source": [
    "$M = \\begin{pmatrix} 1 & 4.2 \\\\ -1.2 & -2 \\end{pmatrix}$"
   ]
  },
  {
   "cell_type": "code",
   "execution_count": 70,
   "metadata": {},
   "outputs": [
    {
     "data": {
      "text/plain": [
       "2×2 Array{Float64,2}:\n",
       "  1.0   4.2\n",
       " -1.2  -2.0"
      ]
     },
     "execution_count": 70,
     "metadata": {},
     "output_type": "execute_result"
    }
   ],
   "source": [
    "M = [1 4.2; -1.2 -2]"
   ]
  },
  {
   "cell_type": "code",
   "execution_count": 72,
   "metadata": {},
   "outputs": [
    {
     "data": {
      "text/plain": [
       "-1.0"
      ]
     },
     "execution_count": 72,
     "metadata": {},
     "output_type": "execute_result"
    }
   ],
   "source": [
    "M[1, 1] + M[2, 2]"
   ]
  },
  {
   "cell_type": "code",
   "execution_count": 73,
   "metadata": {},
   "outputs": [
    {
     "data": {
      "text/plain": [
       "2-element Array{Int64,1}:\n",
       " 1\n",
       " 2"
      ]
     },
     "execution_count": 73,
     "metadata": {},
     "output_type": "execute_result"
    }
   ],
   "source": [
    "x = [1, 2]"
   ]
  },
  {
   "cell_type": "code",
   "execution_count": 74,
   "metadata": {},
   "outputs": [
    {
     "data": {
      "text/plain": [
       "2-element Array{Float64,1}:\n",
       "  9.4\n",
       " -5.2"
      ]
     },
     "execution_count": 74,
     "metadata": {},
     "output_type": "execute_result"
    }
   ],
   "source": [
    "M * x"
   ]
  },
  {
   "cell_type": "markdown",
   "metadata": {},
   "source": [
    "## Iteracion"
   ]
  },
  {
   "cell_type": "markdown",
   "metadata": {},
   "source": [
    "- `for`\n",
    "- `while`"
   ]
  },
  {
   "cell_type": "markdown",
   "metadata": {},
   "source": [
    "```julia\n",
    "for VARIABLE in VALORES \n",
    "    COMANDO1\n",
    "    COMANDO2\n",
    "    . . . .\n",
    "end\n",
    "```"
   ]
  },
  {
   "cell_type": "code",
   "execution_count": 76,
   "metadata": {},
   "outputs": [
    {
     "name": "stdout",
     "output_type": "stream",
     "text": [
      "Para i = 1, x[i]^2 vale:\n",
      "100\n",
      "Para i = 2, x[i]^2 vale:\n",
      "400\n",
      "Para i = 3, x[i]^2 vale:\n",
      "900\n"
     ]
    }
   ],
   "source": [
    "x = [10, 20, 30]\n",
    "\n",
    "for i in 1:3\n",
    "    println(\"Para i = $i, x[i]^2 vale:\")\n",
    "    println(x[i]^2)\n",
    "end"
   ]
  },
  {
   "cell_type": "markdown",
   "metadata": {},
   "source": [
    "```julia\n",
    "while CONDICION\n",
    "    COMANDO1\n",
    "    COMANDO2\n",
    "    ....\n",
    "end\n",
    "```"
   ]
  },
  {
   "cell_type": "code",
   "execution_count": 80,
   "metadata": {},
   "outputs": [
    {
     "name": "stdout",
     "output_type": "stream",
     "text": [
      "10\n",
      "20\n",
      "30\n"
     ]
    },
    {
     "data": {
      "text/plain": [
       "4"
      ]
     },
     "execution_count": 80,
     "metadata": {},
     "output_type": "execute_result"
    }
   ],
   "source": [
    "x = [10, 20, 30]\n",
    "\n",
    "i = 1\n",
    "while i <= 3\n",
    "    println(x[i])\n",
    "    i = i + 1\n",
    "end\n",
    "\n",
    "i"
   ]
  },
  {
   "cell_type": "code",
   "execution_count": 79,
   "metadata": {},
   "outputs": [
    {
     "data": {
      "text/plain": [
       "4"
      ]
     },
     "execution_count": 79,
     "metadata": {},
     "output_type": "execute_result"
    }
   ],
   "source": [
    "i"
   ]
  },
  {
   "cell_type": "code",
   "execution_count": 12,
   "metadata": {},
   "outputs": [
    {
     "name": "stdout",
     "output_type": "stream",
     "text": [
      "1\n",
      "2\n",
      "3\n",
      "4\n",
      "5\n",
      "6\n",
      "7\n",
      "8\n",
      "9\n"
     ]
    }
   ],
   "source": [
    "x = 1\n",
    "while x < 10\n",
    "    println(x)\n",
    "    x = x + 1\n",
    "end"
   ]
  },
  {
   "cell_type": "markdown",
   "metadata": {},
   "source": [
    "## Ejercicio:\n",
    "\n",
    "Dado un vector $x \\in \\mathbb{R}^n$, calcular su suma,\n",
    "\n",
    "$$\n",
    "s = \\sum_{i=1}^n x_i.\n",
    "$$"
   ]
  },
  {
   "cell_type": "code",
   "execution_count": 88,
   "metadata": {},
   "outputs": [],
   "source": [
    "x = [10, 20, 30, 40];"
   ]
  },
  {
   "cell_type": "code",
   "execution_count": 90,
   "metadata": {},
   "outputs": [
    {
     "data": {
      "text/plain": [
       "100"
      ]
     },
     "execution_count": 90,
     "metadata": {},
     "output_type": "execute_result"
    }
   ],
   "source": [
    "# Solucion 1:\n",
    "\n",
    "x[1] + x[2] + x[3] + x[4]"
   ]
  },
  {
   "cell_type": "code",
   "execution_count": 94,
   "metadata": {},
   "outputs": [
    {
     "data": {
      "text/plain": [
       "100"
      ]
     },
     "execution_count": 94,
     "metadata": {},
     "output_type": "execute_result"
    }
   ],
   "source": [
    "# Solucion 2: que lo haga Julia :)\n",
    "\n",
    "sum(x) # esto es una llamada a la funcion \"sum\" de Julia,\n",
    "       # pasandole como argumento a x"
   ]
  },
  {
   "cell_type": "code",
   "execution_count": null,
   "metadata": {},
   "outputs": [],
   "source": [
    "# Solucion 3: usando iteracion"
   ]
  },
  {
   "cell_type": "markdown",
   "metadata": {},
   "source": [
    "Pseudo-codigo:\n",
    "\n",
    "```julia\n",
    "Entrada: vector x de largo n\n",
    "Salida: numero que representa la suma x1 + ... + xn\n",
    "\n",
    "aux = 0\n",
    "para cada indice i de 1 a n:\n",
    "    aux := aux + x[i]\n",
    "devolver aux\n",
    "```"
   ]
  },
  {
   "cell_type": "markdown",
   "metadata": {},
   "source": [
    "Implementacion:"
   ]
  },
  {
   "cell_type": "code",
   "execution_count": 93,
   "metadata": {},
   "outputs": [
    {
     "data": {
      "text/plain": [
       "100"
      ]
     },
     "execution_count": 93,
     "metadata": {},
     "output_type": "execute_result"
    }
   ],
   "source": [
    "x = [10, 20, 30, 40]\n",
    "\n",
    "aux = 0\n",
    "n = length(x)\n",
    "for i in 1:n\n",
    "    aux = aux + x[i]\n",
    "end\n",
    "aux"
   ]
  },
  {
   "cell_type": "markdown",
   "metadata": {},
   "source": [
    "Definiendo mi solucion como una funcion:"
   ]
  },
  {
   "cell_type": "markdown",
   "metadata": {},
   "source": [
    "$$\n",
    "\\text{mi_sumita} : x \\to \\text{mi_sumita}(x) := \\sum_i x_i.\n",
    "$$"
   ]
  },
  {
   "cell_type": "code",
   "execution_count": 95,
   "metadata": {},
   "outputs": [
    {
     "data": {
      "text/plain": [
       "mi_sumita (generic function with 1 method)"
      ]
     },
     "execution_count": 95,
     "metadata": {},
     "output_type": "execute_result"
    }
   ],
   "source": [
    "function mi_sumita(x)\n",
    "    aux = 0\n",
    "    n = length(x)\n",
    "    for i in 1:n\n",
    "        aux = aux + x[i]\n",
    "    end\n",
    "    return aux\n",
    "end"
   ]
  },
  {
   "cell_type": "code",
   "execution_count": 96,
   "metadata": {},
   "outputs": [
    {
     "data": {
      "text/plain": [
       "210"
      ]
     },
     "execution_count": 96,
     "metadata": {},
     "output_type": "execute_result"
    }
   ],
   "source": [
    "x = [10, 20, 30, 40, 50, 60]\n",
    "mi_sumita(x)"
   ]
  },
  {
   "cell_type": "markdown",
   "metadata": {},
   "source": [
    "```julia\n",
    "function NOMBRE(ARGUMENTOS, ARGUMENTOS_OPCIONALES)\n",
    "    COMANDOS\n",
    "    ....\n",
    "    return SALIDA\n",
    "end\n",
    "```"
   ]
  },
  {
   "cell_type": "markdown",
   "metadata": {},
   "source": [
    "## Condicionales"
   ]
  },
  {
   "cell_type": "markdown",
   "metadata": {},
   "source": [
    "- Si pasa tal cosa, entonces hace tal otra cosa."
   ]
  },
  {
   "cell_type": "markdown",
   "metadata": {},
   "source": [
    "```julia\n",
    "if CONDICION\n",
    "    HACER_ALGO\n",
    "end\n",
    "```"
   ]
  },
  {
   "cell_type": "markdown",
   "metadata": {},
   "source": [
    "```julia\n",
    "if CONDICION\n",
    "    HACER_ALGO\n",
    "else\n",
    "    HACER_OTRA_COSA\n",
    "end\n",
    "```"
   ]
  },
  {
   "cell_type": "markdown",
   "metadata": {},
   "source": [
    "```julia\n",
    "if CONDICION\n",
    "    HACER_ALGO\n",
    "elseif OTRA_CONDICION\n",
    "    HACER_OTRA_COSA\n",
    "else\n",
    "    OTRA_COSA_MAS\n",
    "end\n",
    "```"
   ]
  },
  {
   "cell_type": "markdown",
   "metadata": {},
   "source": [
    "```julia\n",
    "if CONDICION\n",
    "    HACER_ALGO\n",
    "elseif OTRA_CONDICION\n",
    "    HACER_OTRA_COSA\n",
    "elseif TODAVIA_OTRA_CONDICION\n",
    "    HACER_OTRA_OTRA_COSA\n",
    "else\n",
    "    OTRA_COSA_MAS\n",
    "end\n",
    "```"
   ]
  },
  {
   "cell_type": "markdown",
   "metadata": {},
   "source": [
    "### Ejemplo:\n",
    "\n",
    "Escribir una funcion que recibe un vector $x \\in \\mathbb{N}^n$ y devuelve la suma de los numeros pares."
   ]
  },
  {
   "cell_type": "markdown",
   "metadata": {},
   "source": [
    "Pseudo-codigo:\n",
    "\n",
    "- Entrada: x un vector entero de largo n.\n",
    "- Salida: la suma de los numeros pares presentes en x.\n",
    "\n",
    "```julia\n",
    "aux = 0\n",
    "para i variando entre 1 y n:\n",
    "    si x[i] es par:\n",
    "        aux := aux + x[i]\n",
    "\n",
    "devolver aux\n",
    "```"
   ]
  },
  {
   "cell_type": "markdown",
   "metadata": {},
   "source": [
    "Implementacion."
   ]
  },
  {
   "cell_type": "code",
   "execution_count": 111,
   "metadata": {},
   "outputs": [
    {
     "data": {
      "text/plain": [
       "suma_pares (generic function with 1 method)"
      ]
     },
     "execution_count": 111,
     "metadata": {},
     "output_type": "execute_result"
    }
   ],
   "source": [
    "function suma_pares(x)\n",
    "    n = length(x)\n",
    "    aux = 0\n",
    "    for i in 1:n\n",
    "        if x[i] % 2 == 0\n",
    "            aux = aux + x[i]\n",
    "        end\n",
    "    end\n",
    "    return aux\n",
    "end"
   ]
  },
  {
   "cell_type": "code",
   "execution_count": 112,
   "metadata": {},
   "outputs": [
    {
     "data": {
      "text/plain": [
       "12"
      ]
     },
     "execution_count": 112,
     "metadata": {},
     "output_type": "execute_result"
    }
   ],
   "source": [
    "x = [1, 2, 3, 4, 5, 6]\n",
    "\n",
    "suma_pares(x)"
   ]
  },
  {
   "cell_type": "code",
   "execution_count": 108,
   "metadata": {},
   "outputs": [
    {
     "data": {
      "text/plain": [
       "3.0"
      ]
     },
     "execution_count": 108,
     "metadata": {},
     "output_type": "execute_result"
    }
   ],
   "source": [
    "6 / 2 # division EN PUNTO FLOTANTE!"
   ]
  },
  {
   "cell_type": "code",
   "execution_count": 110,
   "metadata": {},
   "outputs": [
    {
     "data": {
      "text/plain": [
       "3//1"
      ]
     },
     "execution_count": 110,
     "metadata": {},
     "output_type": "execute_result"
    }
   ],
   "source": [
    "6 // 2 # division RACIONAL"
   ]
  },
  {
   "cell_type": "code",
   "execution_count": 109,
   "metadata": {},
   "outputs": [
    {
     "data": {
      "text/plain": [
       "0"
      ]
     },
     "execution_count": 109,
     "metadata": {},
     "output_type": "execute_result"
    }
   ],
   "source": [
    "6 % 2 # resto"
   ]
  },
  {
   "cell_type": "code",
   "execution_count": 104,
   "metadata": {},
   "outputs": [
    {
     "data": {
      "text/plain": [
       "true"
      ]
     },
     "execution_count": 104,
     "metadata": {},
     "output_type": "execute_result"
    }
   ],
   "source": [
    "6 % 2 == 0"
   ]
  },
  {
   "cell_type": "code",
   "execution_count": 105,
   "metadata": {},
   "outputs": [
    {
     "data": {
      "text/plain": [
       "false"
      ]
     },
     "execution_count": 105,
     "metadata": {},
     "output_type": "execute_result"
    }
   ],
   "source": [
    "7 % 2 == 0"
   ]
  },
  {
   "cell_type": "code",
   "execution_count": 106,
   "metadata": {},
   "outputs": [
    {
     "data": {
      "text/plain": [
       "true"
      ]
     },
     "execution_count": 106,
     "metadata": {},
     "output_type": "execute_result"
    }
   ],
   "source": [
    "44 == 44"
   ]
  },
  {
   "cell_type": "code",
   "execution_count": 107,
   "metadata": {},
   "outputs": [
    {
     "data": {
      "text/plain": [
       "false"
      ]
     },
     "execution_count": 107,
     "metadata": {},
     "output_type": "execute_result"
    }
   ],
   "source": [
    "45 == 44"
   ]
  },
  {
   "cell_type": "markdown",
   "metadata": {},
   "source": [
    "## Ejercicios\n",
    "\n",
    "- Escribir una funcion que calcula el triangulo de Pascal hasta un orden dado.\n",
    "\n",
    "- Implementar un algoritmo que devuelve el maximo de una lista de numeros.\n",
    "\n",
    "- Implementar una [busqueda binaria](https://es.wikipedia.org/wiki/B%C3%BAsqueda_binaria) en una lista de numeros enteros.\n",
    "\n",
    "- Implementar el metodo de [busqueda binaria o biseccion](https://es.wikipedia.org/wiki/M%C3%A9todo_de_bisecci%C3%B3n) par ahallar una raiz $x$ de una funcion dada $f$ que se asumaria continua en el intervalo cerrado $[a, b] \\in \\mathbb{R}$."
   ]
  },
  {
   "cell_type": "markdown",
   "metadata": {},
   "source": [
    "### Solucion: metodo de la biseccion"
   ]
  },
  {
   "cell_type": "markdown",
   "metadata": {},
   "source": [
    "<img src=\"https://upload.wikimedia.org/wikipedia/commons/thumb/c/c2/Bisection_method.png/500px-Bisection_method.png\" alt=\"biseccion\" style=\"width: 400px;\"/>"
   ]
  },
  {
   "cell_type": "markdown",
   "metadata": {},
   "source": [
    "Idea:\n",
    "\n",
    "- Voy capturando una o mas raices en intervalos cada vez mas chicos.\n",
    "\n",
    "- Sabemos que si $f$ cambia de signo en $[a, b]$, entonces hay por lo menos un cero de $f$ por el teorema del valor intermedio (ver [Teorema de Bolzano](https://es.wikipedia.org/wiki/Teorema_del_valor_intermedio#Teorema_de_Bolzano))."
   ]
  },
  {
   "cell_type": "markdown",
   "metadata": {},
   "source": [
    "- Entrada: funcion $f: \\mathbb{R} \\to \\mathbb{R}$, continua en un intervalo cerrado $[a, b]$. Supongamos ademas que $f(a)$ tiene signo distinto de $f(b)$."
   ]
  },
  {
   "cell_type": "markdown",
   "metadata": {},
   "source": [
    "- Salida: un intevalo $[\\alpha, \\beta]$ que contiene una raiz de $f$."
   ]
  },
  {
   "cell_type": "markdown",
   "metadata": {},
   "source": [
    "- Calcular el punto medio m de [a, b]\n",
    "- Evaluar $f(m)$:\n",
    "    - Si $f(m) \\approx 0$: Devolver $m$.\n",
    "    - De lo contrario, quedarme con el sub-intervalo [a, m] o [m, b] tal que $f$ cambia de signo en dicho sub-intervalo.\n",
    "- Repetir hasta que $f(m) \\approx 0$."
   ]
  },
  {
   "cell_type": "markdown",
   "metadata": {},
   "source": [
    "**Pseudo-codigo.**\n",
    "\n",
    "```\n",
    "- Entrada. Funcion univariada f(x), extremos a y b tal que tienen signos opuestos y no son ceros de f, tolerancia TOL, maximo numero de iteraciones N0.\n",
    "\n",
    "\n",
    "- Salida. Solucion aproximada p, raiz de f, o mensaje de fracaso.\n",
    "\n",
    "- Paso 1. Sea i = 1:\n",
    "            Sea FA = f(a).\n",
    "            \n",
    "- Paso 2. Mientras i <= N0, repetir los pasos 3-6.\n",
    "            Paso 3. Tomar p punto medio de [a, b]. Evaluar FP = f(p).\n",
    "            Paso 4. Si FP = 0 o el ancho del intervalo [a, b] es menor que TOL, devolver p. (condicion de terminacion).\n",
    "            Paso 5. Sea i <- i + 1\n",
    "            Paso 6. Si FA * FP > 0, entonces tomar a <- p. De lo contrario, tomar b <- p.\n",
    "\n",
    "- Paso 7. Devolver mensaje de error, el algoritmo no pudo converge luego de N0 iteraciones.\n",
    "```"
   ]
  },
  {
   "cell_type": "markdown",
   "metadata": {},
   "source": [
    "Discutimos:\n",
    "\n",
    "- comportaminto \"indefinido\" si no chequeo las precondiciones.\n",
    "\n",
    "- casos posibles de terminación por qué usar el \"or\" condicional."
   ]
  },
  {
   "cell_type": "markdown",
   "metadata": {},
   "source": [
    "**Implementacion en Julia.**"
   ]
  },
  {
   "cell_type": "markdown",
   "metadata": {},
   "source": [
    "En Julia, podemos chequear una precondicion utilizando el macro `@assert`."
   ]
  },
  {
   "cell_type": "code",
   "execution_count": 30,
   "metadata": {},
   "outputs": [
    {
     "ename": "AssertionError",
     "evalue": "AssertionError: 1 == 0",
     "output_type": "error",
     "traceback": [
      "AssertionError: 1 == 0",
      "",
      "Stacktrace:",
      " [1] top-level scope at In[30]:1"
     ]
    }
   ],
   "source": [
    "@assert 1 == 0"
   ]
  },
  {
   "cell_type": "code",
   "execution_count": 31,
   "metadata": {},
   "outputs": [],
   "source": [
    "@assert 0 == 0"
   ]
  },
  {
   "cell_type": "code",
   "execution_count": 32,
   "metadata": {},
   "outputs": [
    {
     "data": {
      "text/plain": [
       "0.01"
      ]
     },
     "execution_count": 32,
     "metadata": {},
     "output_type": "execute_result"
    }
   ],
   "source": [
    "1e-2"
   ]
  },
  {
   "cell_type": "code",
   "execution_count": 57,
   "metadata": {},
   "outputs": [
    {
     "data": {
      "text/plain": [
       "biseccion (generic function with 3 methods)"
      ]
     },
     "execution_count": 57,
     "metadata": {},
     "output_type": "execute_result"
    }
   ],
   "source": [
    "function biseccion(f, a, b, TOL=1e-6, MAXITER=100)\n",
    "    # precondicion: el signo de f en a es distinto\n",
    "    # al signo de f en b\n",
    "    @assert f(a) * f(b) < 0\n",
    "\n",
    "    i = 1\n",
    "    FA = f(a)\n",
    "    \n",
    "    while i <= MAXITER\n",
    "        p = a + (b-a)/2\n",
    "        FP = f(p)\n",
    "        println(\"i = $i, p = $p, f(p) = $FP\")\n",
    "\n",
    "        # condicion de terminacion\n",
    "        if abs(FP) < TOL || (b-a)/2 < TOL\n",
    "            return p\n",
    "        end\n",
    "        i += 1\n",
    "    \n",
    "        # biseccion\n",
    "        if FA * FP > 0\n",
    "            a = p\n",
    "        else\n",
    "            b = p\n",
    "        end\n",
    "    end\n",
    "    return error(\"el método fracasó después de $MAXITER iteraciones\")\n",
    "end"
   ]
  },
  {
   "cell_type": "code",
   "execution_count": 60,
   "metadata": {},
   "outputs": [
    {
     "data": {
      "text/plain": [
       "false"
      ]
     },
     "execution_count": 60,
     "metadata": {},
     "output_type": "execute_result"
    }
   ],
   "source": [
    "1e-20 == 0"
   ]
  },
  {
   "cell_type": "code",
   "execution_count": 63,
   "metadata": {},
   "outputs": [
    {
     "data": {
      "text/plain": [
       "false"
      ]
     },
     "execution_count": 63,
     "metadata": {},
     "output_type": "execute_result"
    }
   ],
   "source": [
    "1e-30 ≈ 0.0"
   ]
  },
  {
   "cell_type": "markdown",
   "metadata": {},
   "source": [
    "Operadores booleanos:\n",
    "\n",
    "- `A && B`: and = Y\n",
    "- `A || B`: or = O\n",
    "- `!A` : not  = NO"
   ]
  },
  {
   "cell_type": "markdown",
   "metadata": {},
   "source": [
    "|A|B|A && B|\n",
    "|---|---|--|\n",
    "|T|T|T|\n",
    "|F|T|F|\n",
    "|T|F|F|\n",
    "|F|F|F|"
   ]
  },
  {
   "cell_type": "markdown",
   "metadata": {},
   "source": [
    "|A|B|A OR B|\n",
    "|---|---|--|\n",
    "|T|T|T|\n",
    "|F|T|T|\n",
    "|T|F|T|\n",
    "|F|F|F|"
   ]
  },
  {
   "cell_type": "markdown",
   "metadata": {},
   "source": [
    "|A|!A|\n",
    "|---|---|\n",
    "|T|F|\n",
    "|F|T|"
   ]
  },
  {
   "cell_type": "code",
   "execution_count": 34,
   "metadata": {},
   "outputs": [
    {
     "data": {
      "text/plain": [
       "true"
      ]
     },
     "execution_count": 34,
     "metadata": {},
     "output_type": "execute_result"
    }
   ],
   "source": [
    "(2 > 0) && (4 > 1)"
   ]
  },
  {
   "cell_type": "code",
   "execution_count": 37,
   "metadata": {},
   "outputs": [
    {
     "data": {
      "text/plain": [
       "false"
      ]
     },
     "execution_count": 37,
     "metadata": {},
     "output_type": "execute_result"
    }
   ],
   "source": [
    "(2 > 0) && (1 > 4)"
   ]
  },
  {
   "cell_type": "code",
   "execution_count": 38,
   "metadata": {},
   "outputs": [
    {
     "data": {
      "text/plain": [
       "true"
      ]
     },
     "execution_count": 38,
     "metadata": {},
     "output_type": "execute_result"
    }
   ],
   "source": [
    "(2 > 0) || (1 > 4)"
   ]
  },
  {
   "cell_type": "code",
   "execution_count": 39,
   "metadata": {},
   "outputs": [
    {
     "data": {
      "text/plain": [
       "false"
      ]
     },
     "execution_count": 39,
     "metadata": {},
     "output_type": "execute_result"
    }
   ],
   "source": [
    "!(2 > 0)"
   ]
  },
  {
   "cell_type": "code",
   "execution_count": 43,
   "metadata": {},
   "outputs": [
    {
     "data": {
      "text/plain": [
       "f (generic function with 1 method)"
      ]
     },
     "execution_count": 43,
     "metadata": {},
     "output_type": "execute_result"
    }
   ],
   "source": [
    "f(x) = x^3 + 4x^2 - 10"
   ]
  },
  {
   "cell_type": "code",
   "execution_count": 44,
   "metadata": {},
   "outputs": [
    {
     "data": {
      "text/plain": [
       "-10.0"
      ]
     },
     "execution_count": 44,
     "metadata": {},
     "output_type": "execute_result"
    }
   ],
   "source": [
    "f(0.0)"
   ]
  },
  {
   "cell_type": "code",
   "execution_count": null,
   "metadata": {},
   "outputs": [],
   "source": [
    "using Plots"
   ]
  },
  {
   "cell_type": "code",
   "execution_count": null,
   "metadata": {},
   "outputs": [],
   "source": [
    "# ] add Plots (para instalar)"
   ]
  },
  {
   "cell_type": "code",
   "execution_count": 15,
   "metadata": {},
   "outputs": [
    {
     "data": {
      "image/svg+xml": [
       "<?xml version=\"1.0\" encoding=\"utf-8\"?>\n",
       "<svg xmlns=\"http://www.w3.org/2000/svg\" xmlns:xlink=\"http://www.w3.org/1999/xlink\" width=\"600\" height=\"400\" viewBox=\"0 0 2400 1600\">\n",
       "<defs>\n",
       "  <clipPath id=\"clip0600\">\n",
       "    <rect x=\"0\" y=\"0\" width=\"2400\" height=\"1600\"/>\n",
       "  </clipPath>\n",
       "</defs>\n",
       "<path clip-path=\"url(#clip0600)\" d=\"\n",
       "M0 1600 L2400 1600 L2400 0 L0 0  Z\n",
       "  \" fill=\"#ffffff\" fill-rule=\"evenodd\" fill-opacity=\"1\"/>\n",
       "<defs>\n",
       "  <clipPath id=\"clip0601\">\n",
       "    <rect x=\"480\" y=\"0\" width=\"1681\" height=\"1600\"/>\n",
       "  </clipPath>\n",
       "</defs>\n",
       "<path clip-path=\"url(#clip0600)\" d=\"\n",
       "M141.865 1425.62 L2352.76 1425.62 L2352.76 47.2441 L141.865 47.2441  Z\n",
       "  \" fill=\"#ffffff\" fill-rule=\"evenodd\" fill-opacity=\"1\"/>\n",
       "<defs>\n",
       "  <clipPath id=\"clip0602\">\n",
       "    <rect x=\"141\" y=\"47\" width=\"2212\" height=\"1379\"/>\n",
       "  </clipPath>\n",
       "</defs>\n",
       "<polyline clip-path=\"url(#clip0602)\" style=\"stroke:#000000; stroke-width:2; stroke-opacity:0.1; fill:none\" points=\"\n",
       "  141.865,1425.62 141.865,47.2441 \n",
       "  \"/>\n",
       "<polyline clip-path=\"url(#clip0602)\" style=\"stroke:#000000; stroke-width:2; stroke-opacity:0.1; fill:none\" points=\"\n",
       "  694.587,1425.62 694.587,47.2441 \n",
       "  \"/>\n",
       "<polyline clip-path=\"url(#clip0602)\" style=\"stroke:#000000; stroke-width:2; stroke-opacity:0.1; fill:none\" points=\"\n",
       "  1247.31,1425.62 1247.31,47.2441 \n",
       "  \"/>\n",
       "<polyline clip-path=\"url(#clip0602)\" style=\"stroke:#000000; stroke-width:2; stroke-opacity:0.1; fill:none\" points=\"\n",
       "  1800.03,1425.62 1800.03,47.2441 \n",
       "  \"/>\n",
       "<polyline clip-path=\"url(#clip0602)\" style=\"stroke:#000000; stroke-width:2; stroke-opacity:0.1; fill:none\" points=\"\n",
       "  2352.76,1425.62 2352.76,47.2441 \n",
       "  \"/>\n",
       "<polyline clip-path=\"url(#clip0602)\" style=\"stroke:#000000; stroke-width:2; stroke-opacity:0.1; fill:none\" points=\"\n",
       "  141.865,1386.61 2352.76,1386.61 \n",
       "  \"/>\n",
       "<polyline clip-path=\"url(#clip0602)\" style=\"stroke:#000000; stroke-width:2; stroke-opacity:0.1; fill:none\" points=\"\n",
       "  141.865,1044.41 2352.76,1044.41 \n",
       "  \"/>\n",
       "<polyline clip-path=\"url(#clip0602)\" style=\"stroke:#000000; stroke-width:2; stroke-opacity:0.1; fill:none\" points=\"\n",
       "  141.865,702.212 2352.76,702.212 \n",
       "  \"/>\n",
       "<polyline clip-path=\"url(#clip0602)\" style=\"stroke:#000000; stroke-width:2; stroke-opacity:0.1; fill:none\" points=\"\n",
       "  141.865,360.013 2352.76,360.013 \n",
       "  \"/>\n",
       "<polyline clip-path=\"url(#clip0600)\" style=\"stroke:#000000; stroke-width:4; stroke-opacity:1; fill:none\" points=\"\n",
       "  141.865,1425.62 2352.76,1425.62 \n",
       "  \"/>\n",
       "<polyline clip-path=\"url(#clip0600)\" style=\"stroke:#000000; stroke-width:4; stroke-opacity:1; fill:none\" points=\"\n",
       "  141.865,1425.62 141.865,47.2441 \n",
       "  \"/>\n",
       "<polyline clip-path=\"url(#clip0600)\" style=\"stroke:#000000; stroke-width:4; stroke-opacity:1; fill:none\" points=\"\n",
       "  141.865,1425.62 141.865,1409.08 \n",
       "  \"/>\n",
       "<polyline clip-path=\"url(#clip0600)\" style=\"stroke:#000000; stroke-width:4; stroke-opacity:1; fill:none\" points=\"\n",
       "  694.587,1425.62 694.587,1409.08 \n",
       "  \"/>\n",
       "<polyline clip-path=\"url(#clip0600)\" style=\"stroke:#000000; stroke-width:4; stroke-opacity:1; fill:none\" points=\"\n",
       "  1247.31,1425.62 1247.31,1409.08 \n",
       "  \"/>\n",
       "<polyline clip-path=\"url(#clip0600)\" style=\"stroke:#000000; stroke-width:4; stroke-opacity:1; fill:none\" points=\"\n",
       "  1800.03,1425.62 1800.03,1409.08 \n",
       "  \"/>\n",
       "<polyline clip-path=\"url(#clip0600)\" style=\"stroke:#000000; stroke-width:4; stroke-opacity:1; fill:none\" points=\"\n",
       "  2352.76,1425.62 2352.76,1409.08 \n",
       "  \"/>\n",
       "<polyline clip-path=\"url(#clip0600)\" style=\"stroke:#000000; stroke-width:4; stroke-opacity:1; fill:none\" points=\"\n",
       "  141.865,1386.61 168.395,1386.61 \n",
       "  \"/>\n",
       "<polyline clip-path=\"url(#clip0600)\" style=\"stroke:#000000; stroke-width:4; stroke-opacity:1; fill:none\" points=\"\n",
       "  141.865,1044.41 168.395,1044.41 \n",
       "  \"/>\n",
       "<polyline clip-path=\"url(#clip0600)\" style=\"stroke:#000000; stroke-width:4; stroke-opacity:1; fill:none\" points=\"\n",
       "  141.865,702.212 168.395,702.212 \n",
       "  \"/>\n",
       "<polyline clip-path=\"url(#clip0600)\" style=\"stroke:#000000; stroke-width:4; stroke-opacity:1; fill:none\" points=\"\n",
       "  141.865,360.013 168.395,360.013 \n",
       "  \"/>\n",
       "<g clip-path=\"url(#clip0600)\">\n",
       "<text style=\"fill:#000000; fill-opacity:1; font-family:Arial,Helvetica Neue,Helvetica,sans-serif; font-size:48px; text-anchor:middle;\" transform=\"rotate(0, 141.865, 1479.62)\" x=\"141.865\" y=\"1479.62\">1.00</text>\n",
       "</g>\n",
       "<g clip-path=\"url(#clip0600)\">\n",
       "<text style=\"fill:#000000; fill-opacity:1; font-family:Arial,Helvetica Neue,Helvetica,sans-serif; font-size:48px; text-anchor:middle;\" transform=\"rotate(0, 694.587, 1479.62)\" x=\"694.587\" y=\"1479.62\">1.25</text>\n",
       "</g>\n",
       "<g clip-path=\"url(#clip0600)\">\n",
       "<text style=\"fill:#000000; fill-opacity:1; font-family:Arial,Helvetica Neue,Helvetica,sans-serif; font-size:48px; text-anchor:middle;\" transform=\"rotate(0, 1247.31, 1479.62)\" x=\"1247.31\" y=\"1479.62\">1.50</text>\n",
       "</g>\n",
       "<g clip-path=\"url(#clip0600)\">\n",
       "<text style=\"fill:#000000; fill-opacity:1; font-family:Arial,Helvetica Neue,Helvetica,sans-serif; font-size:48px; text-anchor:middle;\" transform=\"rotate(0, 1800.03, 1479.62)\" x=\"1800.03\" y=\"1479.62\">1.75</text>\n",
       "</g>\n",
       "<g clip-path=\"url(#clip0600)\">\n",
       "<text style=\"fill:#000000; fill-opacity:1; font-family:Arial,Helvetica Neue,Helvetica,sans-serif; font-size:48px; text-anchor:middle;\" transform=\"rotate(0, 2352.76, 1479.62)\" x=\"2352.76\" y=\"1479.62\">2.00</text>\n",
       "</g>\n",
       "<g clip-path=\"url(#clip0600)\">\n",
       "<text style=\"fill:#000000; fill-opacity:1; font-family:Arial,Helvetica Neue,Helvetica,sans-serif; font-size:48px; text-anchor:end;\" transform=\"rotate(0, 117.865, 1404.11)\" x=\"117.865\" y=\"1404.11\">-5</text>\n",
       "</g>\n",
       "<g clip-path=\"url(#clip0600)\">\n",
       "<text style=\"fill:#000000; fill-opacity:1; font-family:Arial,Helvetica Neue,Helvetica,sans-serif; font-size:48px; text-anchor:end;\" transform=\"rotate(0, 117.865, 1061.91)\" x=\"117.865\" y=\"1061.91\">0</text>\n",
       "</g>\n",
       "<g clip-path=\"url(#clip0600)\">\n",
       "<text style=\"fill:#000000; fill-opacity:1; font-family:Arial,Helvetica Neue,Helvetica,sans-serif; font-size:48px; text-anchor:end;\" transform=\"rotate(0, 117.865, 719.712)\" x=\"117.865\" y=\"719.712\">5</text>\n",
       "</g>\n",
       "<g clip-path=\"url(#clip0600)\">\n",
       "<text style=\"fill:#000000; fill-opacity:1; font-family:Arial,Helvetica Neue,Helvetica,sans-serif; font-size:48px; text-anchor:end;\" transform=\"rotate(0, 117.865, 377.513)\" x=\"117.865\" y=\"377.513\">10</text>\n",
       "</g>\n",
       "<g clip-path=\"url(#clip0600)\">\n",
       "<text style=\"fill:#000000; fill-opacity:1; font-family:Arial,Helvetica Neue,Helvetica,sans-serif; font-size:66px; text-anchor:middle;\" transform=\"rotate(0, 1247.31, 1559.48)\" x=\"1247.31\" y=\"1559.48\">x</text>\n",
       "</g>\n",
       "<polyline clip-path=\"url(#clip0602)\" style=\"stroke:#009af9; stroke-width:4; stroke-opacity:1; fill:none\" points=\"\n",
       "  141.865,1386.61 163.456,1379.21 363.097,1306.41 483.073,1258.76 584.512,1216.13 694.702,1167.34 796.288,1120.02 905.199,1066.76 1031.38,1001.71 1143.52,940.832 \n",
       "  1241.85,885.029 1349.07,821.566 1456.91,754.921 1576.15,677.904 1689.61,601.318 1807.57,518.208 1906.87,445.452 2028.11,353.104 2142.08,262.708 2324.66,110.499 \n",
       "  2352.76,86.2547 \n",
       "  \"/>\n",
       "<polyline clip-path=\"url(#clip0602)\" style=\"stroke:#ff0000; stroke-width:4; stroke-opacity:1; fill:none\" points=\"\n",
       "  141.865,1044.41 163.456,1044.41 363.097,1044.41 483.073,1044.41 584.512,1044.41 694.702,1044.41 796.288,1044.41 905.199,1044.41 1031.38,1044.41 1143.52,1044.41 \n",
       "  1241.85,1044.41 1349.07,1044.41 1456.91,1044.41 1576.15,1044.41 1689.61,1044.41 1807.57,1044.41 1906.87,1044.41 2028.11,1044.41 2142.08,1044.41 2324.66,1044.41 \n",
       "  2352.76,1044.41 \n",
       "  \"/>\n",
       "<path clip-path=\"url(#clip0600)\" d=\"\n",
       "M213.865 312.204 L523.37 312.204 L523.37 130.764 L213.865 130.764  Z\n",
       "  \" fill=\"#ffffff\" fill-rule=\"evenodd\" fill-opacity=\"1\"/>\n",
       "<polyline clip-path=\"url(#clip0600)\" style=\"stroke:#000000; stroke-width:4; stroke-opacity:1; fill:none\" points=\"\n",
       "  213.865,312.204 523.37,312.204 523.37,130.764 213.865,130.764 213.865,312.204 \n",
       "  \"/>\n",
       "<polyline clip-path=\"url(#clip0600)\" style=\"stroke:#009af9; stroke-width:4; stroke-opacity:1; fill:none\" points=\"\n",
       "  237.865,191.244 381.865,191.244 \n",
       "  \"/>\n",
       "<g clip-path=\"url(#clip0600)\">\n",
       "<text style=\"fill:#000000; fill-opacity:1; font-family:Arial,Helvetica Neue,Helvetica,sans-serif; font-size:48px; text-anchor:start;\" transform=\"rotate(0, 405.865, 208.744)\" x=\"405.865\" y=\"208.744\">f(x)</text>\n",
       "</g>\n",
       "<polyline clip-path=\"url(#clip0600)\" style=\"stroke:#ff0000; stroke-width:4; stroke-opacity:1; fill:none\" points=\"\n",
       "  237.865,251.724 381.865,251.724 \n",
       "  \"/>\n",
       "<g clip-path=\"url(#clip0600)\">\n",
       "<text style=\"fill:#000000; fill-opacity:1; font-family:Arial,Helvetica Neue,Helvetica,sans-serif; font-size:48px; text-anchor:start;\" transform=\"rotate(0, 405.865, 269.224)\" x=\"405.865\" y=\"269.224\">y2</text>\n",
       "</g>\n",
       "</svg>\n"
      ]
     },
     "execution_count": 15,
     "metadata": {},
     "output_type": "execute_result"
    }
   ],
   "source": [
    "plot(f, xlims=(1, 2), xlab=\"x\", lab=\"f(x)\", legend=:topleft)\n",
    "plot!(x -> 0.0, color=:red)"
   ]
  },
  {
   "cell_type": "code",
   "execution_count": 47,
   "metadata": {},
   "outputs": [
    {
     "data": {
      "text/plain": [
       "-70"
      ]
     },
     "execution_count": 47,
     "metadata": {},
     "output_type": "execute_result"
    }
   ],
   "source": [
    "f(1) * f(2)"
   ]
  },
  {
   "cell_type": "code",
   "execution_count": 51,
   "metadata": {},
   "outputs": [
    {
     "data": {
      "text/plain": [
       "1.365229606628418"
      ]
     },
     "execution_count": 51,
     "metadata": {},
     "output_type": "execute_result"
    }
   ],
   "source": [
    "p = biseccion(f, 1, 2)"
   ]
  },
  {
   "cell_type": "code",
   "execution_count": 52,
   "metadata": {},
   "outputs": [
    {
     "data": {
      "text/plain": [
       "-6.7174129139147e-6"
      ]
     },
     "execution_count": 52,
     "metadata": {},
     "output_type": "execute_result"
    }
   ],
   "source": [
    "f(p)"
   ]
  },
  {
   "cell_type": "code",
   "execution_count": 53,
   "metadata": {},
   "outputs": [
    {
     "data": {
      "text/plain": [
       "1.3642578125"
      ]
     },
     "execution_count": 53,
     "metadata": {},
     "output_type": "execute_result"
    }
   ],
   "source": [
    "p = biseccion(f, 1, 2, 1e-3)"
   ]
  },
  {
   "cell_type": "code",
   "execution_count": 54,
   "metadata": {},
   "outputs": [
    {
     "data": {
      "text/plain": [
       "-0.01604669075459242"
      ]
     },
     "execution_count": 54,
     "metadata": {},
     "output_type": "execute_result"
    }
   ],
   "source": [
    "f(p)"
   ]
  },
  {
   "cell_type": "code",
   "execution_count": 56,
   "metadata": {},
   "outputs": [
    {
     "data": {
      "text/plain": [
       "5.881310437771958e-6"
      ]
     },
     "execution_count": 56,
     "metadata": {},
     "output_type": "execute_result"
    }
   ],
   "source": [
    "p = biseccion(f, 1.2, 1.5)\n",
    "f(p)"
   ]
  },
  {
   "cell_type": "code",
   "execution_count": 58,
   "metadata": {},
   "outputs": [
    {
     "name": "stdout",
     "output_type": "stream",
     "text": [
      "i = 1, p = 1.5, f(p) = 2.375\n",
      "i = 2, p = 1.25, f(p) = -1.796875\n",
      "i = 3, p = 1.375, f(p) = 0.162109375\n",
      "i = 4, p = 1.3125, f(p) = -0.848388671875\n",
      "i = 5, p = 1.34375, f(p) = -0.350982666015625\n",
      "i = 6, p = 1.359375, f(p) = -0.09640884399414062\n",
      "i = 7, p = 1.3671875, f(p) = 0.03235578536987305\n",
      "i = 8, p = 1.36328125, f(p) = -0.03214997053146362\n",
      "i = 9, p = 1.365234375, f(p) = 7.202476263046265e-5\n",
      "i = 10, p = 1.3642578125, f(p) = -0.01604669075459242\n",
      "i = 11, p = 1.36474609375, f(p) = -0.007989262812770903\n",
      "i = 12, p = 1.364990234375, f(p) = -0.003959101522923447\n",
      "i = 13, p = 1.3651123046875, f(p) = -0.0019436590100667672\n",
      "i = 14, p = 1.36517333984375, f(p) = -0.000935847281880342\n",
      "i = 15, p = 1.365203857421875, f(p) = -0.00043191879925075227\n",
      "i = 16, p = 1.3652191162109375, f(p) = -0.0001799489032272561\n",
      "i = 17, p = 1.3652267456054688, f(p) = -5.3962541528562724e-5\n",
      "i = 18, p = 1.3652305603027344, f(p) = 9.030992742964372e-6\n",
      "i = 19, p = 1.3652286529541016, f(p) = -2.2465803844795573e-5\n",
      "i = 20, p = 1.365229606628418, f(p) = -6.7174129139147e-6\n"
     ]
    },
    {
     "data": {
      "text/plain": [
       "1.365229606628418"
      ]
     },
     "execution_count": 58,
     "metadata": {},
     "output_type": "execute_result"
    }
   ],
   "source": [
    "p = biseccion(f, 1, 2)"
   ]
  },
  {
   "cell_type": "markdown",
   "metadata": {},
   "source": [
    "### Discusión sobre el criterio de terminación"
   ]
  },
  {
   "cell_type": "markdown",
   "metadata": {},
   "source": [
    "- Sea $\\varepsilon > 0$. Generamos $p_1, \\ldots, p_N$ tales que se satisface alguna de las condiciones siguientes como criterio de terminacion."
   ]
  },
  {
   "cell_type": "markdown",
   "metadata": {},
   "source": [
    "- $\\vert p_N - p_{N-1}\\vert < \\varepsilon$"
   ]
  },
  {
   "cell_type": "markdown",
   "metadata": {},
   "source": [
    "- $\\dfrac{\\vert p_N - p_{N-1}\\vert}{\\vert p_N\\vert} < \\varepsilon$, $p_N \\neq 0$,"
   ]
  },
  {
   "cell_type": "markdown",
   "metadata": {},
   "source": [
    "- $\\vert f(p_N)\\vert < \\varepsilon$"
   ]
  },
  {
   "cell_type": "markdown",
   "metadata": {},
   "source": [
    "- Ninguno es \"ideal\"! Con cualquier de estos criterios pueden surgir problemas.\n",
    "\n",
    "- Existen sucesiones $\\{p_n\\}$ tales que las diferencias $p_n - p_{n-1}$ convergen a cero pero la ssucesion diverge. (ver ej. (1) abajo)\n",
    "\n",
    "- Es posible que $f(p_n)$ este cercano a cero mientras que $p_n$ difiere significativamente de $p$ (ver ej. (2) abajo).\n",
    "\n",
    "- Si no se conocen nada a priori de $f$ o $p$, en general el criterio de terminacion con error relativo es el mejor."
   ]
  },
  {
   "cell_type": "markdown",
   "metadata": {},
   "source": [
    "- En un programa conviene definir a priori un numero maximo de iteraciones para evitar un ciclo infinito (si la sucesion diverge), o si tengo un error o \"bug\" en mi implementacion."
   ]
  },
  {
   "cell_type": "markdown",
   "metadata": {},
   "source": [
    "### Ejercicios\n",
    "\n",
    "(1) Sea $\\{ p_n\\}$ la sucesion definida por $p_n = \\sum_{k=1}^n \\frac{1}{k}$. Probar que la sucesion diverge aun cuando el limite de las diferencias $p_n - p_{n-1}$ para $n\\to \\infty$ tiende a cero.\n",
    "\n",
    "(2) Sea $f(x) = (x-1)^{10}$, $p=1$, $p_n = 1 + 1/n$. Probar que $\\vert f(p_n) \\vert < 10^{-3}$ siempre que $n > 1$, pero que $\\vert p - p_n\\vert < 10^{-3}$ requere que $n> 1000$."
   ]
  },
  {
   "cell_type": "markdown",
   "metadata": {},
   "source": [
    "### Análisis del algoritmo"
   ]
  },
  {
   "cell_type": "markdown",
   "metadata": {},
   "source": [
    "- En cada paso del algoritmo de biseccion, la longitud (o ancho) del intervalo se reduce en un factor de 2. Por tanto conviene elegir un intervalo inicial $[a, b]$ lo mas pequeño posible."
   ]
  },
  {
   "cell_type": "code",
   "execution_count": 27,
   "metadata": {},
   "outputs": [],
   "source": [
    "using DataFrames"
   ]
  },
  {
   "cell_type": "markdown",
   "metadata": {},
   "source": [
    "Tarea: guardar en una tabla los valores de $n$, $a_n$, $b_n$, $p_n$ y $f(p_n)$ para $n = 1, \\ldots, 13$ con $f(x) = x^3 + 4x^2 - 10$ en el dominion $[1, 2]$."
   ]
  },
  {
   "cell_type": "code",
   "execution_count": 29,
   "metadata": {},
   "outputs": [
    {
     "data": {
      "text/html": [
       "<table class=\"data-frame\"><thead><tr><th></th><th>n</th><th>B</th><th>C</th></tr><tr><th></th><th>Int64</th><th>Float64</th><th>Float64</th></tr></thead><tbody><p>10 rows × 3 columns</p><tr><th>1</th><td>1</td><td>0.276319</td><td>0.165485</td></tr><tr><th>2</th><td>2</td><td>0.123566</td><td>0.726938</td></tr><tr><th>3</th><td>3</td><td>0.941851</td><td>0.095031</td></tr><tr><th>4</th><td>4</td><td>0.765258</td><td>0.0604381</td></tr><tr><th>5</th><td>5</td><td>0.439474</td><td>0.153924</td></tr><tr><th>6</th><td>6</td><td>0.79105</td><td>0.13164</td></tr><tr><th>7</th><td>7</td><td>0.805978</td><td>0.566441</td></tr><tr><th>8</th><td>8</td><td>0.489764</td><td>0.202296</td></tr><tr><th>9</th><td>9</td><td>0.00244233</td><td>0.952309</td></tr><tr><th>10</th><td>10</td><td>0.446556</td><td>0.797641</td></tr></tbody></table>"
      ],
      "text/latex": [
       "\\begin{tabular}{r|ccc}\n",
       "\t& n & B & C\\\\\n",
       "\t\\hline\n",
       "\t& Int64 & Float64 & Float64\\\\\n",
       "\t\\hline\n",
       "\t1 & 1 & 0.276319 & 0.165485 \\\\\n",
       "\t2 & 2 & 0.123566 & 0.726938 \\\\\n",
       "\t3 & 3 & 0.941851 & 0.095031 \\\\\n",
       "\t4 & 4 & 0.765258 & 0.0604381 \\\\\n",
       "\t5 & 5 & 0.439474 & 0.153924 \\\\\n",
       "\t6 & 6 & 0.79105 & 0.13164 \\\\\n",
       "\t7 & 7 & 0.805978 & 0.566441 \\\\\n",
       "\t8 & 8 & 0.489764 & 0.202296 \\\\\n",
       "\t9 & 9 & 0.00244233 & 0.952309 \\\\\n",
       "\t10 & 10 & 0.446556 & 0.797641 \\\\\n",
       "\\end{tabular}\n"
      ],
      "text/plain": [
       "10×3 DataFrame\n",
       "│ Row │ n     │ B          │ C         │\n",
       "│     │ \u001b[90mInt64\u001b[39m │ \u001b[90mFloat64\u001b[39m    │ \u001b[90mFloat64\u001b[39m   │\n",
       "├─────┼───────┼────────────┼───────────┤\n",
       "│ 1   │ 1     │ 0.276319   │ 0.165485  │\n",
       "│ 2   │ 2     │ 0.123566   │ 0.726938  │\n",
       "│ 3   │ 3     │ 0.941851   │ 0.095031  │\n",
       "│ 4   │ 4     │ 0.765258   │ 0.0604381 │\n",
       "│ 5   │ 5     │ 0.439474   │ 0.153924  │\n",
       "│ 6   │ 6     │ 0.79105    │ 0.13164   │\n",
       "│ 7   │ 7     │ 0.805978   │ 0.566441  │\n",
       "│ 8   │ 8     │ 0.489764   │ 0.202296  │\n",
       "│ 9   │ 9     │ 0.00244233 │ 0.952309  │\n",
       "│ 10  │ 10    │ 0.446556   │ 0.797641  │"
      ]
     },
     "execution_count": 29,
     "metadata": {},
     "output_type": "execute_result"
    }
   ],
   "source": [
    "df = DataFrame(n = 1:10, B = rand(10), C = rand(10))"
   ]
  },
  {
   "cell_type": "markdown",
   "metadata": {},
   "source": [
    "**Proposicion.** Sea $f \\in \\mathcal{C}([a, b])$ y $f(a) \\cdot f(b) < 0$. El metodo de biseccion genera una sucesion $\\{ p_n \\}$ que se aproxima a un cero $p$ de $f$ tal que \n",
    "\n",
    "$$\n",
    "\\vert p_n - p \\vert \\leq \\dfrac{b-a}{2^n}, \\qquad n \\geq 1.\n",
    "$$"
   ]
  },
  {
   "cell_type": "markdown",
   "metadata": {},
   "source": [
    "Diremos que\n",
    "\n",
    "$$\n",
    "p_n = p + \\mathcal{O}(\\dfrac{1}{2^n})\n",
    "$$"
   ]
  },
  {
   "cell_type": "markdown",
   "metadata": {},
   "source": [
    "# Símbolos de Landau y costo computacional"
   ]
  },
  {
   "cell_type": "markdown",
   "metadata": {},
   "source": [
    "Veremos:\n",
    "\n",
    "\n",
    "- Cómo analizar el costo de un algoritmo.\n",
    "\n",
    "- (relacionado, más adelante) Cómo analizar la estabilidad de un algoritmo.\n",
    "\n",
    "- Tiempo de ejecucion (runtime) no es equivalente al costo computacional aunque estan relacionados. En particular, cuando evalúo el costo computacional me interesa entender cómo varía el costo (tiempo ó memoria) para distintas instancias del problema, e.g. cómo *escala* la complejidad de mi solución con el número de variables."
   ]
  },
  {
   "cell_type": "markdown",
   "metadata": {},
   "source": [
    "### Ejemplo: producto escalar"
   ]
  },
  {
   "cell_type": "markdown",
   "metadata": {},
   "source": [
    "Calcular el producto escalar entre dos vectores de $\\mathbb{R}^n$."
   ]
  },
  {
   "cell_type": "markdown",
   "metadata": {},
   "source": [
    "Pseudo-codigo:\n",
    "\n",
    "- Entrada: $x, y \\in \\mathbb{R}^n$\n",
    "- Salida: $s = x^T y$\n",
    "\n",
    "```julia\n",
    "s := 0\n",
    "for j = 1 to n do\n",
    "    s := s + xj * yj\n",
    "```"
   ]
  },
  {
   "cell_type": "markdown",
   "metadata": {},
   "source": [
    "Implementacion en Julia:"
   ]
  },
  {
   "cell_type": "code",
   "execution_count": 64,
   "metadata": {},
   "outputs": [
    {
     "data": {
      "text/plain": [
       "producto_escalar (generic function with 1 method)"
      ]
     },
     "execution_count": 64,
     "metadata": {},
     "output_type": "execute_result"
    }
   ],
   "source": [
    "function producto_escalar(x, y)\n",
    "    @assert length(x) == length(y)\n",
    "    s = 0\n",
    "    for i in 1:length(x)\n",
    "        s += x[i] * y[i]\n",
    "    end\n",
    "    return s\n",
    "end"
   ]
  },
  {
   "cell_type": "code",
   "execution_count": 2,
   "metadata": {},
   "outputs": [
    {
     "data": {
      "text/plain": [
       "32"
      ]
     },
     "execution_count": 2,
     "metadata": {},
     "output_type": "execute_result"
    }
   ],
   "source": [
    "x = [1, 2, 3]\n",
    "y = [4, 5, 6]\n",
    "\n",
    "producto_escalar(x, y)"
   ]
  },
  {
   "cell_type": "code",
   "execution_count": 3,
   "metadata": {},
   "outputs": [
    {
     "name": "stdout",
     "output_type": "stream",
     "text": [
      "  0.000003 seconds (4 allocations: 160 bytes)\n"
     ]
    },
    {
     "data": {
      "text/plain": [
       "32"
      ]
     },
     "execution_count": 3,
     "metadata": {},
     "output_type": "execute_result"
    }
   ],
   "source": [
    "@time producto_escalar(x, y)"
   ]
  },
  {
   "cell_type": "code",
   "execution_count": 7,
   "metadata": {},
   "outputs": [],
   "source": [
    "tiempos = []\n",
    "largos = [10^2, 10^3, 10^4, 10^5, 10^6, 10^7, 10^8]\n",
    "for n in largos\n",
    "    x = rand(n)\n",
    "    y = rand(n)\n",
    "    tn = @elapsed producto_escalar(x, y)\n",
    "    push!(tiempos, tn)\n",
    "end"
   ]
  },
  {
   "cell_type": "code",
   "execution_count": 5,
   "metadata": {},
   "outputs": [],
   "source": [
    "using Plots"
   ]
  },
  {
   "cell_type": "code",
   "execution_count": 8,
   "metadata": {},
   "outputs": [
    {
     "data": {
      "image/svg+xml": [
       "<?xml version=\"1.0\" encoding=\"utf-8\"?>\n",
       "<svg xmlns=\"http://www.w3.org/2000/svg\" xmlns:xlink=\"http://www.w3.org/1999/xlink\" width=\"600\" height=\"400\" viewBox=\"0 0 2400 1600\">\n",
       "<defs>\n",
       "  <clipPath id=\"clip9000\">\n",
       "    <rect x=\"0\" y=\"0\" width=\"2400\" height=\"1600\"/>\n",
       "  </clipPath>\n",
       "</defs>\n",
       "<path clip-path=\"url(#clip9000)\" d=\"\n",
       "M0 1600 L2400 1600 L2400 0 L0 0  Z\n",
       "  \" fill=\"#ffffff\" fill-rule=\"evenodd\" fill-opacity=\"1\"/>\n",
       "<defs>\n",
       "  <clipPath id=\"clip9001\">\n",
       "    <rect x=\"480\" y=\"0\" width=\"1681\" height=\"1600\"/>\n",
       "  </clipPath>\n",
       "</defs>\n",
       "<path clip-path=\"url(#clip9000)\" d=\"\n",
       "M279.82 1425.62 L2352.76 1425.62 L2352.76 47.2441 L279.82 47.2441  Z\n",
       "  \" fill=\"#ffffff\" fill-rule=\"evenodd\" fill-opacity=\"1\"/>\n",
       "<defs>\n",
       "  <clipPath id=\"clip9002\">\n",
       "    <rect x=\"279\" y=\"47\" width=\"2074\" height=\"1379\"/>\n",
       "  </clipPath>\n",
       "</defs>\n",
       "<polyline clip-path=\"url(#clip9002)\" style=\"stroke:#000000; stroke-width:2; stroke-opacity:0.1; fill:none\" points=\"\n",
       "  338.488,1425.62 338.488,47.2441 \n",
       "  \"/>\n",
       "<polyline clip-path=\"url(#clip9002)\" style=\"stroke:#000000; stroke-width:2; stroke-opacity:0.1; fill:none\" points=\"\n",
       "  664.421,1425.62 664.421,47.2441 \n",
       "  \"/>\n",
       "<polyline clip-path=\"url(#clip9002)\" style=\"stroke:#000000; stroke-width:2; stroke-opacity:0.1; fill:none\" points=\"\n",
       "  990.355,1425.62 990.355,47.2441 \n",
       "  \"/>\n",
       "<polyline clip-path=\"url(#clip9002)\" style=\"stroke:#000000; stroke-width:2; stroke-opacity:0.1; fill:none\" points=\"\n",
       "  1316.29,1425.62 1316.29,47.2441 \n",
       "  \"/>\n",
       "<polyline clip-path=\"url(#clip9002)\" style=\"stroke:#000000; stroke-width:2; stroke-opacity:0.1; fill:none\" points=\"\n",
       "  1642.22,1425.62 1642.22,47.2441 \n",
       "  \"/>\n",
       "<polyline clip-path=\"url(#clip9002)\" style=\"stroke:#000000; stroke-width:2; stroke-opacity:0.1; fill:none\" points=\"\n",
       "  1968.15,1425.62 1968.15,47.2441 \n",
       "  \"/>\n",
       "<polyline clip-path=\"url(#clip9002)\" style=\"stroke:#000000; stroke-width:2; stroke-opacity:0.1; fill:none\" points=\"\n",
       "  2294.09,1425.62 2294.09,47.2441 \n",
       "  \"/>\n",
       "<polyline clip-path=\"url(#clip9002)\" style=\"stroke:#000000; stroke-width:2; stroke-opacity:0.1; fill:none\" points=\"\n",
       "  279.82,1400.3 2352.76,1400.3 \n",
       "  \"/>\n",
       "<polyline clip-path=\"url(#clip9002)\" style=\"stroke:#000000; stroke-width:2; stroke-opacity:0.1; fill:none\" points=\"\n",
       "  279.82,1149.61 2352.76,1149.61 \n",
       "  \"/>\n",
       "<polyline clip-path=\"url(#clip9002)\" style=\"stroke:#000000; stroke-width:2; stroke-opacity:0.1; fill:none\" points=\"\n",
       "  279.82,898.92 2352.76,898.92 \n",
       "  \"/>\n",
       "<polyline clip-path=\"url(#clip9002)\" style=\"stroke:#000000; stroke-width:2; stroke-opacity:0.1; fill:none\" points=\"\n",
       "  279.82,648.23 2352.76,648.23 \n",
       "  \"/>\n",
       "<polyline clip-path=\"url(#clip9002)\" style=\"stroke:#000000; stroke-width:2; stroke-opacity:0.1; fill:none\" points=\"\n",
       "  279.82,397.54 2352.76,397.54 \n",
       "  \"/>\n",
       "<polyline clip-path=\"url(#clip9002)\" style=\"stroke:#000000; stroke-width:2; stroke-opacity:0.1; fill:none\" points=\"\n",
       "  279.82,146.851 2352.76,146.851 \n",
       "  \"/>\n",
       "<polyline clip-path=\"url(#clip9000)\" style=\"stroke:#000000; stroke-width:4; stroke-opacity:1; fill:none\" points=\"\n",
       "  279.82,1425.62 2352.76,1425.62 \n",
       "  \"/>\n",
       "<polyline clip-path=\"url(#clip9000)\" style=\"stroke:#000000; stroke-width:4; stroke-opacity:1; fill:none\" points=\"\n",
       "  279.82,1425.62 279.82,47.2441 \n",
       "  \"/>\n",
       "<polyline clip-path=\"url(#clip9000)\" style=\"stroke:#000000; stroke-width:4; stroke-opacity:1; fill:none\" points=\"\n",
       "  338.488,1425.62 338.488,1409.08 \n",
       "  \"/>\n",
       "<polyline clip-path=\"url(#clip9000)\" style=\"stroke:#000000; stroke-width:4; stroke-opacity:1; fill:none\" points=\"\n",
       "  664.421,1425.62 664.421,1409.08 \n",
       "  \"/>\n",
       "<polyline clip-path=\"url(#clip9000)\" style=\"stroke:#000000; stroke-width:4; stroke-opacity:1; fill:none\" points=\"\n",
       "  990.355,1425.62 990.355,1409.08 \n",
       "  \"/>\n",
       "<polyline clip-path=\"url(#clip9000)\" style=\"stroke:#000000; stroke-width:4; stroke-opacity:1; fill:none\" points=\"\n",
       "  1316.29,1425.62 1316.29,1409.08 \n",
       "  \"/>\n",
       "<polyline clip-path=\"url(#clip9000)\" style=\"stroke:#000000; stroke-width:4; stroke-opacity:1; fill:none\" points=\"\n",
       "  1642.22,1425.62 1642.22,1409.08 \n",
       "  \"/>\n",
       "<polyline clip-path=\"url(#clip9000)\" style=\"stroke:#000000; stroke-width:4; stroke-opacity:1; fill:none\" points=\"\n",
       "  1968.15,1425.62 1968.15,1409.08 \n",
       "  \"/>\n",
       "<polyline clip-path=\"url(#clip9000)\" style=\"stroke:#000000; stroke-width:4; stroke-opacity:1; fill:none\" points=\"\n",
       "  2294.09,1425.62 2294.09,1409.08 \n",
       "  \"/>\n",
       "<polyline clip-path=\"url(#clip9000)\" style=\"stroke:#000000; stroke-width:4; stroke-opacity:1; fill:none\" points=\"\n",
       "  279.82,1400.3 304.695,1400.3 \n",
       "  \"/>\n",
       "<polyline clip-path=\"url(#clip9000)\" style=\"stroke:#000000; stroke-width:4; stroke-opacity:1; fill:none\" points=\"\n",
       "  279.82,1149.61 304.695,1149.61 \n",
       "  \"/>\n",
       "<polyline clip-path=\"url(#clip9000)\" style=\"stroke:#000000; stroke-width:4; stroke-opacity:1; fill:none\" points=\"\n",
       "  279.82,898.92 304.695,898.92 \n",
       "  \"/>\n",
       "<polyline clip-path=\"url(#clip9000)\" style=\"stroke:#000000; stroke-width:4; stroke-opacity:1; fill:none\" points=\"\n",
       "  279.82,648.23 304.695,648.23 \n",
       "  \"/>\n",
       "<polyline clip-path=\"url(#clip9000)\" style=\"stroke:#000000; stroke-width:4; stroke-opacity:1; fill:none\" points=\"\n",
       "  279.82,397.54 304.695,397.54 \n",
       "  \"/>\n",
       "<polyline clip-path=\"url(#clip9000)\" style=\"stroke:#000000; stroke-width:4; stroke-opacity:1; fill:none\" points=\"\n",
       "  279.82,146.851 304.695,146.851 \n",
       "  \"/>\n",
       "<g clip-path=\"url(#clip9000)\">\n",
       "<text style=\"fill:#000000; fill-opacity:1; font-family:Arial,Helvetica Neue,Helvetica,sans-serif; font-size:48px; text-anchor:start;\" transform=\"rotate(0, 295.417, 1500.63)\" x=\"295.417\" y=\"1500.63\">10</text>\n",
       "</g>\n",
       "<g clip-path=\"url(#clip9000)\">\n",
       "<text style=\"fill:#000000; fill-opacity:1; font-family:Arial,Helvetica Neue,Helvetica,sans-serif; font-size:38px; text-anchor:start;\" transform=\"rotate(0, 348.942, 1473.22)\" x=\"348.942\" y=\"1473.22\">2 </text>\n",
       "</g>\n",
       "<g clip-path=\"url(#clip9000)\">\n",
       "<text style=\"fill:#000000; fill-opacity:1; font-family:Arial,Helvetica Neue,Helvetica,sans-serif; font-size:48px; text-anchor:start;\" transform=\"rotate(0, 621.351, 1500.63)\" x=\"621.351\" y=\"1500.63\">10</text>\n",
       "</g>\n",
       "<g clip-path=\"url(#clip9000)\">\n",
       "<text style=\"fill:#000000; fill-opacity:1; font-family:Arial,Helvetica Neue,Helvetica,sans-serif; font-size:38px; text-anchor:start;\" transform=\"rotate(0, 674.875, 1473.22)\" x=\"674.875\" y=\"1473.22\">3 </text>\n",
       "</g>\n",
       "<g clip-path=\"url(#clip9000)\">\n",
       "<text style=\"fill:#000000; fill-opacity:1; font-family:Arial,Helvetica Neue,Helvetica,sans-serif; font-size:48px; text-anchor:start;\" transform=\"rotate(0, 947.284, 1500.63)\" x=\"947.284\" y=\"1500.63\">10</text>\n",
       "</g>\n",
       "<g clip-path=\"url(#clip9000)\">\n",
       "<text style=\"fill:#000000; fill-opacity:1; font-family:Arial,Helvetica Neue,Helvetica,sans-serif; font-size:38px; text-anchor:start;\" transform=\"rotate(0, 1000.81, 1473.22)\" x=\"1000.81\" y=\"1473.22\">4 </text>\n",
       "</g>\n",
       "<g clip-path=\"url(#clip9000)\">\n",
       "<text style=\"fill:#000000; fill-opacity:1; font-family:Arial,Helvetica Neue,Helvetica,sans-serif; font-size:48px; text-anchor:start;\" transform=\"rotate(0, 1273.22, 1500.63)\" x=\"1273.22\" y=\"1500.63\">10</text>\n",
       "</g>\n",
       "<g clip-path=\"url(#clip9000)\">\n",
       "<text style=\"fill:#000000; fill-opacity:1; font-family:Arial,Helvetica Neue,Helvetica,sans-serif; font-size:38px; text-anchor:start;\" transform=\"rotate(0, 1326.74, 1473.22)\" x=\"1326.74\" y=\"1473.22\">5 </text>\n",
       "</g>\n",
       "<g clip-path=\"url(#clip9000)\">\n",
       "<text style=\"fill:#000000; fill-opacity:1; font-family:Arial,Helvetica Neue,Helvetica,sans-serif; font-size:48px; text-anchor:start;\" transform=\"rotate(0, 1599.15, 1500.63)\" x=\"1599.15\" y=\"1500.63\">10</text>\n",
       "</g>\n",
       "<g clip-path=\"url(#clip9000)\">\n",
       "<text style=\"fill:#000000; fill-opacity:1; font-family:Arial,Helvetica Neue,Helvetica,sans-serif; font-size:38px; text-anchor:start;\" transform=\"rotate(0, 1652.68, 1473.22)\" x=\"1652.68\" y=\"1473.22\">6 </text>\n",
       "</g>\n",
       "<g clip-path=\"url(#clip9000)\">\n",
       "<text style=\"fill:#000000; fill-opacity:1; font-family:Arial,Helvetica Neue,Helvetica,sans-serif; font-size:48px; text-anchor:start;\" transform=\"rotate(0, 1925.08, 1500.63)\" x=\"1925.08\" y=\"1500.63\">10</text>\n",
       "</g>\n",
       "<g clip-path=\"url(#clip9000)\">\n",
       "<text style=\"fill:#000000; fill-opacity:1; font-family:Arial,Helvetica Neue,Helvetica,sans-serif; font-size:38px; text-anchor:start;\" transform=\"rotate(0, 1978.61, 1473.22)\" x=\"1978.61\" y=\"1473.22\">7 </text>\n",
       "</g>\n",
       "<g clip-path=\"url(#clip9000)\">\n",
       "<text style=\"fill:#000000; fill-opacity:1; font-family:Arial,Helvetica Neue,Helvetica,sans-serif; font-size:48px; text-anchor:start;\" transform=\"rotate(0, 2251.02, 1500.63)\" x=\"2251.02\" y=\"1500.63\">10</text>\n",
       "</g>\n",
       "<g clip-path=\"url(#clip9000)\">\n",
       "<text style=\"fill:#000000; fill-opacity:1; font-family:Arial,Helvetica Neue,Helvetica,sans-serif; font-size:38px; text-anchor:start;\" transform=\"rotate(0, 2304.54, 1473.22)\" x=\"2304.54\" y=\"1473.22\">8 </text>\n",
       "</g>\n",
       "<g clip-path=\"url(#clip9000)\">\n",
       "<text style=\"fill:#000000; fill-opacity:1; font-family:Arial,Helvetica Neue,Helvetica,sans-serif; font-size:48px; text-anchor:start;\" transform=\"rotate(0, 146.839, 1424.03)\" x=\"146.839\" y=\"1424.03\">10</text>\n",
       "</g>\n",
       "<g clip-path=\"url(#clip9000)\">\n",
       "<text style=\"fill:#000000; fill-opacity:1; font-family:Arial,Helvetica Neue,Helvetica,sans-serif; font-size:38px; text-anchor:start;\" transform=\"rotate(0, 200.364, 1396.62)\" x=\"200.364\" y=\"1396.62\">-</text>\n",
       "</g>\n",
       "<g clip-path=\"url(#clip9000)\">\n",
       "<text style=\"fill:#000000; fill-opacity:1; font-family:Arial,Helvetica Neue,Helvetica,sans-serif; font-size:38px; text-anchor:start;\" transform=\"rotate(0, 223.203, 1396.62)\" x=\"223.203\" y=\"1396.62\">6 </text>\n",
       "</g>\n",
       "<g clip-path=\"url(#clip9000)\">\n",
       "<text style=\"fill:#000000; fill-opacity:1; font-family:Arial,Helvetica Neue,Helvetica,sans-serif; font-size:48px; text-anchor:start;\" transform=\"rotate(0, 146.839, 1173.34)\" x=\"146.839\" y=\"1173.34\">10</text>\n",
       "</g>\n",
       "<g clip-path=\"url(#clip9000)\">\n",
       "<text style=\"fill:#000000; fill-opacity:1; font-family:Arial,Helvetica Neue,Helvetica,sans-serif; font-size:38px; text-anchor:start;\" transform=\"rotate(0, 200.364, 1145.93)\" x=\"200.364\" y=\"1145.93\">-</text>\n",
       "</g>\n",
       "<g clip-path=\"url(#clip9000)\">\n",
       "<text style=\"fill:#000000; fill-opacity:1; font-family:Arial,Helvetica Neue,Helvetica,sans-serif; font-size:38px; text-anchor:start;\" transform=\"rotate(0, 223.203, 1145.93)\" x=\"223.203\" y=\"1145.93\">5 </text>\n",
       "</g>\n",
       "<g clip-path=\"url(#clip9000)\">\n",
       "<text style=\"fill:#000000; fill-opacity:1; font-family:Arial,Helvetica Neue,Helvetica,sans-serif; font-size:48px; text-anchor:start;\" transform=\"rotate(0, 146.839, 922.647)\" x=\"146.839\" y=\"922.647\">10</text>\n",
       "</g>\n",
       "<g clip-path=\"url(#clip9000)\">\n",
       "<text style=\"fill:#000000; fill-opacity:1; font-family:Arial,Helvetica Neue,Helvetica,sans-serif; font-size:38px; text-anchor:start;\" transform=\"rotate(0, 200.364, 895.237)\" x=\"200.364\" y=\"895.237\">-</text>\n",
       "</g>\n",
       "<g clip-path=\"url(#clip9000)\">\n",
       "<text style=\"fill:#000000; fill-opacity:1; font-family:Arial,Helvetica Neue,Helvetica,sans-serif; font-size:38px; text-anchor:start;\" transform=\"rotate(0, 223.203, 895.237)\" x=\"223.203\" y=\"895.237\">4 </text>\n",
       "</g>\n",
       "<g clip-path=\"url(#clip9000)\">\n",
       "<text style=\"fill:#000000; fill-opacity:1; font-family:Arial,Helvetica Neue,Helvetica,sans-serif; font-size:48px; text-anchor:start;\" transform=\"rotate(0, 146.839, 671.958)\" x=\"146.839\" y=\"671.958\">10</text>\n",
       "</g>\n",
       "<g clip-path=\"url(#clip9000)\">\n",
       "<text style=\"fill:#000000; fill-opacity:1; font-family:Arial,Helvetica Neue,Helvetica,sans-serif; font-size:38px; text-anchor:start;\" transform=\"rotate(0, 200.364, 644.547)\" x=\"200.364\" y=\"644.547\">-</text>\n",
       "</g>\n",
       "<g clip-path=\"url(#clip9000)\">\n",
       "<text style=\"fill:#000000; fill-opacity:1; font-family:Arial,Helvetica Neue,Helvetica,sans-serif; font-size:38px; text-anchor:start;\" transform=\"rotate(0, 223.203, 644.547)\" x=\"223.203\" y=\"644.547\">3 </text>\n",
       "</g>\n",
       "<g clip-path=\"url(#clip9000)\">\n",
       "<text style=\"fill:#000000; fill-opacity:1; font-family:Arial,Helvetica Neue,Helvetica,sans-serif; font-size:48px; text-anchor:start;\" transform=\"rotate(0, 146.839, 421.268)\" x=\"146.839\" y=\"421.268\">10</text>\n",
       "</g>\n",
       "<g clip-path=\"url(#clip9000)\">\n",
       "<text style=\"fill:#000000; fill-opacity:1; font-family:Arial,Helvetica Neue,Helvetica,sans-serif; font-size:38px; text-anchor:start;\" transform=\"rotate(0, 200.364, 393.858)\" x=\"200.364\" y=\"393.858\">-</text>\n",
       "</g>\n",
       "<g clip-path=\"url(#clip9000)\">\n",
       "<text style=\"fill:#000000; fill-opacity:1; font-family:Arial,Helvetica Neue,Helvetica,sans-serif; font-size:38px; text-anchor:start;\" transform=\"rotate(0, 223.203, 393.858)\" x=\"223.203\" y=\"393.858\">2 </text>\n",
       "</g>\n",
       "<g clip-path=\"url(#clip9000)\">\n",
       "<text style=\"fill:#000000; fill-opacity:1; font-family:Arial,Helvetica Neue,Helvetica,sans-serif; font-size:48px; text-anchor:start;\" transform=\"rotate(0, 146.839, 170.578)\" x=\"146.839\" y=\"170.578\">10</text>\n",
       "</g>\n",
       "<g clip-path=\"url(#clip9000)\">\n",
       "<text style=\"fill:#000000; fill-opacity:1; font-family:Arial,Helvetica Neue,Helvetica,sans-serif; font-size:38px; text-anchor:start;\" transform=\"rotate(0, 200.364, 143.168)\" x=\"200.364\" y=\"143.168\">-</text>\n",
       "</g>\n",
       "<g clip-path=\"url(#clip9000)\">\n",
       "<text style=\"fill:#000000; fill-opacity:1; font-family:Arial,Helvetica Neue,Helvetica,sans-serif; font-size:38px; text-anchor:start;\" transform=\"rotate(0, 223.203, 143.168)\" x=\"223.203\" y=\"143.168\">1 </text>\n",
       "</g>\n",
       "<g clip-path=\"url(#clip9000)\">\n",
       "<text style=\"fill:#000000; fill-opacity:1; font-family:Arial,Helvetica Neue,Helvetica,sans-serif; font-size:66px; text-anchor:middle;\" transform=\"rotate(0, 1316.29, 1559.48)\" x=\"1316.29\" y=\"1559.48\">largo n</text>\n",
       "</g>\n",
       "<g clip-path=\"url(#clip9000)\">\n",
       "<text style=\"fill:#000000; fill-opacity:1; font-family:Arial,Helvetica Neue,Helvetica,sans-serif; font-size:66px; text-anchor:middle;\" transform=\"rotate(-90, 89.2861, 736.431)\" x=\"89.2861\" y=\"736.431\">tiempo (s)</text>\n",
       "</g>\n",
       "<polyline clip-path=\"url(#clip9002)\" style=\"stroke:#009af9; stroke-width:4; stroke-opacity:1; fill:none\" points=\"\n",
       "  338.488,1386.61 664.421,1382.93 990.355,1120.27 1316.29,859.039 1642.22,604.502 1968.15,365.376 2294.09,86.2547 \n",
       "  \"/>\n",
       "<line clip-path=\"url(#clip9002)\" x1=\"338.488\" y1=\"1386.61\" x2=\"338.488\" y2=\"1406.61\" style=\"stroke:#000000; stroke-width:4; stroke-opacity:1\"/>\n",
       "<line clip-path=\"url(#clip9002)\" x1=\"338.488\" y1=\"1386.61\" x2=\"318.488\" y2=\"1386.61\" style=\"stroke:#000000; stroke-width:4; stroke-opacity:1\"/>\n",
       "<line clip-path=\"url(#clip9002)\" x1=\"338.488\" y1=\"1386.61\" x2=\"338.488\" y2=\"1366.61\" style=\"stroke:#000000; stroke-width:4; stroke-opacity:1\"/>\n",
       "<line clip-path=\"url(#clip9002)\" x1=\"338.488\" y1=\"1386.61\" x2=\"358.488\" y2=\"1386.61\" style=\"stroke:#000000; stroke-width:4; stroke-opacity:1\"/>\n",
       "<line clip-path=\"url(#clip9002)\" x1=\"338.488\" y1=\"1386.61\" x2=\"338.488\" y2=\"1402.61\" style=\"stroke:#009af9; stroke-width:4; stroke-opacity:1\"/>\n",
       "<line clip-path=\"url(#clip9002)\" x1=\"338.488\" y1=\"1386.61\" x2=\"322.488\" y2=\"1386.61\" style=\"stroke:#009af9; stroke-width:4; stroke-opacity:1\"/>\n",
       "<line clip-path=\"url(#clip9002)\" x1=\"338.488\" y1=\"1386.61\" x2=\"338.488\" y2=\"1370.61\" style=\"stroke:#009af9; stroke-width:4; stroke-opacity:1\"/>\n",
       "<line clip-path=\"url(#clip9002)\" x1=\"338.488\" y1=\"1386.61\" x2=\"354.488\" y2=\"1386.61\" style=\"stroke:#009af9; stroke-width:4; stroke-opacity:1\"/>\n",
       "<line clip-path=\"url(#clip9002)\" x1=\"664.421\" y1=\"1382.93\" x2=\"664.421\" y2=\"1402.93\" style=\"stroke:#000000; stroke-width:4; stroke-opacity:1\"/>\n",
       "<line clip-path=\"url(#clip9002)\" x1=\"664.421\" y1=\"1382.93\" x2=\"644.421\" y2=\"1382.93\" style=\"stroke:#000000; stroke-width:4; stroke-opacity:1\"/>\n",
       "<line clip-path=\"url(#clip9002)\" x1=\"664.421\" y1=\"1382.93\" x2=\"664.421\" y2=\"1362.93\" style=\"stroke:#000000; stroke-width:4; stroke-opacity:1\"/>\n",
       "<line clip-path=\"url(#clip9002)\" x1=\"664.421\" y1=\"1382.93\" x2=\"684.421\" y2=\"1382.93\" style=\"stroke:#000000; stroke-width:4; stroke-opacity:1\"/>\n",
       "<line clip-path=\"url(#clip9002)\" x1=\"664.421\" y1=\"1382.93\" x2=\"664.421\" y2=\"1398.93\" style=\"stroke:#009af9; stroke-width:4; stroke-opacity:1\"/>\n",
       "<line clip-path=\"url(#clip9002)\" x1=\"664.421\" y1=\"1382.93\" x2=\"648.421\" y2=\"1382.93\" style=\"stroke:#009af9; stroke-width:4; stroke-opacity:1\"/>\n",
       "<line clip-path=\"url(#clip9002)\" x1=\"664.421\" y1=\"1382.93\" x2=\"664.421\" y2=\"1366.93\" style=\"stroke:#009af9; stroke-width:4; stroke-opacity:1\"/>\n",
       "<line clip-path=\"url(#clip9002)\" x1=\"664.421\" y1=\"1382.93\" x2=\"680.421\" y2=\"1382.93\" style=\"stroke:#009af9; stroke-width:4; stroke-opacity:1\"/>\n",
       "<line clip-path=\"url(#clip9002)\" x1=\"990.355\" y1=\"1120.27\" x2=\"990.355\" y2=\"1140.27\" style=\"stroke:#000000; stroke-width:4; stroke-opacity:1\"/>\n",
       "<line clip-path=\"url(#clip9002)\" x1=\"990.355\" y1=\"1120.27\" x2=\"970.355\" y2=\"1120.27\" style=\"stroke:#000000; stroke-width:4; stroke-opacity:1\"/>\n",
       "<line clip-path=\"url(#clip9002)\" x1=\"990.355\" y1=\"1120.27\" x2=\"990.355\" y2=\"1100.27\" style=\"stroke:#000000; stroke-width:4; stroke-opacity:1\"/>\n",
       "<line clip-path=\"url(#clip9002)\" x1=\"990.355\" y1=\"1120.27\" x2=\"1010.35\" y2=\"1120.27\" style=\"stroke:#000000; stroke-width:4; stroke-opacity:1\"/>\n",
       "<line clip-path=\"url(#clip9002)\" x1=\"990.355\" y1=\"1120.27\" x2=\"990.355\" y2=\"1136.27\" style=\"stroke:#009af9; stroke-width:4; stroke-opacity:1\"/>\n",
       "<line clip-path=\"url(#clip9002)\" x1=\"990.355\" y1=\"1120.27\" x2=\"974.355\" y2=\"1120.27\" style=\"stroke:#009af9; stroke-width:4; stroke-opacity:1\"/>\n",
       "<line clip-path=\"url(#clip9002)\" x1=\"990.355\" y1=\"1120.27\" x2=\"990.355\" y2=\"1104.27\" style=\"stroke:#009af9; stroke-width:4; stroke-opacity:1\"/>\n",
       "<line clip-path=\"url(#clip9002)\" x1=\"990.355\" y1=\"1120.27\" x2=\"1006.35\" y2=\"1120.27\" style=\"stroke:#009af9; stroke-width:4; stroke-opacity:1\"/>\n",
       "<line clip-path=\"url(#clip9002)\" x1=\"1316.29\" y1=\"859.039\" x2=\"1316.29\" y2=\"879.039\" style=\"stroke:#000000; stroke-width:4; stroke-opacity:1\"/>\n",
       "<line clip-path=\"url(#clip9002)\" x1=\"1316.29\" y1=\"859.039\" x2=\"1296.29\" y2=\"859.039\" style=\"stroke:#000000; stroke-width:4; stroke-opacity:1\"/>\n",
       "<line clip-path=\"url(#clip9002)\" x1=\"1316.29\" y1=\"859.039\" x2=\"1316.29\" y2=\"839.039\" style=\"stroke:#000000; stroke-width:4; stroke-opacity:1\"/>\n",
       "<line clip-path=\"url(#clip9002)\" x1=\"1316.29\" y1=\"859.039\" x2=\"1336.29\" y2=\"859.039\" style=\"stroke:#000000; stroke-width:4; stroke-opacity:1\"/>\n",
       "<line clip-path=\"url(#clip9002)\" x1=\"1316.29\" y1=\"859.039\" x2=\"1316.29\" y2=\"875.039\" style=\"stroke:#009af9; stroke-width:4; stroke-opacity:1\"/>\n",
       "<line clip-path=\"url(#clip9002)\" x1=\"1316.29\" y1=\"859.039\" x2=\"1300.29\" y2=\"859.039\" style=\"stroke:#009af9; stroke-width:4; stroke-opacity:1\"/>\n",
       "<line clip-path=\"url(#clip9002)\" x1=\"1316.29\" y1=\"859.039\" x2=\"1316.29\" y2=\"843.039\" style=\"stroke:#009af9; stroke-width:4; stroke-opacity:1\"/>\n",
       "<line clip-path=\"url(#clip9002)\" x1=\"1316.29\" y1=\"859.039\" x2=\"1332.29\" y2=\"859.039\" style=\"stroke:#009af9; stroke-width:4; stroke-opacity:1\"/>\n",
       "<line clip-path=\"url(#clip9002)\" x1=\"1642.22\" y1=\"604.502\" x2=\"1642.22\" y2=\"624.502\" style=\"stroke:#000000; stroke-width:4; stroke-opacity:1\"/>\n",
       "<line clip-path=\"url(#clip9002)\" x1=\"1642.22\" y1=\"604.502\" x2=\"1622.22\" y2=\"604.502\" style=\"stroke:#000000; stroke-width:4; stroke-opacity:1\"/>\n",
       "<line clip-path=\"url(#clip9002)\" x1=\"1642.22\" y1=\"604.502\" x2=\"1642.22\" y2=\"584.502\" style=\"stroke:#000000; stroke-width:4; stroke-opacity:1\"/>\n",
       "<line clip-path=\"url(#clip9002)\" x1=\"1642.22\" y1=\"604.502\" x2=\"1662.22\" y2=\"604.502\" style=\"stroke:#000000; stroke-width:4; stroke-opacity:1\"/>\n",
       "<line clip-path=\"url(#clip9002)\" x1=\"1642.22\" y1=\"604.502\" x2=\"1642.22\" y2=\"620.502\" style=\"stroke:#009af9; stroke-width:4; stroke-opacity:1\"/>\n",
       "<line clip-path=\"url(#clip9002)\" x1=\"1642.22\" y1=\"604.502\" x2=\"1626.22\" y2=\"604.502\" style=\"stroke:#009af9; stroke-width:4; stroke-opacity:1\"/>\n",
       "<line clip-path=\"url(#clip9002)\" x1=\"1642.22\" y1=\"604.502\" x2=\"1642.22\" y2=\"588.502\" style=\"stroke:#009af9; stroke-width:4; stroke-opacity:1\"/>\n",
       "<line clip-path=\"url(#clip9002)\" x1=\"1642.22\" y1=\"604.502\" x2=\"1658.22\" y2=\"604.502\" style=\"stroke:#009af9; stroke-width:4; stroke-opacity:1\"/>\n",
       "<line clip-path=\"url(#clip9002)\" x1=\"1968.15\" y1=\"365.376\" x2=\"1968.15\" y2=\"385.376\" style=\"stroke:#000000; stroke-width:4; stroke-opacity:1\"/>\n",
       "<line clip-path=\"url(#clip9002)\" x1=\"1968.15\" y1=\"365.376\" x2=\"1948.15\" y2=\"365.376\" style=\"stroke:#000000; stroke-width:4; stroke-opacity:1\"/>\n",
       "<line clip-path=\"url(#clip9002)\" x1=\"1968.15\" y1=\"365.376\" x2=\"1968.15\" y2=\"345.376\" style=\"stroke:#000000; stroke-width:4; stroke-opacity:1\"/>\n",
       "<line clip-path=\"url(#clip9002)\" x1=\"1968.15\" y1=\"365.376\" x2=\"1988.15\" y2=\"365.376\" style=\"stroke:#000000; stroke-width:4; stroke-opacity:1\"/>\n",
       "<line clip-path=\"url(#clip9002)\" x1=\"1968.15\" y1=\"365.376\" x2=\"1968.15\" y2=\"381.376\" style=\"stroke:#009af9; stroke-width:4; stroke-opacity:1\"/>\n",
       "<line clip-path=\"url(#clip9002)\" x1=\"1968.15\" y1=\"365.376\" x2=\"1952.15\" y2=\"365.376\" style=\"stroke:#009af9; stroke-width:4; stroke-opacity:1\"/>\n",
       "<line clip-path=\"url(#clip9002)\" x1=\"1968.15\" y1=\"365.376\" x2=\"1968.15\" y2=\"349.376\" style=\"stroke:#009af9; stroke-width:4; stroke-opacity:1\"/>\n",
       "<line clip-path=\"url(#clip9002)\" x1=\"1968.15\" y1=\"365.376\" x2=\"1984.15\" y2=\"365.376\" style=\"stroke:#009af9; stroke-width:4; stroke-opacity:1\"/>\n",
       "<line clip-path=\"url(#clip9002)\" x1=\"2294.09\" y1=\"86.2547\" x2=\"2294.09\" y2=\"106.255\" style=\"stroke:#000000; stroke-width:4; stroke-opacity:1\"/>\n",
       "<line clip-path=\"url(#clip9002)\" x1=\"2294.09\" y1=\"86.2547\" x2=\"2274.09\" y2=\"86.2547\" style=\"stroke:#000000; stroke-width:4; stroke-opacity:1\"/>\n",
       "<line clip-path=\"url(#clip9002)\" x1=\"2294.09\" y1=\"86.2547\" x2=\"2294.09\" y2=\"66.2547\" style=\"stroke:#000000; stroke-width:4; stroke-opacity:1\"/>\n",
       "<line clip-path=\"url(#clip9002)\" x1=\"2294.09\" y1=\"86.2547\" x2=\"2314.09\" y2=\"86.2547\" style=\"stroke:#000000; stroke-width:4; stroke-opacity:1\"/>\n",
       "<line clip-path=\"url(#clip9002)\" x1=\"2294.09\" y1=\"86.2547\" x2=\"2294.09\" y2=\"102.255\" style=\"stroke:#009af9; stroke-width:4; stroke-opacity:1\"/>\n",
       "<line clip-path=\"url(#clip9002)\" x1=\"2294.09\" y1=\"86.2547\" x2=\"2278.09\" y2=\"86.2547\" style=\"stroke:#009af9; stroke-width:4; stroke-opacity:1\"/>\n",
       "<line clip-path=\"url(#clip9002)\" x1=\"2294.09\" y1=\"86.2547\" x2=\"2294.09\" y2=\"70.2547\" style=\"stroke:#009af9; stroke-width:4; stroke-opacity:1\"/>\n",
       "<line clip-path=\"url(#clip9002)\" x1=\"2294.09\" y1=\"86.2547\" x2=\"2310.09\" y2=\"86.2547\" style=\"stroke:#009af9; stroke-width:4; stroke-opacity:1\"/>\n",
       "</svg>\n"
      ]
     },
     "execution_count": 8,
     "metadata": {},
     "output_type": "execute_result"
    }
   ],
   "source": [
    "plot(largos, tiempos, xaxis=:log, yaxis=:log, marker=:cross, lab=\"\", xlab=\"largo n\", ylab=\"tiempo (s)\")"
   ]
  },
  {
   "cell_type": "markdown",
   "metadata": {},
   "source": [
    "$log(T) \\propto log(N)$"
   ]
  },
  {
   "cell_type": "markdown",
   "metadata": {},
   "source": [
    "- ¿Cuál es el costo computacional de este calculo? ¿Cómo se mide?"
   ]
  },
  {
   "cell_type": "markdown",
   "metadata": {},
   "source": [
    "- En general el costo se mide en *flops*: floating-point operations (operaciones de punto flotante)."
   ]
  },
  {
   "cell_type": "markdown",
   "metadata": {},
   "source": [
    "- Un flop se define como una adicion *y* una multiplicacion. En general, no se distingue entre operaciones de adicion y de multiplicacion, ya que las multiplicaciones en las computadoras modernas se efectuan (con buena aproximacion) de manera tan eficiente como las sumas."
   ]
  },
  {
   "cell_type": "markdown",
   "metadata": {},
   "source": [
    "- La substraccion es tambien tan eficiente como la suma y el producto."
   ]
  },
  {
   "cell_type": "markdown",
   "metadata": {},
   "source": [
    "- La division es mas lenta que las anteriores."
   ]
  },
  {
   "cell_type": "markdown",
   "metadata": {},
   "source": [
    "- En los desarrollos teoricos en general nos interesa mas bien el *comportamiento asintotico*, mas que el valor concreto del numero de flops para un algoritmo dado."
   ]
  },
  {
   "cell_type": "markdown",
   "metadata": {},
   "source": [
    "En el ejemplo de producto escalar:"
   ]
  },
  {
   "cell_type": "markdown",
   "metadata": {},
   "source": [
    "Digamos que $n = 3$ para fijar ideas.\n",
    "\n",
    "Si `aux = x[1] * y[1] + x[2] * y[2] + x[3] * y[3]` entonces:\n",
    "\n",
    "```julia\n",
    "aux = 0\n",
    "aux = aux + x[1] * y[1]\n",
    "aux = aux + x[2] * y[2]\n",
    "aux = aux + x[3] * y[3]\n",
    "```"
   ]
  },
  {
   "cell_type": "markdown",
   "metadata": {},
   "source": [
    "Hay 3 productos y 3 sumas => 3 flops."
   ]
  },
  {
   "cell_type": "markdown",
   "metadata": {},
   "source": [
    "En general para cada indice `i` entre `1` y `n` hay un producto y una suma => `n` flops."
   ]
  },
  {
   "cell_type": "markdown",
   "metadata": {},
   "source": [
    "Si duplico el tamaño de los vectores de entrada (largo `n`) se duplica el número de flops requerido."
   ]
  },
  {
   "cell_type": "markdown",
   "metadata": {},
   "source": [
    "$\\mathcal{O}(n)$"
   ]
  },
  {
   "cell_type": "markdown",
   "metadata": {},
   "source": [
    "## Símbolos de Landau"
   ]
  },
  {
   "cell_type": "markdown",
   "metadata": {},
   "source": [
    "<img src=\"https://upload.wikimedia.org/wikipedia/commons/9/9d/Edmund_Landau.jpg\" alt=\"Landau\" style=\"width: 200px;\"/>"
   ]
  },
  {
   "cell_type": "markdown",
   "metadata": {},
   "source": [
    "[Edmund Landau](https://en.wikipedia.org/wiki/Edmund_Landau) fue un matemático alemán del S.XX que trabajó en el campo de la teoría de números y el análisis complejo."
   ]
  },
  {
   "cell_type": "markdown",
   "metadata": {},
   "source": [
    "**Def (simbolos de Landau)** Dadas $f, g : \\mathbb{N}^d \\to \\mathbb{R}$ escribimos\n",
    "$$\n",
    "f(n) = \\mathcal{O}(g(n))\n",
    "$$\n",
    "si existe una constante $c > 0$ tal que $\\vert f(n) \\vert \\leq c \\vert g(n) \\vert$, $\\forall n \\geq n_0$."
   ]
  },
  {
   "cell_type": "markdown",
   "metadata": {},
   "source": [
    "- Nota: la constante debe ser independiente de $n$."
   ]
  },
  {
   "cell_type": "markdown",
   "metadata": {},
   "source": [
    "- En la práctica suele no interesar mucho la constante `c`, aunque si `c > 0` es muy grande, el comportamiento asintótico no se observará si no es para valores suficientemente grandes de $n$."
   ]
  },
  {
   "cell_type": "markdown",
   "metadata": {},
   "source": [
    "En el caso del producto escalar, podemos decir que la operación $\\langle x, y \\rangle$ entre dos vectores $x, y \\in \\mathbb{R}^n$ cuesta $\\mathcal{O}(n)$."
   ]
  },
  {
   "cell_type": "markdown",
   "metadata": {},
   "source": [
    "<img src=\"https://upload.wikimedia.org/wikipedia/commons/3/39/CotaSuperiorAsintotica.png\" alt=\"CotaSup\" style=\"width: 400px;\"/>"
   ]
  },
  {
   "cell_type": "markdown",
   "metadata": {},
   "source": [
    "- Ver: https://es.wikipedia.org/wiki/Cota_superior_asint%C3%B3tica"
   ]
  },
  {
   "cell_type": "markdown",
   "metadata": {},
   "source": [
    "**Órdenes usuales para funciones:**"
   ]
  },
  {
   "cell_type": "markdown",
   "metadata": {},
   "source": [
    "|Notacion|Nombre|\n",
    "|--------|------|\n",
    "|$\\mathcal{O}(1)$ | orden constante|\n",
    "|$\\mathcal{O}(\\log\\log n)$ | orden sublogarítmica|\n",
    "|$\\mathcal{O}(\\log n)$ | orden logarítmica|\n",
    "|$\\mathcal{O}(\\sqrt{n})$ | orden sublineal|\n",
    "|$\\mathcal{O}(n)$ | orden lineal o de primer orden|\n",
    "|$\\mathcal{O}(n\\log n)$ | orden lineal logarítmica|\n",
    "|$\\mathcal{O}(n^2)$ | orden cuadrática o de segundo orden|\n",
    "|$\\mathcal{O}(n^3)$ | orden cúbica o de tercer orden|\n",
    "|$\\mathcal{O}(n^c)$ | orden potencial fija|\n",
    "|$\\mathcal{O}(c^n)$, $n > 1$ | orden exponencial|\n",
    "|$\\mathcal{O}(n!)$ | orden factorial|\n",
    "|$\\mathcal{O}(n^n)$ | orden potencial exponencial|"
   ]
  },
  {
   "cell_type": "markdown",
   "metadata": {},
   "source": [
    "Para ejemplos de algoritmos con tales complejidades, ver https://en.wikipedia.org/wiki/Big_O_notation"
   ]
  },
  {
   "cell_type": "markdown",
   "metadata": {},
   "source": [
    "**Def (simbolo de Landau generalizado)** Sean $f, g : \\mathbb{R}^n \\to \\mathbb{R}$ y sea $x_0 \\in \\mathbb{R}^n$. Escribimos\n",
    "\n",
    "$$\n",
    "f(x) = \\mathcal{O}(g(x)),\\qquad x \\to x_0\n",
    "$$\n",
    "si existe una constante $c > 0$ y un entorno $U = U(x_0) \\subseteq \\mathbb{R}^n$ de $x_0$, tal que\n",
    "$$\n",
    "\\vert f(x) \\vert \\leq c \\vert g(x) \\vert,\\qquad x \\in U.\n",
    "$$"
   ]
  },
  {
   "cell_type": "markdown",
   "metadata": {},
   "source": [
    "### Ejercicios"
   ]
  },
  {
   "cell_type": "markdown",
   "metadata": {},
   "source": [
    "(1) Probar que para todo $a \\in \\mathbb{R}$, $f(x) = x + a$ es una $\\mathcal{O}(x^2)$.\n",
    "\n",
    "(2) Observar que el simbolo de Landau *no conmuta*, es $f(x) = \\mathcal{O}(g(x))$ no implica $g(x) = \\mathcal{O}(f(x))$.\n",
    "\n",
    "(3) Observar que el simbolo de Landau es reflexivo: $f = \\mathcal{O}(f)$.\n",
    "\n",
    "(4) Sean $E \\subseteq \\mathbb{R}$, $f_1 : E \\to \\mathbb{R}$, $g_1 : E \\to \\mathbb{R}$, $f_2 : E \\to \\mathbb{R}$, $g_2 : E \\to \\mathbb{R}$ funciones y sea $k \\in \\mathbb{R}$ un real. Probar las siguientes propiedades:\n",
    "\n",
    "(i) Si $f_1 = \\mathcal{O}(g_1)$ y $g_1 = \\mathcal{O}(g_2)$, entonces $f_1 = \\mathcal{O}(g_2)$.\n",
    "\n",
    "(ii) Si $f_1 = \\mathcal{O}(g_1)$ y $g_1 = \\mathcal{O}(g_2)$, entonces $f_1 f_2 = \\mathcal{O}(g_1 g_2)$.\n",
    "\n",
    "(iii) $f_2 \\mathcal{O}(g_1) = \\mathcal{O}(f_2 g_1)$ (igualdad entre conjuntos).\n",
    "\n",
    "(iv) Si $f_1 = \\mathcal{O}(g_1)$ y $f_2 = \\mathcal{O}(g_2)$, entonces $f_1 + f_2 = \\mathcal{O}(|g_1| + |g_2|)$.\n",
    "\n",
    "(v) Si $k \\neq 0$ entonces $\\mathcal{O}(g_1) = \\mathcal{O}(kg_1)$ (igualdad entre conjuntos).\n",
    "\n",
    "(vi) Si $f_1 = \\mathcal{O}(g_1)$ entonces $k f_1 = \\mathcal{O}(g_1)$."
   ]
  },
  {
   "cell_type": "markdown",
   "metadata": {},
   "source": [
    "### Otro ejemplo: multiplicación de vectores y matries"
   ]
  },
  {
   "cell_type": "markdown",
   "metadata": {},
   "source": [
    "Probaremos el siguiente:\n",
    "\n",
    "**Lema:** Sean $A \\in \\mathbb{R}^{m \\times n}$, $B \\in \\mathbb{R}^{n \\times p}$, $x \\in \\mathbb{R}^n$, $\\alpha \\in \\mathbb{R}$.\n",
    "\n",
    "(i) Cuesta $\\mathcal{O}(n)$ de espacio para almacenar $x \\in \\mathbb{R}^n$ y $\\mathcal{O}(mn)$ para almacenar la matrix $A$.\n",
    "\n",
    "(ii) Cuesta $\\mathcal{O}(n)$ de espacio para calcular el producto $\\alpha x$.\n",
    "\n",
    "(iii) Cuesta $\\mathcal{O}(mn)$ de tiempo para calcular el producto $A x$.\n",
    "\n",
    "(iv) Cuesta $\\mathcal{O}(mnp)$ de tiempo para calcular el producto $AB$.\n",
    "\n",
    "(v) Si $m = n = p$, cuesta $\\mathcal{O}(n^3)$ de tiempo para calcular el producto $AB$."
   ]
  },
  {
   "cell_type": "markdown",
   "metadata": {},
   "source": [
    "Sea $A \\in \\mathbb{R}^{m \\times n}$ con $x \\in \\mathbb{R}^n$ que da $b = Ax \\in \\mathbb{R}^m$, con componentes\n",
    "\n",
    "$$\n",
    "b_i = (Ax)_i = \\sum_{j=1}^n a_{ij} x_j,\\qquad 1 \\leq i \\leq m.\n",
    "$$\n",
    "\n",
    "- El producto de $A  \\in \\mathbb{R}^{m \\times n}$ con $B \\in \\mathbb{R}^{n \\times p}$ da $C = AB \\in \\mathbb{R}^{m \\times p}$ con componentes\n",
    "\n",
    "$$\n",
    "c_{ij} = \\sum_{k=1}^n a_{ij} b_{kj},\\qquad 1\\leq i \\leq m, 1 \\leq j \\leq p.\n",
    "$$"
   ]
  },
  {
   "cell_type": "markdown",
   "metadata": {},
   "source": [
    "Entonces:\n",
    "\n",
    "- $b = Ax$, para cada indice $i$ debemos calcular $\\sum_{j=1}^n a_{ij} x_j$\n",
    "\n",
    "- Hay $n$ multiplicaciones y $n-1$ sumas, es decir hay $n$ flops.\n",
    "\n",
    "- Si duplico el tamaño de la matriz, eso requiere el doble de flops para cada componente."
   ]
  },
  {
   "cell_type": "markdown",
   "metadata": {},
   "source": [
    "- El costo en notación de Landau es $\\mathcal{O}(mn)$.\n",
    "\n",
    "- Si la matriz es cuadrada, $m=n$ y el costo es $\\mathcal{O}(n^2)$.\n",
    "    - Es decir al duplicar el tamaño de la matriz y del vector ($n \\to 2n$) requiere cuatro veces más tiempo que el cálculo original (instancia de tamaño $n$)."
   ]
  },
  {
   "cell_type": "markdown",
   "metadata": {},
   "source": [
    "- Evaluando el costo en terminos de **espacio**:\n",
    "\n",
    "    - Debo almacenar cada elemento $a_{ij}$ y cada entrada de $x$, y el resultado $Ax$, eso requiere\n",
    "    \n",
    "    $$\n",
    "    \\mathcal{O}(mn + n + n) = \\mathcal{O}(mn).\n",
    "    $$"
   ]
  },
  {
   "cell_type": "markdown",
   "metadata": {},
   "source": [
    "- Generalizacion: para $A, B \\in \\mathbb{R}^{n \\times n}$, requiere $\\mathcal{O}(n^3)$ operaciones y lo mismo en terminos de espacio."
   ]
  },
  {
   "cell_type": "markdown",
   "metadata": {},
   "source": [
    "*Nota:* existen métodos muy sofisticados para reducir el costo computacional de multiplicar matrices. Esta es una operación muy importante (sino la más importante) en ALN.\n",
    "\n",
    "- El método de Strassen calcula el producto de dos matrices $n\\times n$ en a lo sumo $4.7 n^{\\log_2 7} = \\mathcal{O}(n^{2.807355})$ flops."
   ]
  },
  {
   "cell_type": "markdown",
   "metadata": {},
   "source": [
    "- Coppersmith & Winograd para la misma operacion requiere $ \\mathcal{O}(n^{2.375477})$ flops. Sin embargo, la constante \"escondida\" en la big-O es mayor que para el algoritmo de Strassen."
   ]
  },
  {
   "cell_type": "markdown",
   "metadata": {},
   "source": [
    "- No obstante, por cuestiones relativas a estabilidad estos no son necsariamente los algoritmos que se utilizan en librerias como LAPACK."
   ]
  },
  {
   "cell_type": "markdown",
   "metadata": {},
   "source": [
    "<img src=\"https://upload.wikimedia.org/wikipedia/commons/thumb/5/5b/MatrixMultComplexity_svg.svg/800px-MatrixMultComplexity_svg.svg.png\" alt=\"CotaSup\" style=\"width: 600px;\"/>"
   ]
  },
  {
   "cell_type": "markdown",
   "metadata": {},
   "source": [
    "- Si llamamos $\\omega$ a la minima cota superior para el exponente de la complejidad de multiplicacion matricial ($n\\times n$), se sabe que $2 \\leq \\omega < 2.373$ (resultado de François Le Gall, 2014).\n",
    "- No se sabe si $2 < \\omega$."
   ]
  },
  {
   "cell_type": "markdown",
   "metadata": {},
   "source": [
    "---"
   ]
  },
  {
   "cell_type": "markdown",
   "metadata": {},
   "source": [
    "### Ejercicio\n",
    "\n",
    "Sea $A \\in \\mathbb{R}^{n\\times n}$ una matriz tridiagonal.\n",
    "\n",
    "(i) La matriz $A$ puede ser almacenada, utilizando su estructura particular, en espacio $\\mathcal{O}(n)$ en vez de $\\mathcal{O}(n^2)$.\n",
    "\n",
    "(ii) El producto matriz-vector tiene una complejidad lineal $\\mathcal{O}(n)$."
   ]
  },
  {
   "cell_type": "markdown",
   "metadata": {},
   "source": [
    "### Una propiedad para funciones recursivas"
   ]
  },
  {
   "cell_type": "markdown",
   "metadata": {},
   "source": [
    "- Algoritmos que tienen estructura *recursiva*:\n",
    "\n",
    "    - Resolver un problema de tamaño $n$ se reduce a resolver problemas de tamano $n/b$ con $b > 1$.\n",
    "    - Ejemplo: divide and conquer."
   ]
  },
  {
   "cell_type": "markdown",
   "metadata": {},
   "source": [
    "**Propiedad (fórmula recursiva para símbolos de Landau).** Sean $T(1) = c$ y $T(n) = aT(n/b) + cn^\\alpha$, con $c, a, \\alpha > 0$ y $b > 1$. Supongamos ademas que $n = b^k$, $k\\in \\mathbb{N}$.\n",
    "\n",
    "Entonces se verifica que:\n",
    "\n",
    "$$\n",
    "T(n) \\leq\n",
    "  \\begin{cases}\n",
    "    c\\dfrac{b^\\alpha}{b^\\alpha - a}n^\\alpha       & \\quad \\text{si } a < b^\\alpha\\\\\n",
    "     c n^\\alpha(\\log_b n + 1)& \\quad \\text{si } a = b^\\alpha \\\\\n",
    "    c\\dfrac{a}{a-b^\\alpha}n^{\\log_b a} & \\quad \\text{si } a > b^\\alpha \n",
    "  \\end{cases}\n",
    "$$"
   ]
  },
  {
   "cell_type": "markdown",
   "metadata": {},
   "source": [
    "*Obs.* La propiedad anterior se verifica en general para todo $n \\in \\mathbb{N}$."
   ]
  },
  {
   "cell_type": "markdown",
   "metadata": {},
   "source": [
    "---"
   ]
  }
 ],
 "metadata": {
  "kernelspec": {
   "display_name": "Julia 1.3.1",
   "language": "julia",
   "name": "julia-1.3"
  },
  "language_info": {
   "file_extension": ".jl",
   "mimetype": "application/julia",
   "name": "julia",
   "version": "1.3.1"
  }
 },
 "nbformat": 4,
 "nbformat_minor": 2
}
