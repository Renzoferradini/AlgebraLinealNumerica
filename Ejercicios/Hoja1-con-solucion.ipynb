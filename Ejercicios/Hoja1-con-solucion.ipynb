{
 "cells": [
  {
   "cell_type": "markdown",
   "metadata": {},
   "source": [
    "# Ejercicios teóricos"
   ]
  },
  {
   "cell_type": "markdown",
   "metadata": {},
   "source": [
    "## Números complejos"
   ]
  },
  {
   "cell_type": "markdown",
   "metadata": {},
   "source": [
    "(1) *(Golan p. 14)* Sea $y$ un numero complejo que satisface $\\vert y \\vert < 1$. Encontrar el conjunto de todos los numeros complejos $z$ tales que $\\vert z - y \\vert \\leq \\vert 1 - \\bar{y} z \\vert$."
   ]
  },
  {
   "cell_type": "markdown",
   "metadata": {},
   "source": [
    "(2) *(Golan p. 14)* Demostrar que $\\vert z + 1\\vert \\leq \\vert z + 1 \\vert^2 + \\vert z \\vert$ para todo $z \\in \\mathbb{C}$."
   ]
  },
  {
   "cell_type": "markdown",
   "metadata": {},
   "source": [
    "(3) *(Golan p. 14)* Dado $z \\in \\mathbb{C}$, encontrar $w \\in \\mathbb{C}$ tal que $w^2 = z$."
   ]
  },
  {
   "cell_type": "markdown",
   "metadata": {},
   "source": [
    "(4) *(Golan p. 14)* Para cualesquiera $z_1, z_2 \\in \\mathbb{C}$, demostrar que\n",
    "\n",
    "$$\n",
    "\\vert z_1 \\vert^2 + \\vert z_2 \\vert^2 - z_1 \\bar{z}_2 - \\bar{z}_1 z_2 = \\vert z_1 - z_2 \\vert^2.\n",
    "$$"
   ]
  },
  {
   "cell_type": "markdown",
   "metadata": {},
   "source": [
    "(5) *(Golan p. 14)* Encontrar el conjunto de todos los numeros complejos $z = a + bi$ que satisfacen la relacion dada. Notar que ese conjunto puede ser vacio, o puede ser todo el plano complejo. Justificar en cada caso.\n",
    "\n",
    "(i) $z^2 = \\frac{1}{2}(1 + i \\sqrt{3})$.\n",
    "\n",
    "(ii) $\\sqrt{2} \\vert z \\vert \\geq \\vert a \\vert + \\vert b \\vert$.\n",
    "\n",
    "(iii) $\\vert z \\vert + z = 2 + i$.\n",
    "\n",
    "(iv) $z^4 = 2 - \\sqrt{12}i$.\n",
    "\n",
    "(v) $z^4 = -4$."
   ]
  },
  {
   "cell_type": "markdown",
   "metadata": {},
   "source": [
    "## Matrices"
   ]
  },
  {
   "cell_type": "markdown",
   "metadata": {},
   "source": [
    "(1) Dada $A \\in \\mathbb{R}^{n\\times n}$, decimos que $X$ es la inversa de $A$ si verifica que: $AX = XA = I_n$. Notamos $A^{-1} = X$.\n",
    "\n",
    "(i) Si una matriz $A \\in \\mathbb{R}^{n\\times n}$ es simetrica e invertible, entonces $A^{-1}$ tambien lo es.\n",
    "\n",
    "(ii) La transpuesta y la inversa de una matriz satisfacen (mientras que las inversas esten definidas):\n",
    "   \n",
    "   - (ii.a) $(AB)^T = B^T A^T$\n",
    "    \n",
    "   - (ii.b) $(AB)^{-1} = B^{-1} A^{-1}$."
   ]
  },
  {
   "cell_type": "markdown",
   "metadata": {},
   "source": [
    "## Símbolo de Landau y costo computacional"
   ]
  },
  {
   "cell_type": "markdown",
   "metadata": {},
   "source": [
    "(1) Probar que para todo $a \\in \\mathbb{R}$, $f(x) = x + a$ es una $\\mathcal{O}(x^2)$."
   ]
  },
  {
   "cell_type": "markdown",
   "metadata": {},
   "source": [
    "(2) Observar que el simbolo de Landau *no conmuta*, es $f(x) = \\mathcal{O}(g(x))$ no implica $g(x) = \\mathcal{O}(f(x))$."
   ]
  },
  {
   "cell_type": "markdown",
   "metadata": {},
   "source": [
    "\n",
    "(3) Observar que el simbolo de Landau es reflexivo: $f = \\mathcal{O}(f)$."
   ]
  },
  {
   "cell_type": "markdown",
   "metadata": {},
   "source": [
    "(4) Sean $E \\subseteq \\mathbb{R}$, $f_1 : E \\to \\mathbb{R}$, $g_1 : E \\to \\mathbb{R}$, $f_2 : E \\to \\mathbb{R}$, $g_2 : E \\to \\mathbb{R}$ funciones y sea $k \\in \\mathbb{R}$ un real. Probar las siguientes propiedades:\n",
    "\n",
    "(i) Si $f_1 = \\mathcal{O}(g_1)$ y $g_1 = \\mathcal{O}(g_2)$, entonces $f_1 = \\mathcal{O}(g_2)$.\n",
    "\n",
    "(ii) Si $f_1 = \\mathcal{O}(g_1)$ y $g_1 = \\mathcal{O}(g_2)$, entonces $f_1 f_2 = \\mathcal{O}(g_1 g_2)$.\n",
    "\n",
    "(iii) $f_2 \\mathcal{O}(g_1) = \\mathcal{O}(f_2 g_1)$ (igualdad entre conjuntos).\n",
    "\n",
    "(iv) Si $f_1 = \\mathcal{O}(g_1)$ y $f_2 = \\mathcal{O}(g_2)$, entonces $f_1 + f_2 = \\mathcal{O}(|g_1| + |g_2|)$.\n",
    "\n",
    "(v) Si $k \\neq 0$ entonces $\\mathcal{O}(g_1) = \\mathcal{O}(kg_1)$ (igualdad entre conjuntos).\n",
    "\n",
    "(vi) Si $f_1 = \\mathcal{O}(g_1)$ entonces $k f_1 = \\mathcal{O}(g_1)$."
   ]
  },
  {
   "cell_type": "markdown",
   "metadata": {},
   "source": [
    "(5) Sea $A \\in \\mathbb{R}^{n\\times n}$ una matriz tridiagonal.\n",
    "\n",
    "(i) La matriz $A$ puede ser almacenada, utilizando su estructura particular, en espacio $\\mathcal{O}(n)$ en vez de $\\mathcal{O}(n^2)$.\n",
    "\n",
    "(ii) El producto matriz-vector tiene una complejidad lineal $\\mathcal{O}(n)$."
   ]
  },
  {
   "cell_type": "markdown",
   "metadata": {},
   "source": [
    "(6) Sea $\\{ p_n\\}$ la sucesion definida por $p_n = \\sum_{k=1}^n \\frac{1}{k}$. Probar que la sucesion diverge aun cuando el limite de las diferencias $p_n - p_{n-1}$ para $n\\to \\infty$ tiende a cero."
   ]
  },
  {
   "cell_type": "markdown",
   "metadata": {},
   "source": [
    "(7) Sea $f(x) = (x-1)^{10}$, $p=1$, $p_n = 1 + 1/n$. Probar que $\\vert f(p_n) \\vert < 10^{-3}$ siempre que $n > 1$, pero que $\\vert p - p_n\\vert < 10^{-3}$ requere que $n> 1000$."
   ]
  },
  {
   "cell_type": "markdown",
   "metadata": {},
   "source": [
    "# Ejercicios para resolver por computadora"
   ]
  },
  {
   "cell_type": "markdown",
   "metadata": {},
   "source": [
    "## Básicos de Julia"
   ]
  },
  {
   "cell_type": "markdown",
   "metadata": {},
   "source": [
    "(1) Tipos de matrices en Julia.\n",
    "\n",
    "(i) Construir, en Julia, algunos ejemplos de los tipos de matrices vistos en clase.\n",
    "\n",
    "(ii) Cargar el paquete `LinearAlgebra` y e investigar los siguientes tipos: `Diagonal`, `Bidiagonal`,\n",
    "     `Tridiagonal`, `SymTridiagonal`, `UpperTriangular`, `LowerTriangular`.\n",
    "     \n",
    "\n",
    "(iii) Generar las matrices especiales de la parte 1, pero usando los tipos de la parte (ii)."
   ]
  },
  {
   "cell_type": "markdown",
   "metadata": {},
   "source": [
    "Paquetes de la libreria \"estandard\", eg. `LinearAlgebra`, `SparseArrays`, etc."
   ]
  },
  {
   "cell_type": "code",
   "execution_count": 1,
   "metadata": {},
   "outputs": [],
   "source": [
    "using LinearAlgebra"
   ]
  },
  {
   "cell_type": "markdown",
   "metadata": {},
   "source": [
    "\"Tipos\" especificos para ciertas clases especiales de matrices."
   ]
  },
  {
   "cell_type": "code",
   "execution_count": 2,
   "metadata": {},
   "outputs": [
    {
     "name": "stdout",
     "output_type": "stream",
     "text": [
      "search: \u001b[0m\u001b[1mD\u001b[22m\u001b[0m\u001b[1mi\u001b[22m\u001b[0m\u001b[1ma\u001b[22m\u001b[0m\u001b[1mg\u001b[22m\u001b[0m\u001b[1mo\u001b[22m\u001b[0m\u001b[1mn\u001b[22m\u001b[0m\u001b[1ma\u001b[22m\u001b[0m\u001b[1ml\u001b[22m Bi\u001b[0m\u001b[1md\u001b[22m\u001b[0m\u001b[1mi\u001b[22m\u001b[0m\u001b[1ma\u001b[22m\u001b[0m\u001b[1mg\u001b[22m\u001b[0m\u001b[1mo\u001b[22m\u001b[0m\u001b[1mn\u001b[22m\u001b[0m\u001b[1ma\u001b[22m\u001b[0m\u001b[1ml\u001b[22m Tri\u001b[0m\u001b[1md\u001b[22m\u001b[0m\u001b[1mi\u001b[22m\u001b[0m\u001b[1ma\u001b[22m\u001b[0m\u001b[1mg\u001b[22m\u001b[0m\u001b[1mo\u001b[22m\u001b[0m\u001b[1mn\u001b[22m\u001b[0m\u001b[1ma\u001b[22m\u001b[0m\u001b[1ml\u001b[22m SymTri\u001b[0m\u001b[1md\u001b[22m\u001b[0m\u001b[1mi\u001b[22m\u001b[0m\u001b[1ma\u001b[22m\u001b[0m\u001b[1mg\u001b[22m\u001b[0m\u001b[1mo\u001b[22m\u001b[0m\u001b[1mn\u001b[22m\u001b[0m\u001b[1ma\u001b[22m\u001b[0m\u001b[1ml\u001b[22m\n",
      "\n"
     ]
    },
    {
     "data": {
      "text/latex": [
       "\\begin{verbatim}\n",
       "Diagonal(A::AbstractMatrix)\n",
       "\\end{verbatim}\n",
       "Construct a matrix from the diagonal of \\texttt{A}.\n",
       "\n",
       "\\section{Examples}\n",
       "\\begin{verbatim}\n",
       "julia> A = [1 2 3; 4 5 6; 7 8 9]\n",
       "3×3 Array{Int64,2}:\n",
       " 1  2  3\n",
       " 4  5  6\n",
       " 7  8  9\n",
       "\n",
       "julia> Diagonal(A)\n",
       "3×3 Diagonal{Int64,Array{Int64,1}}:\n",
       " 1  ⋅  ⋅\n",
       " ⋅  5  ⋅\n",
       " ⋅  ⋅  9\n",
       "\\end{verbatim}\n",
       "\\rule{\\textwidth}{1pt}\n",
       "\\begin{verbatim}\n",
       "Diagonal(V::AbstractVector)\n",
       "\\end{verbatim}\n",
       "Construct a matrix with \\texttt{V} as its diagonal.\n",
       "\n",
       "\\section{Examples}\n",
       "\\begin{verbatim}\n",
       "julia> V = [1, 2]\n",
       "2-element Array{Int64,1}:\n",
       " 1\n",
       " 2\n",
       "\n",
       "julia> Diagonal(V)\n",
       "2×2 Diagonal{Int64,Array{Int64,1}}:\n",
       " 1  ⋅\n",
       " ⋅  2\n",
       "\\end{verbatim}\n"
      ],
      "text/markdown": [
       "```\n",
       "Diagonal(A::AbstractMatrix)\n",
       "```\n",
       "\n",
       "Construct a matrix from the diagonal of `A`.\n",
       "\n",
       "# Examples\n",
       "\n",
       "```jldoctest\n",
       "julia> A = [1 2 3; 4 5 6; 7 8 9]\n",
       "3×3 Array{Int64,2}:\n",
       " 1  2  3\n",
       " 4  5  6\n",
       " 7  8  9\n",
       "\n",
       "julia> Diagonal(A)\n",
       "3×3 Diagonal{Int64,Array{Int64,1}}:\n",
       " 1  ⋅  ⋅\n",
       " ⋅  5  ⋅\n",
       " ⋅  ⋅  9\n",
       "```\n",
       "\n",
       "---\n",
       "\n",
       "```\n",
       "Diagonal(V::AbstractVector)\n",
       "```\n",
       "\n",
       "Construct a matrix with `V` as its diagonal.\n",
       "\n",
       "# Examples\n",
       "\n",
       "```jldoctest\n",
       "julia> V = [1, 2]\n",
       "2-element Array{Int64,1}:\n",
       " 1\n",
       " 2\n",
       "\n",
       "julia> Diagonal(V)\n",
       "2×2 Diagonal{Int64,Array{Int64,1}}:\n",
       " 1  ⋅\n",
       " ⋅  2\n",
       "```\n"
      ],
      "text/plain": [
       "\u001b[36m  Diagonal(A::AbstractMatrix)\u001b[39m\n",
       "\n",
       "  Construct a matrix from the diagonal of \u001b[36mA\u001b[39m.\n",
       "\n",
       "\u001b[1m  Examples\u001b[22m\n",
       "\u001b[1m  ≡≡≡≡≡≡≡≡≡≡\u001b[22m\n",
       "\n",
       "\u001b[36m  julia> A = [1 2 3; 4 5 6; 7 8 9]\u001b[39m\n",
       "\u001b[36m  3×3 Array{Int64,2}:\u001b[39m\n",
       "\u001b[36m   1  2  3\u001b[39m\n",
       "\u001b[36m   4  5  6\u001b[39m\n",
       "\u001b[36m   7  8  9\u001b[39m\n",
       "\u001b[36m  \u001b[39m\n",
       "\u001b[36m  julia> Diagonal(A)\u001b[39m\n",
       "\u001b[36m  3×3 Diagonal{Int64,Array{Int64,1}}:\u001b[39m\n",
       "\u001b[36m   1  ⋅  ⋅\u001b[39m\n",
       "\u001b[36m   ⋅  5  ⋅\u001b[39m\n",
       "\u001b[36m   ⋅  ⋅  9\u001b[39m\n",
       "\n",
       "  ────────────────────────────────────────────────────────────────────────────\n",
       "\n",
       "\u001b[36m  Diagonal(V::AbstractVector)\u001b[39m\n",
       "\n",
       "  Construct a matrix with \u001b[36mV\u001b[39m as its diagonal.\n",
       "\n",
       "\u001b[1m  Examples\u001b[22m\n",
       "\u001b[1m  ≡≡≡≡≡≡≡≡≡≡\u001b[22m\n",
       "\n",
       "\u001b[36m  julia> V = [1, 2]\u001b[39m\n",
       "\u001b[36m  2-element Array{Int64,1}:\u001b[39m\n",
       "\u001b[36m   1\u001b[39m\n",
       "\u001b[36m   2\u001b[39m\n",
       "\u001b[36m  \u001b[39m\n",
       "\u001b[36m  julia> Diagonal(V)\u001b[39m\n",
       "\u001b[36m  2×2 Diagonal{Int64,Array{Int64,1}}:\u001b[39m\n",
       "\u001b[36m   1  ⋅\u001b[39m\n",
       "\u001b[36m   ⋅  2\u001b[39m"
      ]
     },
     "execution_count": 2,
     "metadata": {},
     "output_type": "execute_result"
    }
   ],
   "source": [
    "?Diagonal"
   ]
  },
  {
   "cell_type": "code",
   "execution_count": 5,
   "metadata": {},
   "outputs": [
    {
     "data": {
      "text/plain": [
       "3×3 Diagonal{Int64,Array{Int64,1}}:\n",
       " 1  ⋅  ⋅\n",
       " ⋅  1  ⋅\n",
       " ⋅  ⋅  1"
      ]
     },
     "execution_count": 5,
     "metadata": {},
     "output_type": "execute_result"
    }
   ],
   "source": [
    "D = Diagonal([1, 1, 1])"
   ]
  },
  {
   "cell_type": "code",
   "execution_count": 6,
   "metadata": {},
   "outputs": [
    {
     "data": {
      "text/plain": [
       "1"
      ]
     },
     "execution_count": 6,
     "metadata": {},
     "output_type": "execute_result"
    }
   ],
   "source": [
    "D[1, 1]"
   ]
  },
  {
   "cell_type": "code",
   "execution_count": 7,
   "metadata": {},
   "outputs": [
    {
     "data": {
      "text/plain": [
       "0"
      ]
     },
     "execution_count": 7,
     "metadata": {},
     "output_type": "execute_result"
    }
   ],
   "source": [
    "D[1, 2]"
   ]
  },
  {
   "cell_type": "code",
   "execution_count": 8,
   "metadata": {},
   "outputs": [
    {
     "data": {
      "text/plain": [
       "3×3 Diagonal{Int64,Array{Int64,1}}:\n",
       " 2  ⋅  ⋅\n",
       " ⋅  2  ⋅\n",
       " ⋅  ⋅  2"
      ]
     },
     "execution_count": 8,
     "metadata": {},
     "output_type": "execute_result"
    }
   ],
   "source": [
    "D + D"
   ]
  },
  {
   "cell_type": "code",
   "execution_count": 9,
   "metadata": {},
   "outputs": [
    {
     "data": {
      "text/plain": [
       "5×5 Diagonal{Int64,Array{Int64,1}}:\n",
       " 1  ⋅  ⋅  ⋅  ⋅\n",
       " ⋅  2  ⋅  ⋅  ⋅\n",
       " ⋅  ⋅  3  ⋅  ⋅\n",
       " ⋅  ⋅  ⋅  4  ⋅\n",
       " ⋅  ⋅  ⋅  ⋅  5"
      ]
     },
     "execution_count": 9,
     "metadata": {},
     "output_type": "execute_result"
    }
   ],
   "source": [
    "Diagonal([1, 2, 3, 4, 5])"
   ]
  },
  {
   "cell_type": "code",
   "execution_count": 10,
   "metadata": {},
   "outputs": [
    {
     "data": {
      "text/plain": [
       "3×2 Array{Int64,2}:\n",
       " 1  2\n",
       " 3  4\n",
       " 5  6"
      ]
     },
     "execution_count": 10,
     "metadata": {},
     "output_type": "execute_result"
    }
   ],
   "source": [
    "A = [1 2; 3 4; 5 6]"
   ]
  },
  {
   "cell_type": "code",
   "execution_count": 11,
   "metadata": {},
   "outputs": [
    {
     "data": {
      "text/plain": [
       "2×2 Diagonal{Int64,Array{Int64,1}}:\n",
       " 1  ⋅\n",
       " ⋅  4"
      ]
     },
     "execution_count": 11,
     "metadata": {},
     "output_type": "execute_result"
    }
   ],
   "source": [
    "Diagonal(A)"
   ]
  },
  {
   "cell_type": "code",
   "execution_count": 13,
   "metadata": {},
   "outputs": [
    {
     "data": {
      "text/plain": [
       "3×3 Array{Float64,2}:\n",
       " 1.0  2.0  3.0\n",
       " 4.0  5.0  6.0\n",
       " 7.0  8.0  9.0"
      ]
     },
     "execution_count": 13,
     "metadata": {},
     "output_type": "execute_result"
    }
   ],
   "source": [
    "A = [1.0 2.0 3.0; 4.0 5.0 6.0; 7.0 8.0 9.0]"
   ]
  },
  {
   "cell_type": "code",
   "execution_count": 14,
   "metadata": {},
   "outputs": [
    {
     "data": {
      "text/plain": [
       "3×3 UpperTriangular{Float64,Array{Float64,2}}:\n",
       " 1.0  2.0  3.0\n",
       "  ⋅   5.0  6.0\n",
       "  ⋅    ⋅   9.0"
      ]
     },
     "execution_count": 14,
     "metadata": {},
     "output_type": "execute_result"
    }
   ],
   "source": [
    "UpperTriangular(A)"
   ]
  },
  {
   "cell_type": "code",
   "execution_count": 15,
   "metadata": {},
   "outputs": [
    {
     "data": {
      "text/plain": [
       "3×3 LowerTriangular{Float64,Array{Float64,2}}:\n",
       " 1.0   ⋅    ⋅ \n",
       " 4.0  5.0   ⋅ \n",
       " 7.0  8.0  9.0"
      ]
     },
     "execution_count": 15,
     "metadata": {},
     "output_type": "execute_result"
    }
   ],
   "source": [
    "LowerTriangular(A)"
   ]
  },
  {
   "cell_type": "code",
   "execution_count": 16,
   "metadata": {},
   "outputs": [
    {
     "data": {
      "text/plain": [
       "3×3 Array{Float64,2}:\n",
       " 1.0  0.0  0.0\n",
       " 0.0  1.0  0.0\n",
       " 0.0  0.0  1.0"
      ]
     },
     "execution_count": 16,
     "metadata": {},
     "output_type": "execute_result"
    }
   ],
   "source": [
    "D = [1 0 0; 0 1 0; 0 0 1.]"
   ]
  },
  {
   "cell_type": "markdown",
   "metadata": {},
   "source": [
    "(2) Números y matrices aleatorias\n",
    "\n",
    "(i) Investigar los comandos `rand`, `randn` para generar vectores y matrices aleatorias.\n",
    "\n",
    "(ii) Investigar los comandos `sprand`, `sprandn` para generar vectores y matrices esparsas aleatorios.\n",
    "\n",
    "(iii) Visualizar las matrices generadas anteriormente con el comando `spy` de la libreria `PyPlot`."
   ]
  },
  {
   "cell_type": "code",
   "execution_count": 19,
   "metadata": {},
   "outputs": [
    {
     "data": {
      "text/plain": [
       "0.571161685725402"
      ]
     },
     "execution_count": 19,
     "metadata": {},
     "output_type": "execute_result"
    }
   ],
   "source": [
    "rand()"
   ]
  },
  {
   "cell_type": "code",
   "execution_count": 20,
   "metadata": {},
   "outputs": [
    {
     "data": {
      "text/plain": [
       "1"
      ]
     },
     "execution_count": 20,
     "metadata": {},
     "output_type": "execute_result"
    }
   ],
   "source": [
    "rand([1, 2, 5, 7])"
   ]
  },
  {
   "cell_type": "code",
   "execution_count": 21,
   "metadata": {},
   "outputs": [
    {
     "data": {
      "text/plain": [
       "5"
      ]
     },
     "execution_count": 21,
     "metadata": {},
     "output_type": "execute_result"
    }
   ],
   "source": [
    "rand([1, 2, 5, 7])"
   ]
  },
  {
   "cell_type": "code",
   "execution_count": 22,
   "metadata": {},
   "outputs": [
    {
     "data": {
      "text/plain": [
       "5"
      ]
     },
     "execution_count": 22,
     "metadata": {},
     "output_type": "execute_result"
    }
   ],
   "source": [
    "rand([1, 2, 5, 7])"
   ]
  },
  {
   "cell_type": "code",
   "execution_count": 23,
   "metadata": {},
   "outputs": [
    {
     "data": {
      "text/plain": [
       "2"
      ]
     },
     "execution_count": 23,
     "metadata": {},
     "output_type": "execute_result"
    }
   ],
   "source": [
    "rand([1, 2, 5, 7])"
   ]
  },
  {
   "cell_type": "code",
   "execution_count": 24,
   "metadata": {},
   "outputs": [
    {
     "data": {
      "text/plain": [
       "4-element Array{Float64,1}:\n",
       " 0.6857266996604674 \n",
       " 0.7694208771128408 \n",
       " 0.28609797312731144\n",
       " 0.3821380774107679 "
      ]
     },
     "execution_count": 24,
     "metadata": {},
     "output_type": "execute_result"
    }
   ],
   "source": [
    "rand(4)"
   ]
  },
  {
   "cell_type": "code",
   "execution_count": 25,
   "metadata": {},
   "outputs": [
    {
     "data": {
      "text/plain": [
       "2×2 Array{Float64,2}:\n",
       " 0.329042  0.060331\n",
       " 0.750909  0.672512"
      ]
     },
     "execution_count": 25,
     "metadata": {},
     "output_type": "execute_result"
    }
   ],
   "source": [
    "rand(2, 2)"
   ]
  },
  {
   "cell_type": "code",
   "execution_count": 26,
   "metadata": {},
   "outputs": [
    {
     "data": {
      "text/plain": [
       "2×2 Array{Float64,2}:\n",
       " 0.982985  0.474642\n",
       " 0.650547  0.805177"
      ]
     },
     "execution_count": 26,
     "metadata": {},
     "output_type": "execute_result"
    }
   ],
   "source": [
    "rand(2, 2)"
   ]
  },
  {
   "cell_type": "markdown",
   "metadata": {},
   "source": [
    "Matrices \"esparsas\": \"muchos\" ceros"
   ]
  },
  {
   "cell_type": "code",
   "execution_count": 29,
   "metadata": {},
   "outputs": [],
   "source": [
    "I = [1, 2, 4]\n",
    "J = [2, 3, 4]\n",
    "vals = [1.0, -1.0, 5.0];"
   ]
  },
  {
   "cell_type": "code",
   "execution_count": 27,
   "metadata": {},
   "outputs": [],
   "source": [
    "using SparseArrays"
   ]
  },
  {
   "cell_type": "code",
   "execution_count": 31,
   "metadata": {},
   "outputs": [
    {
     "data": {
      "text/plain": [
       "4×4 SparseMatrixCSC{Float64,Int64} with 3 stored entries:\n",
       "  [1, 2]  =  1.0\n",
       "  [2, 3]  =  -1.0\n",
       "  [4, 4]  =  5.0"
      ]
     },
     "execution_count": 31,
     "metadata": {},
     "output_type": "execute_result"
    }
   ],
   "source": [
    "S = sparse(I, J, vals)"
   ]
  },
  {
   "cell_type": "code",
   "execution_count": 32,
   "metadata": {},
   "outputs": [
    {
     "data": {
      "text/plain": [
       "4×4 Array{Float64,2}:\n",
       " 0.0  1.0   0.0  0.0\n",
       " 0.0  0.0  -1.0  0.0\n",
       " 0.0  0.0   0.0  0.0\n",
       " 0.0  0.0   0.0  5.0"
      ]
     },
     "execution_count": 32,
     "metadata": {},
     "output_type": "execute_result"
    }
   ],
   "source": [
    "Matrix(S)"
   ]
  },
  {
   "cell_type": "code",
   "execution_count": 34,
   "metadata": {},
   "outputs": [
    {
     "data": {
      "text/plain": [
       "8×8 SparseMatrixCSC{Float64,Int64} with 3 stored entries:\n",
       "  [1, 2]  =  1.0\n",
       "  [2, 3]  =  -1.0\n",
       "  [4, 4]  =  5.0"
      ]
     },
     "execution_count": 34,
     "metadata": {},
     "output_type": "execute_result"
    }
   ],
   "source": [
    "S = sparse(I, J, vals, 8, 8)"
   ]
  },
  {
   "cell_type": "code",
   "execution_count": 35,
   "metadata": {},
   "outputs": [
    {
     "data": {
      "text/plain": [
       "8×8 Array{Float64,2}:\n",
       " 0.0  1.0   0.0  0.0  0.0  0.0  0.0  0.0\n",
       " 0.0  0.0  -1.0  0.0  0.0  0.0  0.0  0.0\n",
       " 0.0  0.0   0.0  0.0  0.0  0.0  0.0  0.0\n",
       " 0.0  0.0   0.0  5.0  0.0  0.0  0.0  0.0\n",
       " 0.0  0.0   0.0  0.0  0.0  0.0  0.0  0.0\n",
       " 0.0  0.0   0.0  0.0  0.0  0.0  0.0  0.0\n",
       " 0.0  0.0   0.0  0.0  0.0  0.0  0.0  0.0\n",
       " 0.0  0.0   0.0  0.0  0.0  0.0  0.0  0.0"
      ]
     },
     "execution_count": 35,
     "metadata": {},
     "output_type": "execute_result"
    }
   ],
   "source": [
    "Matrix(S)"
   ]
  },
  {
   "cell_type": "code",
   "execution_count": 36,
   "metadata": {},
   "outputs": [
    {
     "data": {
      "text/plain": [
       "4×4 SparseMatrixCSC{Float64,Int64} with 9 stored entries:\n",
       "  [1, 1]  =  -1.31955\n",
       "  [2, 1]  =  0.225744\n",
       "  [4, 1]  =  0.305672\n",
       "  [1, 2]  =  -0.657453\n",
       "  [1, 3]  =  0.734427\n",
       "  [3, 3]  =  1.05461\n",
       "  [4, 3]  =  -0.269612\n",
       "  [2, 4]  =  -0.0910014\n",
       "  [3, 4]  =  -1.46183"
      ]
     },
     "execution_count": 36,
     "metadata": {},
     "output_type": "execute_result"
    }
   ],
   "source": [
    "S = sprandn(4, 4, 0.5)"
   ]
  },
  {
   "cell_type": "code",
   "execution_count": null,
   "metadata": {},
   "outputs": [],
   "source": [
    "] add PyPlot"
   ]
  },
  {
   "cell_type": "code",
   "execution_count": 39,
   "metadata": {},
   "outputs": [
    {
     "name": "stderr",
     "output_type": "stream",
     "text": [
      "┌ Info: Precompiling PyPlot [d330b81b-6aea-500a-939a-2ce795aea3ee]\n",
      "└ @ Base loading.jl:1273\n"
     ]
    }
   ],
   "source": [
    "using PyPlot"
   ]
  },
  {
   "cell_type": "code",
   "execution_count": 40,
   "metadata": {},
   "outputs": [
    {
     "data": {
      "text/plain": [
       "4×4 Array{Float64,2}:\n",
       " -1.31955   -0.657453   0.734427   0.0      \n",
       "  0.225744   0.0        0.0       -0.0910014\n",
       "  0.0        0.0        1.05461   -1.46183  \n",
       "  0.305672   0.0       -0.269612   0.0      "
      ]
     },
     "execution_count": 40,
     "metadata": {},
     "output_type": "execute_result"
    }
   ],
   "source": [
    "Matrix(S)"
   ]
  },
  {
   "cell_type": "code",
   "execution_count": 42,
   "metadata": {},
   "outputs": [
    {
     "data": {
      "image/png": "[encoded data removed]",
      "text/plain": [
       "Figure(PyObject <Figure size 640x480 with 1 Axes>)"
      ]
     },
     "metadata": {},
     "output_type": "display_data"
    },
    {
     "data": {
      "text/plain": [
       "PyObject <matplotlib.image.AxesImage object at 0x7f4b15305d10>"
      ]
     },
     "execution_count": 42,
     "metadata": {},
     "output_type": "execute_result"
    }
   ],
   "source": [
    "S = sprandn(100, 100, 0.5)\n",
    "spy(S)"
   ]
  },
  {
   "cell_type": "code",
   "execution_count": 43,
   "metadata": {},
   "outputs": [
    {
     "data": {
      "image/png": "[encoded data removed]",
      "text/plain": [
       "Figure(PyObject <Figure size 640x480 with 1 Axes>)"
      ]
     },
     "metadata": {},
     "output_type": "display_data"
    },
    {
     "data": {
      "text/plain": [
       "PyObject <matplotlib.image.AxesImage object at 0x7f4b15246dd0>"
      ]
     },
     "execution_count": 43,
     "metadata": {},
     "output_type": "execute_result"
    }
   ],
   "source": [
    "S = sprandn(100, 100, 0.98)\n",
    "spy(S)"
   ]
  },
  {
   "cell_type": "code",
   "execution_count": 44,
   "metadata": {},
   "outputs": [
    {
     "data": {
      "image/png": "[encoded data removed]",
      "text/plain": [
       "Figure(PyObject <Figure size 640x480 with 1 Axes>)"
      ]
     },
     "metadata": {},
     "output_type": "display_data"
    },
    {
     "data": {
      "text/plain": [
       "PyObject <matplotlib.image.AxesImage object at 0x7f4b15184d50>"
      ]
     },
     "execution_count": 44,
     "metadata": {},
     "output_type": "execute_result"
    }
   ],
   "source": [
    "S = sprandn(100, 100, 0.01)\n",
    "spy(S)"
   ]
  },
  {
   "cell_type": "code",
   "execution_count": 47,
   "metadata": {},
   "outputs": [
    {
     "data": {
      "image/png": "[encoded data removed]",
      "text/plain": [
       "Figure(PyObject <Figure size 640x480 with 1 Axes>)"
      ]
     },
     "metadata": {},
     "output_type": "display_data"
    },
    {
     "data": {
      "text/plain": [
       "PyObject <matplotlib.image.AxesImage object at 0x7f4b3784af10>"
      ]
     },
     "execution_count": 47,
     "metadata": {},
     "output_type": "execute_result"
    }
   ],
   "source": [
    "S = sprandn(100, 100, 0.5)\n",
    "D = Diagonal(S)\n",
    "spy(D)"
   ]
  },
  {
   "cell_type": "code",
   "execution_count": 48,
   "metadata": {},
   "outputs": [
    {
     "data": {
      "image/png": "[encoded data removed]",
      "text/plain": [
       "Figure(PyObject <Figure size 640x480 with 1 Axes>)"
      ]
     },
     "metadata": {},
     "output_type": "display_data"
    },
    {
     "data": {
      "text/plain": [
       "PyObject <matplotlib.image.AxesImage object at 0x7f4b37788b10>"
      ]
     },
     "execution_count": 48,
     "metadata": {},
     "output_type": "execute_result"
    }
   ],
   "source": [
    "S = sprandn(100, 100, 0.5)\n",
    "D = UpperTriangular(S)\n",
    "spy(D)"
   ]
  },
  {
   "cell_type": "markdown",
   "metadata": {},
   "source": [
    "(3) Productos de matrices y vectores\n",
    "\n",
    "(i) Escribir una funcion que recibe una matriz y un vector y devuelve el producto entre $A$ y $x$.\n",
    "\n",
    "(ii) Observar que Julia ya \"sabe\" calcular $Ax$."
   ]
  },
  {
   "cell_type": "markdown",
   "metadata": {},
   "source": [
    "(4) Escribir una funcion que recibe una matriz y devuelve la matriz transpuesta. Comparar con `transpose(A)`.\n",
    "\n",
    "Nota: en Julia, `transpose(A)` una representación *lazy* de la matriz traspuesta, ver el articulo de wikipedia [evaluacion perezosa](https://es.wikipedia.org/wiki/Evaluaci%C3%B3n_perezosa). Para \"materializar\" la transpuesta, hacer `copy(transpose(A))`."
   ]
  },
  {
   "cell_type": "markdown",
   "metadata": {},
   "source": [
    "$A \\in \\mathbb{R}^{m \\times n}$, entonces $A^T$ es tal que $(A^T)_{ij} = A_{ji}$, para todo $i = 1,\\ldots, m$, $j = 1, \\ldots, n$. "
   ]
  },
  {
   "cell_type": "markdown",
   "metadata": {},
   "source": [
    "Pseudo-codigo.\n",
    "\n",
    "Entrada: una matriz $A$ con $m$ filas y $n$ columnas.\n",
    "\n",
    "Salida: la matriz transpuesta de $A$.\n",
    "\n",
    "```julia\n",
    "1. aux <- matriz vacia de n filas y m columnas.\n",
    "\n",
    "2. Para todo i de 1 a m\n",
    "     Para todo j de 1 a n\n",
    "         aux[j, i] <- A[i, j]\n",
    "         \n",
    "3. Devolver aux\n",
    "```"
   ]
  },
  {
   "cell_type": "code",
   "execution_count": 49,
   "metadata": {},
   "outputs": [
    {
     "data": {
      "text/plain": [
       "3×3 Array{Float64,2}:\n",
       " 0.943166  0.422633  0.922712 \n",
       " 0.286304  0.71154   0.0682092\n",
       " 0.418949  0.87847   0.0963179"
      ]
     },
     "execution_count": 49,
     "metadata": {},
     "output_type": "execute_result"
    }
   ],
   "source": [
    "A = rand(3, 3)"
   ]
  },
  {
   "cell_type": "code",
   "execution_count": 57,
   "metadata": {},
   "outputs": [
    {
     "data": {
      "text/plain": [
       "2×2 Array{Float64,2}:\n",
       " 6.91503e-310  6.91503e-310\n",
       " 6.91503e-310  0.0         "
      ]
     },
     "execution_count": 57,
     "metadata": {},
     "output_type": "execute_result"
    }
   ],
   "source": [
    "Matrix{Float64}(undef, 2, 2)"
   ]
  },
  {
   "cell_type": "code",
   "execution_count": 58,
   "metadata": {},
   "outputs": [
    {
     "data": {
      "text/plain": [
       "2×2 Array{Float64,2}:\n",
       " 0.0  0.0\n",
       " 0.0  0.0"
      ]
     },
     "execution_count": 58,
     "metadata": {},
     "output_type": "execute_result"
    }
   ],
   "source": [
    "zeros(2, 2)"
   ]
  },
  {
   "cell_type": "code",
   "execution_count": 59,
   "metadata": {},
   "outputs": [
    {
     "data": {
      "text/plain": [
       "2×3 Array{Float64,2}:\n",
       " 1.0  1.0  1.0\n",
       " 1.0  1.0  1.0"
      ]
     },
     "execution_count": 59,
     "metadata": {},
     "output_type": "execute_result"
    }
   ],
   "source": [
    "ones(2, 3)"
   ]
  },
  {
   "cell_type": "code",
   "execution_count": 60,
   "metadata": {},
   "outputs": [
    {
     "data": {
      "text/plain": [
       "transpuesta (generic function with 1 method)"
      ]
     },
     "execution_count": 60,
     "metadata": {},
     "output_type": "execute_result"
    }
   ],
   "source": [
    "function transpuesta(A)\n",
    "    m, n = size(A)\n",
    "    aux = Matrix{Float64}(undef, n, m)\n",
    "    \n",
    "    for i in 1:m\n",
    "        for j in 1:n\n",
    "            aux[j, i] = A[i, j]\n",
    "        end\n",
    "    end\n",
    "    \n",
    "    return aux\n",
    "end"
   ]
  },
  {
   "cell_type": "code",
   "execution_count": 61,
   "metadata": {},
   "outputs": [
    {
     "data": {
      "text/plain": [
       "2×2 Array{Float64,2}:\n",
       " 0.143993  0.398437 \n",
       " 0.757757  0.0115808"
      ]
     },
     "execution_count": 61,
     "metadata": {},
     "output_type": "execute_result"
    }
   ],
   "source": [
    "A = rand(2, 2)"
   ]
  },
  {
   "cell_type": "code",
   "execution_count": 62,
   "metadata": {},
   "outputs": [
    {
     "data": {
      "text/plain": [
       "2×2 Array{Float64,2}:\n",
       " 0.143993  0.757757 \n",
       " 0.398437  0.0115808"
      ]
     },
     "execution_count": 62,
     "metadata": {},
     "output_type": "execute_result"
    }
   ],
   "source": [
    "transpuesta(A)"
   ]
  },
  {
   "cell_type": "markdown",
   "metadata": {},
   "source": [
    "(5) Escribir una funcion que determina si una matriz dada es simétrica o no."
   ]
  },
  {
   "cell_type": "markdown",
   "metadata": {},
   "source": [
    "Una matriz $A \\in \\mathbb{R}^{n\\times n}$ es simetrica si:\n",
    "\n",
    "$A_{ij} = A_{ji}$ para todos los indices $i, j$."
   ]
  },
  {
   "cell_type": "markdown",
   "metadata": {},
   "source": [
    "$A == A^T$ <=> $A$ es simetrica"
   ]
  },
  {
   "cell_type": "code",
   "execution_count": 68,
   "metadata": {},
   "outputs": [
    {
     "data": {
      "text/plain": [
       "es_simetrica (generic function with 1 method)"
      ]
     },
     "execution_count": 68,
     "metadata": {},
     "output_type": "execute_result"
    }
   ],
   "source": [
    "function es_simetrica(A)\n",
    "    At = transpuesta(A)\n",
    "    return At == A\n",
    "end"
   ]
  },
  {
   "cell_type": "code",
   "execution_count": 63,
   "metadata": {},
   "outputs": [
    {
     "data": {
      "text/plain": [
       "1"
      ]
     },
     "execution_count": 63,
     "metadata": {},
     "output_type": "execute_result"
    }
   ],
   "source": [
    "x = 1 # un solo igual, =,  se usa para asignar"
   ]
  },
  {
   "cell_type": "code",
   "execution_count": 64,
   "metadata": {},
   "outputs": [
    {
     "data": {
      "text/plain": [
       "true"
      ]
     },
     "execution_count": 64,
     "metadata": {},
     "output_type": "execute_result"
    }
   ],
   "source": [
    "x == 1 # dos simbolos de igual, ==, se usan para comparar"
   ]
  },
  {
   "cell_type": "code",
   "execution_count": 65,
   "metadata": {},
   "outputs": [
    {
     "data": {
      "text/plain": [
       "false"
      ]
     },
     "execution_count": 65,
     "metadata": {},
     "output_type": "execute_result"
    }
   ],
   "source": [
    "x == 2"
   ]
  },
  {
   "cell_type": "code",
   "execution_count": 66,
   "metadata": {},
   "outputs": [
    {
     "data": {
      "text/plain": [
       "2×2 Array{Float64,2}:\n",
       " 2.0  3.0\n",
       " 3.0  5.0"
      ]
     },
     "execution_count": 66,
     "metadata": {},
     "output_type": "execute_result"
    }
   ],
   "source": [
    "A = [2.0 3.0; 3.0 5.0]\n",
    "A"
   ]
  },
  {
   "cell_type": "code",
   "execution_count": 69,
   "metadata": {},
   "outputs": [
    {
     "data": {
      "text/plain": [
       "true"
      ]
     },
     "execution_count": 69,
     "metadata": {},
     "output_type": "execute_result"
    }
   ],
   "source": [
    "es_simetrica(A)"
   ]
  },
  {
   "cell_type": "code",
   "execution_count": 70,
   "metadata": {},
   "outputs": [
    {
     "data": {
      "text/plain": [
       "false"
      ]
     },
     "execution_count": 70,
     "metadata": {},
     "output_type": "execute_result"
    }
   ],
   "source": [
    "A = rand(2, 2)\n",
    "es_simetrica(A)"
   ]
  },
  {
   "cell_type": "code",
   "execution_count": null,
   "metadata": {},
   "outputs": [],
   "source": [
    "function es_simetrica(A)\n",
    "    At = transpuesta(A)\n",
    "    if At == A\n",
    "        return true\n",
    "    else\n",
    "        return false\n",
    "    end\n",
    "end"
   ]
  },
  {
   "cell_type": "markdown",
   "metadata": {},
   "source": [
    "## Algoritmos elementales\n",
    "\n",
    "En todos los problemas siguientes, deberá:\n",
    "\n",
    "(i) Escribir el pseudo-código que resuelve el problema.\n",
    "\n",
    "(ii) Implementarlo en Julia.\n",
    "\n",
    "Haber razonado y escrito el pseudo-código *antes* de largarse a escribir el programa es **muy importante**!"
   ]
  },
  {
   "cell_type": "markdown",
   "metadata": {},
   "source": [
    "(1) Dado un vector $x \\in \\mathbb{R}^n$, nos interesa calcular su suma,\n",
    "\n",
    "$$\n",
    "s = \\sum_{i=1}^n x_i.\n",
    "$$"
   ]
  },
  {
   "cell_type": "markdown",
   "metadata": {},
   "source": [
    "(2) Escribir una función que calcula el producto escalar entre dos vectores de $\\mathbb{R}^n$."
   ]
  },
  {
   "cell_type": "markdown",
   "metadata": {},
   "source": [
    "(3) Escribir una función que calcula el triángulo de Pascal hasta un orden dado."
   ]
  },
  {
   "cell_type": "markdown",
   "metadata": {},
   "source": [
    "Pseudo-codigo.\n",
    "\n",
    "Entrada: orden p >= 1.\n",
    "\n",
    "Salida: una matriz cuadrada de orden p, que representa el triangulo de Pascal hasta orden p como una matriz triangular inferior.\n",
    "\n",
    "```\n",
    "Paso 1. Generar una matriz cuadrada aux de ceros de orden p.\n",
    "\n",
    "Paso 2. aux[1, 1] <- 1\n",
    "\n",
    "        Para todos los valores de i entre 2 y p\n",
    "            aux[i, 1] = 1\n",
    "            Para todos los valores de j entre 2 y p\n",
    "                aux[i, j] = aux[i-1, j-1] + aux[i-1, j]\n",
    "               \n",
    "Paso 3. Devolver aux. \n",
    "```"
   ]
  },
  {
   "cell_type": "markdown",
   "metadata": {},
   "source": [
    "Programa en Julia:"
   ]
  },
  {
   "cell_type": "code",
   "execution_count": 75,
   "metadata": {},
   "outputs": [
    {
     "data": {
      "text/plain": [
       "pascal (generic function with 1 method)"
      ]
     },
     "execution_count": 75,
     "metadata": {},
     "output_type": "execute_result"
    }
   ],
   "source": [
    "function pascal(p)\n",
    "    aux = zeros(Int, p, p)\n",
    "\n",
    "    aux[1, 1] = 1\n",
    "    for i in 2:p\n",
    "        aux[i, 1] = 1\n",
    "        for j in 2:p\n",
    "            aux[i, j] = aux[i-1, j-1] + aux[i-1, j]\n",
    "        end\n",
    "    end\n",
    "    return aux\n",
    "end"
   ]
  },
  {
   "cell_type": "code",
   "execution_count": 80,
   "metadata": {},
   "outputs": [
    {
     "data": {
      "text/plain": [
       "10×10 Array{Int64,2}:\n",
       " 1  0   0   0    0    0   0   0  0  0\n",
       " 1  1   0   0    0    0   0   0  0  0\n",
       " 1  2   1   0    0    0   0   0  0  0\n",
       " 1  3   3   1    0    0   0   0  0  0\n",
       " 1  4   6   4    1    0   0   0  0  0\n",
       " 1  5  10  10    5    1   0   0  0  0\n",
       " 1  6  15  20   15    6   1   0  0  0\n",
       " 1  7  21  35   35   21   7   1  0  0\n",
       " 1  8  28  56   70   56  28   8  1  0\n",
       " 1  9  36  84  126  126  84  36  9  1"
      ]
     },
     "execution_count": 80,
     "metadata": {},
     "output_type": "execute_result"
    }
   ],
   "source": [
    "pascal(10)"
   ]
  },
  {
   "cell_type": "code",
   "execution_count": 81,
   "metadata": {},
   "outputs": [
    {
     "data": {
      "text/plain": [
       "10×10 LowerTriangular{Int64,Array{Int64,2}}:\n",
       " 1  ⋅   ⋅   ⋅    ⋅    ⋅   ⋅   ⋅  ⋅  ⋅\n",
       " 1  1   ⋅   ⋅    ⋅    ⋅   ⋅   ⋅  ⋅  ⋅\n",
       " 1  2   1   ⋅    ⋅    ⋅   ⋅   ⋅  ⋅  ⋅\n",
       " 1  3   3   1    ⋅    ⋅   ⋅   ⋅  ⋅  ⋅\n",
       " 1  4   6   4    1    ⋅   ⋅   ⋅  ⋅  ⋅\n",
       " 1  5  10  10    5    1   ⋅   ⋅  ⋅  ⋅\n",
       " 1  6  15  20   15    6   1   ⋅  ⋅  ⋅\n",
       " 1  7  21  35   35   21   7   1  ⋅  ⋅\n",
       " 1  8  28  56   70   56  28   8  1  ⋅\n",
       " 1  9  36  84  126  126  84  36  9  1"
      ]
     },
     "execution_count": 81,
     "metadata": {},
     "output_type": "execute_result"
    }
   ],
   "source": [
    "LowerTriangular(pascal(10))"
   ]
  },
  {
   "cell_type": "markdown",
   "metadata": {},
   "source": [
    "(4) Implementar un algoritmo que devuelve el maximo de una lista de numeros."
   ]
  },
  {
   "cell_type": "code",
   "execution_count": null,
   "metadata": {},
   "outputs": [],
   "source": []
  },
  {
   "cell_type": "code",
   "execution_count": null,
   "metadata": {},
   "outputs": [],
   "source": []
  },
  {
   "cell_type": "markdown",
   "metadata": {},
   "source": [
    "(5) Implementar una [busqueda binaria](https://es.wikipedia.org/wiki/B%C3%BAsqueda_binaria) en una lista de numeros enteros."
   ]
  },
  {
   "cell_type": "code",
   "execution_count": null,
   "metadata": {},
   "outputs": [],
   "source": []
  },
  {
   "cell_type": "markdown",
   "metadata": {},
   "source": [
    "(6) Implementar el metodo de [busqueda binaria o biseccion](https://es.wikipedia.org/wiki/M%C3%A9todo_de_bisecci%C3%B3n) para hallar una raiz $x$ de una funcion dada $f$ que se asumaria continua en el intervalo cerrado $[a, b] \\in \\mathbb{R}$."
   ]
  },
  {
   "cell_type": "code",
   "execution_count": null,
   "metadata": {},
   "outputs": [],
   "source": []
  },
  {
   "cell_type": "code",
   "execution_count": null,
   "metadata": {},
   "outputs": [],
   "source": []
  }
 ],
 "metadata": {
  "kernelspec": {
   "display_name": "Julia 1.3.1",
   "language": "julia",
   "name": "julia-1.3"
  },
  "language_info": {
   "file_extension": ".jl",
   "mimetype": "application/julia",
   "name": "julia",
   "version": "1.3.1"
  }
 },
 "nbformat": 4,
 "nbformat_minor": 2
}
