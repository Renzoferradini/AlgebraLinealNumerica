{
 "cells": [
  {
   "cell_type": "markdown",
   "metadata": {},
   "source": [
    "# Ejercicios teóricos"
   ]
  },
  {
   "cell_type": "markdown",
   "metadata": {},
   "source": [
    "1. *(Wendland C3)* Sea $A \\in \\mathbb{R}^{n \\times n}$ una matriz simetrica y supongamos que se puede aplicar la eliminacion Gausaiana sin pivoteo. Demostrar que luego de $k-1$ pasos, el bloque triangular inferior de $A^{(k)}$, de tamaño $(n-k+1)\\times (n-k+1)$ es simetrico."
   ]
  },
  {
   "cell_type": "markdown",
   "metadata": {},
   "source": [
    "2. *(Wendland C3)* Sean $a_1, \\ldots, a_n \\in \\mathbb{R}^n$ las columnas de una matriz $A \\in \\mathbb{R}^{n\\times n}$. Utilizar la factorizacion QR de $A$ para demostrar que\n",
    "\n",
    "$$\n",
    "|det A | \\leq \\Vert a_1 \\Vert_2 \\cdots \\Vert a_n \\Vert_2.\n",
    "$$"
   ]
  },
  {
   "cell_type": "markdown",
   "metadata": {},
   "source": [
    "3. *(Wendland C3)* Suponga que los datos $\\{y_1, \\ldots, y_m\\}$ en las posiciones $\\{x_1, \\ldots, x_m\\}$ son dados.\n",
    "\n",
    "i. Utilizar el enfoque de minimos cuadrados para determinar el polinomio lineal $y(x) = ax + b$ que de mejor ajusta los datos, es decir encontrar el polinomio lineal que minimiza\n",
    "\n",
    "$$\n",
    "\\sum_{j=1}^m \\vert y_j - y(x_j)\\vert^2.\n",
    "$$\n",
    "\n",
    "ii. Encontrar la funcion $y(x) = ae^{\\lambda (x - \\mu)}$ que minimiza la cantidad anterior para $a, \\lambda, \\mu \\in \\mathbb{R}$."
   ]
  },
  {
   "cell_type": "markdown",
   "metadata": {},
   "source": [
    "4. *(Wendland C3)* Una *rotacion de Givens* es una matriz $n\\times n$ de la foma\n",
    "\n",
    "$$\n",
    "J(i, j, \\theta) = I + (\\cos\\theta - 1)(e_je_j^T + e_ie_i^T) + \\sin\\theta(e_je_i^T - e_ie_j^T)\n",
    "$$\n",
    "\n",
    "(i) Demostrar que toda matriz de Givens es ortogonal.\n",
    "\n",
    "(ii) Demostrar que para todo $x \\in \\mathbb{R}^n$ existe un angulo $\\theta$ tal que $y_k = 0$ para $y = J(i, k, \\theta)x$.\n",
    "\n",
    "(iii) Utilizar esto para probar que la factorizacion QE de una matriz tridiagonal $A \\in \\mathbb{R}^{n\\times n}$ se puede calcular utilizando $\\mathcal{O}(n)$ rotaciones de Givens.\n",
    "\n",
    "(iv) Demostrar que en $\\mathbb{R}^{2\\times 2}$ toda matriz ortogonal es o una matriz de Householder o una matriz de Givens."
   ]
  },
  {
   "cell_type": "markdown",
   "metadata": {},
   "source": [
    "5. *(Wendland C3)* Sea $A \\in \\mathbb{R}^{m\\times n}$ con $m \\geq n$ una matriz y sean $b, \\Delta b \\in \\mathbb{R}^m$ con $b \\notin rango(A)$.\n",
    "\n",
    "Sean $x$ y $x +\\Delta x$ las soluciones de norma minima al problema de minimos cuadrados con datos $(A, b)$ y $(A, b + \\Delta b)$ respectivamente.\n",
    "\n",
    "Demostrar que\n",
    "\n",
    "$$\n",
    "\\dfrac{\\Vert \\Delta x \\Vert_2}{\\Vert x \\Vert_2} \\leq \\kappa_2(A)\\dfrac{\\Vert \\Delta b\\Vert_2}{\\Vert A \\Vert_2 \\Vert x \\Vert_2} \\leq  \\kappa_2(A)\\dfrac{\\Vert \\Delta b\\Vert_2}{\\Vert A A^+ b \\Vert_2}\n",
    "$$"
   ]
  },
  {
   "cell_type": "markdown",
   "metadata": {},
   "source": [
    "6. *(Wendland C3)* Sean dados $A \\in \\mathbb{R}^{m \\times n}$ con $rango(A) = n$ y $b \\in \\mathbb{R}^m$. Determinar el numero de condicion de resolver el problema de minimos cuadrados\n",
    "\n",
    "$$\n",
    "\\min_x \\Vert Ax - b \\Vert_2\n",
    "$$\n",
    "sujeto a la hipotesis que $b$ es *exacto* es decir determinar el numero de condicion de la funcion\n",
    "\n",
    "$$\n",
    "f : \\{ A \\in \\mathbb{R}^{m\\times n} : rango(A) = n\\} \\to \\mathbb{R}^n,f(A) := x^+.\n",
    "$$"
   ]
  },
  {
   "cell_type": "markdown",
   "metadata": {},
   "source": [
    "7. *(Wendland C3)* Sea $A \\in \\mathbb{R}^{n\\times n}$ una matriz simetrica, definida positiva. Sea $\\tau > 0$ y sea $b \\in \\mathbb{R}^n$ dados. Demostrar que la funcion \n",
    "\n",
    "$$\n",
    "x \\to \\Vert Ax - b \\Vert_2^2 + \\tau x^T A x\n",
    "$$\n",
    "tiene un uniqo minimo $x_\\tau^* \\in \\mathbb{R}^n$ que resuelve el sistema lineal\n",
    "\n",
    "$$\n",
    "(A + \\tau I)x = b.\n",
    "$$"
   ]
  },
  {
   "cell_type": "markdown",
   "metadata": {},
   "source": [
    "# Ejercicios para resolver por computadora"
   ]
  },
  {
   "cell_type": "markdown",
   "metadata": {},
   "source": [
    "1. Implementar el metodo de minimos cuadrados del Ejercicio 3 de teorico."
   ]
  },
  {
   "cell_type": "markdown",
   "metadata": {},
   "source": [
    "(continuara)"
   ]
  }
 ],
 "metadata": {
  "kernelspec": {
   "display_name": "Julia 1.4.0",
   "language": "julia",
   "name": "julia-1.4"
  },
  "language_info": {
   "file_extension": ".jl",
   "mimetype": "application/julia",
   "name": "julia",
   "version": "1.4.0"
  }
 },
 "nbformat": 4,
 "nbformat_minor": 2
}
