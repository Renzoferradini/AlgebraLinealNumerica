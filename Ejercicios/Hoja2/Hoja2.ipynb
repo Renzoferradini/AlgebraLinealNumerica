{
 "cells": [
  {
   "cell_type": "markdown",
   "metadata": {},
   "source": [
    "# Ejercicios teóricos"
   ]
  },
  {
   "cell_type": "markdown",
   "metadata": {},
   "source": [
    "## Independencia lineal y bases"
   ]
  },
  {
   "cell_type": "markdown",
   "metadata": {},
   "source": [
    "1. *(Golan p. 58)* Demostrar que el conjunto $\\left\\{\\left[ 1, 0, 0\\right]^T, \\left[ 1, 1, 0\\right]^T, \\left[ 1, 1, 1\\right]^T \\right\\}$ en $\\mathbb{Q}^3$ es linealmente independiente."
   ]
  },
  {
   "cell_type": "markdown",
   "metadata": {},
   "source": [
    "2. *(Golan p. 234)* Sea $\\alpha : \\mathbb{R}^3 \\to \\mathbb{R}^3$ una transformacion lineal que satisface\n",
    "\n",
    "$\\alpha \\left[ 1, 0, 1\\right]^T = \\left[ -1, 3, 4\\right]^T$,\n",
    "\n",
    "$\\alpha \\left[ 1, -1, 1\\right]^T = \\left[ 0, 1, 0\\right]^T$,\n",
    "\n",
    "$\\alpha \\left[ 1, 2, -1\\right]^T = \\left[ 3, 1, 4\\right]^T$.\n",
    "\n",
    "Calcular $\\alpha \\left[1, 0, 0\\right]^T$."
   ]
  },
  {
   "cell_type": "markdown",
   "metadata": {},
   "source": [
    "3. Demostrar el teorema de ortonormalizacion de Gram-Schmidt. Calcular el costo computacional."
   ]
  },
  {
   "cell_type": "markdown",
   "metadata": {},
   "source": [
    "## Producto interno y norma"
   ]
  },
  {
   "cell_type": "markdown",
   "metadata": {},
   "source": [
    "1. Verificar que en $\\mathbb{R}^n$, $\\langle x, y \\rangle_2 := x^T y$ para todo $x, y \\in \\mathbb{R}^n$ es un producto interno. La norma inducida es $\\Vert x \\Vert_2 = \\sqrt{\\langle x, x \\rangle_2}$. Verificar que es de hecho una norma (sugerencia: utilizar el ejercicio siguiente)."
   ]
  },
  {
   "cell_type": "markdown",
   "metadata": {},
   "source": [
    "2. *(Wendland, C1)* Sea $V$ un espacio pre-Hilbertiano. Probar que\n",
    "\n",
    "$$\n",
    "|\\langle x, y \\rangle|^2 \\leq \\langle x, x \\rangle~\\langle y, y \\rangle.\n",
    "$$\n",
    "\n",
    "Sugerencia: utilizar que para todos $\\alpha, \\beta \\in \\mathbb{R}$ y $x, y \\in V$ se cumple $0 \\leq \\langle \\alpha x + \\beta y, \\alpha x + \\beta y\\rangle$."
   ]
  },
  {
   "cell_type": "markdown",
   "metadata": {},
   "source": [
    "3. Sea $V$ un e.v. real o complejo con producto interno (= espacio pre-Hilbertiano). Probar que el producto interno induce una norma $\\Vert \\cdot \\Vert$ en $V$ mediante la definicion\n",
    "\n",
    "$$\n",
    "\\Vert x \\Vert = \\sqrt{\\langle x, x \\rangle},~\\forall x \\in V.\n",
    "$$"
   ]
  },
  {
   "cell_type": "markdown",
   "metadata": {},
   "source": [
    "4. Utilizando los ejercicios 2 y 3, deducir la *desigualdad de Cauchy-Schwartz*,\n",
    "\n",
    "$$\n",
    "|\\langle x, y \\rangle| \\leq \\Vert x \\Vert ~\\Vert y \\Vert,\\qquad \\forall x, y \\in V.\n",
    "$$"
   ]
  },
  {
   "cell_type": "markdown",
   "metadata": {},
   "source": [
    "Esta norma se llama la *norma inducida* por el producto interno."
   ]
  },
  {
   "cell_type": "markdown",
   "metadata": {},
   "source": [
    "5. Demostrar que el producto interno es *continuo* en cada una de sus variables. Es decir, si $V$ es un espacio pre-Hilbertiano (puede pensar en $\\mathbb{R}$ o $\\mathbb{C}$ para fijar ideas, pero vale en general), y si $\\Vert \\cdot \\Vert$ es la norma inducida por el producto interno, entonces dadas las sucesiones $(x_n)$ e $(y_n)$ en $V$ convergentes a $x \\in V$ e $y \\in V$, entonces la sucesion de productos internos $(\\langle x_n, y_n \\rangle)$ converge a $(x, y)$."
   ]
  },
  {
   "cell_type": "markdown",
   "metadata": {},
   "source": [
    "6. Demostrar el teorema de Pitagoras: si $x, y \\in V$ siendo $V$ un espacio vectorial con producto interno, tales que $x \\perp y$, entonces\n",
    "\n",
    "$$\n",
    "\\Vert x +  y \\Vert^2 = \\Vert x \\Vert^2 + \\Vert y \\Vert^2.\n",
    "$$"
   ]
  },
  {
   "cell_type": "markdown",
   "metadata": {},
   "source": [
    "7. *(Wendland, C1)* Sea $(V, \\mathbb{K}, +, \\cdot)$ un espacio vectorial sobre el cuerpo $\\mathbb{K}$, este último siendo ya sea $\\mathbb{R}$ o $\\mathbb{C}$. Consideremos una norma $\\Vert \\cdot \\Vert : V \\to \\mathbb{R}$. Demostrar que $V$ es un espacio pre-Hilbertiano y que la norma es inducida por un producto interno $\\langle \\cdot, \\cdot \\rangle : V \\times V \\to \\mathbb{R}$ si y solo si se satisface la propiedad del paralelogramo,\n",
    "\n",
    "$$\n",
    "\\Vert x + y \\Vert^2 + \\Vert x - y \\Vert^2 = 2\\Vert x \\Vert^2 + 2\\Vert y \\Vert^2,\\qquad \\forall x, y \\in V.\n",
    "$$\n",
    "En este caso, el producto interno satisface\n",
    "$$\n",
    "\\langle x,  y \\rangle = \\dfrac{1}{4}\\left( \\Vert x + y\\Vert^2 - \\Vert x - y\\Vert^2\\right),\\qquad \\forall x, y \\in V.\n",
    "$$"
   ]
  },
  {
   "cell_type": "markdown",
   "metadata": {},
   "source": [
    "Ayuda: [articulo Identidad de Polarizacion en wikipedia](https://en.wikipedia.org/wiki/Polarization_identity), [demostracion en math.SE](https://math.stackexchange.com/questions/21792/norms-induced-by-inner-products-and-the-parallelogram-law). Se sugiere consultar estas referencias despues de intentar resolver el problema, o una parte del problema."
   ]
  },
  {
   "cell_type": "markdown",
   "metadata": {},
   "source": [
    "8. *(Wendland, C1)* Sea $V$ un espacio pre-Hilbertiano. Demostrar que la norma inducida por el producto interno satisface $\\Vert x + y \\Vert < 2$ para todos $x \\neq y$ en $V$, tales que $\\Vert x \\Vert = \\Vert y \\Vert = 1$."
   ]
  },
  {
   "cell_type": "markdown",
   "metadata": {},
   "source": [
    "9. Considerar el espacio $\\ell^2$ de sucesiones $(x_n)$ de cuadrado sumable, i.e, sucesiones tales que $\\sum_{n=1}^\\infty |x_n|^2 < \\infty$. Se define el producto interno asi\n",
    "\n",
    "$$\n",
    "\\langle (x_n), (y_n) \\rangle = \\sum_{n=1}^\\infty x_n y_n^*.\n",
    "$$\n",
    "Demostrar que $\\ell^2$ con el producto interno asi definido es un espacio de Hilbert."
   ]
  },
  {
   "cell_type": "markdown",
   "metadata": {},
   "source": [
    "10. Demostrar la *desigualdad de Young* utilizando la propiedad de concavidad del logaritmo."
   ]
  },
  {
   "cell_type": "markdown",
   "metadata": {},
   "source": [
    "11. Demostrar la *desigualdad de Holder*: dados $p > 1$, $q > 1$ un par de numeros reales tales que $1/p + 1/q = 1$, para cualquier par de sucesiones $(x_n) \\in \\ell^p$ y $(y_n) \\in \\ell^q$, la sucesion producto es absolutamente sumable, $(x_n y_n) \\in \\ell^1$, y ademas se verifica\n",
    "\n",
    "$$\n",
    "\\Vert (x_n y_n) \\Vert_1 \\leq \\Vert (x_n) \\Vert_p~\\Vert(y_n)\\Vert_q.\n",
    "$$"
   ]
  },
  {
   "cell_type": "markdown",
   "metadata": {},
   "source": [
    "12. Probar que toda bola \n",
    "\n",
    "- Se graficaran las bolas unidad $B_p$, en $\\mathbb{R}^2$, respecto de $\\ell_p$ para distintos valores de $p$, siendo\n",
    "\n",
    "$$\n",
    "B_p = \\{x \\in \\mathbb{R}^n : \\Vert x \\Vert_p \\leq 1\\}.\n",
    "$$"
   ]
  },
  {
   "cell_type": "markdown",
   "metadata": {},
   "source": [
    "13. Se define la [funcion de soporte](https://en.wikipedia.org/wiki/Support_function) de un conjunto $X \\subseteq \\mathbb{R}^n$ a lo largo de la direccion $d \\in \\mathbb{R}^n$ como siendo\n",
    "\n",
    "$$\n",
    "\\rho(d, X) = \\max_{x \\in X} \\langle d, x\\rangle.\n",
    "$$\n",
    "Obtener una formula analitica de la funcion de soporte para toda bola unitaria $X = B_p$ y $p \\geq 1$."
   ]
  },
  {
   "cell_type": "markdown",
   "metadata": {},
   "source": [
    "## Matrices"
   ]
  },
  {
   "cell_type": "markdown",
   "metadata": {},
   "source": [
    "1. *(Wendland C1)* Sea $A \\in \\mathbb{R}^{n\\times n}$ una matriz simetrica y definida positiva, y sea $C \\in \\mathbb{R}^{n\\times m}$. Probar que:\n",
    "\n",
    "i. La matriz $C^T A C$ es semidefinida positiva.\n",
    "\n",
    "ii. $rango(C^T A C) = rango(C)$.\n",
    "\n",
    "iii. La matriz $C^T A C$ es definida positiva si y solo si $rango(C) = m$."
   ]
  },
  {
   "cell_type": "markdown",
   "metadata": {},
   "source": [
    "2. *(Wendland C1)* Demostrar que una matriz $A \\in \\mathbb{R}^{n \\times n}$ es simetrica y definida positiva si y solo si es de la forma $A = BB^T$ siendo $B \\in \\mathbb{R}^{n\\times n}$ una matriz invertible."
   ]
  },
  {
   "cell_type": "markdown",
   "metadata": {},
   "source": [
    "3. *(Wendland, C1)* Sean $A, B, C \\in \\mathbb{R}^{2 \\times 2}$, siendo $C = AB$. Definimos"
   ]
  },
  {
   "cell_type": "markdown",
   "metadata": {},
   "source": [
    "- $p = (a_{11} + a_{22})(b_{11} + b_{22})$\n",
    "\n",
    "- $r = a_{11}(b_{12} - b_{22})$\n",
    "\n",
    "- $t = (a_{11} + a_{12})b_{22}$\n",
    "\n",
    "- $v = (a_{12} - a_{22})(b_{21} + b_{22})$\n",
    "\n",
    "- $q = (a_{21} + a_{22})b_{11}$\n",
    "\n",
    "- $s = a_{22}(b_{21} - b_{11})$\n",
    "\n",
    "- $u = (a_{21} - a_{11})(b_{11} + b_{12})$"
   ]
  },
  {
   "cell_type": "markdown",
   "metadata": {},
   "source": [
    "Probar que los elementos de $C$ se pueden calcular haciendo"
   ]
  },
  {
   "cell_type": "markdown",
   "metadata": {},
   "source": [
    "- $c_{11} = p + s - t + v$\n",
    "- $c_{12} = r + t$\n",
    "- $c_{21} = q + s$\n",
    "- $c_{22} = p + r - q + u$"
   ]
  },
  {
   "cell_type": "markdown",
   "metadata": {},
   "source": [
    "Comparar el numero de productos y de adiciones de este metodo respecto al numero para el metodo estandar de multiplicar matrices 2x2."
   ]
  },
  {
   "cell_type": "markdown",
   "metadata": {},
   "source": [
    "(Mas dificil) Demostrar que si el metodo se aplica de forma recursiva a matrices $A, B \\in \\mathbb{R}^{n\\times n}$ siendo $n = 2^k$, entonces se requieren $7^k$ multiplicaciones y $6 \\cdot 7^k - 6 \\cdot 2^{2k}$ adiciones y substracciones."
   ]
  },
  {
   "cell_type": "markdown",
   "metadata": {},
   "source": [
    "## Normas matriciales"
   ]
  },
  {
   "cell_type": "markdown",
   "metadata": {},
   "source": [
    "1. *(Wendland C2)* Considerar la matriz $A = u v^T$ donde $u \\in \\mathbb{R}^m$ y $v \\in \\mathbb{R}^n$. Demostrar que \n",
    "\n",
    "$$\n",
    "\\Vert A\\Vert_2 = \\Vert u \\Vert_2 \\Vert v \\Vert_2.\n",
    "$$"
   ]
  },
  {
   "cell_type": "markdown",
   "metadata": {},
   "source": [
    "2. *(Wendland C2)* Calcular $\\Vert A \\Vert_1$, $\\Vert A \\Vert_2$ y $\\Vert A \\Vert_\\infty$ para las matrices\n",
    "\n",
    "$$\n",
    "A = \\begin{pmatrix} 1 & -2 \\\\ -2 & 4 \\end{pmatrix}\n",
    "$$\n",
    "y\n",
    "$$\n",
    "A = \\begin{pmatrix} 4 & 1 & -1 \\\\ 1 & 2 & 0 \\\\ -1 & 0 & 2 \\end{pmatrix}\n",
    "$$"
   ]
  },
  {
   "cell_type": "markdown",
   "metadata": {},
   "source": [
    "3. *(Wendland C2)* Para $A \\in \\mathbb{R}^{m\\times n}$, demostrar que\n",
    "\n",
    "$$\n",
    "\\Vert A \\Vert_2 \\leq \\sqrt{\\Vert A \\Vert_\\infty~\\Vert A \\Vert_1}.\n",
    "$$"
   ]
  },
  {
   "cell_type": "markdown",
   "metadata": {},
   "source": [
    "4. *(Wendland C2)* Sea $A \\in \\mathbb{R}^{n\\times n}$, invertible, y sean $1 \\leq p, q \\leq \\infty$ numeros conjugados es decir $1/p + 1/q = 1$. Demostrar que\n",
    "\n",
    "$$\n",
    "\\kappa_p(A) = \\kappa_q(A^T).\n",
    "$$"
   ]
  },
  {
   "cell_type": "markdown",
   "metadata": {},
   "source": [
    "5. *(Wendland C2)* Sea $A \\in \\mathbb{R}^{m\\times n}$ con valores singulares\n",
    "\n",
    "$$\n",
    "\\sigma_1 \\geq \\sigma_2 \\geq \\cdots \\geq \\sigma_r > 0,\n",
    "$$\n",
    "y $r = rango(A)$. Demostrar que\n",
    "\n",
    "$$\n",
    "\\Vert A \\Vert_F = \\left( \\sum_{j=1}^r \\sigma_j^2 \\right)^{1/2}.\n",
    "$$"
   ]
  },
  {
   "cell_type": "markdown",
   "metadata": {},
   "source": [
    "6. *(Wendland C2)* Considere la matriz \n",
    "\n",
    "$$\n",
    "A = \\begin{pmatrix} 1 & 1 \\\\ 1 & -1 \\end{pmatrix}.\n",
    "$$\n",
    "Demostrar que para todo $1\\leq p, q \\leq \\infty$, la norma $\\Vert A \\Vert_{q, p}^{\\mathbb{C}}$ es dada por\n",
    "\n",
    "$$\n",
    "\\Vert A \\Vert_{q, p}^{\\mathbb{C}} = \\max\\{2^{1-1/p}, 2^{1/q}, 2^{1/q-1/p+1/2}\\}\n",
    "$$\n",
    "\n",
    "Ademas, para $q < 2 < p$, se verifica\n",
    "\n",
    "$$\n",
    "\\Vert A \\Vert_{q, p} < 2^{\\frac{1}{q} - \\frac{1}{p} + \\frac{1}{2}} = \\Vert A \\Vert^\\mathbb{C}_{q, p}.\n",
    "$$"
   ]
  },
  {
   "cell_type": "markdown",
   "metadata": {},
   "source": [
    "7. *(Wendland C2)* Dado $\\epsilon > 0$, sea $A_\\epsilon \\in \\mathbb{R}^{3\\times 3}$ dado por\n",
    "\n",
    "$$\n",
    "A_\\epsilon = \\begin{pmatrix}\n",
    "1-\\epsilon & -\\epsilon & -\\epsilon\\\\\n",
    "-\\epsilon & 1-\\epsilon &-\\epsilon \\\\ \n",
    "-\\epsilon&-\\epsilon & 1-\\epsilon \\end{pmatrix}\n",
    "$$"
   ]
  },
  {
   "cell_type": "markdown",
   "metadata": {},
   "source": [
    "Demostrar que para $p > q \\geq 1$, existe $\\epsilon > 0$ tal que\n",
    "\n",
    "$$\n",
    "\\Vert A_\\epsilon\\Vert_{q, p}^\\mathbb{R} \\leq \\Vert A_\\epsilon\\Vert_{q, p}^\\mathbb{C}.\n",
    "$$"
   ]
  },
  {
   "cell_type": "markdown",
   "metadata": {},
   "source": [
    "# Ejercicios para resolver por computadora"
   ]
  },
  {
   "cell_type": "markdown",
   "metadata": {},
   "source": [
    "1. En este ejercicio consideramos la evaluacion de un polinoio de grado $n$.\n",
    "Se asumira que los coeficientes del polinomio se pasan en un vector de largo $n+1$.\n",
    "\n",
    "i. Implementar la version \"naive\" para evaluar un polinomio, es decir, acumulando sobre los monomios.\n",
    "\n",
    "ii. Implementar el metodo de Horner para evaluar un polinomio de grado $n$.\n",
    "\n",
    "iii. Comparar ambas implementaciones desde el punto de vista teorico.\n",
    "\n",
    "iv. Comparar ambas implementaciones utilizando la herramienta [BenchmarkTools](https://github.com/JuliaCI/BenchmarkTools.jl), para distintos valores de $n$."
   ]
  },
  {
   "cell_type": "markdown",
   "metadata": {},
   "source": [
    "2. Implementar la norma vectorial para cualquier $x \\in \\mathbb{R}^n$ para cualquier $p \\in [1, \\infty]$."
   ]
  },
  {
   "cell_type": "markdown",
   "metadata": {},
   "source": [
    "3. Implementar $\\Vert A \\Vert_1$, $\\Vert A \\Vert_2$, y $\\Vert A \\Vert_\\infty$, para cualquier $A \\in \\mathbb{R}^{m\\times n}$. Comparar el resultado con lo obtenido a mano en la parte de ejercicios teoricos."
   ]
  },
  {
   "cell_type": "markdown",
   "metadata": {},
   "source": [
    "4. Implementar la norma de Frobenius $\\Vert A \\Vert_F$ de una matriz $A \\in \\mathbb{R}^{m\\times n}$. Evaluar y comparar con lo obtenido a mano en la parte de ejercicios teoricos."
   ]
  },
  {
   "cell_type": "markdown",
   "metadata": {},
   "source": [
    "5. Implementar el metodo de ortonormalizacion de Gram-Schmidt."
   ]
  }
 ],
 "metadata": {
  "kernelspec": {
   "display_name": "Julia 1.3.1",
   "language": "julia",
   "name": "julia-1.3"
  },
  "language_info": {
   "file_extension": ".jl",
   "mimetype": "application/julia",
   "name": "julia",
   "version": "1.3.1"
  }
 },
 "nbformat": 4,
 "nbformat_minor": 2
}
