{
 "cells": [
  {
   "cell_type": "markdown",
   "metadata": {},
   "source": [
    "# Ejercicios teóricos"
   ]
  },
  {
   "cell_type": "markdown",
   "metadata": {},
   "source": [
    "1. *(Golan p. 58)* Demostrar que el conjunto $\\left\\{\\left[ 1, 0, 0\\right]^T, \\left[ 1, 1, 0\\right]^T, \\left[ 1, 1, 1\\right]^T \\right\\}$ en $\\mathbb{Q}^3$ es linealmente independiente."
   ]
  },
  {
   "cell_type": "markdown",
   "metadata": {},
   "source": [
    "2. *(Golan p. 234)* Sea $\\alpha : \\mathbb{R}^3 \\to \\mathbb{R}^3$ una transformacion lineal que satisface\n",
    "\n",
    "$\\alpha \\left[ 1, 0, 1\\right]^T = \\left[ -1, 3, 4\\right]^T$,\n",
    "\n",
    "$\\alpha \\left[ 1, -1, 1\\right]^T = \\left[ 0, 1, 0\\right]^T$,\n",
    "\n",
    "$\\alpha \\left[ 1, 2, -1\\right]^T = \\left[ 3, 1, 4\\right]^T$.\n",
    "\n",
    "Calcular $\\alpha \\left[1, 0, 0\\right]^T$."
   ]
  },
  {
   "cell_type": "markdown",
   "metadata": {},
   "source": [
    "3. Verificar que en $\\mathbb{R}^n$, $\\langle x, y \\rangle_2 := x^T y$ para todo $x, y \\in \\mathbb{R}^n$ es un producto interno. La norma inducida es $\\Vert x \\Vert_2 = \\sqrt{\\langle x, x \\rangle_2}$. Verificar que es de hecho una norma (sugerencia: utilizar el ejercicio siguiente)."
   ]
  },
  {
   "cell_type": "markdown",
   "metadata": {},
   "source": [
    "4. *(Wendland, C1)* Sea $V$ un espacio pre-Hilbertiano. Demostrar la desigualdad de Cauchy-Schwartz, i.e. para todos $x, y \\in V$, se verifica que\n",
    "\n",
    "$$\n",
    "|\\langle x, y \\rangle| \\leq \\Vert x \\Vert~\\Vert y \\Vert.\n",
    "$$\n",
    "\n",
    "Sugerencia: utilizar que para todos $\\alpha, \\beta \\in \\mathbb{R}$ y $x, y \\in V$ se cumple $0 \\leq \\langle \\alpha x + \\beta y, \\alpha x + \\beta y\\rangle$."
   ]
  },
  {
   "cell_type": "markdown",
   "metadata": {},
   "source": [
    "5. *(Wendland, C1)* Sea $(V, \\mathbb{K}, +, \\cdot)$ un espacio vectorial sobre el cuerpo $\\mathbb{K}$, este último siendo ya sea $\\mathbb{R}$ o $\\mathbb{C}$. Consideremos una norma $\\Vert \\cdot \\Vert : V \\to \\mathbb{R}$. Demostrar que $V$ es un espacio pre-Hilbertiano y que la norma es inducida por un producto interno $\\langle \\cdot, \\cdot \\rangle : V \\times V \\to \\mathbb{R}$ si y solo si se satisface la propiedad del paralelogramo,\n",
    "\n",
    "$$\n",
    "\\Vert x + y \\Vert^2 + \\Vert x - y \\Vert^2 = 2\\Vert x \\Vert^2 + 2\\Vert y \\Vert^2,\\qquad \\forall x, y \\in V.\n",
    "$$\n",
    "En este caso, el producto interno satisface\n",
    "$$\n",
    "\\langle x,  y \\rangle = \\dfrac{1}{4}\\left( \\Vert x + y\\Vert^2 - \\Vert x - y\\Vert^2\\right),\\qquad \\forall x, y \\in V.\n",
    "$$"
   ]
  },
  {
   "cell_type": "markdown",
   "metadata": {},
   "source": [
    "6. *(Wendland, C1)* Sea $V$ un espacio pre-Hilbertiano. Demostrar que la norma inducida por el producto interno satisface $\\Vert x + y \\Vert < 2$ para todos $x \\neq y$ en $V$, tales que $\\Vert x \\Vert = \\Vert y \\Vert = 1$."
   ]
  },
  {
   "cell_type": "markdown",
   "metadata": {},
   "source": [
    "7. *(Wendland C1)* Sea $A \\in \\mathbb{R}^{n\\times n}$ una matriz simetrica y definida positiva, y sea $C \\in \\mathbb{R}^{n\\times m}$. Probar que:\n",
    "\n",
    "i. La matriz $C^T A C$ es semidefinida positiva.\n",
    "\n",
    "ii. $rango(C^T A C) = rango(C)$.\n",
    "\n",
    "iii. La matriz $C^T A C$ es definida positiva si y solo si $rango(C) = m$."
   ]
  },
  {
   "cell_type": "markdown",
   "metadata": {},
   "source": [
    "8. *(Wendland C1)* Demostrar que una matriz $A \\in \\mathbb{R}^{n \\times n}$ es simetrica y definida positiva si y solo si es de la forma $A = BB^T$ siendo $B \\in \\mathbb{R}^{n\\times n}$ una matriz invertible."
   ]
  },
  {
   "cell_type": "markdown",
   "metadata": {},
   "source": [
    "9. *(Wendland, C1)* Sean $A, B, C \\in \\mathbb{R}^{2 \\times 2}$, siendo $C = AB$. Definimos"
   ]
  },
  {
   "cell_type": "markdown",
   "metadata": {},
   "source": [
    "- $p = (a_{11} + a_{22})(b_{11} + b_{22})$\n",
    "\n",
    "- $r = a_{11}(b_{12} - b_{22})$\n",
    "\n",
    "- $t = (a_{11} + a_{12})b_{22}$\n",
    "\n",
    "- $v = (a_{12} - a_{22})(b_{21} + b_{22})$\n",
    "\n",
    "- $q = (a_{21} + a_{22})b_{11}$\n",
    "\n",
    "- $s = a_{22}(b_{21} - b_{11})$\n",
    "\n",
    "- $u = (a_{21} - a_{11})(b_{11} + b_{12})$"
   ]
  },
  {
   "cell_type": "markdown",
   "metadata": {},
   "source": [
    "Probar que los elementos de $C$ se pueden calcular haciendo"
   ]
  },
  {
   "cell_type": "markdown",
   "metadata": {},
   "source": [
    "- $c_{11} = p + s - t + v$\n",
    "- $c_{12} = r + t$\n",
    "- $c_{21} = q + s$\n",
    "- $c_{22} = p + r - q + u$"
   ]
  },
  {
   "cell_type": "markdown",
   "metadata": {},
   "source": [
    "Comparar el numero de productos y de adiciones de este metodo respecto al numero para el metodo estandar de multiplicar matrices 2x2."
   ]
  },
  {
   "cell_type": "markdown",
   "metadata": {},
   "source": [
    "(Mas dificil) Demostrar que si el metodo se aplica de forma recursiva a matrices $A, B \\in \\mathbb{R}^{n\\times n}$ siendo $n = 2^k$, entonces se requieren $7^k$ multiplicaciones y $6 \\cdot 7^k - 6 \\cdot 2^{2k}$ adiciones y substracciones."
   ]
  },
  {
   "cell_type": "markdown",
   "metadata": {},
   "source": [
    "# Ejercicios para resolver por computadora"
   ]
  },
  {
   "cell_type": "markdown",
   "metadata": {},
   "source": [
    "1. En este ejercicio consideramos la evaluacion de un polinoio de grado $n$.\n",
    "Se asumira que los coeficientes del polinomio se pasan en un vector de largo $n+1$.\n",
    "\n",
    "i. Implementar la version \"naive\" para evaluar un polinomio, es decir, acumulando sobre los monomios.\n",
    "\n",
    "ii. Implementar el metodo de Horner para evaluar un polinomio de grado $n$.\n",
    "\n",
    "iii. Comparar ambas implementaciones desde el punto de vista teorico.\n",
    "\n",
    "iv. Comparar ambas implementaciones utilizando la herramienta [BenchmarkTools](https://github.com/JuliaCI/BenchmarkTools.jl), para distintos valores de $n$."
   ]
  }
 ],
 "metadata": {
  "kernelspec": {
   "display_name": "Julia 1.3.1",
   "language": "julia",
   "name": "julia-1.3"
  },
  "language_info": {
   "file_extension": ".jl",
   "mimetype": "application/julia",
   "name": "julia",
   "version": "1.3.1"
  }
 },
 "nbformat": 4,
 "nbformat_minor": 2
}
