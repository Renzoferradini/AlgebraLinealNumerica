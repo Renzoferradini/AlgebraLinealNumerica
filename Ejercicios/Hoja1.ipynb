{
 "cells": [
  {
   "cell_type": "markdown",
   "metadata": {},
   "source": [
    "# Ejercicios teóricos"
   ]
  },
  {
   "cell_type": "markdown",
   "metadata": {},
   "source": [
    "## Números complejos"
   ]
  },
  {
   "cell_type": "markdown",
   "metadata": {},
   "source": [
    "(1) *(Golan p. 14)* Sea $y$ un numero complejo que satisface $\\vert y \\vert < 1$. Encontrar el conjunto de todos los numeros complejos $z$ tales que $\\vert z - y \\vert \\leq \\vert 1 - \\bar{y} z \\vert$."
   ]
  },
  {
   "cell_type": "markdown",
   "metadata": {},
   "source": [
    "(2) *(Golan p. 14)* Demostrar que $\\vert z + 1\\vert \\leq \\vert z + 1 \\vert^2 + \\vert z \\vert$ para todo $z \\in \\mathbb{C}$."
   ]
  },
  {
   "cell_type": "markdown",
   "metadata": {},
   "source": [
    "(3) *(Golan p. 14)* Dado $z \\in \\mathbb{C}$, encontrar $w \\in \\mathbb{C}$ tal que $w^2 = z$."
   ]
  },
  {
   "cell_type": "markdown",
   "metadata": {},
   "source": [
    "(4) *(Golan p. 14)* Para cualesquiera $z_1, z_2 \\in \\mathbb{C}$, demostrar que\n",
    "\n",
    "$$\n",
    "\\vert z_1 \\vert^2 + \\vert z_2 \\vert^2 - z_1 \\bar{z}_2 - \\bar{z}_1 z_2 = \\vert z_1 - z_2 \\vert^2.\n",
    "$$"
   ]
  },
  {
   "cell_type": "markdown",
   "metadata": {},
   "source": [
    "(5) *(Golan p. 14)* Encontrar el conjunto de todos los numeros complejos $z = a + bi$ que satisfacen la relacion dada. Notar que ese conjunto puede ser vacio, o puede ser todo el plano complejo. Justificar en cada caso.\n",
    "\n",
    "(i) $z^2 = \\frac{1}{2}(1 + i \\sqrt{3})$.\n",
    "\n",
    "(ii) $\\sqrt{2} \\vert z \\vert \\geq \\vert a \\vert + \\vert b \\vert$.\n",
    "\n",
    "(iii) $\\vert z \\vert + z = 2 + i$.\n",
    "\n",
    "(iv) $z^4 = 2 - \\sqrt{12}i$.\n",
    "\n",
    "(v) $z^4 = -4$."
   ]
  },
  {
   "cell_type": "markdown",
   "metadata": {},
   "source": [
    "## Matrices"
   ]
  },
  {
   "cell_type": "markdown",
   "metadata": {},
   "source": [
    "(1) Dada $A \\in \\mathbb{R}^{n\\times n}$, decimos que $X$ es la inversa de $A$ si verifica que: $AX = XA = I_n$. Notamos $A^{-1} = X$.\n",
    "\n",
    "(i) Si una matriz $A \\in \\mathbb{R}^{n\\times n}$ es simetrica e invertible, entonces $A^{-1}$ tambien lo es.\n",
    "\n",
    "(ii) La transpuesta y la inversa de una matriz satisfacen (mientras que las inversas esten definidas):\n",
    "   \n",
    "   - (ii.a) $(AB)^T = B^T A^T$\n",
    "    \n",
    "   - (ii.b) $(AB)^{-1} = B^{-1} A^{-1}$."
   ]
  },
  {
   "cell_type": "markdown",
   "metadata": {},
   "source": [
    "## Símbolo de Landau y costo computacional"
   ]
  },
  {
   "cell_type": "markdown",
   "metadata": {},
   "source": [
    "(1) Probar que para todo $a \\in \\mathbb{R}$, $f(x) = x + a$ es una $\\mathcal{O}(x^2)$."
   ]
  },
  {
   "cell_type": "markdown",
   "metadata": {},
   "source": [
    "(2) Observar que el simbolo de Landau *no conmuta*, es $f(x) = \\mathcal{O}(g(x))$ no implica $g(x) = \\mathcal{O}(f(x))$."
   ]
  },
  {
   "cell_type": "markdown",
   "metadata": {},
   "source": [
    "\n",
    "(3) Observar que el simbolo de Landau es reflexivo: $f = \\mathcal{O}(f)$."
   ]
  },
  {
   "cell_type": "markdown",
   "metadata": {},
   "source": [
    "(4) Sean $E \\subseteq \\mathbb{R}$, $f_1 : E \\to \\mathbb{R}$, $g_1 : E \\to \\mathbb{R}$, $f_2 : E \\to \\mathbb{R}$, $g_2 : E \\to \\mathbb{R}$ funciones y sea $k \\in \\mathbb{R}$ un real. Probar las siguientes propiedades:\n",
    "\n",
    "(i) Si $f_1 = \\mathcal{O}(g_1)$ y $g_1 = \\mathcal{O}(g_2)$, entonces $f_1 = \\mathcal{O}(g_2)$.\n",
    "\n",
    "(ii) Si $f_1 = \\mathcal{O}(g_1)$ y $g_1 = \\mathcal{O}(g_2)$, entonces $f_1 f_2 = \\mathcal{O}(g_1 g_2)$.\n",
    "\n",
    "(iii) $f_2 \\mathcal{O}(g_1) = \\mathcal{O}(f_2 g_1)$ (igualdad entre conjuntos).\n",
    "\n",
    "(iv) Si $f_1 = \\mathcal{O}(g_1)$ y $f_2 = \\mathcal{O}(g_2)$, entonces $f_1 + f_2 = \\mathcal{O}(|g_1| + |g_2|)$.\n",
    "\n",
    "(v) Si $k \\neq 0$ entonces $\\mathcal{O}(g_1) = \\mathcal{O}(kg_1)$ (igualdad entre conjuntos).\n",
    "\n",
    "(vi) Si $f_1 = \\mathcal{O}(g_1)$ entonces $k f_1 = \\mathcal{O}(g_1)$."
   ]
  },
  {
   "cell_type": "markdown",
   "metadata": {},
   "source": [
    "(5) Sea $A \\in \\mathbb{R}^{n\\times n}$ una matriz tridiagonal.\n",
    "\n",
    "(i) La matriz $A$ puede ser almacenada, utilizando su estructura particular, en espacio $\\mathcal{O}(n)$ en vez de $\\mathcal{O}(n^2)$.\n",
    "\n",
    "(ii) El producto matriz-vector tiene una complejidad lineal $\\mathcal{O}(n)$."
   ]
  },
  {
   "cell_type": "markdown",
   "metadata": {},
   "source": [
    "# Ejercicios para resolver por computadora"
   ]
  },
  {
   "cell_type": "markdown",
   "metadata": {},
   "source": [
    "## Básicos de Julia"
   ]
  },
  {
   "cell_type": "markdown",
   "metadata": {},
   "source": [
    "(1) Tipos de matrices en Julia.\n",
    "\n",
    "(i) Construir, en Julia, algunos ejemplos de los tipos de matrices vistos en clase.\n",
    "\n",
    "(ii) Cargar el paquete `LinearAlgebra` y e investigar los siguientes tipos: `Diagonal`, `Bidiagonal`,\n",
    "     `Tridiagonal`, `SymTridiagonal`, `UpperTriangular`, `LowerTriangular`.\n",
    "     \n",
    "\n",
    "(iii) Generar las matrices especiales de la parte 1, pero usando los tipos de la parte (ii)."
   ]
  },
  {
   "cell_type": "markdown",
   "metadata": {},
   "source": [
    "(2) Números y matrices aleatorias\n",
    "\n",
    "(i) Investigar los comandos `rand`, `randn` para generar vectores y matrices aleatorias.\n",
    "\n",
    "(ii) Investigar los comandos `sprand`, `sprandn` para generar vectores y matrices esparsas aleatorios.\n",
    "\n",
    "(iii) Visualizar las matrices generadas anteriormente con el comando `spy` de la libreria `PyPlot`."
   ]
  },
  {
   "cell_type": "markdown",
   "metadata": {},
   "source": [
    "(3) Productos de matrices y vectores\n",
    "\n",
    "(i) Escribir una funcion que recibe una matriz y un vector y devuelve el producto entre $A$ y $x$.\n",
    "\n",
    "(ii) Observar que Julia ya \"sabe\" calcular $Ax$."
   ]
  },
  {
   "cell_type": "markdown",
   "metadata": {},
   "source": [
    "(4) Escribir una funcion que recibe una matriz y devuelve la matriz transpuesta. Comparar con `transpose(A)`.\n",
    "\n",
    "Nota: en Julia, `transpose(A)` una representación *lazy* de la matriz traspuesta, ver el articulo de wikipedia [evaluacion perezosa](https://es.wikipedia.org/wiki/Evaluaci%C3%B3n_perezosa). Para \"materializar\" la transpuesta, hacer `copy(transpose(A))`."
   ]
  },
  {
   "cell_type": "markdown",
   "metadata": {},
   "source": [
    "(5) Escribir una funcion que determina si una matriz dada es simétrica o no."
   ]
  },
  {
   "cell_type": "markdown",
   "metadata": {},
   "source": [
    "## Algoritmos elementales\n",
    "\n",
    "En todos los problemas siguientes, deberá:\n",
    "\n",
    "(i) Escribir el pseudo-código que resuelve el problema.\n",
    "\n",
    "(ii) Implementarlo en Julia.\n",
    "\n",
    "Haber razonado y escrito el pseudo-código *antes* de largarse a escribir el programa es **muy importante**!"
   ]
  },
  {
   "cell_type": "markdown",
   "metadata": {},
   "source": [
    "(1) Dado un vector $x \\in \\mathbb{R}^n$, nos interesa calcular su suma,\n",
    "\n",
    "$$\n",
    "s = \\sum_{i=1}^n x_i.\n",
    "$$"
   ]
  },
  {
   "cell_type": "markdown",
   "metadata": {},
   "source": [
    "(2) Escribir una función que calcula el producto escalar entre dos vectores de $\\mathbb{R}^n$."
   ]
  },
  {
   "cell_type": "markdown",
   "metadata": {},
   "source": [
    "(3) Escribir una función que calcula el triángulo de Pascal hasta un orden dado."
   ]
  },
  {
   "cell_type": "markdown",
   "metadata": {},
   "source": [
    "(4) Implementar un algoritmo que devuelve el maximo de una lista de numeros."
   ]
  },
  {
   "cell_type": "markdown",
   "metadata": {},
   "source": [
    "(5) Implementar una [busqueda binaria](https://es.wikipedia.org/wiki/B%C3%BAsqueda_binaria) en una lista de numeros enteros."
   ]
  },
  {
   "cell_type": "markdown",
   "metadata": {},
   "source": [
    "(6) Implementar el metodo de [busqueda binaria o biseccion](https://es.wikipedia.org/wiki/M%C3%A9todo_de_bisecci%C3%B3n) para hallar una raiz $x$ de una funcion dada $f$ que se asumaria continua en el intervalo cerrado $[a, b] \\in \\mathbb{R}$."
   ]
  }
 ],
 "metadata": {
  "kernelspec": {
   "display_name": "Julia 1.3.1",
   "language": "julia",
   "name": "julia-1.3"
  },
  "language_info": {
   "file_extension": ".jl",
   "mimetype": "application/julia",
   "name": "julia",
   "version": "1.3.1"
  }
 },
 "nbformat": 4,
 "nbformat_minor": 2
}
